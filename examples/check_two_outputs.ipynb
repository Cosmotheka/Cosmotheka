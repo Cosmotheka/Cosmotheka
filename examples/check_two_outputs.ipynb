{
 "cells": [
  {
   "cell_type": "code",
   "execution_count": 1,
   "metadata": {
    "ExecuteTime": {
     "end_time": "2020-09-25T13:13:24.890496Z",
     "start_time": "2020-09-25T13:13:22.214952Z"
    }
   },
   "outputs": [],
   "source": [
    "from matplotlib import pyplot as plt\n",
    "import sys\n",
    "sys.path.append('../pipeline/')\n",
    "import common as co\n",
    "import cl\n",
    "import numpy as np\n",
    "import sacc"
   ]
  },
  {
   "cell_type": "code",
   "execution_count": 2,
   "metadata": {
    "ExecuteTime": {
     "end_time": "2020-09-25T13:13:27.525159Z",
     "start_time": "2020-09-25T13:13:24.892680Z"
    }
   },
   "outputs": [
    {
     "name": "stdout",
     "output_type": "stream",
     "text": [
      "('DESgc0', 'DESgc0') 1.9984014443252818e-15\n",
      "('DESgc0', 'DESwl0') 1.4654943925052066e-14\n",
      "('DESgc0', 'DESwl1') 7.327471962526033e-14\n",
      "('DESgc0', 'DESwl2') 2.389199948993337e-13\n",
      "('DESgc0', 'DESwl3') 2.7355895326763857e-13\n",
      "('DESgc1', 'DESgc1') 1.9984014443252818e-15\n",
      "('DESgc1', 'DESwl0') 3.381739333008227e-13\n",
      "('DESgc1', 'DESwl1') 1.887379141862766e-14\n",
      "('DESgc1', 'DESwl2') 2.020605904817785e-13\n",
      "('DESgc1', 'DESwl3') 2.495781359357352e-13\n",
      "('DESgc2', 'DESgc2') 1.9984014443252818e-15\n",
      "('DESgc2', 'DESwl0') 8.948397578478762e-14\n",
      "('DESgc2', 'DESwl1') 2.1094237467877974e-13\n",
      "('DESgc2', 'DESwl2') 4.529709940470639e-14\n",
      "('DESgc2', 'DESwl3') 2.042810365310288e-14\n",
      "('DESgc3', 'DESgc3') 3.3306690738754696e-15\n",
      "('DESgc3', 'DESwl0') 5.1514348342607263e-14\n",
      "('DESgc3', 'DESwl1') 3.042011087472929e-14\n",
      "('DESgc3', 'DESwl2') 7.005507285384738e-13\n",
      "('DESgc3', 'DESwl3') 6.52811138479592e-14\n",
      "('DESgc4', 'DESgc4') 4.884981308350689e-15\n",
      "('DESgc4', 'DESwl0') 1.0147438445073931e-13\n",
      "('DESgc4', 'DESwl1') 1.4765966227514582e-13\n",
      "('DESgc4', 'DESwl2') 3.5149660959632456e-13\n",
      "('DESgc4', 'DESwl3') 1.389999226830696e-13\n",
      "('DESwl0', 'DESwl0') 1.0236256287043943e-13\n",
      "('DESwl0', 'DESwl1') 5.511147094239277e-13\n",
      "('DESwl0', 'DESwl2') 3.559375016948252e-13\n",
      "('DESwl0', 'DESwl3') 1.0591527654923993e-13\n",
      "('DESwl1', 'DESwl1') 4.0190073491430667e-14\n",
      "('DESwl1', 'DESwl2') 5.160316618457728e-13\n",
      "('DESwl1', 'DESwl3') 1.461053500406706e-13\n",
      "('DESwl2', 'DESwl2') 1.0746958878371515e-13\n",
      "('DESwl2', 'DESwl3') 8.828493491819245e-13\n",
      "('DESwl3', 'DESwl3') 3.1885605267234496e-13\n"
     ]
    }
   ],
   "source": [
    "# Check relative deviation between mine and Jaime's outputs\n",
    "cl_path1 = '/mnt/extraspace/gravityls_3/S8z/Cls_2/512/'\n",
    "cl_path2 = '/mnt/extraspace/jaimerz/DES512_tosacc_jaime/'\n",
    "data_fpath1 = cl_path1 + 'data512.yml'\n",
    "data_fpath2 = './data-jrz.yml'\n",
    "\n",
    "for trs in co.get_cl_tracers(co.read_data(data_fpath2)):\n",
    "    cltrs1 = cl.Cl(data_fpath1, *trs)\n",
    "    cltrs2 = cl.Cl(data_fpath2, *trs)\n",
    "    \n",
    "    print(trs, np.abs(np.max(cltrs1.cl/cltrs2.cl) - 1))"
   ]
  },
  {
   "cell_type": "code",
   "execution_count": 3,
   "metadata": {
    "ExecuteTime": {
     "end_time": "2020-09-25T13:13:30.541121Z",
     "start_time": "2020-09-25T13:13:27.527582Z"
    }
   },
   "outputs": [
    {
     "name": "stdout",
     "output_type": "stream",
     "text": [
      "data_type =  cl_00\n",
      "('DESgc0', 'DESgc0') 0.0\n",
      "('DESgc1', 'DESgc1') 0.0\n",
      "('DESgc2', 'DESgc2') 0.0\n",
      "('DESgc3', 'DESgc3') 0.0\n",
      "('DESgc4', 'DESgc4') 0.0\n",
      "\n",
      "data_type =  cl_0e\n",
      "('DESgc0', 'DESwl0') 0.0\n",
      "('DESgc0', 'DESwl1') 0.0\n",
      "('DESgc0', 'DESwl2') 0.0\n",
      "('DESgc0', 'DESwl3') 0.0\n",
      "('DESgc1', 'DESwl0') 0.0\n",
      "('DESgc1', 'DESwl1') 0.0\n",
      "('DESgc1', 'DESwl2') 0.0\n",
      "('DESgc1', 'DESwl3') 0.0\n",
      "('DESgc2', 'DESwl0') 0.0\n",
      "('DESgc2', 'DESwl1') 0.0\n",
      "('DESgc2', 'DESwl2') 0.0\n",
      "('DESgc2', 'DESwl3') 0.0\n",
      "('DESgc3', 'DESwl0') 0.0\n",
      "('DESgc3', 'DESwl1') 0.0\n",
      "('DESgc3', 'DESwl2') 0.0\n",
      "('DESgc3', 'DESwl3') 0.0\n",
      "('DESgc4', 'DESwl0') 0.0\n",
      "('DESgc4', 'DESwl1') 0.0\n",
      "('DESgc4', 'DESwl2') 0.0\n",
      "('DESgc4', 'DESwl3') 0.0\n",
      "\n",
      "data_type =  cl_0b\n",
      "('DESgc0', 'DESwl0') 0.0\n",
      "('DESgc0', 'DESwl1') 0.0\n",
      "('DESgc0', 'DESwl2') 0.0\n",
      "('DESgc0', 'DESwl3') 0.0\n",
      "('DESgc1', 'DESwl0') 0.0\n",
      "('DESgc1', 'DESwl1') 0.0\n",
      "('DESgc1', 'DESwl2') 0.0\n",
      "('DESgc1', 'DESwl3') 0.0\n",
      "('DESgc2', 'DESwl0') 0.0\n",
      "('DESgc2', 'DESwl1') 0.0\n",
      "('DESgc2', 'DESwl2') 0.0\n",
      "('DESgc2', 'DESwl3') 0.0\n",
      "('DESgc3', 'DESwl0') 0.0\n",
      "('DESgc3', 'DESwl1') 0.0\n",
      "('DESgc3', 'DESwl2') 0.0\n",
      "('DESgc3', 'DESwl3') 0.0\n",
      "('DESgc4', 'DESwl0') 0.0\n",
      "('DESgc4', 'DESwl1') 0.0\n",
      "('DESgc4', 'DESwl2') 0.0\n",
      "('DESgc4', 'DESwl3') 0.0\n",
      "\n",
      "data_type =  cl_ee\n",
      "('DESwl0', 'DESwl0') 0.0\n",
      "('DESwl0', 'DESwl1') 0.0\n",
      "('DESwl0', 'DESwl2') 0.0\n",
      "('DESwl0', 'DESwl3') 0.0\n",
      "('DESwl1', 'DESwl1') 0.0\n",
      "('DESwl1', 'DESwl2') 0.0\n",
      "('DESwl1', 'DESwl3') 0.0\n",
      "('DESwl2', 'DESwl2') 0.0\n",
      "('DESwl2', 'DESwl3') 0.0\n",
      "('DESwl3', 'DESwl3') 0.0\n",
      "\n",
      "data_type =  cl_eb\n",
      "('DESwl0', 'DESwl0') 0.0\n",
      "('DESwl0', 'DESwl1') 0.0\n",
      "('DESwl0', 'DESwl2') 0.0\n",
      "('DESwl0', 'DESwl3') 0.0\n",
      "('DESwl1', 'DESwl1') 0.0\n",
      "('DESwl1', 'DESwl2') 0.0\n",
      "('DESwl1', 'DESwl3') 0.0\n",
      "('DESwl2', 'DESwl2') 0.0\n",
      "('DESwl2', 'DESwl3') 0.0\n",
      "('DESwl3', 'DESwl3') 0.0\n",
      "\n",
      "data_type =  cl_be\n",
      "('DESwl0', 'DESwl0') 0.0\n",
      "('DESwl0', 'DESwl1') 0.0\n",
      "('DESwl0', 'DESwl2') 0.0\n",
      "('DESwl0', 'DESwl3') 0.0\n",
      "('DESwl1', 'DESwl1') 0.0\n",
      "('DESwl1', 'DESwl2') 0.0\n",
      "('DESwl1', 'DESwl3') 0.0\n",
      "('DESwl2', 'DESwl2') 0.0\n",
      "('DESwl2', 'DESwl3') 0.0\n",
      "('DESwl3', 'DESwl3') 0.0\n",
      "\n",
      "data_type =  cl_bb\n",
      "('DESwl0', 'DESwl0') 0.0\n",
      "('DESwl0', 'DESwl1') 0.0\n",
      "('DESwl0', 'DESwl2') 0.0\n",
      "('DESwl0', 'DESwl3') 0.0\n",
      "('DESwl1', 'DESwl1') 0.0\n",
      "('DESwl1', 'DESwl2') 0.0\n",
      "('DESwl1', 'DESwl3') 0.0\n",
      "('DESwl2', 'DESwl2') 0.0\n",
      "('DESwl2', 'DESwl3') 0.0\n",
      "('DESwl3', 'DESwl3') 0.0\n",
      "\n"
     ]
    }
   ],
   "source": [
    "# Check relative deviation between mine and Jaime's outputs\n",
    "sacc_path1 = '/mnt/extraspace/gravityls_3/S8z/Cls_2/512/cls_cov.fits'\n",
    "sacc_path2 = '/mnt/extraspace/jaimerz/DES512_tosacc_jaime/cls_cov.fits'\n",
    "s1 = sacc.Sacc.load_fits(sacc_path1)\n",
    "s2 = sacc.Sacc.load_fits(sacc_path1)  # Change sacc_path1 -> sacc_path2 when you've got your sacc file\n",
    "\n",
    "for dtype in s2.get_data_types():\n",
    "    print('data_type = ', dtype)\n",
    "    for trs in s2.get_tracer_combinations(data_type=dtype):\n",
    "        ell1, cl1 = s1.get_ell_cl(dtype, trs[0], trs[1])\n",
    "        ell2, cl2 = s2.get_ell_cl(dtype, trs[0], trs[1])\n",
    "        print(trs, np.abs(np.max(cl1/cl2) - 1))\n",
    "    print()"
   ]
  },
  {
   "cell_type": "code",
   "execution_count": null,
   "metadata": {},
   "outputs": [],
   "source": []
  }
 ],
 "metadata": {
  "hide_input": false,
  "kernelspec": {
   "display_name": "Python 3",
   "language": "python",
   "name": "python3"
  },
  "language_info": {
   "codemirror_mode": {
    "name": "ipython",
    "version": 3
   },
   "file_extension": ".py",
   "mimetype": "text/x-python",
   "name": "python",
   "nbconvert_exporter": "python",
   "pygments_lexer": "ipython3",
   "version": "3.6.9"
  },
  "latex_envs": {
   "LaTeX_envs_menu_present": true,
   "autoclose": true,
   "autocomplete": true,
   "bibliofile": "biblio.bib",
   "cite_by": "apalike",
   "current_citInitial": 1,
   "eqLabelWithNumbers": true,
   "eqNumInitial": 1,
   "hotkeys": {
    "equation": "Ctrl-E",
    "itemize": "Ctrl-I"
   },
   "labels_anchors": false,
   "latex_user_defs": false,
   "report_style_numbering": false,
   "user_envs_cfg": false
  },
  "toc": {
   "base_numbering": 1,
   "nav_menu": {},
   "number_sections": true,
   "sideBar": true,
   "skip_h1_title": false,
   "title_cell": "Table of Contents",
   "title_sidebar": "Contents",
   "toc_cell": false,
   "toc_position": {},
   "toc_section_display": true,
   "toc_window_display": false
  },
  "varInspector": {
   "cols": {
    "lenName": 16,
    "lenType": 16,
    "lenVar": 40
   },
   "kernels_config": {
    "python": {
     "delete_cmd_postfix": "",
     "delete_cmd_prefix": "del ",
     "library": "var_list.py",
     "varRefreshCmd": "print(var_dic_list())"
    },
    "r": {
     "delete_cmd_postfix": ") ",
     "delete_cmd_prefix": "rm(",
     "library": "var_list.r",
     "varRefreshCmd": "cat(var_dic_list()) "
    }
   },
   "types_to_exclude": [
    "module",
    "function",
    "builtin_function_or_method",
    "instance",
    "_Feature"
   ],
   "window_display": false
  }
 },
 "nbformat": 4,
 "nbformat_minor": 4
}
