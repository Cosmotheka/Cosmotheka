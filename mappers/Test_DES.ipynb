{
 "cells": [
  {
   "cell_type": "code",
   "execution_count": 1,
   "metadata": {},
   "outputs": [
    {
     "name": "stdout",
     "output_type": "stream",
     "text": [
      "The history saving thread hit an unexpected error (DatabaseError('database disk image is malformed')).History will not be written to the database.\n"
     ]
    }
   ],
   "source": [
    "from mapper_base import MapperBase\n",
    "from astropy.io import fits\n",
    "from astropy.table import Table\n",
    "\n",
    "import mapper_DES\n",
    "import pyccl as ccl\n",
    "import numpy as np\n",
    "import pylab as plt\n",
    "import pymaster as nmt\n",
    "import healpy as hp\n",
    "import os"
   ]
  },
  {
   "cell_type": "code",
   "execution_count": 2,
   "metadata": {},
   "outputs": [],
   "source": [
    "# Initialize binning scheme with 20 ells per bandpower\n",
    "nside = 4096\n",
    "bands = nmt.NmtBin.from_nside_linear(nside, 20)\n",
    "ell_arr = bands.get_effective_ells()"
   ]
  },
  {
   "cell_type": "code",
   "execution_count": 3,
   "metadata": {},
   "outputs": [],
   "source": [
    "DES_1_config = {'data_catalogs':'/home/zcapjru/PhD/Data/DES_redm/DES_Y1A1_3x2pt_redMaGiC_zerr_CATALOG.fits', \n",
    "                'file_mask':'/home/zcapjru/PhD/Data/DES_redm/DES_Y1A1_3x2pt_redMaGiC_MASK_HPIX4096RING.fits',\n",
    "                'file_nz':'/home/zcapjru/PhD/Data/DES_redm/2pt_NG_mcal_1110.fits',\n",
    "          'z_edges':[0.15, 0.30],\n",
    "          'nside':nside }\n",
    "\n",
    "DES_2_config = {'data_catalogs':'/home/zcapjru/PhD/Data/DES_redm/DES_Y1A1_3x2pt_redMaGiC_zerr_CATALOG.fits', \n",
    "                'file_mask':'/home/zcapjru/PhD/Data/DES_redm/DES_Y1A1_3x2pt_redMaGiC_MASK_HPIX4096RING.fits',\n",
    "                'file_nz':'/home/zcapjru/PhD/Data/DES_redm/2pt_NG_mcal_1110.fits',\n",
    "          'z_edges':[0.30, 0.45],\n",
    "          'nside':nside }\n",
    "\n",
    "DES_3_config = {'data_catalogs':'/home/zcapjru/PhD/Data/DES_redm/DES_Y1A1_3x2pt_redMaGiC_zerr_CATALOG.fits', \n",
    "                'file_mask':'/home/zcapjru/PhD/Data/DES_redm/DES_Y1A1_3x2pt_redMaGiC_MASK_HPIX4096RING.fits',\n",
    "                'file_nz':'/home/zcapjru/PhD/Data/DES_redm/2pt_NG_mcal_1110.fits',\n",
    "          'z_edges':[0.45, 0.60],\n",
    "          'nside':nside}\n",
    "\n",
    "DES_4_config = {'data_catalogs':'/home/zcapjru/PhD/Data/DES_redm/DES_Y1A1_3x2pt_redMaGiC_zerr_CATALOG.fits', \n",
    "                'file_mask':'/home/zcapjru/PhD/Data/DES_redm/DES_Y1A1_3x2pt_redMaGiC_MASK_HPIX4096RING.fits',\n",
    "                'file_nz':'/home/zcapjru/PhD/Data/DES_redm/2pt_NG_mcal_1110.fits',\n",
    "          'z_edges':[0.60, 0.75],\n",
    "          'nside':nside }\n",
    "\n",
    "DES_5_config = {'data_catalogs':'/home/zcapjru/PhD/Data/DES_redm/DES_Y1A1_3x2pt_redMaGiC_zerr_CATALOG.fits', \n",
    "                'file_mask':'/home/zcapjru/PhD/Data/DES_redm/DES_Y1A1_3x2pt_redMaGiC_MASK_HPIX4096RING.fits',\n",
    "                'file_nz':'/home/zcapjru/PhD/Data/DES_redm/2pt_NG_mcal_1110.fits',\n",
    "          'z_edges':[0.75, 0.90],\n",
    "          'nside':nside }"
   ]
  },
  {
   "cell_type": "code",
   "execution_count": 4,
   "metadata": {},
   "outputs": [
    {
     "name": "stderr",
     "output_type": "stream",
     "text": [
      "/home/zcapjru/anaconda3/envs/PhD/lib/python3.8/site-packages/healpy/fitsfunc.py:368: UserWarning: If you are not specifying the input dtype and using the default np.float64 dtype of read_map(), please consider that it will change in a future version to None as to keep the same dtype of the input file: please explicitly set the dtype if it is important to you.\n",
      "  warnings.warn(\n",
      "WARNING: hdu= was not specified but multiple tables are present, reading in first available table (hdu=2) [astropy.io.fits.connect]\n"
     ]
    }
   ],
   "source": [
    "DES_1_maps = mapper_DES.MapperDES(DES_1_config)\n",
    "#DES_2_maps = mapper_DES.MapperDES(DES_2_config)\n",
    "#DES_3_maps = mapper_DES.MapperDES(DES_3_config)\n",
    "#DES_4_maps = mapper_DES.MapperDES(DES_4_config)\n",
    "#DES_5_maps = mapper_DES.MapperDES(DES_5_config)"
   ]
  },
  {
   "cell_type": "code",
   "execution_count": 5,
   "metadata": {},
   "outputs": [],
   "source": [
    "DES_nz_1 = DES_1_maps.get_nz()\n",
    "DES_z_1 = DES_nz_1[1]\n",
    "DES_dNdz_1 = DES_nz_1[0]"
   ]
  },
  {
   "cell_type": "code",
   "execution_count": 6,
   "metadata": {},
   "outputs": [
    {
     "data": {
      "image/png": "[encoded data removed]",
      "text/plain": [
       "<Figure size 432x288 with 1 Axes>"
      ]
     },
     "metadata": {
      "needs_background": "light"
     },
     "output_type": "display_data"
    }
   ],
   "source": [
    "plt.plot(DES_z_1, DES_dNdz_1, 'r-', label='Nz')\n",
    "\n",
    "plt.xlabel('z', fontsize=16)\n",
    "plt.ylabel('Nz', fontsize=16)\n",
    "plt.legend(loc='upper left', ncol=2, labelspacing=0.1)\n",
    "plt.show()"
   ]
  },
  {
   "cell_type": "code",
   "execution_count": 7,
   "metadata": {},
   "outputs": [],
   "source": [
    "def compute_cl(f_a, f_b, wsp):\n",
    "    # Compute the power spectrum (a la anafast) of the masked fields\n",
    "    # Note that we only use n_iter=0 here to speed up the computation,\n",
    "    # but the default value of 3 is recommended in general.\n",
    "    cl_coupled = nmt.compute_coupled_cell(f_a, f_b)\n",
    "    # Decouple power spectrum into bandpowers inverting the coupling matrix\n",
    "    cl_decoupled = wsp.decouple_cell(cl_coupled) #removed bias here\n",
    "\n",
    "    return cl_decoupled"
   ]
  },
  {
   "cell_type": "code",
   "execution_count": 8,
   "metadata": {},
   "outputs": [],
   "source": [
    "# Read healpix maps and initialize a spin-0 and spin-2 field\n",
    "DES_signal_1 = DES_1_maps.get_signal_map()\n",
    "DES_mask_1  = DES_1_maps.get_mask()"
   ]
  },
  {
   "cell_type": "code",
   "execution_count": 9,
   "metadata": {},
   "outputs": [
    {
     "name": "stderr",
     "output_type": "stream",
     "text": [
      "/home/zcapjru/anaconda3/envs/PhD/lib/python3.8/site-packages/healpy/projaxes.py:920: MatplotlibDeprecationWarning: You are modifying the state of a globally registered colormap. In future versions, you will not be able to modify a registered colormap in-place. To remove this warning, you can make a copy of the colormap first. cmap = copy.copy(mpl.cm.get_cmap(\"viridis\"))\n",
      "  newcm.set_over(newcm(1.0))\n",
      "/home/zcapjru/anaconda3/envs/PhD/lib/python3.8/site-packages/healpy/projaxes.py:921: MatplotlibDeprecationWarning: You are modifying the state of a globally registered colormap. In future versions, you will not be able to modify a registered colormap in-place. To remove this warning, you can make a copy of the colormap first. cmap = copy.copy(mpl.cm.get_cmap(\"viridis\"))\n",
      "  newcm.set_under(bgcolor)\n",
      "/home/zcapjru/anaconda3/envs/PhD/lib/python3.8/site-packages/healpy/projaxes.py:922: MatplotlibDeprecationWarning: You are modifying the state of a globally registered colormap. In future versions, you will not be able to modify a registered colormap in-place. To remove this warning, you can make a copy of the colormap first. cmap = copy.copy(mpl.cm.get_cmap(\"viridis\"))\n",
      "  newcm.set_bad(badcolor)\n",
      "/home/zcapjru/anaconda3/envs/PhD/lib/python3.8/site-packages/healpy/projaxes.py:202: MatplotlibDeprecationWarning: Passing parameters norm and vmin/vmax simultaneously is deprecated since 3.3 and will become an error two minor releases later. Please pass vmin/vmax directly to the norm when creating it.\n",
      "  aximg = self.imshow(\n"
     ]
    },
    {
     "data": {
      "image/png": "[encoded data removed]",
      "text/plain": [
       "<Figure size 612x388.8 with 2 Axes>"
      ]
     },
     "metadata": {
      "needs_background": "light"
     },
     "output_type": "display_data"
    }
   ],
   "source": [
    "hp.visufunc.mollview(DES_signal_1[0], title= 'Signal')"
   ]
  },
  {
   "cell_type": "code",
   "execution_count": 10,
   "metadata": {},
   "outputs": [
    {
     "data": {
      "image/png": "[encoded data removed]",
      "text/plain": [
       "<Figure size 612x388.8 with 2 Axes>"
      ]
     },
     "metadata": {
      "needs_background": "light"
     },
     "output_type": "display_data"
    }
   ],
   "source": [
    "hp.visufunc.mollview(DES_mask_1, title= 'Mask')\n"
   ]
  },
  {
   "cell_type": "code",
   "execution_count": 11,
   "metadata": {},
   "outputs": [],
   "source": [
    "goodpix = DES_signal_1[0]>0"
   ]
  },
  {
   "cell_type": "code",
   "execution_count": 12,
   "metadata": {},
   "outputs": [
    {
     "data": {
      "text/plain": [
       "(array([2.000e+00, 0.000e+00, 2.000e+00, 0.000e+00, 2.000e+00, 3.000e+00,\n",
       "        1.100e+01, 1.000e+01, 1.900e+01, 3.200e+01, 3.300e+01, 5.100e+01,\n",
       "        7.400e+01, 1.070e+02, 1.520e+02, 2.280e+02, 2.960e+02, 4.080e+02,\n",
       "        4.250e+02, 5.900e+02, 6.730e+02, 7.520e+02, 8.920e+02, 1.025e+03,\n",
       "        1.046e+03, 1.172e+03, 1.292e+03, 1.405e+03, 1.450e+03, 1.723e+03,\n",
       "        1.639e+03, 1.694e+03, 1.726e+03, 1.769e+03, 1.748e+03, 1.854e+03,\n",
       "        1.822e+03, 1.797e+03, 1.836e+03, 1.727e+03, 1.712e+03, 1.659e+03,\n",
       "        1.646e+03, 1.604e+03, 1.474e+03, 1.334e+03, 1.323e+03, 1.280e+03,\n",
       "        1.093e+03, 1.129e+03, 1.042e+03, 9.990e+02, 8.750e+02, 8.510e+02,\n",
       "        8.220e+02, 7.910e+02, 7.010e+02, 6.160e+02, 6.650e+02, 5.910e+02,\n",
       "        5.470e+02, 4.860e+02, 4.430e+02, 4.250e+02, 3.620e+02, 3.780e+02,\n",
       "        3.600e+02, 2.990e+02, 2.760e+02, 2.710e+02, 2.480e+02, 2.210e+02,\n",
       "        2.640e+02, 2.080e+02, 1.990e+02, 1.630e+02, 1.550e+02, 1.680e+02,\n",
       "        1.590e+02, 1.260e+02, 1.130e+02, 1.120e+02, 8.800e+01, 8.500e+01,\n",
       "        7.000e+01, 6.200e+01, 5.600e+01, 3.600e+01, 5.500e+01, 4.100e+01,\n",
       "        4.300e+01, 4.100e+01, 4.200e+01, 2.900e+01, 3.200e+01, 2.700e+01,\n",
       "        3.200e+01, 2.300e+01, 2.000e+01, 1.200e+01, 2.000e+01, 1.300e+01,\n",
       "        1.700e+01, 1.200e+01, 1.500e+01, 1.100e+01, 9.000e+00, 7.000e+00,\n",
       "        7.000e+00, 7.000e+00, 9.000e+00, 9.000e+00, 8.000e+00, 4.000e+00,\n",
       "        6.000e+00, 6.000e+00, 4.000e+00, 2.000e+00, 4.000e+00, 1.000e+00,\n",
       "        3.000e+00, 1.000e+00, 5.000e+00, 0.000e+00, 4.000e+00, 2.000e+00,\n",
       "        2.000e+00, 2.000e+00, 0.000e+00, 2.000e+00, 0.000e+00, 2.000e+00,\n",
       "        1.000e+00, 0.000e+00, 0.000e+00, 1.000e+00, 0.000e+00, 0.000e+00,\n",
       "        2.000e+00, 1.000e+00, 0.000e+00, 1.000e+00, 1.000e+00, 0.000e+00,\n",
       "        0.000e+00, 0.000e+00, 0.000e+00, 0.000e+00, 1.000e+00, 0.000e+00,\n",
       "        0.000e+00, 2.000e+00, 2.000e+00, 0.000e+00, 1.000e+00, 1.000e+00,\n",
       "        0.000e+00, 0.000e+00, 0.000e+00, 1.000e+00, 1.000e+00, 0.000e+00,\n",
       "        1.000e+00, 2.000e+00, 1.000e+00, 6.000e+00, 2.000e+00, 3.000e+00,\n",
       "        5.000e+00, 4.000e+00, 6.000e+00, 3.000e+00, 6.000e+00, 6.000e+00,\n",
       "        5.000e+00, 9.000e+00, 8.000e+00, 1.300e+01, 1.100e+01, 1.100e+01,\n",
       "        1.200e+01, 1.400e+01, 1.100e+01, 1.000e+01, 1.800e+01, 1.300e+01,\n",
       "        1.600e+01, 1.900e+01, 1.000e+01, 2.000e+01, 1.900e+01, 2.500e+01,\n",
       "        1.600e+01, 2.200e+01, 2.100e+01, 2.500e+01, 1.700e+01, 1.600e+01,\n",
       "        2.300e+01, 1.600e+01, 2.300e+01, 1.500e+01, 1.800e+01, 2.500e+01,\n",
       "        2.500e+01, 3.100e+01, 2.100e+01, 2.400e+01, 1.800e+01, 1.800e+01,\n",
       "        1.900e+01, 2.200e+01, 2.600e+01, 2.300e+01, 2.000e+01, 1.500e+01,\n",
       "        1.500e+01, 1.600e+01, 2.000e+01, 1.800e+01, 2.800e+01, 1.500e+01,\n",
       "        1.500e+01, 2.000e+01, 2.400e+01, 1.800e+01, 1.400e+01, 1.800e+01,\n",
       "        2.400e+01, 1.500e+01, 1.300e+01, 1.700e+01, 1.200e+01, 9.000e+00,\n",
       "        1.300e+01, 1.500e+01, 1.000e+01, 1.100e+01, 1.400e+01, 8.000e+00,\n",
       "        1.000e+01, 1.200e+01, 1.000e+01, 6.000e+00, 6.000e+00, 6.000e+00,\n",
       "        5.000e+00, 4.000e+00, 5.000e+00, 9.000e+00, 3.000e+00, 3.000e+00,\n",
       "        7.000e+00, 9.000e+00, 6.000e+00, 5.000e+00, 1.000e+00, 4.000e+00,\n",
       "        4.000e+00, 3.000e+00, 2.000e+00, 3.000e+00, 2.000e+00, 1.000e+00,\n",
       "        2.000e+00, 4.000e+00, 3.000e+00, 5.000e+00, 3.000e+00, 4.000e+00,\n",
       "        1.000e+00, 4.000e+00, 3.000e+00, 1.000e+00, 0.000e+00, 2.000e+00,\n",
       "        2.000e+00, 2.000e+00, 3.000e+00, 3.000e+00, 2.000e+00, 1.000e+00,\n",
       "        3.000e+00, 0.000e+00, 2.000e+00, 2.000e+00, 1.000e+00, 2.000e+00,\n",
       "        1.000e+00, 3.000e+00, 2.000e+00, 0.000e+00, 1.000e+00, 1.000e+00,\n",
       "        0.000e+00, 6.000e+00, 0.000e+00, 0.000e+00, 0.000e+00, 2.000e+00,\n",
       "        2.000e+00, 0.000e+00, 1.000e+00, 1.000e+00, 0.000e+00, 1.000e+00,\n",
       "        0.000e+00, 0.000e+00, 1.000e+00, 1.000e+00, 4.000e+00, 0.000e+00,\n",
       "        0.000e+00, 2.000e+00, 0.000e+00, 2.000e+00, 0.000e+00, 1.000e+00,\n",
       "        1.000e+00, 2.000e+00, 0.000e+00, 0.000e+00, 0.000e+00, 0.000e+00,\n",
       "        1.000e+00, 0.000e+00, 1.000e+00, 0.000e+00, 0.000e+00, 2.000e+00,\n",
       "        0.000e+00, 1.000e+00, 1.000e+00, 0.000e+00, 1.000e+00, 0.000e+00,\n",
       "        1.000e+00, 0.000e+00, 2.000e+00, 1.000e+00, 0.000e+00, 2.000e+00,\n",
       "        0.000e+00, 0.000e+00, 1.000e+00, 1.000e+00, 0.000e+00, 0.000e+00,\n",
       "        1.000e+00, 3.000e+00, 0.000e+00, 2.000e+00, 0.000e+00, 3.000e+00,\n",
       "        0.000e+00, 1.000e+00, 0.000e+00, 0.000e+00, 0.000e+00, 0.000e+00,\n",
       "        1.000e+00, 0.000e+00, 3.000e+00, 1.000e+00, 2.000e+00, 3.000e+00,\n",
       "        2.000e+00, 1.000e+00, 1.000e+00, 1.000e+00, 0.000e+00, 0.000e+00,\n",
       "        0.000e+00, 0.000e+00, 0.000e+00, 1.000e+00, 1.000e+00, 0.000e+00,\n",
       "        2.000e+00, 0.000e+00, 1.000e+00, 1.000e+00, 0.000e+00, 0.000e+00,\n",
       "        0.000e+00, 1.000e+00, 0.000e+00, 0.000e+00, 1.000e+00, 0.000e+00,\n",
       "        2.000e+00, 0.000e+00, 0.000e+00, 0.000e+00, 0.000e+00, 1.000e+00,\n",
       "        0.000e+00, 1.000e+00, 0.000e+00, 2.000e+00, 1.000e+00, 2.000e+00,\n",
       "        0.000e+00, 1.000e+00, 2.000e+00, 0.000e+00, 0.000e+00, 0.000e+00,\n",
       "        2.000e+00, 1.000e+00, 0.000e+00, 0.000e+00, 1.000e+00, 0.000e+00,\n",
       "        1.000e+00, 1.000e+00, 0.000e+00, 0.000e+00, 2.000e+00, 1.000e+00,\n",
       "        1.000e+00, 0.000e+00, 0.000e+00, 1.000e+00, 0.000e+00, 0.000e+00,\n",
       "        1.000e+00, 0.000e+00, 0.000e+00, 0.000e+00, 2.000e+00, 1.000e+00,\n",
       "        0.000e+00, 0.000e+00, 0.000e+00, 0.000e+00, 0.000e+00, 0.000e+00,\n",
       "        0.000e+00, 1.000e+00, 0.000e+00, 1.000e+00, 0.000e+00, 0.000e+00,\n",
       "        0.000e+00, 0.000e+00, 0.000e+00, 0.000e+00, 1.000e+00, 0.000e+00,\n",
       "        1.000e+00, 0.000e+00, 0.000e+00, 0.000e+00, 0.000e+00, 0.000e+00,\n",
       "        0.000e+00, 0.000e+00, 0.000e+00, 0.000e+00, 0.000e+00, 0.000e+00,\n",
       "        0.000e+00, 0.000e+00, 0.000e+00, 2.000e+00, 0.000e+00, 0.000e+00,\n",
       "        0.000e+00, 0.000e+00, 1.000e+00, 0.000e+00, 0.000e+00, 1.000e+00,\n",
       "        0.000e+00, 0.000e+00, 0.000e+00, 0.000e+00, 0.000e+00, 0.000e+00,\n",
       "        0.000e+00, 0.000e+00, 0.000e+00, 0.000e+00, 0.000e+00, 0.000e+00,\n",
       "        0.000e+00, 0.000e+00, 0.000e+00, 0.000e+00, 0.000e+00, 0.000e+00,\n",
       "        0.000e+00, 0.000e+00, 0.000e+00, 0.000e+00, 0.000e+00, 0.000e+00,\n",
       "        0.000e+00, 0.000e+00, 0.000e+00, 0.000e+00, 0.000e+00, 0.000e+00,\n",
       "        0.000e+00, 0.000e+00, 0.000e+00, 0.000e+00, 0.000e+00, 0.000e+00,\n",
       "        0.000e+00, 0.000e+00, 0.000e+00, 0.000e+00, 0.000e+00, 0.000e+00,\n",
       "        0.000e+00, 0.000e+00, 1.000e+00, 0.000e+00, 0.000e+00, 0.000e+00,\n",
       "        0.000e+00, 0.000e+00, 0.000e+00, 0.000e+00, 0.000e+00, 0.000e+00,\n",
       "        0.000e+00, 0.000e+00, 0.000e+00, 0.000e+00, 0.000e+00, 0.000e+00,\n",
       "        0.000e+00, 0.000e+00, 0.000e+00, 0.000e+00, 0.000e+00, 0.000e+00,\n",
       "        0.000e+00, 0.000e+00, 0.000e+00, 0.000e+00, 0.000e+00, 0.000e+00,\n",
       "        0.000e+00, 0.000e+00, 0.000e+00, 0.000e+00, 1.000e+00, 0.000e+00,\n",
       "        0.000e+00, 0.000e+00, 0.000e+00, 0.000e+00, 0.000e+00, 0.000e+00,\n",
       "        0.000e+00, 0.000e+00, 0.000e+00, 0.000e+00, 1.000e+00, 0.000e+00,\n",
       "        0.000e+00, 0.000e+00, 0.000e+00, 0.000e+00, 0.000e+00, 0.000e+00,\n",
       "        0.000e+00, 0.000e+00, 0.000e+00, 0.000e+00, 0.000e+00, 0.000e+00,\n",
       "        0.000e+00, 0.000e+00, 0.000e+00, 0.000e+00, 0.000e+00, 0.000e+00,\n",
       "        0.000e+00, 0.000e+00, 0.000e+00, 0.000e+00, 0.000e+00, 0.000e+00,\n",
       "        0.000e+00, 0.000e+00, 0.000e+00, 0.000e+00, 0.000e+00, 0.000e+00,\n",
       "        0.000e+00, 0.000e+00, 0.000e+00, 0.000e+00, 0.000e+00, 0.000e+00,\n",
       "        0.000e+00, 0.000e+00, 0.000e+00, 0.000e+00, 0.000e+00, 0.000e+00,\n",
       "        0.000e+00, 0.000e+00, 0.000e+00, 0.000e+00, 0.000e+00, 0.000e+00,\n",
       "        0.000e+00, 0.000e+00, 0.000e+00, 0.000e+00, 0.000e+00, 0.000e+00,\n",
       "        0.000e+00, 0.000e+00, 0.000e+00, 0.000e+00, 0.000e+00, 0.000e+00,\n",
       "        0.000e+00, 0.000e+00, 0.000e+00, 0.000e+00, 0.000e+00, 0.000e+00,\n",
       "        0.000e+00, 0.000e+00, 0.000e+00, 0.000e+00, 0.000e+00, 0.000e+00,\n",
       "        0.000e+00, 0.000e+00, 0.000e+00, 0.000e+00, 0.000e+00, 0.000e+00,\n",
       "        0.000e+00, 0.000e+00, 0.000e+00, 0.000e+00, 0.000e+00, 0.000e+00,\n",
       "        0.000e+00, 0.000e+00, 0.000e+00, 0.000e+00, 0.000e+00, 0.000e+00,\n",
       "        0.000e+00, 0.000e+00, 0.000e+00, 0.000e+00, 0.000e+00, 0.000e+00,\n",
       "        0.000e+00, 0.000e+00, 0.000e+00, 0.000e+00, 0.000e+00, 0.000e+00,\n",
       "        0.000e+00, 0.000e+00, 0.000e+00, 0.000e+00, 0.000e+00, 0.000e+00,\n",
       "        0.000e+00, 0.000e+00, 0.000e+00, 0.000e+00, 0.000e+00, 0.000e+00,\n",
       "        0.000e+00, 1.000e+00, 0.000e+00, 0.000e+00, 0.000e+00, 0.000e+00,\n",
       "        0.000e+00, 0.000e+00, 0.000e+00, 0.000e+00, 0.000e+00, 0.000e+00,\n",
       "        0.000e+00, 0.000e+00, 0.000e+00, 0.000e+00, 0.000e+00, 0.000e+00,\n",
       "        0.000e+00, 0.000e+00, 0.000e+00, 0.000e+00, 0.000e+00, 0.000e+00,\n",
       "        0.000e+00, 1.000e+00]),\n",
       " array([ 77.32186363,  77.90599422,  78.49012482,  79.07425541,\n",
       "         79.65838601,  80.2425166 ,  80.8266472 ,  81.41077779,\n",
       "         81.99490839,  82.57903898,  83.16316958,  83.74730017,\n",
       "         84.33143077,  84.91556136,  85.49969196,  86.08382255,\n",
       "         86.66795315,  87.25208374,  87.83621434,  88.42034493,\n",
       "         89.00447553,  89.58860612,  90.17273672,  90.75686731,\n",
       "         91.34099791,  91.9251285 ,  92.5092591 ,  93.09338969,\n",
       "         93.67752029,  94.26165088,  94.84578147,  95.42991207,\n",
       "         96.01404266,  96.59817326,  97.18230385,  97.76643445,\n",
       "         98.35056504,  98.93469564,  99.51882623, 100.10295683,\n",
       "        100.68708742, 101.27121802, 101.85534861, 102.43947921,\n",
       "        103.0236098 , 103.6077404 , 104.19187099, 104.77600159,\n",
       "        105.36013218, 105.94426278, 106.52839337, 107.11252397,\n",
       "        107.69665456, 108.28078516, 108.86491575, 109.44904635,\n",
       "        110.03317694, 110.61730754, 111.20143813, 111.78556873,\n",
       "        112.36969932, 112.95382992, 113.53796051, 114.12209111,\n",
       "        114.7062217 , 115.2903523 , 115.87448289, 116.45861349,\n",
       "        117.04274408, 117.62687468, 118.21100527, 118.79513587,\n",
       "        119.37926646, 119.96339706, 120.54752765, 121.13165825,\n",
       "        121.71578884, 122.29991944, 122.88405003, 123.46818063,\n",
       "        124.05231122, 124.63644182, 125.22057241, 125.80470301,\n",
       "        126.3888336 , 126.9729642 , 127.55709479, 128.14122539,\n",
       "        128.72535598, 129.30948658, 129.89361717, 130.47774777,\n",
       "        131.06187836, 131.64600896, 132.23013955, 132.81427015,\n",
       "        133.39840074, 133.98253134, 134.56666193, 135.15079253,\n",
       "        135.73492312, 136.31905372, 136.90318431, 137.48731491,\n",
       "        138.0714455 , 138.6555761 , 139.23970669, 139.82383729,\n",
       "        140.40796788, 140.99209848, 141.57622907, 142.16035967,\n",
       "        142.74449026, 143.32862086, 143.91275145, 144.49688205,\n",
       "        145.08101264, 145.66514324, 146.24927383, 146.83340443,\n",
       "        147.41753502, 148.00166562, 148.58579621, 149.16992681,\n",
       "        149.7540574 , 150.338188  , 150.92231859, 151.50644919,\n",
       "        152.09057978, 152.67471038, 153.25884097, 153.84297157,\n",
       "        154.42710216, 155.01123276, 155.59536335, 156.17949395,\n",
       "        156.76362454, 157.34775514, 157.93188573, 158.51601633,\n",
       "        159.10014692, 159.68427752, 160.26840811, 160.85253871,\n",
       "        161.4366693 , 162.0207999 , 162.60493049, 163.18906109,\n",
       "        163.77319168, 164.35732228, 164.94145287, 165.52558347,\n",
       "        166.10971406, 166.69384466, 167.27797525, 167.86210585,\n",
       "        168.44623644, 169.03036704, 169.61449763, 170.19862823,\n",
       "        170.78275882, 171.36688942, 171.95102001, 172.53515061,\n",
       "        173.1192812 , 173.7034118 , 174.28754239, 174.87167298,\n",
       "        175.45580358, 176.03993417, 176.62406477, 177.20819536,\n",
       "        177.79232596, 178.37645655, 178.96058715, 179.54471774,\n",
       "        180.12884834, 180.71297893, 181.29710953, 181.88124012,\n",
       "        182.46537072, 183.04950131, 183.63363191, 184.2177625 ,\n",
       "        184.8018931 , 185.38602369, 185.97015429, 186.55428488,\n",
       "        187.13841548, 187.72254607, 188.30667667, 188.89080726,\n",
       "        189.47493786, 190.05906845, 190.64319905, 191.22732964,\n",
       "        191.81146024, 192.39559083, 192.97972143, 193.56385202,\n",
       "        194.14798262, 194.73211321, 195.31624381, 195.9003744 ,\n",
       "        196.484505  , 197.06863559, 197.65276619, 198.23689678,\n",
       "        198.82102738, 199.40515797, 199.98928857, 200.57341916,\n",
       "        201.15754976, 201.74168035, 202.32581095, 202.90994154,\n",
       "        203.49407214, 204.07820273, 204.66233333, 205.24646392,\n",
       "        205.83059452, 206.41472511, 206.99885571, 207.5829863 ,\n",
       "        208.1671169 , 208.75124749, 209.33537809, 209.91950868,\n",
       "        210.50363928, 211.08776987, 211.67190047, 212.25603106,\n",
       "        212.84016166, 213.42429225, 214.00842285, 214.59255344,\n",
       "        215.17668404, 215.76081463, 216.34494523, 216.92907582,\n",
       "        217.51320642, 218.09733701, 218.68146761, 219.2655982 ,\n",
       "        219.8497288 , 220.43385939, 221.01798999, 221.60212058,\n",
       "        222.18625118, 222.77038177, 223.35451237, 223.93864296,\n",
       "        224.52277356, 225.10690415, 225.69103475, 226.27516534,\n",
       "        226.85929594, 227.44342653, 228.02755713, 228.61168772,\n",
       "        229.19581832, 229.77994891, 230.36407951, 230.9482101 ,\n",
       "        231.5323407 , 232.11647129, 232.70060189, 233.28473248,\n",
       "        233.86886308, 234.45299367, 235.03712427, 235.62125486,\n",
       "        236.20538546, 236.78951605, 237.37364665, 237.95777724,\n",
       "        238.54190784, 239.12603843, 239.71016903, 240.29429962,\n",
       "        240.87843022, 241.46256081, 242.04669141, 242.630822  ,\n",
       "        243.2149526 , 243.79908319, 244.38321379, 244.96734438,\n",
       "        245.55147498, 246.13560557, 246.71973617, 247.30386676,\n",
       "        247.88799736, 248.47212795, 249.05625855, 249.64038914,\n",
       "        250.22451974, 250.80865033, 251.39278093, 251.97691152,\n",
       "        252.56104212, 253.14517271, 253.72930331, 254.3134339 ,\n",
       "        254.89756449, 255.48169509, 256.06582568, 256.64995628,\n",
       "        257.23408687, 257.81821747, 258.40234806, 258.98647866,\n",
       "        259.57060925, 260.15473985, 260.73887044, 261.32300104,\n",
       "        261.90713163, 262.49126223, 263.07539282, 263.65952342,\n",
       "        264.24365401, 264.82778461, 265.4119152 , 265.9960458 ,\n",
       "        266.58017639, 267.16430699, 267.74843758, 268.33256818,\n",
       "        268.91669877, 269.50082937, 270.08495996, 270.66909056,\n",
       "        271.25322115, 271.83735175, 272.42148234, 273.00561294,\n",
       "        273.58974353, 274.17387413, 274.75800472, 275.34213532,\n",
       "        275.92626591, 276.51039651, 277.0945271 , 277.6786577 ,\n",
       "        278.26278829, 278.84691889, 279.43104948, 280.01518008,\n",
       "        280.59931067, 281.18344127, 281.76757186, 282.35170246,\n",
       "        282.93583305, 283.51996365, 284.10409424, 284.68822484,\n",
       "        285.27235543, 285.85648603, 286.44061662, 287.02474722,\n",
       "        287.60887781, 288.19300841, 288.777139  , 289.3612696 ,\n",
       "        289.94540019, 290.52953079, 291.11366138, 291.69779198,\n",
       "        292.28192257, 292.86605317, 293.45018376, 294.03431436,\n",
       "        294.61844495, 295.20257555, 295.78670614, 296.37083674,\n",
       "        296.95496733, 297.53909793, 298.12322852, 298.70735912,\n",
       "        299.29148971, 299.87562031, 300.4597509 , 301.0438815 ,\n",
       "        301.62801209, 302.21214269, 302.79627328, 303.38040388,\n",
       "        303.96453447, 304.54866507, 305.13279566, 305.71692626,\n",
       "        306.30105685, 306.88518745, 307.46931804, 308.05344864,\n",
       "        308.63757923, 309.22170983, 309.80584042, 310.38997102,\n",
       "        310.97410161, 311.55823221, 312.1423628 , 312.7264934 ,\n",
       "        313.31062399, 313.89475459, 314.47888518, 315.06301578,\n",
       "        315.64714637, 316.23127697, 316.81540756, 317.39953816,\n",
       "        317.98366875, 318.56779935, 319.15192994, 319.73606054,\n",
       "        320.32019113, 320.90432173, 321.48845232, 322.07258292,\n",
       "        322.65671351, 323.24084411, 323.8249747 , 324.4091053 ,\n",
       "        324.99323589, 325.57736649, 326.16149708, 326.74562768,\n",
       "        327.32975827, 327.91388887, 328.49801946, 329.08215006,\n",
       "        329.66628065, 330.25041125, 330.83454184, 331.41867244,\n",
       "        332.00280303, 332.58693363, 333.17106422, 333.75519481,\n",
       "        334.33932541, 334.923456  , 335.5075866 , 336.09171719,\n",
       "        336.67584779, 337.25997838, 337.84410898, 338.42823957,\n",
       "        339.01237017, 339.59650076, 340.18063136, 340.76476195,\n",
       "        341.34889255, 341.93302314, 342.51715374, 343.10128433,\n",
       "        343.68541493, 344.26954552, 344.85367612, 345.43780671,\n",
       "        346.02193731, 346.6060679 , 347.1901985 , 347.77432909,\n",
       "        348.35845969, 348.94259028, 349.52672088, 350.11085147,\n",
       "        350.69498207, 351.27911266, 351.86324326, 352.44737385,\n",
       "        353.03150445, 353.61563504, 354.19976564, 354.78389623,\n",
       "        355.36802683, 355.95215742, 356.53628802, 357.12041861,\n",
       "        357.70454921, 358.2886798 , 358.8728104 , 359.45694099,\n",
       "        360.04107159, 360.62520218, 361.20933278, 361.79346337,\n",
       "        362.37759397, 362.96172456, 363.54585516, 364.12998575,\n",
       "        364.71411635, 365.29824694, 365.88237754, 366.46650813,\n",
       "        367.05063873, 367.63476932, 368.21889992, 368.80303051,\n",
       "        369.38716111, 369.9712917 , 370.5554223 , 371.13955289,\n",
       "        371.72368349, 372.30781408, 372.89194468, 373.47607527,\n",
       "        374.06020587, 374.64433646, 375.22846706, 375.81259765,\n",
       "        376.39672825, 376.98085884, 377.56498944, 378.14912003,\n",
       "        378.73325063, 379.31738122, 379.90151182, 380.48564241,\n",
       "        381.06977301, 381.6539036 , 382.2380342 , 382.82216479,\n",
       "        383.40629539, 383.99042598, 384.57455658, 385.15868717,\n",
       "        385.74281777, 386.32694836, 386.91107896, 387.49520955,\n",
       "        388.07934015, 388.66347074, 389.24760134, 389.83173193,\n",
       "        390.41586253, 390.99999312, 391.58412372, 392.16825431,\n",
       "        392.75238491, 393.3365155 , 393.9206461 , 394.50477669,\n",
       "        395.08890729, 395.67303788, 396.25716848, 396.84129907,\n",
       "        397.42542967, 398.00956026, 398.59369086, 399.17782145,\n",
       "        399.76195205, 400.34608264, 400.93021324, 401.51434383,\n",
       "        402.09847443, 402.68260502, 403.26673562, 403.85086621,\n",
       "        404.43499681, 405.0191274 , 405.603258  , 406.18738859,\n",
       "        406.77151919, 407.35564978, 407.93978038, 408.52391097,\n",
       "        409.10804157, 409.69217216, 410.27630276, 410.86043335,\n",
       "        411.44456395, 412.02869454, 412.61282514, 413.19695573,\n",
       "        413.78108632, 414.36521692, 414.94934751, 415.53347811,\n",
       "        416.1176087 , 416.7017393 , 417.28586989, 417.87000049,\n",
       "        418.45413108, 419.03826168, 419.62239227, 420.20652287,\n",
       "        420.79065346, 421.37478406, 421.95891465, 422.54304525,\n",
       "        423.12717584, 423.71130644, 424.29543703, 424.87956763,\n",
       "        425.46369822, 426.04782882, 426.63195941, 427.21609001,\n",
       "        427.8002206 , 428.3843512 , 428.96848179, 429.55261239,\n",
       "        430.13674298, 430.72087358, 431.30500417, 431.88913477,\n",
       "        432.47326536, 433.05739596, 433.64152655, 434.22565715,\n",
       "        434.80978774, 435.39391834, 435.97804893, 436.56217953,\n",
       "        437.14631012, 437.73044072, 438.31457131, 438.89870191,\n",
       "        439.4828325 , 440.0669631 , 440.65109369, 441.23522429,\n",
       "        441.81935488, 442.40348548, 442.98761607, 443.57174667,\n",
       "        444.15587726, 444.74000786, 445.32413845, 445.90826905,\n",
       "        446.49239964, 447.07653024, 447.66066083, 448.24479143,\n",
       "        448.82892202, 449.41305262, 449.99718321, 450.58131381,\n",
       "        451.1654444 , 451.749575  , 452.33370559, 452.91783619,\n",
       "        453.50196678, 454.08609738, 454.67022797, 455.25435857,\n",
       "        455.83848916, 456.42261976, 457.00675035, 457.59088095,\n",
       "        458.17501154, 458.75914214, 459.34327273, 459.92740333,\n",
       "        460.51153392, 461.09566452, 461.67979511, 462.26392571,\n",
       "        462.8480563 , 463.4321869 , 464.01631749, 464.60044809,\n",
       "        465.18457868, 465.76870928, 466.35283987, 466.93697047,\n",
       "        467.52110106, 468.10523166, 468.68936225, 469.27349285,\n",
       "        469.85762344, 470.44175404, 471.02588463, 471.61001523,\n",
       "        472.19414582, 472.77827642, 473.36240701, 473.94653761,\n",
       "        474.5306682 , 475.1147988 , 475.69892939, 476.28305999,\n",
       "        476.86719058, 477.45132118, 478.03545177, 478.61958237,\n",
       "        479.20371296, 479.78784356, 480.37197415, 480.95610475,\n",
       "        481.54023534, 482.12436594, 482.70849653, 483.29262713,\n",
       "        483.87675772, 484.46088832, 485.04501891, 485.62914951,\n",
       "        486.2132801 , 486.7974107 , 487.38154129, 487.96567189,\n",
       "        488.54980248]),\n",
       " <BarContainer object of 704 artists>)"
      ]
     },
     "execution_count": 12,
     "metadata": {},
     "output_type": "execute_result"
    },
    {
     "data": {
      "image/png": "[encoded data removed]",
      "text/plain": [
       "<Figure size 432x288 with 1 Axes>"
      ]
     },
     "metadata": {
      "needs_background": "light"
     },
     "output_type": "display_data"
    }
   ],
   "source": [
    "plt.hist(DES_signal_1[0][goodpix], bins='auto') "
   ]
  },
  {
   "cell_type": "code",
   "execution_count": 13,
   "metadata": {},
   "outputs": [],
   "source": [
    "DES_nl_11 = DES_1_maps.get_nl_coupled()"
   ]
  },
  {
   "cell_type": "code",
   "execution_count": 14,
   "metadata": {},
   "outputs": [],
   "source": [
    "DES_f_1 =  DES_1_maps.get_nmt_field()"
   ]
  },
  {
   "cell_type": "code",
   "execution_count": null,
   "metadata": {},
   "outputs": [],
   "source": [
    "DES_w_11 = nmt.NmtWorkspace()\n",
    "DES_w_11.compute_coupling_matrix(DES_f_1, DES_f_1, bands)"
   ]
  },
  {
   "cell_type": "code",
   "execution_count": null,
   "metadata": {},
   "outputs": [],
   "source": [
    "def compute_cl(f_a, f_b, wsp):\n",
    "    # Compute the power spectrum (a la anafast) of the masked fields\n",
    "    # Note that we only use n_iter=0 here to speed up the computation,\n",
    "    # but the default value of 3 is recommended in general.\n",
    "    cl_coupled = nmt.compute_coupled_cell(f_a, f_b)\n",
    "    # Decouple power spectrum into bandpowers inverting the coupling matrix\n",
    "    cl_decoupled = wsp.decouple_cell(cl_coupled) #removed bias here\n",
    "\n",
    "    return cl_decoupled"
   ]
  },
  {
   "cell_type": "code",
   "execution_count": null,
   "metadata": {},
   "outputs": [],
   "source": []
  }
 ],
 "metadata": {
  "kernelspec": {
   "display_name": "Python 3",
   "language": "python",
   "name": "python3"
  },
  "language_info": {
   "codemirror_mode": {
    "name": "ipython",
    "version": 3
   },
   "file_extension": ".py",
   "mimetype": "text/x-python",
   "name": "python",
   "nbconvert_exporter": "python",
   "pygments_lexer": "ipython3",
   "version": "3.8.5"
  }
 },
 "nbformat": 4,
 "nbformat_minor": 4
}
