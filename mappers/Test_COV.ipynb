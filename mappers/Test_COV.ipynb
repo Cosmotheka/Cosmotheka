{
 "cells": [
  {
   "cell_type": "markdown",
   "metadata": {},
   "source": [
    "# Example 8"
   ]
  },
  {
   "cell_type": "code",
   "execution_count": 1,
   "metadata": {},
   "outputs": [
    {
     "name": "stdout",
     "output_type": "stream",
     "text": [
      "The history saving thread hit an unexpected error (DatabaseError('database disk image is malformed')).History will not be written to the database.\n"
     ]
    }
   ],
   "source": [
    "from mapper_base import MapperBase\n",
    "from astropy.io import fits\n",
    "from astropy.table import Table\n",
    "\n",
    "import mapper_eBOSS_QSO\n",
    "import mapper_CMBK\n",
    "import pyccl as ccl\n",
    "import numpy as np\n",
    "import pylab as plt\n",
    "import pymaster as nmt\n",
    "import healpy as hp"
   ]
  },
  {
   "cell_type": "code",
   "execution_count": 2,
   "metadata": {},
   "outputs": [],
   "source": [
    "# Initialize binning scheme with 20 ells per bandpower\n",
    "nside = 1024\n",
    "nside_mask = 512\n",
    "\n",
    "ells = []\n",
    "i = 11.5\n",
    "while i <= 3 * nside:\n",
    "    ells.append(round(i))\n",
    "    #i = i*(1+i/(3 * nside))\n",
    "    i = i+20*(1+i/240)\n",
    "    \n",
    "if ells[-1] <  3 * nside -1:   \n",
    "    ells.append(3 * nside -1)\n",
    "    \n",
    "bands = nmt.NmtBin.from_edges(ells[:-1], ells[1:])\n",
    "ell_arr = bands.get_effective_ells()"
   ]
  },
  {
   "cell_type": "code",
   "execution_count": 3,
   "metadata": {},
   "outputs": [],
   "source": [
    "NGC_1_config = {'data_catalogs':['/home/zcapjru/PhD/Data/eBOSS_QSO_clustering_data-NGC-vDR16.fits'], \n",
    "          'random_catalogs':['/home/zcapjru/PhD/Data/eBOSS_QSO_clustering_random-NGC-vDR16.fits'],\n",
    "          'z_edges':[0, 1.5],\n",
    "          'nside':nside, 'nside_mask': nside_mask, 'mask_name': 'mask_QSO_NGC_1' }\n",
    "\n",
    "NGC_2_config = {'data_catalogs':['/home/zcapjru/PhD/Data/eBOSS_QSO_clustering_data-NGC-vDR16.fits'], \n",
    "          'random_catalogs':['/home/zcapjru/PhD/Data/eBOSS_QSO_clustering_random-NGC-vDR16.fits'],\n",
    "          'z_edges':[1.5, 3],\n",
    "          'nside':nside, 'nside_mask': nside_mask, 'mask_name': 'mask_QSO_NGC_2'  }\n",
    "\n",
    "SGC_1_config = {'data_catalogs':['/home/zcapjru/PhD/Data/eBOSS_QSO_clustering_data-SGC-vDR16.fits'], \n",
    "          'random_catalogs':['/home/zcapjru/PhD/Data/eBOSS_QSO_clustering_random-SGC-vDR16.fits'],\n",
    "          'z_edges':[0.01, 1.5],\n",
    "          'nside':nside, 'nside_mask': nside_mask, 'mask_name': 'mask_QSO_SGC_1' }\n",
    "\n",
    "SGC_2_config = {'data_catalogs':['/home/zcapjru/PhD/Data/eBOSS_QSO_clustering_data-SGC-vDR16.fits'], \n",
    "          'random_catalogs':['/home/zcapjru/PhD/Data/eBOSS_QSO_clustering_random-SGC-vDR16.fits'],\n",
    "          'z_edges':[1.5, 3],\n",
    "          'nside':nside, 'nside_mask': nside_mask, 'mask_name': 'mask_QSO_SGC_1'  }"
   ]
  },
  {
   "cell_type": "code",
   "execution_count": 4,
   "metadata": {},
   "outputs": [],
   "source": [
    "NGC_1_maps = mapper_eBOSS_QSO.MappereBOSSQSO(NGC_1_config)\n",
    "NGC_2_maps = mapper_eBOSS_QSO.MappereBOSSQSO(NGC_2_config)\n",
    "SGC_1_maps = mapper_eBOSS_QSO.MappereBOSSQSO(SGC_1_config)\n",
    "SGC_2_maps = mapper_eBOSS_QSO.MappereBOSSQSO(SGC_2_config)"
   ]
  },
  {
   "cell_type": "code",
   "execution_count": 5,
   "metadata": {},
   "outputs": [],
   "source": [
    "def get_cov_wsp(f1, f2, f3, f4):\n",
    "    cw = nmt.NmtCovarianceWorkspace()\n",
    "    cw.compute_coupling_coefficients(f1, f2, f3, f4)\n",
    "    return cw\n",
    "\n",
    "def get_cov(cl1, cl2, cl3, cl4, cw, wa, wb):\n",
    "    return  nmt.gaussian_covariance(cw,\n",
    "                                      0, 0, 0, 0,  # Spins of the 4 fields\n",
    "                                      cl1,  # TT\n",
    "                                      cl2,  # TT\n",
    "                                      cl3,  # TT\n",
    "                                      cl4,  # TT\n",
    "                                      wa, wb=wb)"
   ]
  },
  {
   "cell_type": "code",
   "execution_count": 6,
   "metadata": {},
   "outputs": [],
   "source": [
    "cosmo = ccl.Cosmology(Omega_c=0.27, Omega_b=0.049, h=0.67, sigma8=0.81, n_s=0.96)\n",
    "b_ngc = 2.37*np.ones(200) \n",
    "b_sgc = 2.32 *np.ones(200) \n",
    "\n",
    "NGC_nz_1 = NGC_1_maps.get_nz()\n",
    "NGC_nz_2 = NGC_2_maps.get_nz()\n",
    "SGC_nz_1 = SGC_1_maps.get_nz()\n",
    "SGC_nz_2 = SGC_2_maps.get_nz()\n",
    "\n",
    "NGC_z_1 = NGC_nz_1[1]\n",
    "NGC_dNdz_1 = NGC_nz_1[0]\n",
    "\n",
    "NGC_z_2 = NGC_nz_2[1]\n",
    "NGC_dNdz_2 = NGC_nz_2[0]\n",
    "\n",
    "SGC_z_1 = SGC_nz_1[1]\n",
    "SGC_dNdz_1 = SGC_nz_1[0]\n",
    "\n",
    "SGC_z_2 = SGC_nz_2[1]\n",
    "SGC_dNdz_2 = SGC_nz_2[0]\n",
    "\n",
    "NGC_quasar1 = ccl.NumberCountsTracer(cosmo, has_rsd=False, dndz=(NGC_z_1,NGC_dNdz_1), bias=(NGC_z_1,b_ngc))\n",
    "NGC_quasar2 = ccl.NumberCountsTracer(cosmo, has_rsd=False, dndz=(NGC_z_2,NGC_dNdz_2), bias=(NGC_z_2,b_ngc))\n",
    "SGC_quasar1 = ccl.NumberCountsTracer(cosmo, has_rsd=False, dndz=(SGC_z_1,NGC_dNdz_1), bias=(SGC_z_1,b_sgc))\n",
    "SGC_quasar2 = ccl.NumberCountsTracer(cosmo, has_rsd=False, dndz=(SGC_z_2,NGC_dNdz_2), bias=(SGC_z_2,b_sgc))\n",
    "CMB_shear = ccl.CMBLensingTracer(cosmo, 1100)"
   ]
  },
  {
   "cell_type": "code",
   "execution_count": 7,
   "metadata": {},
   "outputs": [],
   "source": [
    "NGC_theory_11 = ccl.angular_cl(cosmo, NGC_quasar1, NGC_quasar1, ell_arr) \n",
    "NGC_theory_12 = ccl.angular_cl(cosmo, NGC_quasar1, NGC_quasar2, ell_arr) \n",
    "NGC_theory_22 = ccl.angular_cl(cosmo, NGC_quasar2, NGC_quasar2, ell_arr) \n",
    "SGC_theory_11 = ccl.angular_cl(cosmo, SGC_quasar1, SGC_quasar1, ell_arr) \n",
    "SGC_theory_12 = ccl.angular_cl(cosmo, SGC_quasar1, SGC_quasar2, ell_arr) \n",
    "SGC_theory_22 = ccl.angular_cl(cosmo, SGC_quasar2, SGC_quasar2, ell_arr) \n",
    "\n",
    "NGC_shear1 = ccl.angular_cl(cosmo, CMB_shear, NGC_quasar1, ell_arr) \n",
    "NGC_shear2 = ccl.angular_cl(cosmo, CMB_shear, NGC_quasar2, ell_arr) \n",
    "SGC_shear1 = ccl.angular_cl(cosmo, CMB_shear, SGC_quasar1, ell_arr) \n",
    "SGC_shear2 = ccl.angular_cl(cosmo, CMB_shear, SGC_quasar2, ell_arr) "
   ]
  },
  {
   "cell_type": "code",
   "execution_count": 8,
   "metadata": {},
   "outputs": [],
   "source": [
    "m1 = NGC_1_maps.get_mask()\n",
    "m2 = NGC_2_maps.get_mask()"
   ]
  },
  {
   "cell_type": "code",
   "execution_count": 9,
   "metadata": {},
   "outputs": [],
   "source": [
    "f1 = NGC_1_maps.get_nmt_field()\n",
    "f2 = NGC_2_maps.get_nmt_field()"
   ]
  },
  {
   "cell_type": "code",
   "execution_count": 10,
   "metadata": {},
   "outputs": [],
   "source": [
    "w_11 = nmt.NmtWorkspace()\n",
    "w_11.compute_coupling_matrix(f1, f1, bands)\n",
    "      \n",
    "w_12 = nmt.NmtWorkspace()\n",
    "w_12.compute_coupling_matrix(f1, f2, bands)\n",
    "\n",
    "w_22 = nmt.NmtWorkspace()\n",
    "w_22.compute_coupling_matrix(f2, f2, bands)"
   ]
  },
  {
   "cell_type": "code",
   "execution_count": 12,
   "metadata": {},
   "outputs": [],
   "source": [
    "#everything decoupled\n",
    "nl11 = NGC_1_maps.get_nl_coupled()\n",
    "nl22 = NGC_2_maps.get_nl_coupled()\n",
    "nl12 = np.zeros_like(nl11)\n",
    "nl21 = np.zeros_like(nl11)"
   ]
  },
  {
   "cell_type": "code",
   "execution_count": 13,
   "metadata": {},
   "outputs": [],
   "source": [
    "cw_1111 = get_cov_wsp(f1, f1, f1, f1)\n",
    "cw_1122 = get_cov_wsp(f1, f1, f2, f2)\n",
    "cw_2222 = get_cov_wsp(f2, f2, f2, f2)"
   ]
  },
  {
   "cell_type": "code",
   "execution_count": 14,
   "metadata": {},
   "outputs": [],
   "source": [
    "cl = nmt.compute_coupled_cell(f1, f1)/ np.mean(m1 * m1)\n",
    "cov_11 = get_cov(cl, cl, cl, cl, cw_1111, w_11, w_11)\n",
    "\n",
    "cl = nmt.compute_coupled_cell(f1, f2)/ np.mean(m1 * m2)\n",
    "cov_12 = get_cov(cl, cl, cl, cl, cw_1122, w_12, w_12)\n",
    "\n",
    "cl = nmt.compute_coupled_cell(f2, f2)/ np.mean(m2 * m2)\n",
    "cov_22 = get_cov(cl, cl, cl, cl, cw_2222, w_22, w_22)"
   ]
  },
  {
   "cell_type": "code",
   "execution_count": 15,
   "metadata": {},
   "outputs": [],
   "source": [
    "cl11 = w_11.decouple_cell(nmt.compute_coupled_cell(f1, f1))-w_11.decouple_cell(nl11)\n",
    "cl12 = w_12.decouple_cell(nmt.compute_coupled_cell(f1, f2))\n",
    "cl22 = w_22.decouple_cell(nmt.compute_coupled_cell(f2, f2))-w_11.decouple_cell(nl22)"
   ]
  },
  {
   "cell_type": "code",
   "execution_count": 16,
   "metadata": {},
   "outputs": [],
   "source": [
    "err_11 = np.sqrt(cov_11.diagonal())\n",
    "err_12 = np.sqrt(cov_12.diagonal())\n",
    "err_22 = np.sqrt(cov_22.diagonal())\n",
    "#The cov doesn't have dimensions of [3*nside, 3*nside] but of [bands, bands]\n",
    "#due to the presence of w_11 which was made of bands\n",
    "#to match the errors to the fid Cl, I have had to revaluate them a"
   ]
  },
  {
   "cell_type": "code",
   "execution_count": 17,
   "metadata": {},
   "outputs": [
    {
     "data": {
      "image/png": "[encoded data removed]",
      "text/plain": [
       "<Figure size 432x288 with 1 Axes>"
      ]
     },
     "metadata": {
      "needs_background": "light"
     },
     "output_type": "display_data"
    }
   ],
   "source": [
    "plt.errorbar(ell_arr, cl11[0], yerr=err_11, marker='s', ecolor='k', label='Empirical')#, 'r-', label='Data')\n",
    "plt.plot(ell_arr, SGC_theory_11, 'r--', label='Theory')\n",
    "\n",
    "\n",
    "plt.loglog()\n",
    "plt.xlim((ell_arr[0], ell_arr[-1]))\n",
    "plt.title('NGC 11 ')\n",
    "plt.xlabel('$\\\\ell$', fontsize=16)\n",
    "plt.ylabel('$C_\\\\ell$', fontsize=16)\n",
    "plt.legend(loc='lower left', ncol=2, labelspacing=0.1)\n",
    "plt.show()"
   ]
  },
  {
   "cell_type": "code",
   "execution_count": 18,
   "metadata": {},
   "outputs": [
    {
     "data": {
      "image/png": "[encoded data removed]",
      "text/plain": [
       "<Figure size 432x288 with 1 Axes>"
      ]
     },
     "metadata": {
      "needs_background": "light"
     },
     "output_type": "display_data"
    }
   ],
   "source": [
    "plt.errorbar(ell_arr, cl12[0], yerr=err_12, marker='s', ecolor='k', label='Empirical')#, 'r-', label='Data')\n",
    "plt.plot(ell_arr, SGC_theory_12, 'r--', label='Theory')\n",
    "\n",
    "\n",
    "plt.loglog()\n",
    "plt.xlim((ell_arr[0], ell_arr[-1]))\n",
    "plt.title('NGC 12 ')\n",
    "plt.xlabel('$\\\\ell$', fontsize=16)\n",
    "plt.ylabel('$C_\\\\ell$', fontsize=16)\n",
    "plt.legend(loc='lower left', ncol=2, labelspacing=0.1)\n",
    "plt.show()"
   ]
  },
  {
   "cell_type": "code",
   "execution_count": 19,
   "metadata": {},
   "outputs": [
    {
     "data": {
      "image/png": "[encoded data removed]",
      "text/plain": [
       "<Figure size 432x288 with 1 Axes>"
      ]
     },
     "metadata": {
      "needs_background": "light"
     },
     "output_type": "display_data"
    }
   ],
   "source": [
    "plt.errorbar(ell_arr, cl22[0], yerr=err_22, marker='s', ecolor='k', label='Empirical')#, 'r-', label='Data')\n",
    "plt.plot(ell_arr, SGC_theory_22, 'r--', label='Theory')\n",
    "\n",
    "\n",
    "plt.loglog()\n",
    "plt.xlim((ell_arr[0], ell_arr[-1]))\n",
    "plt.title('NGC 22')\n",
    "plt.xlabel('$\\\\ell$', fontsize=16)\n",
    "plt.ylabel('$C_\\\\ell$', fontsize=16)\n",
    "plt.legend(loc='lower left', ncol=2, labelspacing=0.1)\n",
    "plt.show()"
   ]
  },
  {
   "cell_type": "code",
   "execution_count": 20,
   "metadata": {},
   "outputs": [],
   "source": [
    "CMBK_config = {'file_klm':'/home/zcapjru/PhD/Data/COM_Lensing_2048_R2.00/dat_klm.fits', \n",
    "          'file_mask':'/home/zcapjru/PhD/Data/COM_Lensing_2048_R2.00/mask.fits.gz',\n",
    "               'file_noise':'/home/zcapjru/PhD/Data/COM_Lensing_2048_R2.00/nlkk.dat', 'mask_name': 3,\n",
    "          'nside':nside}"
   ]
  },
  {
   "cell_type": "code",
   "execution_count": 21,
   "metadata": {},
   "outputs": [
    {
     "name": "stderr",
     "output_type": "stream",
     "text": [
      "/home/zcapjru/anaconda3/envs/PhD/lib/python3.8/site-packages/healpy/fitsfunc.py:368: UserWarning: If you are not specifying the input dtype and using the default np.float64 dtype of read_map(), please consider that it will change in a future version to None as to keep the same dtype of the input file: please explicitly set the dtype if it is important to you.\n",
      "  warnings.warn(\n",
      "/home/zcapjru/anaconda3/envs/PhD/lib/python3.8/site-packages/healpy/fitsfunc.py:391: UserWarning: NSIDE = 2048\n",
      "  warnings.warn(\"NSIDE = {0:d}\".format(nside))\n",
      "/home/zcapjru/anaconda3/envs/PhD/lib/python3.8/site-packages/healpy/fitsfunc.py:400: UserWarning: ORDERING = RING in fits file\n",
      "  warnings.warn(\"ORDERING = {0:s} in fits file\".format(ordering))\n",
      "/home/zcapjru/anaconda3/envs/PhD/lib/python3.8/site-packages/healpy/fitsfunc.py:428: UserWarning: INDXSCHM = IMPLICIT\n",
      "  warnings.warn(\"INDXSCHM = {0:s}\".format(schm))\n",
      "/home/zcapjru/anaconda3/envs/PhD/lib/python3.8/site-packages/healpy/sphtfunc.py:822: UserWarning: Sigma is 0.000000 arcmin (0.000000 rad) \n",
      "  warnings.warn(\n",
      "/home/zcapjru/anaconda3/envs/PhD/lib/python3.8/site-packages/healpy/sphtfunc.py:827: UserWarning: -> fwhm is 0.000000 arcmin\n",
      "  warnings.warn(\n"
     ]
    }
   ],
   "source": [
    "CMBK_maps = mapper_CMBK.MapperCMBK(CMBK_config)\n",
    "mk = CMBK_maps.get_mask()\n",
    "signalk = CMBK_maps.get_signal_map()"
   ]
  },
  {
   "cell_type": "code",
   "execution_count": 22,
   "metadata": {},
   "outputs": [],
   "source": [
    "fk = CMBK_maps.get_nmt_field()\n",
    "f1 = NGC_1_maps.get_nmt_field()\n",
    "f2 = NGC_2_maps.get_nmt_field()"
   ]
  },
  {
   "cell_type": "code",
   "execution_count": 23,
   "metadata": {},
   "outputs": [],
   "source": [
    "w_k1 = nmt.NmtWorkspace()\n",
    "w_k1.compute_coupling_matrix(f1, fk, bands)\n",
    "\n",
    "w_k2 = nmt.NmtWorkspace()\n",
    "w_k2.compute_coupling_matrix(f2, fk, bands)"
   ]
  },
  {
   "cell_type": "code",
   "execution_count": 24,
   "metadata": {},
   "outputs": [],
   "source": [
    "cw_11kk = get_cov_wsp(f1, f1, fk, fk)\n",
    "cw_22kk = get_cov_wsp(f2, f2, fk, fk)"
   ]
  },
  {
   "cell_type": "code",
   "execution_count": 25,
   "metadata": {},
   "outputs": [],
   "source": [
    "cl = nmt.compute_coupled_cell(f1, fk)/ np.mean(m1 * mk)\n",
    "cov_1k = get_cov(cl, cl, cl, cl, cw_11kk, w_k1, w_k1)\n",
    "\n",
    "cl = nmt.compute_coupled_cell(f2, fk)/ np.mean(m2 * mk)\n",
    "cov_2k = get_cov(cl, cl, cl, cl, cw_22kk, w_k2, w_k2)"
   ]
  },
  {
   "cell_type": "code",
   "execution_count": 26,
   "metadata": {},
   "outputs": [],
   "source": [
    "cl1k = w_k1.decouple_cell(nmt.compute_coupled_cell(f1, fk))\n",
    "cl2k = w_k2.decouple_cell(nmt.compute_coupled_cell(f2, fk))"
   ]
  },
  {
   "cell_type": "code",
   "execution_count": 27,
   "metadata": {},
   "outputs": [],
   "source": [
    "err_1k = np.sqrt(cov_1k.diagonal())\n",
    "err_2k = np.sqrt(cov_2k.diagonal())"
   ]
  },
  {
   "cell_type": "code",
   "execution_count": 28,
   "metadata": {},
   "outputs": [
    {
     "name": "stdout",
     "output_type": "stream",
     "text": [
      "[1.33511736e-07 4.47045518e-08 3.62702422e-08 1.63133459e-08\n",
      " 2.08612292e-08 1.55959760e-08 1.00715147e-08 7.10735196e-09\n",
      " 9.29697281e-09 4.26947679e-09 5.73141791e-09 3.46955535e-09\n",
      " 2.27198592e-09 2.68904813e-09 1.78549065e-09 1.53259987e-09\n",
      " 1.86996043e-09 1.84992895e-09 1.45202131e-09 9.75669444e-10\n",
      " 1.03670263e-09 1.01692338e-09 1.37713055e-09 7.25274492e-10\n",
      " 8.56395021e-10 7.35261892e-10 6.52465586e-10 5.95411268e-10\n",
      " 3.37925593e-11 2.11522368e-11 1.58272818e-11 1.01463622e-11\n",
      " 1.79424959e-11]\n"
     ]
    }
   ],
   "source": [
    "print(err_1k)"
   ]
  },
  {
   "cell_type": "code",
   "execution_count": 29,
   "metadata": {},
   "outputs": [
    {
     "data": {
      "image/png": "[encoded data removed]",
      "text/plain": [
       "<Figure size 432x288 with 1 Axes>"
      ]
     },
     "metadata": {
      "needs_background": "light"
     },
     "output_type": "display_data"
    }
   ],
   "source": [
    "plt.errorbar(ell_arr, cl1k[0], yerr=err_1k, marker='s', ecolor='k', label='Empirical')\n",
    "plt.plot(ell_arr, SGC_shear1, 'r--', label='Theory')\n",
    "\n",
    "\n",
    "plt.loglog()\n",
    "plt.xlim((ell_arr[0], ell_arr[-1]))\n",
    "plt.title('NGC_1-Shear')\n",
    "plt.xlabel('$\\\\ell$', fontsize=16)\n",
    "plt.ylabel('$C_\\\\ell$', fontsize=16)\n",
    "plt.legend(loc='lower left', ncol=2, labelspacing=0.1)\n",
    "plt.show()"
   ]
  },
  {
   "cell_type": "code",
   "execution_count": 30,
   "metadata": {},
   "outputs": [
    {
     "data": {
      "image/png": "[encoded data removed]",
      "text/plain": [
       "<Figure size 432x288 with 1 Axes>"
      ]
     },
     "metadata": {
      "needs_background": "light"
     },
     "output_type": "display_data"
    }
   ],
   "source": [
    "plt.errorbar(ell_arr, cl2k[0], yerr=err_2k, marker='s', ecolor='k', label='Empirical')\n",
    "plt.plot(ell_arr, SGC_shear2, 'r--', label='Theory')\n",
    "\n",
    "\n",
    "plt.loglog()\n",
    "plt.xlim((ell_arr[0], ell_arr[-1]))\n",
    "plt.title('NGC_2-Shear')\n",
    "plt.xlabel('$\\\\ell$', fontsize=16)\n",
    "plt.ylabel('$C_\\\\ell$', fontsize=16)\n",
    "plt.legend(loc='lower left', ncol=2, labelspacing=0.1)\n",
    "plt.show()"
   ]
  },
  {
   "cell_type": "code",
   "execution_count": 31,
   "metadata": {},
   "outputs": [
    {
     "data": {
      "text/plain": [
       "array([False, False, False, False, False, False, False, False, False,\n",
       "       False, False, False, False, False, False, False, False, False,\n",
       "       False, False, False, False, False, False, False, False, False,\n",
       "       False, False, False, False, False, False])"
      ]
     },
     "execution_count": 31,
     "metadata": {},
     "output_type": "execute_result"
    }
   ],
   "source": [
    "cl2k[0] == cl1k[0]"
   ]
  },
  {
   "cell_type": "code",
   "execution_count": 32,
   "metadata": {},
   "outputs": [
    {
     "data": {
      "text/plain": [
       "array([False, False, False, False, False, False, False, False, False,\n",
       "       False, False, False, False, False, False, False, False, False,\n",
       "       False, False, False, False, False, False, False, False, False,\n",
       "       False, False, False, False, False, False])"
      ]
     },
     "execution_count": 32,
     "metadata": {},
     "output_type": "execute_result"
    }
   ],
   "source": [
    "err_2k == err_1k"
   ]
  },
  {
   "cell_type": "code",
   "execution_count": null,
   "metadata": {},
   "outputs": [],
   "source": []
  }
 ],
 "metadata": {
  "kernelspec": {
   "display_name": "Python 3",
   "language": "python",
   "name": "python3"
  },
  "language_info": {
   "codemirror_mode": {
    "name": "ipython",
    "version": 3
   },
   "file_extension": ".py",
   "mimetype": "text/x-python",
   "name": "python",
   "nbconvert_exporter": "python",
   "pygments_lexer": "ipython3",
   "version": "3.8.5"
  }
 },
 "nbformat": 4,
 "nbformat_minor": 4
}
