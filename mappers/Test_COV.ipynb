{
 "cells": [
  {
   "cell_type": "code",
   "execution_count": 1,
   "metadata": {},
   "outputs": [],
   "source": [
    "from mapper_base import MapperBase\n",
    "from astropy.io import fits\n",
    "from astropy.table import Table\n",
    "\n",
    "import mapper_eBOSS_QSO\n",
    "import mapper_CMBK\n",
    "import pyccl as ccl\n",
    "import numpy as np\n",
    "import pylab as plt\n",
    "import pymaster as nmt\n",
    "import healpy as hp"
   ]
  },
  {
   "cell_type": "code",
   "execution_count": 2,
   "metadata": {},
   "outputs": [],
   "source": [
    "# Initialize binning scheme with 20 ells per bandpower\n",
    "nside = 2048\n",
    "nside_mask = 2048\n",
    "\n",
    "ells = []\n",
    "i = 11.5\n",
    "while i <= 3 * nside:\n",
    "    ells.append(round(i))\n",
    "    #i = i*(1+i/(3 * nside))\n",
    "    i = i+20*(1+i/240)\n",
    "    \n",
    "if ells[-1] <  3 * nside -1:   \n",
    "    ells.append(3 * nside -1)\n",
    "\n",
    "bands = nmt.NmtBin.from_edges(ells[:-1], ells[1:])\n",
    "ell_arr = bands.get_effective_ells()"
   ]
  },
  {
   "cell_type": "code",
   "execution_count": 3,
   "metadata": {},
   "outputs": [],
   "source": [
    "NGC_1_config = {'data_catalogs':['/home/zcapjru/PhD/Data/eBOSS_QSO/eBOSS_QSO_clustering_data-NGC-vDR16.fits'], \n",
    "          'random_catalogs':['/home/zcapjru/PhD/Data/eBOSS_QSO/eBOSS_QSO_clustering_random-NGC-vDR16.fits'],\n",
    "          'z_edges':[0, 1.5],\n",
    "          'nside':nside, 'nside_mask': nside_mask, 'mask_name': 'mask_QSO_NGC_1' }\n",
    "\n",
    "NGC_2_config = {'data_catalogs':['/home/zcapjru/PhD/Data/eBOSS_QSO/eBOSS_QSO_clustering_data-NGC-vDR16.fits'], \n",
    "          'random_catalogs':['/home/zcapjru/PhD/Data/eBOSS_QSO/eBOSS_QSO_clustering_random-NGC-vDR16.fits'],\n",
    "          'z_edges':[1.5, 3],\n",
    "          'nside':nside, 'nside_mask': nside_mask, 'mask_name': 'mask_QSO_NGC_2'  }\n",
    "\n",
    "SGC_1_config = {'data_catalogs':['/home/zcapjru/PhD/Data/eBOSS_QSO/eBOSS_QSO_clustering_data-SGC-vDR16.fits'], \n",
    "          'random_catalogs':['/home/zcapjru/PhD/Data/eBOSS_QSO/eBOSS_QSO_clustering_random-SGC-vDR16.fits'],\n",
    "          'z_edges':[0.01, 1.5],\n",
    "          'nside':nside, 'nside_mask': nside_mask, 'mask_name': 'mask_QSO_SGC_1' }\n",
    "\n",
    "SGC_2_config = {'data_catalogs':['/home/zcapjru/PhD/Data/eBOSS_QSO/eBOSS_QSO_clustering_data-SGC-vDR16.fits'], \n",
    "          'random_catalogs':['/home/zcapjru/PhD/Data/eBOSS_QSO/eBOSS_QSO_clustering_random-SGC-vDR16.fits'],\n",
    "          'z_edges':[1.5, 3],\n",
    "          'nside':nside, 'nside_mask': nside_mask, 'mask_name': 'mask_QSO_SGC_1'  }\n",
    "\n",
    "CMBK_config = {'file_klm':'/home/zcapjru/PhD/Data/COM_Lensing_2048_R2.00/dat_klm.fits', \n",
    "          'file_mask':'/home/zcapjru/PhD/Data/COM_Lensing_2048_R2.00/mask.fits.gz',\n",
    "               'file_noise':'/home/zcapjru/PhD/Data/COM_Lensing_2048_R2.00/nlkk.dat', 'mask_name': 3,\n",
    "          'nside':nside}"
   ]
  },
  {
   "cell_type": "code",
   "execution_count": 4,
   "metadata": {},
   "outputs": [
    {
     "name": "stderr",
     "output_type": "stream",
     "text": [
      "/home/zcapjru/anaconda3/envs/PhD/lib/python3.8/site-packages/healpy/fitsfunc.py:368: UserWarning: If you are not specifying the input dtype and using the default np.float64 dtype of read_map(), please consider that it will change in a future version to None as to keep the same dtype of the input file: please explicitly set the dtype if it is important to you.\n",
      "  warnings.warn(\n",
      "/home/zcapjru/anaconda3/envs/PhD/lib/python3.8/site-packages/healpy/fitsfunc.py:391: UserWarning: NSIDE = 2048\n",
      "  warnings.warn(\"NSIDE = {0:d}\".format(nside))\n",
      "/home/zcapjru/anaconda3/envs/PhD/lib/python3.8/site-packages/healpy/fitsfunc.py:400: UserWarning: ORDERING = RING in fits file\n",
      "  warnings.warn(\"ORDERING = {0:s} in fits file\".format(ordering))\n",
      "/home/zcapjru/anaconda3/envs/PhD/lib/python3.8/site-packages/healpy/fitsfunc.py:428: UserWarning: INDXSCHM = IMPLICIT\n",
      "  warnings.warn(\"INDXSCHM = {0:s}\".format(schm))\n"
     ]
    }
   ],
   "source": [
    "CMBK_maps = mapper_CMBK.MapperCMBK(CMBK_config)\n",
    "\n",
    "NGC_1_maps = mapper_eBOSS_QSO.MappereBOSSQSO(NGC_1_config)\n",
    "NGC_2_maps = mapper_eBOSS_QSO.MappereBOSSQSO(NGC_2_config)\n",
    "SGC_1_maps = mapper_eBOSS_QSO.MappereBOSSQSO(SGC_1_config)\n",
    "SGC_2_maps = mapper_eBOSS_QSO.MappereBOSSQSO(SGC_2_config)"
   ]
  },
  {
   "cell_type": "code",
   "execution_count": 5,
   "metadata": {},
   "outputs": [],
   "source": [
    "cosmo = ccl.Cosmology(Omega_c=0.27, Omega_b=0.049, h=0.67, sigma8=0.81, n_s=0.96)\n",
    "\n",
    "NGC_nz_1 = NGC_1_maps.get_nz()\n",
    "NGC_nz_2 = NGC_2_maps.get_nz()\n",
    "SGC_nz_1 = SGC_1_maps.get_nz()\n",
    "SGC_nz_2 = SGC_2_maps.get_nz()\n",
    "\n",
    "NGC_z_1 = NGC_nz_1[1]\n",
    "NGC_dNdz_1 = NGC_nz_1[0]\n",
    "\n",
    "NGC_z_2 = NGC_nz_2[1]\n",
    "NGC_dNdz_2 = NGC_nz_2[0]\n",
    "\n",
    "SGC_z_1 = SGC_nz_1[1]\n",
    "SGC_dNdz_1 = SGC_nz_1[0]\n",
    "\n",
    "SGC_z_2 = SGC_nz_2[1]\n",
    "SGC_dNdz_2 = SGC_nz_2[0]"
   ]
  },
  {
   "cell_type": "code",
   "execution_count": 6,
   "metadata": {},
   "outputs": [
    {
     "data": {
      "text/plain": [
       "array([ 751.28812986,  786.26646059,  840.56736645,  889.28362551,\n",
       "        958.53602598,  920.24395928, 1005.58889601, 1007.51189896,\n",
       "        966.14919517, 1023.35820716, 1018.4920416 , 1058.81951978,\n",
       "       1065.3933006 , 1137.3902985 , 1146.59400155, 1157.24011947,\n",
       "       1211.42490385, 1188.89322446, 1217.7814823 , 1219.32594535,\n",
       "       1255.93443717, 1185.98020812, 1300.57274262, 1325.15757855,\n",
       "       1373.14343586, 1437.43396721, 1482.28085558, 1359.85144927,\n",
       "       1406.33393966, 1495.78026022, 1503.52590179, 1521.6903708 ,\n",
       "       1519.13253863, 1440.36662614, 1482.40942632, 1622.20665661,\n",
       "       1559.41320734, 1613.27764703, 1705.56178247, 1602.15313648,\n",
       "       1636.47232631, 1550.43047866, 1590.4502384 , 1612.23239544,\n",
       "       1545.80831806, 1566.31764154, 1565.7032971 , 1591.92908195,\n",
       "       1524.29510816, 1601.11335533])"
      ]
     },
     "execution_count": 6,
     "metadata": {},
     "output_type": "execute_result"
    }
   ],
   "source": [
    "SGC_dNdz_1"
   ]
  },
  {
   "cell_type": "code",
   "execution_count": 7,
   "metadata": {},
   "outputs": [
    {
     "data": {
      "image/png": "[encoded data removed]",
      "text/plain": [
       "<Figure size 432x288 with 1 Axes>"
      ]
     },
     "metadata": {
      "needs_background": "light"
     },
     "output_type": "display_data"
    }
   ],
   "source": [
    "plt.plot(NGC_z_2, NGC_dNdz_2, 'go-', label='DNdz')\n",
    "\n",
    "plt.title('SGC 22 ')\n",
    "plt.xlabel('$\\\\ell$', fontsize=16)\n",
    "plt.ylabel('$C_\\\\ell$', fontsize=16)\n",
    "plt.legend(loc='lower left', ncol=2, labelspacing=0.1)\n",
    "plt.show()"
   ]
  },
  {
   "cell_type": "code",
   "execution_count": 8,
   "metadata": {},
   "outputs": [],
   "source": [
    "#SGC_dNdz_1[74] = 305.5648125027277 #Super weird, it doesn't like 312 for some reason "
   ]
  },
  {
   "cell_type": "code",
   "execution_count": 9,
   "metadata": {},
   "outputs": [],
   "source": [
    "def get_cov_wsp(f1, f2, f3 = None, f4 = None):\n",
    "    cw = nmt.NmtCovarianceWorkspace()\n",
    "    cw.compute_coupling_coefficients(f1, f2, f3, f4)\n",
    "    return cw\n",
    "\n",
    "def get_cov(cl1, cl2, cl3, cl4, cw, wa, wb):\n",
    "    return  nmt.gaussian_covariance(cw,\n",
    "                                      0, 0, 0, 0,  # Spins of the 4 fields\n",
    "                                      cl1,  # TT\n",
    "                                      cl2,  # TT\n",
    "                                      cl3,  # TT\n",
    "                                      cl4,  # TT\n",
    "                                      wa, wb=wb)"
   ]
  },
  {
   "cell_type": "code",
   "execution_count": null,
   "metadata": {},
   "outputs": [],
   "source": [
    "m1 = SGC_1_maps.get_mask()\n",
    "m2 = SGC_2_maps.get_mask()\n",
    "\n",
    "f1 = SGC_1_maps.get_nmt_field()\n",
    "f2 = SGC_2_maps.get_nmt_field()\n",
    "\n",
    "w_11 = nmt.NmtWorkspace()\n",
    "w_11.compute_coupling_matrix(f1, f1, bands)\n",
    "      \n",
    "w_12 = nmt.NmtWorkspace()\n",
    "w_12.compute_coupling_matrix(f1, f2, bands)\n",
    "\n",
    "w_22 = nmt.NmtWorkspace()\n",
    "w_22.compute_coupling_matrix(f2, f2, bands)\n",
    "\n",
    "#everything decoupled\n",
    "nl11 = SGC_1_maps.get_nl_coupled()\n",
    "nl22 = SGC_2_maps.get_nl_coupled()\n",
    "nl12 = np.zeros_like(nl11)\n",
    "nl21 = np.zeros_like(nl11)\n",
    "\n",
    "cw_1111 = get_cov_wsp(f1, f1)\n",
    "cw_1212 = get_cov_wsp(f1, f2)\n",
    "cw_2222 = get_cov_wsp(f2, f2)\n",
    "\n",
    "cl = nmt.compute_coupled_cell(f1, f1)/ np.mean(m1 * m1)\n",
    "cov_1111 = get_cov(cl, cl, cl, cl, cw_1111, w_11, w_11)\n",
    "\n",
    "cl11 = nmt.compute_coupled_cell(f1, f1)/ np.mean(m1 * m1)\n",
    "cl12 = nmt.compute_coupled_cell(f1, f2)/ np.mean(m1 * m2)\n",
    "cl21 = nmt.compute_coupled_cell(f2, f1)/ np.mean(m2 * m1)\n",
    "cl22 = nmt.compute_coupled_cell(f2, f2)/ np.mean(m2 * m2)\n",
    "cov_1212 = get_cov(cl11, cl12, cl21, cl22, cw_1212, w_11, w_22)\n",
    "\n",
    "cl = nmt.compute_coupled_cell(f2, f2)/ np.mean(m2 * m2)\n",
    "cov_2222 = get_cov(cl, cl, cl, cl, cw_2222, w_22, w_22)\n",
    "\n",
    "err_11 = np.sqrt(cov_1111.diagonal())\n",
    "err_12 = np.sqrt(cov_1212.diagonal())\n",
    "err_22 = np.sqrt(cov_2222.diagonal())"
   ]
  },
  {
   "cell_type": "code",
   "execution_count": null,
   "metadata": {},
   "outputs": [],
   "source": [
    "mk = CMBK_maps.get_mask()\n",
    "fk = CMBK_maps.get_nmt_field()\n",
    "\n",
    "w_k1 = nmt.NmtWorkspace()\n",
    "w_k1.compute_coupling_matrix(f1, fk, bands)\n",
    "\n",
    "w_k2 = nmt.NmtWorkspace()\n",
    "w_k2.compute_coupling_matrix(f2, fk, bands)\n",
    "\n",
    "w_kk = nmt.NmtWorkspace()\n",
    "w_kk.compute_coupling_matrix(fk, fk, bands)\n",
    "\n",
    "w_k1 = nmt.NmtWorkspace()\n",
    "w_k1.compute_coupling_matrix(f1, fk, bands)\n",
    "\n",
    "w_k2 = nmt.NmtWorkspace()\n",
    "w_k2.compute_coupling_matrix(f2, fk, bands)\n",
    "\n",
    "w_kk = nmt.NmtWorkspace()\n",
    "w_kk.compute_coupling_matrix(fk, fk, bands)\n",
    "\n",
    "cw_1k1k = get_cov_wsp(f1, fk)\n",
    "cw_111k = get_cov_wsp(f1, f1, f1, fk)\n",
    "cw_222k = get_cov_wsp(f2, f2, f2, fk)\n",
    "cw_2k2k = get_cov_wsp(f2, fk)\n",
    "\n",
    "cl11 = nmt.compute_coupled_cell(f1, f1)/ np.mean(m1 * m1)\n",
    "cl1k = nmt.compute_coupled_cell(f1, fk)/ np.mean(m1 * mk)\n",
    "clk1 = nmt.compute_coupled_cell(fk, f1)/ np.mean(mk * m1)\n",
    "clkk = nmt.compute_coupled_cell(fk, fk)/ np.mean(mk * mk)\n",
    "cov_1k1k = get_cov(cl11, cl1k, clk1, clkk, cw_1k1k, w_11, w_kk)\n",
    "\n",
    "cl11 = nmt.compute_coupled_cell(f1, f1)/ np.mean(m1 * m1)\n",
    "cl1k = nmt.compute_coupled_cell(f1, fk)/ np.mean(m1 * mk)\n",
    "cov_111k = get_cov(cl11, cl1k, cl11, cl1k, cw_111k, w_11, w_k1)\n",
    "\n",
    "cl22 = nmt.compute_coupled_cell(f2, f2)/ np.mean(m2 * m2)\n",
    "cl2k = nmt.compute_coupled_cell(f2, fk)/ np.mean(m2 * mk)\n",
    "cov_222k = get_cov(cl22, cl2k, cl22, cl2k, cw_222k, w_22, w_k2)\n",
    "\n",
    "cl22 = nmt.compute_coupled_cell(f2, f2)/ np.mean(m2 * m2)\n",
    "cl2k = nmt.compute_coupled_cell(f2, fk)/ np.mean(m2 * mk)\n",
    "clk2 = nmt.compute_coupled_cell(fk, f2)/ np.mean(mk * m2)\n",
    "clkk = nmt.compute_coupled_cell(fk, fk)/ np.mean(mk * mk)\n",
    "cov_2k2k = get_cov(cl22, cl2k, clk2, clkk, cw_2k2k, w_22, w_kk)\n",
    "\n",
    "err_1k = np.sqrt(cov_1k1k.diagonal())\n",
    "err_2k = np.sqrt(cov_2k2k.diagonal())"
   ]
  },
  {
   "cell_type": "code",
   "execution_count": null,
   "metadata": {},
   "outputs": [],
   "source": [
    "cl11 = w_11.decouple_cell(nmt.compute_coupled_cell(f1, f1)) - w_11.decouple_cell(nl11)\n",
    "cl1k = w_k1.decouple_cell(nmt.compute_coupled_cell(f1, fk)) \n",
    "data_1 = np.zeros(2*len(cl11[0]))\n",
    "data_1[:len(cl11[0])] =  cl11[0]\n",
    "data_1[len(cl11[0]):] =  cl1k[0]\n",
    "\n",
    "cl22 = w_22.decouple_cell(nmt.compute_coupled_cell(f2, f2)) - w_22.decouple_cell(nl11)\n",
    "cl2k = w_k2.decouple_cell(nmt.compute_coupled_cell(f2, fk))\n",
    "data_2 = np.zeros(2*len(cl22[0]))\n",
    "data_2[:len(cl22[0])] =  cl22[0]\n",
    "data_2[len(cl22[0]):] =  cl2k[0]"
   ]
  },
  {
   "cell_type": "code",
   "execution_count": null,
   "metadata": {},
   "outputs": [],
   "source": [
    "def build_comp_cov(cov_aaaa, cov_aaab, cov_aabb):\n",
    "    cov_abaa = np.transpose(cov_aaab)\n",
    "    dim = len(cov_aaaa)\n",
    "    comp_cov = np.zeros([2*dim, 2*dim])\n",
    "    comp_cov[:dim,:dim] = cov_aaaa\n",
    "    comp_cov[:dim,dim:] = cov_aaab\n",
    "    comp_cov[dim:,:dim] = cov_abaa\n",
    "    comp_cov[dim:,dim:] = cov_aabb\n",
    "    return comp_cov"
   ]
  },
  {
   "cell_type": "code",
   "execution_count": null,
   "metadata": {},
   "outputs": [],
   "source": [
    "comp_cov_1 = build_comp_cov(cov_1111, cov_111k, cov_1k1k)\n",
    "comp_cov_2 = build_comp_cov(cov_2222, cov_222k, cov_2k2k)"
   ]
  },
  {
   "cell_type": "code",
   "execution_count": null,
   "metadata": {},
   "outputs": [],
   "source": [
    "def theory(z, dNdz, b):\n",
    "    b = b*np.ones(len(z))\n",
    "    quasar = ccl.NumberCountsTracer(cosmo, has_rsd=False, dndz=(z, dNdz), bias=(z,b))\n",
    "    CMB_shear = ccl.CMBLensingTracer(cosmo, 1100)\n",
    "    clgg = ccl.angular_cl(cosmo, quasar, quasar, ell_arr) \n",
    "    clgs = ccl.angular_cl(cosmo, quasar, CMB_shear, ell_arr) \n",
    "    theory = np.zeros(2*len(clgg))\n",
    "    theory[:len(clgg)] = clgg\n",
    "    theory[len(clgg):] = clgs\n",
    "    return theory\n",
    "\n",
    "def gof(b):\n",
    "    cov = comp_cov_1\n",
    "    d = data_1\n",
    "    inv_cov = np.linalg.inv(cov)\n",
    "    t = theory(SGC_z_2, SGC_dNdz_2, b)\n",
    "    return np.transpose(d-t)@inv_cov@(d-t)"
   ]
  },
  {
   "cell_type": "code",
   "execution_count": null,
   "metadata": {},
   "outputs": [],
   "source": [
    "b_arr = np.linspace(0, 5, 100)\n",
    "\n",
    "x2 = []\n",
    "for item in b_arr:\n",
    "    x2.append(gof(item))\n",
    "x2 = np.array(x2)\n",
    "\n",
    "pb = np.exp(-0.5*x2)\n",
    "pb = pb/sum(pb)\n",
    "best_b = b_arr[np.argmin(x2)]\n",
    "best_x2 = min(x2)\n",
    "mean_b = (sum(b_arr*pb))/(sum(pb))\n",
    "sigma_b = np.sqrt((sum(np.abs(b_arr-mean_b)*pb))/(sum(pb)))\n",
    "print(best_x2, best_b, mean_b, sigma_b)"
   ]
  },
  {
   "cell_type": "code",
   "execution_count": null,
   "metadata": {},
   "outputs": [],
   "source": [
    "b_ngc = best_b*np.ones(len(NGC_z_1))\n",
    "b_sgc = best_b*np.ones(len(SGC_z_1))\n",
    "\n",
    "NGC_quasar1 = ccl.NumberCountsTracer(cosmo, has_rsd=False, dndz=(NGC_z_1,NGC_dNdz_1), bias=(NGC_z_1,b_ngc))\n",
    "NGC_quasar2 = ccl.NumberCountsTracer(cosmo, has_rsd=False, dndz=(NGC_z_2,NGC_dNdz_2), bias=(NGC_z_2,b_ngc))\n",
    "SGC_quasar1 = ccl.NumberCountsTracer(cosmo, has_rsd=False, dndz=(SGC_z_1,SGC_dNdz_1), bias=(SGC_z_1,b_sgc))\n",
    "SGC_quasar2 = ccl.NumberCountsTracer(cosmo, has_rsd=False, dndz=(SGC_z_2,SGC_dNdz_2), bias=(SGC_z_2,b_sgc))\n",
    "CMB_shear = ccl.CMBLensingTracer(cosmo, 1100)\n",
    "\n",
    "NGC_theory_11 = ccl.angular_cl(cosmo, NGC_quasar1, NGC_quasar1, ell_arr) \n",
    "NGC_theory_12 = ccl.angular_cl(cosmo, NGC_quasar1, NGC_quasar2, ell_arr) \n",
    "NGC_theory_22 = ccl.angular_cl(cosmo, NGC_quasar2, NGC_quasar2, ell_arr) \n",
    "SGC_theory_11 = ccl.angular_cl(cosmo, SGC_quasar1, SGC_quasar1, ell_arr) \n",
    "SGC_theory_12 = ccl.angular_cl(cosmo, SGC_quasar1, SGC_quasar2, ell_arr) \n",
    "SGC_theory_22 = ccl.angular_cl(cosmo, SGC_quasar2, SGC_quasar2, ell_arr) \n",
    "\n",
    "NGC_shear1 = ccl.angular_cl(cosmo, CMB_shear, NGC_quasar1, ell_arr) \n",
    "NGC_shear2 = ccl.angular_cl(cosmo, CMB_shear, NGC_quasar2, ell_arr) \n",
    "SGC_shear1 = ccl.angular_cl(cosmo, CMB_shear, SGC_quasar1, ell_arr) \n",
    "SGC_shear2 = ccl.angular_cl(cosmo, CMB_shear, SGC_quasar2, ell_arr) "
   ]
  },
  {
   "cell_type": "code",
   "execution_count": null,
   "metadata": {},
   "outputs": [],
   "source": [
    "plt.errorbar(ell_arr, cl22[0], yerr=err_22, marker='s', ecolor='k', label='Empirical')\n",
    "plt.plot(ell_arr, w_22.decouple_cell(nl22)[0], 'go-', label='Noise')\n",
    "plt.plot(ell_arr, SGC_theory_22, 'r--', label='Best theory')\n",
    "\n",
    "\n",
    "plt.loglog()\n",
    "plt.xlim((ell_arr[0], ell_arr[-1]))\n",
    "plt.title('SGC 22 ')\n",
    "plt.xlabel('$\\\\ell$', fontsize=16)\n",
    "plt.ylabel('$C_\\\\ell$', fontsize=16)\n",
    "plt.legend(loc='lower left', ncol=2, labelspacing=0.1)\n",
    "plt.show()"
   ]
  },
  {
   "cell_type": "code",
   "execution_count": null,
   "metadata": {},
   "outputs": [],
   "source": [
    "plt.plot(ell_arr, (SGC_theory_22-cl22[0])/err_22, 'ro-', label=r'$\\frac{d-t}{\\sigma}$')\n",
    "\n",
    "\n",
    "#plt.loglog()\n",
    "plt.xlim((ell_arr[0], ell_arr[-1]))\n",
    "plt.title('Residuals SGC 22 ')\n",
    "plt.xlabel('$\\\\ell$', fontsize=16)\n",
    "plt.ylabel('$C_\\\\ell$', fontsize=16)\n",
    "plt.legend(loc='lower left', ncol=2, labelspacing=0.1)\n",
    "plt.show()"
   ]
  },
  {
   "cell_type": "code",
   "execution_count": null,
   "metadata": {},
   "outputs": [],
   "source": [
    "plt.errorbar(ell_arr, cl2k[0], yerr=err_2k, marker='s', ecolor='k', label='Empirical')\n",
    "plt.plot(ell_arr, SGC_shear2, 'r--', label='Best theory')\n",
    "\n",
    "\n",
    "plt.loglog()\n",
    "plt.xlim((ell_arr[0], ell_arr[-1]))\n",
    "plt.title('SGC_2-Shear')\n",
    "plt.xlabel('$\\\\ell$', fontsize=16)\n",
    "plt.ylabel('$C_\\\\ell$', fontsize=16)\n",
    "plt.legend(loc='lower left', ncol=2, labelspacing=0.1)\n",
    "plt.show()"
   ]
  },
  {
   "cell_type": "code",
   "execution_count": null,
   "metadata": {},
   "outputs": [],
   "source": [
    "plt.plot(ell_arr, (SGC_shear2-cl2k[0])/err_2k, 'ro-', label=r'$\\frac{d-t}{\\sigma}$')\n",
    "\n",
    "\n",
    "#plt.loglog()\n",
    "plt.xlim((ell_arr[0], ell_arr[-1]))\n",
    "plt.title('Residuals SGC 2k ')\n",
    "plt.xlabel('$\\\\ell$', fontsize=16)\n",
    "plt.ylabel('$C_\\\\ell$', fontsize=16)\n",
    "plt.legend(loc='lower left', ncol=2, labelspacing=0.1)\n",
    "plt.show()"
   ]
  },
  {
   "cell_type": "code",
   "execution_count": null,
   "metadata": {},
   "outputs": [],
   "source": [
    "plt.plot(b_arr, pb, 'r-', label='P(b)')\n",
    "plt.text(0, 0.09, 'best b ='+'{}'.format(best_b))\n",
    "plt.text(0, 0.07, r'$\\bar{b}$ ='+'{}'.format(mean_b))\n",
    "plt.text(0, 0.05, r'$\\sigma b$ ='+'{}'.format(sigma_b))\n",
    "plt.text(0, 0.03, r'$\\chi^2$ ='+'{}'.format(best_x2))\n",
    "plt.title('SGC_2+Shear')\n",
    "plt.xlabel('$b$', fontsize=16)\n",
    "plt.ylabel('$P(b)$', fontsize=16)\n",
    "plt.legend(loc='lower left', ncol=2, labelspacing=0.1)\n",
    "plt.show()"
   ]
  },
  {
   "cell_type": "code",
   "execution_count": null,
   "metadata": {},
   "outputs": [],
   "source": []
  }
 ],
 "metadata": {
  "kernelspec": {
   "display_name": "Python 3",
   "language": "python",
   "name": "python3"
  },
  "language_info": {
   "codemirror_mode": {
    "name": "ipython",
    "version": 3
   },
   "file_extension": ".py",
   "mimetype": "text/x-python",
   "name": "python",
   "nbconvert_exporter": "python",
   "pygments_lexer": "ipython3",
   "version": "3.8.5"
  }
 },
 "nbformat": 4,
 "nbformat_minor": 4
}
