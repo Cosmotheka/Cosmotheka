{
 "cells": [
  {
   "cell_type": "code",
   "execution_count": 1,
   "metadata": {},
   "outputs": [
    {
     "name": "stdout",
     "output_type": "stream",
     "text": [
      "The history saving thread hit an unexpected error (DatabaseError('database disk image is malformed')).History will not be written to the database.\n"
     ]
    }
   ],
   "source": [
    "from mapper_base import MapperBase\n",
    "from astropy.io import fits\n",
    "from astropy.table import Table\n",
    "\n",
    "import mapper_KV450\n",
    "import pyccl as ccl\n",
    "import numpy as np\n",
    "import pylab as plt\n",
    "import pymaster as nmt\n",
    "import healpy as hp\n",
    "import os"
   ]
  },
  {
   "cell_type": "code",
   "execution_count": 2,
   "metadata": {},
   "outputs": [],
   "source": [
    "# Initialize binning scheme with 20 ells per bandpower\n",
    "nside = 512\n",
    "ells = []\n",
    "i = 11.5\n",
    "while i <= 3 * nside:\n",
    "    ells.append(round(i))\n",
    "    #i = i*(1+i/(3 * nside))\n",
    "    i = i+20*(1+i/240)\n",
    "\n",
    "bands = nmt.NmtBin.from_edges(ells[:-1], ells[1:])\n",
    "ell_arr = bands.get_effective_ells()"
   ]
  },
  {
   "cell_type": "code",
   "execution_count": 3,
   "metadata": {},
   "outputs": [
    {
     "data": {
      "text/plain": [
       "['/home/zcapjru/PhD/Data/KV450/KV450_G12_reweight_3x4x4_v2_good.cat',\n",
       " '/home/zcapjru/PhD/Data/KV450/KV450_G23_reweight_3x4x4_v2_good.cat',\n",
       " '/home/zcapjru/PhD/Data/KV450/KV450_GS_reweight_3x4x4_v2_good.cat',\n",
       " '/home/zcapjru/PhD/Data/KV450/KV450_G15_reweight_3x4x4_v2_good.cat',\n",
       " '/home/zcapjru/PhD/Data/KV450/KV450_G9_reweight_3x4x4_v2_good.cat']"
      ]
     },
     "execution_count": 3,
     "metadata": {},
     "output_type": "execute_result"
    }
   ],
   "source": [
    "path = '/home/zcapjru/PhD/Data/KV450/'\n",
    "\n",
    "cats = [path+'KV450_G12_reweight_3x4x4_v2_good.cat', \n",
    "        path+'KV450_G23_reweight_3x4x4_v2_good.cat',\n",
    "        path+'KV450_GS_reweight_3x4x4_v2_good.cat',\n",
    "        path+'KV450_G15_reweight_3x4x4_v2_good.cat',\n",
    "        path+'KV450_G9_reweight_3x4x4_v2_good.cat'\n",
    "       ]\n",
    "cats"
   ]
  },
  {
   "cell_type": "code",
   "execution_count": 4,
   "metadata": {},
   "outputs": [],
   "source": [
    "KV_1_config = {'data_catalogs': cats , \n",
    "                'file_nz':path + 'REDSHIFT_DISTRIBUTIONS/Nz_DIR/Nz_DIR_Mean/Nz_DIR_z0.1t0.3.asc',\n",
    "          'zbin':1,\n",
    "          'nside':nside, \n",
    "          'mask_name': 'mask_KV450_1'}\n",
    "\n",
    "KV_2_config = {'data_catalogs': cats ,               \n",
    "                'file_nz':path + 'REDSHIFT_DISTRIBUTIONS/Nz_DIR/Nz_DIR_Mean/Nz_DIR_z0.3t0.5.asc',\n",
    "          'zbin':2,\n",
    "           'mask_name': 'mask_KV450_2',\n",
    "          'nside':nside }"
   ]
  },
  {
   "cell_type": "code",
   "execution_count": 5,
   "metadata": {},
   "outputs": [
    {
     "name": "stdout",
     "output_type": "stream",
     "text": [
      "loading full cats and making lite versions\n"
     ]
    },
    {
     "name": "stderr",
     "output_type": "stream",
     "text": [
      "WARNING: hdu= was not specified but multiple tables are present, reading in first available table (hdu=1) [astropy.io.fits.connect]\n"
     ]
    }
   ],
   "source": [
    "column_names = ['SG_FLAG', 'GAAP_Flag_ugriZYJHKs',\n",
    "                             'Z_B', 'Z_B_MIN', 'Z_B_MAX',\n",
    "                             'ALPHA_J2000', 'DELTA_J2000', 'PSF_e1', 'PSF_e2',\n",
    "                             'bias_corrected_e1', 'bias_corrected_e2',\n",
    "                             'weight']\n",
    "        \n",
    "zbin_edges = {\n",
    "        '1':[0.1, 1.2],\n",
    "        '2':[0.3, 0.5],\n",
    "        '3':[0.5, 0.7],\n",
    "        '4':[0.7, 0.9],\n",
    "        '5':[0.9, 1.2]}\n",
    "        \n",
    "cat_data = []\n",
    "print('loading full cats and making lite versions')\n",
    "for i, file_data in enumerate(cats):\n",
    "    if not os.path.isfile(file_data):\n",
    "        raise ValueError(f\"File {file_data} not found\")\n",
    "    with fits.open(file_data) as f:\n",
    "        table = Table.read(f)[column_names] #.to_pandas()[self.column_names] \n",
    "        #table.to_pickle('DES_lite_cat_{}.pkl'.format(i))\n",
    "        cat_data.append(table)"
   ]
  },
  {
   "cell_type": "code",
   "execution_count": 6,
   "metadata": {},
   "outputs": [
    {
     "name": "stdout",
     "output_type": "stream",
     "text": [
      "14221082\n",
      "14210251\n",
      "1019490 1836390 3800238 2848375 2889112\n",
      "12393605\n"
     ]
    }
   ],
   "source": [
    "from astropy.table import vstack\n",
    "cat = vstack(cat_data)\n",
    "print(len(cat))\n",
    "\n",
    "sel = cat['SG_FLAG'] == 1\n",
    "cat = cat[sel]\n",
    "print(len(cat))\n",
    "\n",
    "cat1 = cat[(cat['Z_B'] >= 0.1) &\n",
    "                   (cat['Z_B'] <0.3)]\n",
    "cat2 = cat[(cat['Z_B'] >= 0.3) &\n",
    "                   (cat['Z_B'] <0.5)]\n",
    "cat3 = cat[(cat['Z_B'] >= 0.5) &\n",
    "                   (cat['Z_B'] <0.7)]\n",
    "cat4 = cat[(cat['Z_B'] >= 0.7) &\n",
    "                   (cat['Z_B'] <0.9)]\n",
    "cat5 = cat[(cat['Z_B'] >= 0.9) &\n",
    "                   (cat['Z_B'] <1.2)]\n",
    "print(len(cat1), len(cat2), len(cat3), len(cat4), len(cat5) )\n",
    "print(len(cat1)+ len(cat2)+len(cat3)+len(cat4)+len(cat5) )\n",
    "\n"
   ]
  },
  {
   "cell_type": "code",
   "execution_count": 7,
   "metadata": {},
   "outputs": [
    {
     "data": {
      "text/plain": [
       "14210251"
      ]
     },
     "execution_count": 7,
     "metadata": {},
     "output_type": "execute_result"
    }
   ],
   "source": [
    "len(cat['ALPHA_J2000'])"
   ]
  },
  {
   "cell_type": "code",
   "execution_count": 8,
   "metadata": {
    "scrolled": true
   },
   "outputs": [
    {
     "name": "stdout",
     "output_type": "stream",
     "text": [
      "loading lite cats\n",
      "Catalogs loaded\n",
      "z edges  [0.1, 1.2]\n",
      "data concatenated\n",
      "Length of galaxies:  12393605\n",
      "Length of stars:  9319\n",
      "Data binned\n"
     ]
    },
    {
     "name": "stderr",
     "output_type": "stream",
     "text": [
      "/home/zcapjru/PhD/DEScls/mappers/mapper_KV450.py:78: SettingWithCopyWarning: \n",
      "A value is trying to be set on a copy of a slice from a DataFrame.\n",
      "Try using .loc[row_indexer,col_indexer] = value instead\n",
      "\n",
      "See the caveats in the documentation: https://pandas.pydata.org/pandas-docs/stable/user_guide/indexing.html#returning-a-view-versus-a-copy\n",
      "  self.cat_data[sel_gals]['bias_corrected_e1'] -= np.mean(self.cat_data[sel_gals]['bias_corrected_e1'])\n",
      "/home/zcapjru/PhD/DEScls/mappers/mapper_KV450.py:79: SettingWithCopyWarning: \n",
      "A value is trying to be set on a copy of a slice from a DataFrame.\n",
      "Try using .loc[row_indexer,col_indexer] = value instead\n",
      "\n",
      "See the caveats in the documentation: https://pandas.pydata.org/pandas-docs/stable/user_guide/indexing.html#returning-a-view-versus-a-copy\n",
      "  self.cat_data[sel_gals]['bias_corrected_e2'] -= np.mean(self.cat_data[sel_gals]['bias_corrected_e2'])\n"
     ]
    },
    {
     "name": "stdout",
     "output_type": "stream",
     "text": [
      "Additive biased removed\n"
     ]
    },
    {
     "name": "stderr",
     "output_type": "stream",
     "text": [
      "/home/zcapjru/PhD/DEScls/mappers/mapper_KV450.py:85: SettingWithCopyWarning: \n",
      "A value is trying to be set on a copy of a slice from a DataFrame.\n",
      "Try using .loc[row_indexer,col_indexer] = value instead\n",
      "\n",
      "See the caveats in the documentation: https://pandas.pydata.org/pandas-docs/stable/user_guide/indexing.html#returning-a-view-versus-a-copy\n",
      "  self.cat_data[sel_gals]['bias_corrected_e1'] /= 1 + m[self.zbin]\n"
     ]
    },
    {
     "name": "stdout",
     "output_type": "stream",
     "text": [
      "Multiplicative bias removed\n"
     ]
    },
    {
     "name": "stderr",
     "output_type": "stream",
     "text": [
      "/home/zcapjru/PhD/DEScls/mappers/mapper_KV450.py:86: SettingWithCopyWarning: \n",
      "A value is trying to be set on a copy of a slice from a DataFrame.\n",
      "Try using .loc[row_indexer,col_indexer] = value instead\n",
      "\n",
      "See the caveats in the documentation: https://pandas.pydata.org/pandas-docs/stable/user_guide/indexing.html#returning-a-view-versus-a-copy\n",
      "  self.cat_data[sel_gals]['bias_corrected_e2'] /= 1 + m[self.zbin]\n"
     ]
    }
   ],
   "source": [
    "KV_1_maps = mapper_KV450.MapperKV450(KV_1_config)\n",
    "#KV_2_maps = mapper_KV450.MapperKV450(KV_2_config)"
   ]
  },
  {
   "cell_type": "code",
   "execution_count": 9,
   "metadata": {},
   "outputs": [
    {
     "data": {
      "text/plain": [
       "12402924"
      ]
     },
     "execution_count": 9,
     "metadata": {},
     "output_type": "execute_result"
    }
   ],
   "source": [
    "len(KV_1_maps.cat_data) #12 402 924 as opposed to  11 926 455"
   ]
  },
  {
   "cell_type": "code",
   "execution_count": 10,
   "metadata": {},
   "outputs": [],
   "source": [
    "KV_nz_1 = KV_1_maps.dndz\n",
    "KV_z_1 = KV_nz_1[0]\n",
    "KV_dNdz_1 = KV_nz_1[1]\n",
    "\n",
    "#DES_nz_2 = DES_2_maps.get_nz()\n",
    "#DES_z_2 = DES_nz_2[0]\n",
    "#DES_dNdz_2 = DES_nz_2[1]"
   ]
  },
  {
   "cell_type": "code",
   "execution_count": 11,
   "metadata": {},
   "outputs": [
    {
     "data": {
      "image/png": "[encoded data removed]",
      "text/plain": [
       "<Figure size 432x288 with 1 Axes>"
      ]
     },
     "metadata": {
      "needs_background": "light"
     },
     "output_type": "display_data"
    }
   ],
   "source": [
    "plt.plot(KV_z_1, KV_dNdz_1, 'r-', label='Nz 1')\n",
    "#plt.plot(DES_z_1, DES_dNdz_1, 'g-', label='Nz 2')\n",
    "\n",
    "plt.xlabel('z', fontsize=16)\n",
    "plt.ylabel('Nz', fontsize=16)\n",
    "plt.legend(loc='upper left', ncol=2, labelspacing=0.1)\n",
    "plt.show()"
   ]
  },
  {
   "cell_type": "code",
   "execution_count": 12,
   "metadata": {},
   "outputs": [],
   "source": [
    "cosmo = ccl.Cosmology(Omega_c=0.27, Omega_b=0.049, h=0.67, sigma8=0.81, n_s=0.96)\n",
    "KV_shear = ccl.CMBLensingTracer(cosmo, 0.6)\n",
    "KV_theory = ccl.angular_cl(cosmo, KV_shear, KV_shear, ell_arr) "
   ]
  },
  {
   "cell_type": "code",
   "execution_count": 13,
   "metadata": {},
   "outputs": [],
   "source": [
    "KV_1_shear       = KV_1_maps.get_shear_map()"
   ]
  },
  {
   "cell_type": "code",
   "execution_count": 14,
   "metadata": {},
   "outputs": [],
   "source": [
    "KV_1_galaxys     = KV_1_maps.get_psf_map()"
   ]
  },
  {
   "cell_type": "code",
   "execution_count": 15,
   "metadata": {},
   "outputs": [],
   "source": [
    "KV_1_stars       = KV_1_maps.get_star_map()"
   ]
  },
  {
   "cell_type": "code",
   "execution_count": 16,
   "metadata": {},
   "outputs": [],
   "source": [
    "KV_1_star_mask   = KV_1_maps.get_star_mask()"
   ]
  },
  {
   "cell_type": "code",
   "execution_count": 17,
   "metadata": {},
   "outputs": [],
   "source": [
    "KV_1_galaxy_mask = KV_1_maps.get_galaxy_mask()"
   ]
  },
  {
   "cell_type": "code",
   "execution_count": 18,
   "metadata": {},
   "outputs": [
    {
     "name": "stderr",
     "output_type": "stream",
     "text": [
      "/home/zcapjru/anaconda3/envs/PhD/lib/python3.8/site-packages/healpy/projaxes.py:920: MatplotlibDeprecationWarning: You are modifying the state of a globally registered colormap. In future versions, you will not be able to modify a registered colormap in-place. To remove this warning, you can make a copy of the colormap first. cmap = copy.copy(mpl.cm.get_cmap(\"viridis\"))\n",
      "  newcm.set_over(newcm(1.0))\n",
      "/home/zcapjru/anaconda3/envs/PhD/lib/python3.8/site-packages/healpy/projaxes.py:921: MatplotlibDeprecationWarning: You are modifying the state of a globally registered colormap. In future versions, you will not be able to modify a registered colormap in-place. To remove this warning, you can make a copy of the colormap first. cmap = copy.copy(mpl.cm.get_cmap(\"viridis\"))\n",
      "  newcm.set_under(bgcolor)\n",
      "/home/zcapjru/anaconda3/envs/PhD/lib/python3.8/site-packages/healpy/projaxes.py:922: MatplotlibDeprecationWarning: You are modifying the state of a globally registered colormap. In future versions, you will not be able to modify a registered colormap in-place. To remove this warning, you can make a copy of the colormap first. cmap = copy.copy(mpl.cm.get_cmap(\"viridis\"))\n",
      "  newcm.set_bad(badcolor)\n",
      "/home/zcapjru/anaconda3/envs/PhD/lib/python3.8/site-packages/healpy/projaxes.py:202: MatplotlibDeprecationWarning: Passing parameters norm and vmin/vmax simultaneously is deprecated since 3.3 and will become an error two minor releases later. Please pass vmin/vmax directly to the norm when creating it.\n",
      "  aximg = self.imshow(\n"
     ]
    },
    {
     "data": {
      "image/png": "[encoded data removed]",
      "text/plain": [
       "<Figure size 612x388.8 with 2 Axes>"
      ]
     },
     "metadata": {
      "needs_background": "light"
     },
     "output_type": "display_data"
    }
   ],
   "source": [
    "hp.visufunc.mollview(KV_1_shear[1], title= 'DES gc')"
   ]
  },
  {
   "cell_type": "code",
   "execution_count": 19,
   "metadata": {},
   "outputs": [
    {
     "ename": "NameError",
     "evalue": "name 'DES_1_maps' is not defined",
     "output_type": "error",
     "traceback": [
      "\u001b[0;31m---------------------------------------------------------------------------\u001b[0m",
      "\u001b[0;31mNameError\u001b[0m                                 Traceback (most recent call last)",
      "\u001b[0;32m<ipython-input-19-824e8249b090>\u001b[0m in \u001b[0;36m<module>\u001b[0;34m\u001b[0m\n\u001b[0;32m----> 1\u001b[0;31m \u001b[0mDES_f_1\u001b[0m \u001b[0;34m=\u001b[0m  \u001b[0mDES_1_maps\u001b[0m\u001b[0;34m.\u001b[0m\u001b[0mget_nmt_field\u001b[0m\u001b[0;34m(\u001b[0m\u001b[0;34m)\u001b[0m\u001b[0;34m\u001b[0m\u001b[0;34m\u001b[0m\u001b[0m\n\u001b[0m\u001b[1;32m      2\u001b[0m \u001b[0mDES_f_2\u001b[0m \u001b[0;34m=\u001b[0m  \u001b[0mDES_2_maps\u001b[0m\u001b[0;34m.\u001b[0m\u001b[0mget_nmt_field\u001b[0m\u001b[0;34m(\u001b[0m\u001b[0;34m)\u001b[0m\u001b[0;34m\u001b[0m\u001b[0;34m\u001b[0m\u001b[0m\n",
      "\u001b[0;31mNameError\u001b[0m: name 'DES_1_maps' is not defined"
     ]
    }
   ],
   "source": [
    "DES_f_1 =  DES_1_maps.get_nmt_field()\n",
    "DES_f_2 =  DES_2_maps.get_nmt_field()"
   ]
  },
  {
   "cell_type": "code",
   "execution_count": null,
   "metadata": {},
   "outputs": [],
   "source": [
    "DES_w_11 = nmt.NmtWorkspace()\n",
    "DES_w_11.compute_coupling_matrix(DES_f_1, DES_f_1, bands)\n",
    "\n",
    "DES_w_12 = nmt.NmtWorkspace()\n",
    "DES_w_12.compute_coupling_matrix(DES_f_1, DES_f_2, bands)"
   ]
  },
  {
   "cell_type": "code",
   "execution_count": null,
   "metadata": {},
   "outputs": [],
   "source": [
    "def compute_cl(f_a, f_b, wsp):\n",
    "    # Compute the power spectrum (a la anafast) of the masked fields\n",
    "    # Note that we only use n_iter=0 here to speed up the computation,\n",
    "    # but the default value of 3 is recommended in general.\n",
    "    cl_coupled = nmt.compute_coupled_cell(f_a, f_b)\n",
    "    # Decouple power spectrum into bandpowers inverting the coupling matrix\n",
    "    cl_decoupled = wsp.decouple_cell(cl_coupled) #removed bias here\n",
    "\n",
    "    return cl_decoupled"
   ]
  },
  {
   "cell_type": "code",
   "execution_count": null,
   "metadata": {},
   "outputs": [],
   "source": [
    "def load_carlos_cl(a, b):\n",
    "    return np.load('/home/zcapjru/PhD/Data/DESgc_carlos/cl_DESgc{}_DESgc{}.npz'.format(a,b))"
   ]
  },
  {
   "cell_type": "code",
   "execution_count": null,
   "metadata": {},
   "outputs": [],
   "source": [
    "DES_nl_11 = DES_w_11.decouple_cell(DES_1_maps.get_nl_coupled())\n",
    "cl_11 = compute_cl(DES_f_1, DES_f_1, DES_w_11)\n",
    "cl_11 = cl_11 - DES_nl_11\n",
    "ccl_11 = load_carlos_cl(0,0)"
   ]
  },
  {
   "cell_type": "code",
   "execution_count": null,
   "metadata": {},
   "outputs": [],
   "source": [
    "cl_12 = compute_cl(DES_f_1, DES_f_2, DES_w_12)\n",
    "ccl_12 = load_carlos_cl(0,1)"
   ]
  },
  {
   "cell_type": "code",
   "execution_count": null,
   "metadata": {},
   "outputs": [],
   "source": [
    "plt.plot(ell_arr, cl_11[0], 'r-', label='Jaime cl_ij')\n",
    "plt.plot(ell_arr, DES_theory_11, 'r--', label='Theory cl_ij')\n",
    "plt.plot(ccl_11['ell'], ccl_11['cl'][0], 'g-', label='Carlos cl_ij')\n",
    "\n",
    "plt.loglog()\n",
    "plt.title('DES gc Cl 11')\n",
    "plt.xlim((ell_arr[1], ell_arr[-1]))\n",
    "plt.xlabel('$\\\\ell$', fontsize=16)\n",
    "plt.ylabel('$C_\\\\ell$', fontsize=16)\n",
    "plt.legend(loc='lower left', ncol=2, labelspacing=0.1)\n",
    "plt.show()"
   ]
  },
  {
   "cell_type": "code",
   "execution_count": null,
   "metadata": {},
   "outputs": [],
   "source": [
    "plt.plot(ell_arr, cl_12[0], 'r-', label='Jaime cl_ij')\n",
    "plt.plot(ell_arr, DES_theory_12, 'r--', label='Theory cl_ij')\n",
    "plt.plot(ccl_11['ell'], ccl_12['cl'][0], 'g-', label='Carlos cl_ij')\n",
    "\n",
    "plt.loglog()\n",
    "plt.title('DES gc Cl 12')\n",
    "plt.xlim((ell_arr[1], ell_arr[-1]))\n",
    "plt.xlabel('$\\\\ell$', fontsize=16)\n",
    "plt.ylabel('$C_\\\\ell$', fontsize=16)\n",
    "plt.legend(loc='lower left', ncol=2, labelspacing=0.1)\n",
    "plt.show()"
   ]
  },
  {
   "cell_type": "markdown",
   "metadata": {},
   "source": [
    "## Checking with Carlos "
   ]
  },
  {
   "cell_type": "code",
   "execution_count": null,
   "metadata": {},
   "outputs": [],
   "source": [
    "def load_cl(a, b):\n",
    "    return np.loadtxt('/home/zcapjru/PhD/Data/get_4096/DES_cl_{}{}.txt'.format(a,b))"
   ]
  },
  {
   "cell_type": "code",
   "execution_count": null,
   "metadata": {},
   "outputs": [],
   "source": [
    "nside = 4096\n",
    "\n",
    "ells = []\n",
    "i = 11.5\n",
    "while i <= 3 * nside:\n",
    "    ells.append(round(i))\n",
    "    i = i+20*(1+i/500)\n",
    "bands = nmt.NmtBin.from_edges(ells[:-1], ells[1:])\n",
    "ell_arr = bands.get_effective_ells()"
   ]
  },
  {
   "cell_type": "code",
   "execution_count": null,
   "metadata": {},
   "outputs": [],
   "source": [
    "cl_11 = load_cl(0,0)\n",
    "cl_12 = load_cl(0,1)\n",
    "ccl_11 = load_carlos_cl(0,0)\n",
    "ccl_12 = load_carlos_cl(0,1)\n"
   ]
  },
  {
   "cell_type": "code",
   "execution_count": null,
   "metadata": {},
   "outputs": [],
   "source": [
    "print(ccl_11['ell'], ccl_11['cl'])\n",
    "print(cl_11)"
   ]
  },
  {
   "cell_type": "code",
   "execution_count": null,
   "metadata": {},
   "outputs": [],
   "source": [
    "#plt.plot( cl_11, 'r-', label='Jaime cl_ij')\n",
    "plt.plot(ccl_11['ell'], ccl_11['cl'][0], 'g-', label='Carlos cl_ij')\n",
    "\n",
    "plt.loglog()\n",
    "plt.title('Quasars density angular power spectrum')\n",
    "plt.xlabel('$\\\\ell$', fontsize=16)\n",
    "plt.ylabel('$C_\\\\ell$', fontsize=16)\n",
    "plt.legend(loc='lower left', ncol=2, labelspacing=0.1)\n",
    "plt.show()"
   ]
  },
  {
   "cell_type": "code",
   "execution_count": null,
   "metadata": {},
   "outputs": [],
   "source": []
  }
 ],
 "metadata": {
  "kernelspec": {
   "display_name": "Python 3",
   "language": "python",
   "name": "python3"
  },
  "language_info": {
   "codemirror_mode": {
    "name": "ipython",
    "version": 3
   },
   "file_extension": ".py",
   "mimetype": "text/x-python",
   "name": "python",
   "nbconvert_exporter": "python",
   "pygments_lexer": "ipython3",
   "version": "3.8.5"
  }
 },
 "nbformat": 4,
 "nbformat_minor": 4
}
