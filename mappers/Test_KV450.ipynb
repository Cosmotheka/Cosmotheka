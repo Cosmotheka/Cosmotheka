{
 "cells": [
  {
   "cell_type": "code",
   "execution_count": 1,
   "metadata": {},
   "outputs": [],
   "source": [
    "from mapper_base import MapperBase\n",
    "from astropy.io import fits\n",
    "from astropy.table import Table\n",
    "\n",
    "import mapper_KV450\n",
    "import pyccl as ccl\n",
    "import numpy as np\n",
    "import pylab as plt\n",
    "import pymaster as nmt\n",
    "import healpy as hp\n",
    "import os"
   ]
  },
  {
   "cell_type": "code",
   "execution_count": 2,
   "metadata": {},
   "outputs": [],
   "source": [
    "# Initialize binning scheme with 20 ells per bandpower\n",
    "nside = 512\n",
    "ells = []\n",
    "i = 11.5\n",
    "while i <= 3 * nside:\n",
    "    ells.append(round(i))\n",
    "    #i = i*(1+i/(3 * nside))\n",
    "    i = i+20*(1+i/240)\n",
    "\n",
    "bands = nmt.NmtBin.from_edges(ells[:-1], ells[1:])\n",
    "ell_arr = bands.get_effective_ells()"
   ]
  },
  {
   "cell_type": "code",
   "execution_count": 3,
   "metadata": {},
   "outputs": [
    {
     "data": {
      "text/plain": [
       "['/home/zcapjru/PhD/Data/KV450/KV450_G12_reweight_3x4x4_v2_good.cat',\n",
       " '/home/zcapjru/PhD/Data/KV450/KV450_G23_reweight_3x4x4_v2_good.cat',\n",
       " '/home/zcapjru/PhD/Data/KV450/KV450_GS_reweight_3x4x4_v2_good.cat',\n",
       " '/home/zcapjru/PhD/Data/KV450/KV450_G15_reweight_3x4x4_v2_good.cat',\n",
       " '/home/zcapjru/PhD/Data/KV450/KV450_G9_reweight_3x4x4_v2_good.cat']"
      ]
     },
     "execution_count": 3,
     "metadata": {},
     "output_type": "execute_result"
    }
   ],
   "source": [
    "path = '/home/zcapjru/PhD/Data/KV450/'\n",
    "\n",
    "cats = [path+'KV450_G12_reweight_3x4x4_v2_good.cat', \n",
    "        path+'KV450_G23_reweight_3x4x4_v2_good.cat',\n",
    "        path+'KV450_GS_reweight_3x4x4_v2_good.cat',\n",
    "        path+'KV450_G15_reweight_3x4x4_v2_good.cat',\n",
    "        path+'KV450_G9_reweight_3x4x4_v2_good.cat'\n",
    "       ]\n",
    "cats"
   ]
  },
  {
   "cell_type": "code",
   "execution_count": 4,
   "metadata": {},
   "outputs": [],
   "source": [
    "KV_1_config = {'data_catalogs': cats , \n",
    "                'file_nz':path + 'REDSHIFT_DISTRIBUTIONS/Nz_DIR/Nz_DIR_Mean/Nz_DIR_z0.1t0.3.asc',\n",
    "          'zbin':1,\n",
    "          'nside':nside, \n",
    "          'mask_name': 'mask_KV450_1'}\n",
    "\n",
    "KV_5_config = {'data_catalogs': cats ,               \n",
    "                'file_nz':path + 'REDSHIFT_DISTRIBUTIONS/Nz_DIR/Nz_DIR_Mean/Nz_DIR_z0.9t1.2.asc',\n",
    "          'zbin':5,\n",
    "           'mask_name': 'mask_KV450_5',\n",
    "          'nside':nside }"
   ]
  },
  {
   "cell_type": "code",
   "execution_count": 5,
   "metadata": {
    "scrolled": true
   },
   "outputs": [
    {
     "name": "stdout",
     "output_type": "stream",
     "text": [
      "loading lite cats\n",
      "mode: shear\n",
      "Catalogs loaded\n",
      "z edges  [0.1, 0.3]\n",
      "data concatenated\n",
      "removed GAAP\n",
      "Length of galaxies:  1025169\n",
      "Length of stars:  2335\n",
      "Data binned\n"
     ]
    },
    {
     "name": "stderr",
     "output_type": "stream",
     "text": [
      "/home/zcapjru/PhD/DEScls/mappers/mapper_KV450.py:100: SettingWithCopyWarning: \n",
      "A value is trying to be set on a copy of a slice from a DataFrame.\n",
      "Try using .loc[row_indexer,col_indexer] = value instead\n",
      "\n",
      "See the caveats in the documentation: https://pandas.pydata.org/pandas-docs/stable/user_guide/indexing.html#returning-a-view-versus-a-copy\n",
      "  self.cat_data[sel_gals]['bias_corrected_e1'] -= np.mean(self.cat_data[sel_gals]['bias_corrected_e1'])\n",
      "/home/zcapjru/PhD/DEScls/mappers/mapper_KV450.py:101: SettingWithCopyWarning: \n",
      "A value is trying to be set on a copy of a slice from a DataFrame.\n",
      "Try using .loc[row_indexer,col_indexer] = value instead\n",
      "\n",
      "See the caveats in the documentation: https://pandas.pydata.org/pandas-docs/stable/user_guide/indexing.html#returning-a-view-versus-a-copy\n",
      "  self.cat_data[sel_gals]['bias_corrected_e2'] -= np.mean(self.cat_data[sel_gals]['bias_corrected_e2'])\n",
      "/home/zcapjru/PhD/DEScls/mappers/mapper_KV450.py:107: SettingWithCopyWarning: \n",
      "A value is trying to be set on a copy of a slice from a DataFrame.\n",
      "Try using .loc[row_indexer,col_indexer] = value instead\n",
      "\n",
      "See the caveats in the documentation: https://pandas.pydata.org/pandas-docs/stable/user_guide/indexing.html#returning-a-view-versus-a-copy\n",
      "  self.cat_data[sel_gals]['bias_corrected_e1'] /= 1 + m[self.zbin-1]\n"
     ]
    },
    {
     "name": "stdout",
     "output_type": "stream",
     "text": [
      "Additive biased removed\n",
      "Multiplicative bias removed\n",
      "loading lite cats\n"
     ]
    },
    {
     "name": "stderr",
     "output_type": "stream",
     "text": [
      "/home/zcapjru/PhD/DEScls/mappers/mapper_KV450.py:108: SettingWithCopyWarning: \n",
      "A value is trying to be set on a copy of a slice from a DataFrame.\n",
      "Try using .loc[row_indexer,col_indexer] = value instead\n",
      "\n",
      "See the caveats in the documentation: https://pandas.pydata.org/pandas-docs/stable/user_guide/indexing.html#returning-a-view-versus-a-copy\n",
      "  self.cat_data[sel_gals]['bias_corrected_e2'] /= 1 + m[self.zbin-1]\n"
     ]
    },
    {
     "name": "stdout",
     "output_type": "stream",
     "text": [
      "mode: shear\n",
      "Catalogs loaded\n",
      "z edges  [0.9, 1.2]\n",
      "data concatenated\n",
      "removed GAAP\n",
      "Length of galaxies:  2628094\n",
      "Length of stars:  256\n",
      "Data binned\n"
     ]
    },
    {
     "name": "stderr",
     "output_type": "stream",
     "text": [
      "/home/zcapjru/PhD/DEScls/mappers/mapper_KV450.py:100: SettingWithCopyWarning: \n",
      "A value is trying to be set on a copy of a slice from a DataFrame.\n",
      "Try using .loc[row_indexer,col_indexer] = value instead\n",
      "\n",
      "See the caveats in the documentation: https://pandas.pydata.org/pandas-docs/stable/user_guide/indexing.html#returning-a-view-versus-a-copy\n",
      "  self.cat_data[sel_gals]['bias_corrected_e1'] -= np.mean(self.cat_data[sel_gals]['bias_corrected_e1'])\n",
      "/home/zcapjru/PhD/DEScls/mappers/mapper_KV450.py:101: SettingWithCopyWarning: \n",
      "A value is trying to be set on a copy of a slice from a DataFrame.\n",
      "Try using .loc[row_indexer,col_indexer] = value instead\n",
      "\n",
      "See the caveats in the documentation: https://pandas.pydata.org/pandas-docs/stable/user_guide/indexing.html#returning-a-view-versus-a-copy\n",
      "  self.cat_data[sel_gals]['bias_corrected_e2'] -= np.mean(self.cat_data[sel_gals]['bias_corrected_e2'])\n"
     ]
    },
    {
     "name": "stdout",
     "output_type": "stream",
     "text": [
      "Additive biased removed\n"
     ]
    },
    {
     "name": "stderr",
     "output_type": "stream",
     "text": [
      "/home/zcapjru/PhD/DEScls/mappers/mapper_KV450.py:107: SettingWithCopyWarning: \n",
      "A value is trying to be set on a copy of a slice from a DataFrame.\n",
      "Try using .loc[row_indexer,col_indexer] = value instead\n",
      "\n",
      "See the caveats in the documentation: https://pandas.pydata.org/pandas-docs/stable/user_guide/indexing.html#returning-a-view-versus-a-copy\n",
      "  self.cat_data[sel_gals]['bias_corrected_e1'] /= 1 + m[self.zbin-1]\n"
     ]
    },
    {
     "name": "stdout",
     "output_type": "stream",
     "text": [
      "Multiplicative bias removed\n"
     ]
    },
    {
     "name": "stderr",
     "output_type": "stream",
     "text": [
      "/home/zcapjru/PhD/DEScls/mappers/mapper_KV450.py:108: SettingWithCopyWarning: \n",
      "A value is trying to be set on a copy of a slice from a DataFrame.\n",
      "Try using .loc[row_indexer,col_indexer] = value instead\n",
      "\n",
      "See the caveats in the documentation: https://pandas.pydata.org/pandas-docs/stable/user_guide/indexing.html#returning-a-view-versus-a-copy\n",
      "  self.cat_data[sel_gals]['bias_corrected_e2'] /= 1 + m[self.zbin-1]\n"
     ]
    }
   ],
   "source": [
    "KV_1_maps = mapper_KV450.MapperKV450(KV_1_config)\n",
    "KV_5_maps = mapper_KV450.MapperKV450(KV_5_config)"
   ]
  },
  {
   "cell_type": "code",
   "execution_count": 6,
   "metadata": {},
   "outputs": [],
   "source": [
    "KV_nz_1 = KV_1_maps.dndz\n",
    "KV_z_1 = KV_nz_1[0]\n",
    "KV_dNdz_1 = KV_nz_1[1]\n",
    "\n",
    "KV_nz_5 = KV_5_maps.dndz\n",
    "KV_z_5 = KV_nz_5[0]\n",
    "KV_dNdz_5 = KV_nz_5[1]"
   ]
  },
  {
   "cell_type": "code",
   "execution_count": 20,
   "metadata": {},
   "outputs": [],
   "source": [
    "cosmo = ccl.Cosmology(Omega_c=0.27, Omega_b=0.049, h=0.67, sigma8=0.81, n_s=0.96)\n",
    "ia = np.ones(120)*0.981\n",
    "\n",
    "KV_theory_1 = ccl.WeakLensingTracer(cosmo,  dndz=(KV_z_1,KV_dNdz_1), has_shear=True, ia_bias=(KV_z_1,ia), use_A_ia=True)\n",
    "Theory_cl_s1s1 = ccl.angular_cl(cosmo, KV_theory_1, KV_theory_1, ell_arr) \n",
    "\n",
    "KV_theory_5 = ccl.WeakLensingTracer(cosmo,  dndz=(KV_z_5,KV_dNdz_5), has_shear=True, ia_bias=(KV_z_5,ia), use_A_ia=True)\n",
    "Theory_cl_s5s5 = ccl.angular_cl(cosmo, KV_theory_5, KV_theory_5, ell_arr) \n",
    "\n",
    "Theory_cl_s1s5 = ccl.angular_cl(cosmo, KV_theory_1, KV_theory_5, ell_arr)"
   ]
  },
  {
   "cell_type": "code",
   "execution_count": 8,
   "metadata": {},
   "outputs": [
    {
     "data": {
      "image/png": "[encoded data removed]",
      "text/plain": [
       "<Figure size 432x288 with 1 Axes>"
      ]
     },
     "metadata": {
      "needs_background": "light"
     },
     "output_type": "display_data"
    }
   ],
   "source": [
    "plt.plot(KV_z_1, KV_dNdz_1, 'r-', label='Nz 1')\n",
    "plt.plot(KV_z_5, KV_dNdz_5, 'g-', label='Nz 2')\n",
    "\n",
    "plt.xlabel('z', fontsize=16)\n",
    "plt.ylabel('Nz', fontsize=16)\n",
    "plt.legend(loc='upper left', ncol=2, labelspacing=0.1)\n",
    "plt.show()"
   ]
  },
  {
   "cell_type": "code",
   "execution_count": 9,
   "metadata": {},
   "outputs": [
    {
     "name": "stdout",
     "output_type": "stream",
     "text": [
      "Calculating shear spin-2 field\n",
      "Calculating PSF spin-2 field\n",
      "Calculating star density spin-0 field\n",
      "Calculating shear spin-2 field\n",
      "Calculating PSF spin-2 field\n",
      "Calculating star density spin-0 field\n"
     ]
    }
   ],
   "source": [
    "KV_shear_1 = KV_1_maps.get_signal_map(mode = 'shear')\n",
    "KV_psf_1 = KV_1_maps.get_signal_map(mode = 'PSF')\n",
    "KV_stars_1 = KV_1_maps.get_signal_map(mode = 'stars')\n",
    "\n",
    "KV_shear_5 = KV_5_maps.get_signal_map(mode = 'shear')\n",
    "KV_psf_5 = KV_5_maps.get_signal_map(mode = 'PSF')\n",
    "KV_stars_5 = KV_5_maps.get_signal_map(mode = 'stars')"
   ]
  },
  {
   "cell_type": "code",
   "execution_count": 10,
   "metadata": {},
   "outputs": [
    {
     "name": "stdout",
     "output_type": "stream",
     "text": [
      "Using galaxies mask\n",
      "Using galaxies mask\n",
      "Using stars mask\n",
      "Using galaxies mask\n",
      "Using galaxies mask\n",
      "Using stars mask\n"
     ]
    }
   ],
   "source": [
    "KV_galaxy_mask_1 = KV_1_maps.get_mask(mode='shear')\n",
    "KV_galaxy_mask_1 = KV_1_maps.get_mask(mode='PSF')\n",
    "KV_star_mask_1 = KV_1_maps.get_mask(mode='stars')\n",
    "\n",
    "KV_galaxy_mask_5 = KV_5_maps.get_mask(mode='shear')\n",
    "KV_galaxy_mask_5 = KV_5_maps.get_mask(mode='PSF')\n",
    "KV_star_mask_5 = KV_5_maps.get_mask(mode='stars')"
   ]
  },
  {
   "cell_type": "code",
   "execution_count": 12,
   "metadata": {},
   "outputs": [
    {
     "name": "stdout",
     "output_type": "stream",
     "text": [
      "Calculating shear spin-2 field\n",
      "Using galaxies mask\n",
      "Calculating PSF spin-2 field\n",
      "Using galaxies mask\n",
      "Calculating star density spin-0 field\n",
      "Using stars mask\n",
      "Calculating shear spin-2 field\n",
      "Using galaxies mask\n",
      "Calculating PSF spin-2 field\n",
      "Using galaxies mask\n",
      "Calculating star density spin-0 field\n",
      "Using stars mask\n"
     ]
    }
   ],
   "source": [
    "KV_shear_f_1 =   KV_1_maps.get_nmt_field(mode='shear')\n",
    "KV_psf_f_1 =   KV_1_maps.get_nmt_field(mode='PSF')\n",
    "KV_stars_f_1 =   KV_1_maps.get_nmt_field(mode='stars')\n",
    "\n",
    "KV_shear_f_5 =   KV_5_maps.get_nmt_field(mode='shear')\n",
    "KV_psf_f_5 =   KV_5_maps.get_nmt_field(mode='PSF')\n",
    "KV_stars_f_5 =   KV_5_maps.get_nmt_field(mode='stars')"
   ]
  },
  {
   "cell_type": "code",
   "execution_count": 13,
   "metadata": {},
   "outputs": [],
   "source": [
    "KV_w_s1s1 = nmt.NmtWorkspace()\n",
    "KV_w_s1s1.compute_coupling_matrix(KV_shear_f_1, KV_shear_f_1, bands)\n",
    "\n",
    "KV_w_s1s5 = nmt.NmtWorkspace()\n",
    "KV_w_s1s5.compute_coupling_matrix(KV_shear_f_1, KV_shear_f_5, bands)\n",
    "\n",
    "KV_w_s5s5 = nmt.NmtWorkspace()\n",
    "KV_w_s5s5.compute_coupling_matrix(KV_shear_f_5, KV_shear_f_5, bands)"
   ]
  },
  {
   "cell_type": "code",
   "execution_count": 14,
   "metadata": {},
   "outputs": [],
   "source": [
    "def compute_cl(f_a, f_b, wsp):\n",
    "    # Compute the power spectrum (a la anafast) of the masked fields\n",
    "    # Note that we only use n_iter=0 here to speed up the computation,\n",
    "    # but the default value of 3 is recommended in general.\n",
    "    cl_coupled = nmt.compute_coupled_cell(f_a, f_b)\n",
    "    # Decouple power spectrum into bandpowers inverting the coupling matrix\n",
    "    cl_decoupled = wsp.decouple_cell(cl_coupled) #removed bias here\n",
    "\n",
    "    return cl_decoupled"
   ]
  },
  {
   "cell_type": "code",
   "execution_count": 15,
   "metadata": {
    "scrolled": true
   },
   "outputs": [
    {
     "name": "stdout",
     "output_type": "stream",
     "text": [
      "Calculating shear nl coupled\n",
      "Calculating shear nl coupled\n"
     ]
    }
   ],
   "source": [
    "KV_nl_s1s1 = KV_1_maps.get_nl_coupled(mode='shear')\n",
    "KV_nl_s1s1 = KV_w_s1s1.decouple_cell(KV_nl_s1s1)\n",
    "\n",
    "KV_nl_s5s5 = KV_5_maps.get_nl_coupled(mode='shear')\n",
    "KV_nl_s5s5 = KV_w_s5s5.decouple_cell(KV_nl_s5s5)"
   ]
  },
  {
   "cell_type": "code",
   "execution_count": 16,
   "metadata": {},
   "outputs": [],
   "source": [
    "cl_s1s1 = compute_cl(KV_shear_f_1, KV_shear_f_1, KV_w_s1s1)\n",
    "cl_s1s5 = compute_cl(KV_shear_f_1, KV_shear_f_5, KV_w_s1s5)\n",
    "cl_s5s5 = compute_cl(KV_shear_f_5, KV_shear_f_5, KV_w_s5s5)\n",
    "#print(cl_s1s1, KV_nl_s1s1)\n",
    "#cl_s1s1 = cl_s1s1 - KV_nl_s1s1"
   ]
  },
  {
   "cell_type": "code",
   "execution_count": 38,
   "metadata": {},
   "outputs": [],
   "source": [
    "carlos_11 = np.load('/home/zcapjru/PhD/Data/Carlos_KV/cl_KVwl0_KVwl0.npz')\n",
    "carlos_15 = np.load('/home/zcapjru/PhD/Data/Carlos_KV/cl_KVwl0_KVwl4.npz')\n",
    "carlos_55 = np.load('/home/zcapjru/PhD/Data/Carlos_KV/cl_KVwl4_KVwl4.npz')"
   ]
  },
  {
   "cell_type": "code",
   "execution_count": 37,
   "metadata": {
    "scrolled": false
   },
   "outputs": [
    {
     "data": {
      "image/png": "[encoded data removed]",
      "text/plain": [
       "<Figure size 432x288 with 1 Axes>"
      ]
     },
     "metadata": {
      "needs_background": "light"
     },
     "output_type": "display_data"
    }
   ],
   "source": [
    "plt.plot(ell_arr, cl_s1s1[0] -KV_nl_s1s1[0], 'b-', label='Empirical')\n",
    "plt.plot(carlos_11['ell'], carlos_11['cl'][0] , 'k-', label='Carlos')\n",
    "plt.plot(ell_arr,Theory_cl_s1s1, 'r--', label='Theory')\n",
    "\n",
    "#plt.plot(ell_arr, DES_theory_11, 'r--', label='Theory cl_ij')\n",
    "#plt.plot(ccl_11['ell'], ccl_11['cl'][0], 'g-', label='Carlos cl_ij')\n",
    "\n",
    "plt.loglog()\n",
    "plt.title('KV s1s1')\n",
    "plt.xlim((ell_arr[1], ell_arr[-1]))\n",
    "plt.xlabel('$\\\\ell$', fontsize=16)\n",
    "plt.ylabel('$C_\\\\ell$', fontsize=16)\n",
    "plt.legend(loc='lower left', ncol=2, labelspacing=0.1)\n",
    "plt.show()"
   ]
  },
  {
   "cell_type": "code",
   "execution_count": 40,
   "metadata": {},
   "outputs": [
    {
     "data": {
      "image/png": "[encoded data removed]",
      "text/plain": [
       "<Figure size 432x288 with 1 Axes>"
      ]
     },
     "metadata": {
      "needs_background": "light"
     },
     "output_type": "display_data"
    }
   ],
   "source": [
    "plt.plot(ell_arr, cl_s1s5[0], 'b-', label='Jaime')\n",
    "plt.plot(carlos_15['ell'], carlos_15['cl'][0] , 'k-', label='Carlos')\n",
    "plt.plot(ell_arr,Theory_cl_s1s5, 'r--', label='Theory')\n",
    "\n",
    "#plt.plot(ell_arr, DES_theory_11, 'r--', label='Theory cl_ij')\n",
    "#plt.plot(ccl_11['ell'], ccl_11['cl'][0], 'g-', label='Carlos cl_ij')\n",
    "\n",
    "plt.loglog()\n",
    "plt.title('KV s1s5')\n",
    "plt.xlim((ell_arr[1], ell_arr[-1]))\n",
    "plt.xlabel('$\\\\ell$', fontsize=16)\n",
    "plt.ylabel('$C_\\\\ell$', fontsize=16)\n",
    "plt.legend(loc='lower left', ncol=2, labelspacing=0.1)\n",
    "plt.show()"
   ]
  },
  {
   "cell_type": "code",
   "execution_count": 39,
   "metadata": {},
   "outputs": [
    {
     "data": {
      "image/png": "[encoded data removed]",
      "text/plain": [
       "<Figure size 432x288 with 1 Axes>"
      ]
     },
     "metadata": {
      "needs_background": "light"
     },
     "output_type": "display_data"
    }
   ],
   "source": [
    "plt.plot(ell_arr, cl_s5s5[0] -KV_nl_s5s5[0], 'b-', label='Jaime')\n",
    "plt.plot(carlos_55['ell'], carlos_55['cl'][0] , 'k-', label='Carlos')\n",
    "plt.plot(ell_arr,Theory_cl_s5s5, 'r--', label='Theory')\n",
    "\n",
    "#plt.plot(ell_arr, DES_theory_11, 'r--', label='Theory cl_ij')\n",
    "#plt.plot(ccl_11['ell'], ccl_11['cl'][0], 'g-', label='Carlos cl_ij')\n",
    "\n",
    "plt.loglog()\n",
    "plt.title('KV s5s5')\n",
    "plt.xlim((ell_arr[1], ell_arr[-1]))\n",
    "plt.xlabel('$\\\\ell$', fontsize=16)\n",
    "plt.ylabel('$C_\\\\ell$', fontsize=16)\n",
    "plt.legend(loc='lower left', ncol=2, labelspacing=0.1)\n",
    "plt.show()"
   ]
  },
  {
   "cell_type": "code",
   "execution_count": null,
   "metadata": {},
   "outputs": [],
   "source": []
  }
 ],
 "metadata": {
  "kernelspec": {
   "display_name": "Python 3",
   "language": "python",
   "name": "python3"
  },
  "language_info": {
   "codemirror_mode": {
    "name": "ipython",
    "version": 3
   },
   "file_extension": ".py",
   "mimetype": "text/x-python",
   "name": "python",
   "nbconvert_exporter": "python",
   "pygments_lexer": "ipython3",
   "version": "3.8.5"
  }
 },
 "nbformat": 4,
 "nbformat_minor": 4
}
