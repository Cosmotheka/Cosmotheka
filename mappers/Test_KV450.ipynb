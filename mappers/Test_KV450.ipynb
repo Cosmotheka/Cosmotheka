{
 "cells": [
  {
   "cell_type": "code",
   "execution_count": 1,
   "metadata": {},
   "outputs": [],
   "source": [
    "from mapper_base import MapperBase\n",
    "from astropy.io import fits\n",
    "from astropy.table import Table\n",
    "\n",
    "import mapper_KV450\n",
    "import pyccl as ccl\n",
    "import numpy as np\n",
    "import pylab as plt\n",
    "import pymaster as nmt\n",
    "import healpy as hp\n",
    "import os"
   ]
  },
  {
   "cell_type": "code",
   "execution_count": 2,
   "metadata": {},
   "outputs": [],
   "source": [
    "# Initialize binning scheme with 20 ells per bandpower\n",
    "nside = 512\n",
    "ells = []\n",
    "i = 11.5\n",
    "while i <= 3 * nside:\n",
    "    ells.append(round(i))\n",
    "    #i = i*(1+i/(3 * nside))\n",
    "    i = i+20*(1+i/240)\n",
    "\n",
    "bands = nmt.NmtBin.from_edges(ells[:-1], ells[1:])\n",
    "ell_arr = bands.get_effective_ells()"
   ]
  },
  {
   "cell_type": "code",
   "execution_count": 3,
   "metadata": {},
   "outputs": [
    {
     "data": {
      "text/plain": [
       "['/home/zcapjru/PhD/Data/KV450/KV450_G12_reweight_3x4x4_v2_good.cat',\n",
       " '/home/zcapjru/PhD/Data/KV450/KV450_G23_reweight_3x4x4_v2_good.cat',\n",
       " '/home/zcapjru/PhD/Data/KV450/KV450_GS_reweight_3x4x4_v2_good.cat',\n",
       " '/home/zcapjru/PhD/Data/KV450/KV450_G15_reweight_3x4x4_v2_good.cat',\n",
       " '/home/zcapjru/PhD/Data/KV450/KV450_G9_reweight_3x4x4_v2_good.cat']"
      ]
     },
     "execution_count": 3,
     "metadata": {},
     "output_type": "execute_result"
    }
   ],
   "source": [
    "path = '/home/zcapjru/PhD/Data/KV450/'\n",
    "\n",
    "cats = [path+'KV450_G12_reweight_3x4x4_v2_good.cat', \n",
    "        path+'KV450_G23_reweight_3x4x4_v2_good.cat',\n",
    "        path+'KV450_GS_reweight_3x4x4_v2_good.cat',\n",
    "        path+'KV450_G15_reweight_3x4x4_v2_good.cat',\n",
    "        path+'KV450_G9_reweight_3x4x4_v2_good.cat'\n",
    "       ]\n",
    "cats"
   ]
  },
  {
   "cell_type": "code",
   "execution_count": 4,
   "metadata": {},
   "outputs": [],
   "source": [
    "KV_1_config = {'data_catalogs': cats , \n",
    "                'file_nz':path + 'REDSHIFT_DISTRIBUTIONS/Nz_DIR/Nz_DIR_Mean/Nz_DIR_z0.1t0.3.asc',\n",
    "          'zbin':1,\n",
    "          'nside':nside, \n",
    "          'mask_name': 'mask_KV450_1'}\n",
    "\n",
    "KV_2_config = {'data_catalogs': cats ,               \n",
    "                'file_nz':path + 'REDSHIFT_DISTRIBUTIONS/Nz_DIR/Nz_DIR_Mean/Nz_DIR_z0.3t0.5.asc',\n",
    "          'zbin':2,\n",
    "           'mask_name': 'mask_KV450_2',\n",
    "          'nside':nside }"
   ]
  },
  {
   "cell_type": "code",
   "execution_count": 5,
   "metadata": {
    "scrolled": true
   },
   "outputs": [
    {
     "name": "stdout",
     "output_type": "stream",
     "text": [
      "loading lite cats\n",
      "Catalogs loaded\n",
      "z edges  [0.1, 0.3]\n",
      "data concatenated\n",
      "removed GAAP\n",
      "Length of galaxies:  976840\n",
      "Length of stars:  2265\n",
      "Data binned\n"
     ]
    },
    {
     "name": "stderr",
     "output_type": "stream",
     "text": [
      "/home/zcapjru/PhD/DEScls/mappers/mapper_KV450.py:98: SettingWithCopyWarning: \n",
      "A value is trying to be set on a copy of a slice from a DataFrame.\n",
      "Try using .loc[row_indexer,col_indexer] = value instead\n",
      "\n",
      "See the caveats in the documentation: https://pandas.pydata.org/pandas-docs/stable/user_guide/indexing.html#returning-a-view-versus-a-copy\n",
      "  self.cat_data[sel_gals]['bias_corrected_e1'] -= np.mean(self.cat_data[sel_gals]['bias_corrected_e1'])\n",
      "/home/zcapjru/PhD/DEScls/mappers/mapper_KV450.py:99: SettingWithCopyWarning: \n",
      "A value is trying to be set on a copy of a slice from a DataFrame.\n",
      "Try using .loc[row_indexer,col_indexer] = value instead\n",
      "\n",
      "See the caveats in the documentation: https://pandas.pydata.org/pandas-docs/stable/user_guide/indexing.html#returning-a-view-versus-a-copy\n",
      "  self.cat_data[sel_gals]['bias_corrected_e2'] -= np.mean(self.cat_data[sel_gals]['bias_corrected_e2'])\n",
      "/home/zcapjru/PhD/DEScls/mappers/mapper_KV450.py:105: SettingWithCopyWarning: \n",
      "A value is trying to be set on a copy of a slice from a DataFrame.\n",
      "Try using .loc[row_indexer,col_indexer] = value instead\n",
      "\n",
      "See the caveats in the documentation: https://pandas.pydata.org/pandas-docs/stable/user_guide/indexing.html#returning-a-view-versus-a-copy\n",
      "  self.cat_data[sel_gals]['bias_corrected_e1'] /= 1 + m[self.zbin]\n"
     ]
    },
    {
     "name": "stdout",
     "output_type": "stream",
     "text": [
      "Additive biased removed\n",
      "Multiplicative bias removed\n"
     ]
    },
    {
     "name": "stderr",
     "output_type": "stream",
     "text": [
      "/home/zcapjru/PhD/DEScls/mappers/mapper_KV450.py:106: SettingWithCopyWarning: \n",
      "A value is trying to be set on a copy of a slice from a DataFrame.\n",
      "Try using .loc[row_indexer,col_indexer] = value instead\n",
      "\n",
      "See the caveats in the documentation: https://pandas.pydata.org/pandas-docs/stable/user_guide/indexing.html#returning-a-view-versus-a-copy\n",
      "  self.cat_data[sel_gals]['bias_corrected_e2'] /= 1 + m[self.zbin]\n"
     ]
    }
   ],
   "source": [
    "KV_1_maps = mapper_KV450.MapperKV450(KV_1_config)\n",
    "#KV_2_maps = mapper_KV450.MapperKV450(KV_2_config)"
   ]
  },
  {
   "cell_type": "code",
   "execution_count": 6,
   "metadata": {},
   "outputs": [
    {
     "data": {
      "text/plain": [
       "979105"
      ]
     },
     "execution_count": 6,
     "metadata": {},
     "output_type": "execute_result"
    }
   ],
   "source": [
    "len(KV_1_maps.cat_data) #12 402 924 as opposed to  11 926 455"
   ]
  },
  {
   "cell_type": "code",
   "execution_count": 7,
   "metadata": {},
   "outputs": [],
   "source": [
    "KV_nz_1 = KV_1_maps.dndz\n",
    "KV_z_1 = KV_nz_1[0]\n",
    "KV_dNdz_1 = KV_nz_1[1]"
   ]
  },
  {
   "cell_type": "code",
   "execution_count": 22,
   "metadata": {},
   "outputs": [],
   "source": [
    "cosmo = ccl.Cosmology(Omega_c=0.27, Omega_b=0.049, h=0.67, sigma8=0.81, n_s=0.96)\n",
    "ia = np.ones(120)*0.981\n",
    "KV_shear = ccl.WeakLensingTracer(cosmo,  dndz=(KV_z_1,KV_dNdz_1), has_shear=True, ia_bias=(KV_z_1,ia), use_A_ia=True)\n",
    "Theory_cl_s1s1 = ccl.angular_cl(cosmo, KV_shear, KV_shear, ell_arr) "
   ]
  },
  {
   "cell_type": "code",
   "execution_count": 8,
   "metadata": {},
   "outputs": [
    {
     "data": {
      "image/png": "[encoded data removed]",
      "text/plain": [
       "<Figure size 432x288 with 1 Axes>"
      ]
     },
     "metadata": {
      "needs_background": "light"
     },
     "output_type": "display_data"
    }
   ],
   "source": [
    "plt.plot(KV_z_1, KV_dNdz_1, 'r-', label='Nz 1')\n",
    "#plt.plot(DES_z_1, DES_dNdz_1, 'g-', label='Nz 2')\n",
    "\n",
    "plt.xlabel('z', fontsize=16)\n",
    "plt.ylabel('Nz', fontsize=16)\n",
    "plt.legend(loc='upper left', ncol=2, labelspacing=0.1)\n",
    "plt.show()"
   ]
  },
  {
   "cell_type": "code",
   "execution_count": 9,
   "metadata": {},
   "outputs": [],
   "source": [
    "cosmo = ccl.Cosmology(Omega_c=0.27, Omega_b=0.049, h=0.67, sigma8=0.81, n_s=0.96)\n",
    "KV_shear = ccl.CMBLensingTracer(cosmo, 0.6)\n",
    "KV_theory = ccl.angular_cl(cosmo, KV_shear, KV_shear, ell_arr) "
   ]
  },
  {
   "cell_type": "code",
   "execution_count": 10,
   "metadata": {},
   "outputs": [
    {
     "name": "stdout",
     "output_type": "stream",
     "text": [
      "Calculating shear spin-2 field\n",
      "Calculating PSF spin-2 field\n",
      "Calculating star density spin-0 field\n"
     ]
    }
   ],
   "source": [
    "KV_shear = KV_1_maps.get_signal_map(map_mode = 'shear')\n",
    "KV_psf = KV_1_maps.get_signal_map(map_mode = 'PSF')\n",
    "KV_stars = KV_1_maps.get_signal_map(map_mode = 'stars')"
   ]
  },
  {
   "cell_type": "code",
   "execution_count": 11,
   "metadata": {},
   "outputs": [
    {
     "name": "stdout",
     "output_type": "stream",
     "text": [
      "Using galaxies mask\n",
      "Using galaxies mask\n",
      "Using stars mask\n"
     ]
    }
   ],
   "source": [
    "KV_galaxy_mask = KV_1_maps.get_mask(mask_mode='shear')\n",
    "KV_galaxy_mask = KV_1_maps.get_mask(mask_mode='PSF')\n",
    "KV_star_mask = KV_1_maps.get_mask(mask_mode='stars')"
   ]
  },
  {
   "cell_type": "code",
   "execution_count": 12,
   "metadata": {},
   "outputs": [
    {
     "name": "stderr",
     "output_type": "stream",
     "text": [
      "/home/zcapjru/anaconda3/envs/PhD/lib/python3.8/site-packages/healpy/projaxes.py:920: MatplotlibDeprecationWarning: You are modifying the state of a globally registered colormap. In future versions, you will not be able to modify a registered colormap in-place. To remove this warning, you can make a copy of the colormap first. cmap = copy.copy(mpl.cm.get_cmap(\"viridis\"))\n",
      "  newcm.set_over(newcm(1.0))\n",
      "/home/zcapjru/anaconda3/envs/PhD/lib/python3.8/site-packages/healpy/projaxes.py:921: MatplotlibDeprecationWarning: You are modifying the state of a globally registered colormap. In future versions, you will not be able to modify a registered colormap in-place. To remove this warning, you can make a copy of the colormap first. cmap = copy.copy(mpl.cm.get_cmap(\"viridis\"))\n",
      "  newcm.set_under(bgcolor)\n",
      "/home/zcapjru/anaconda3/envs/PhD/lib/python3.8/site-packages/healpy/projaxes.py:922: MatplotlibDeprecationWarning: You are modifying the state of a globally registered colormap. In future versions, you will not be able to modify a registered colormap in-place. To remove this warning, you can make a copy of the colormap first. cmap = copy.copy(mpl.cm.get_cmap(\"viridis\"))\n",
      "  newcm.set_bad(badcolor)\n",
      "/home/zcapjru/anaconda3/envs/PhD/lib/python3.8/site-packages/healpy/projaxes.py:202: MatplotlibDeprecationWarning: Passing parameters norm and vmin/vmax simultaneously is deprecated since 3.3 and will become an error two minor releases later. Please pass vmin/vmax directly to the norm when creating it.\n",
      "  aximg = self.imshow(\n"
     ]
    },
    {
     "data": {
      "image/png": "[encoded data removed]",
      "text/plain": [
       "<Figure size 612x388.8 with 2 Axes>"
      ]
     },
     "metadata": {
      "needs_background": "light"
     },
     "output_type": "display_data"
    }
   ],
   "source": [
    "hp.visufunc.mollview(KV_shear[1], title= 'KV450 WL')"
   ]
  },
  {
   "cell_type": "code",
   "execution_count": 13,
   "metadata": {},
   "outputs": [
    {
     "name": "stdout",
     "output_type": "stream",
     "text": [
      "Calculating shear spin-2 field\n",
      "Using galaxies mask\n",
      "Calculating PSF spin-2 field\n",
      "Using galaxies mask\n",
      "Calculating star density spin-0 field\n",
      "Using stars mask\n"
     ]
    }
   ],
   "source": [
    "KV_shear_f =   KV_1_maps.get_nmt_field(mode='shear')\n",
    "KV_psf_f =   KV_1_maps.get_nmt_field(mode='PSF')\n",
    "KV_stars_f =   KV_1_maps.get_nmt_field(mode='stars')"
   ]
  },
  {
   "cell_type": "code",
   "execution_count": 14,
   "metadata": {},
   "outputs": [],
   "source": [
    "KV_w_s1s1 = nmt.NmtWorkspace()\n",
    "KV_w_s1s1.compute_coupling_matrix(KV_shear_f, KV_shear_f, bands)"
   ]
  },
  {
   "cell_type": "code",
   "execution_count": 15,
   "metadata": {},
   "outputs": [],
   "source": [
    "def compute_cl(f_a, f_b, wsp):\n",
    "    # Compute the power spectrum (a la anafast) of the masked fields\n",
    "    # Note that we only use n_iter=0 here to speed up the computation,\n",
    "    # but the default value of 3 is recommended in general.\n",
    "    cl_coupled = nmt.compute_coupled_cell(f_a, f_b)\n",
    "    # Decouple power spectrum into bandpowers inverting the coupling matrix\n",
    "    cl_decoupled = wsp.decouple_cell(cl_coupled) #removed bias here\n",
    "\n",
    "    return cl_decoupled"
   ]
  },
  {
   "cell_type": "code",
   "execution_count": 26,
   "metadata": {
    "scrolled": true
   },
   "outputs": [
    {
     "name": "stdout",
     "output_type": "stream",
     "text": [
      "Calculating shear nl coupled\n"
     ]
    }
   ],
   "source": [
    "KV_nl_s1s1 = KV_1_maps.get_nl_coupled(nl_mode='shear')\n",
    "#print(KV_nl_s1s1)\n",
    "KV_nl_s1s1 = KV_w_s1s1.decouple_cell(KV_nl_s1s1)\n",
    "cl_s1s1 = compute_cl(KV_shear_f, KV_shear_f, KV_w_s1s1)\n",
    "#print(cl_s1s1, KV_nl_s1s1)\n",
    "#cl_s1s1 = cl_s1s1 - KV_nl_s1s1"
   ]
  },
  {
   "cell_type": "code",
   "execution_count": 31,
   "metadata": {},
   "outputs": [
    {
     "data": {
      "text/plain": [
       "array([1.49839133e-09, 7.17608086e-10, 4.39447692e-10, 3.06252648e-10,\n",
       "       2.27220706e-10, 1.75098273e-10, 1.39009174e-10, 1.12627982e-10,\n",
       "       9.21755923e-11, 7.63795026e-11, 6.37424225e-11, 5.35535851e-11,\n",
       "       4.51918906e-11, 3.82520690e-11, 3.24525201e-11, 2.75998773e-11,\n",
       "       2.35186806e-11, 2.00708155e-11, 1.71490909e-11, 1.46566113e-11,\n",
       "       1.25412605e-11, 1.07440739e-11, 9.21012969e-12, 7.89721595e-12])"
      ]
     },
     "execution_count": 31,
     "metadata": {},
     "output_type": "execute_result"
    }
   ],
   "source": [
    "Theory_cl_s1s1"
   ]
  },
  {
   "cell_type": "code",
   "execution_count": 32,
   "metadata": {},
   "outputs": [
    {
     "data": {
      "image/png": "[encoded data removed]",
      "text/plain": [
       "<Figure size 432x288 with 1 Axes>"
      ]
     },
     "metadata": {
      "needs_background": "light"
     },
     "output_type": "display_data"
    }
   ],
   "source": [
    "plt.plot(ell_arr, cl_s1s1[0], 'b-', label='Empirical')\n",
    "plt.plot(ell_arr,KV_nl_s1s1[0], 'k--', label='Noise')\n",
    "plt.plot(ell_arr,Theory_cl_s1s1, 'r--', label='Theory')\n",
    "\n",
    "#plt.plot(ell_arr, DES_theory_11, 'r--', label='Theory cl_ij')\n",
    "#plt.plot(ccl_11['ell'], ccl_11['cl'][0], 'g-', label='Carlos cl_ij')\n",
    "\n",
    "plt.loglog()\n",
    "plt.title('KV s1s1')\n",
    "plt.xlim((ell_arr[1], ell_arr[-1]))\n",
    "plt.xlabel('$\\\\ell$', fontsize=16)\n",
    "plt.ylabel('$C_\\\\ell$', fontsize=16)\n",
    "plt.legend(loc='lower left', ncol=2, labelspacing=0.1)\n",
    "plt.show()"
   ]
  },
  {
   "cell_type": "code",
   "execution_count": null,
   "metadata": {},
   "outputs": [],
   "source": []
  }
 ],
 "metadata": {
  "kernelspec": {
   "display_name": "Python 3",
   "language": "python",
   "name": "python3"
  },
  "language_info": {
   "codemirror_mode": {
    "name": "ipython",
    "version": 3
   },
   "file_extension": ".py",
   "mimetype": "text/x-python",
   "name": "python",
   "nbconvert_exporter": "python",
   "pygments_lexer": "ipython3",
   "version": "3.8.5"
  }
 },
 "nbformat": 4,
 "nbformat_minor": 4
}
