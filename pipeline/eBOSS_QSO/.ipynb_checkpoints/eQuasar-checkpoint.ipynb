{
 "cells": [
  {
   "cell_type": "markdown",
   "metadata": {},
   "source": [
    "# Playing around with Quasars"
   ]
  },
  {
   "cell_type": "code",
   "execution_count": 8,
   "metadata": {
    "scrolled": true
   },
   "outputs": [
    {
     "ename": "ImportError",
     "evalue": "No module named pymaster",
     "output_type": "error",
     "traceback": [
      "\u001b[0;31m---------------------------------------------------------------------------\u001b[0m",
      "\u001b[0;31mImportError\u001b[0m                               Traceback (most recent call last)",
      "\u001b[0;32m<ipython-input-8-51f1fc3ca35a>\u001b[0m in \u001b[0;36m<module>\u001b[0;34m()\u001b[0m\n\u001b[1;32m     10\u001b[0m \u001b[0;32mimport\u001b[0m \u001b[0mhealpy\u001b[0m \u001b[0;32mas\u001b[0m \u001b[0mhp\u001b[0m\u001b[0;34m\u001b[0m\u001b[0m\n\u001b[1;32m     11\u001b[0m \u001b[0;34m\u001b[0m\u001b[0m\n\u001b[0;32m---> 12\u001b[0;31m \u001b[0;32mimport\u001b[0m \u001b[0mpymaster\u001b[0m \u001b[0;32mas\u001b[0m \u001b[0mnmt\u001b[0m\u001b[0;34m\u001b[0m\u001b[0m\n\u001b[0m",
      "\u001b[0;31mImportError\u001b[0m: No module named pymaster"
     ]
    }
   ],
   "source": [
    "import matplotlib.pyplot as plt\n",
    "from astropy.io import fits\n",
    "from astropy.table import Table\n",
    "from astropy import units as u\n",
    "from astropy.coordinates import SkyCoord\n",
    "from astropy.table import vstack\n",
    "\n",
    "import collections\n",
    "import numpy as np\n",
    "import healpy as hp\n",
    "\n",
    "import pymaster as nmt"
   ]
  },
  {
   "cell_type": "code",
   "execution_count": null,
   "metadata": {},
   "outputs": [],
   "source": [
    "def bin_z(cat, edges):\n",
    "    edges_full = [0.] + list(edges) + [1E300]  #David's better version\n",
    "    cat_bin = [cat[(cat['Z']>=edges_full[i]) & (cat['Z']<edges_full[i+1])]\n",
    "               for i in range(len(edges)+1)]\n",
    "    return cat_bin"
   ]
  },
  {
   "cell_type": "code",
   "execution_count": null,
   "metadata": {},
   "outputs": [],
   "source": [
    "def make_map(field, random):\n",
    "    nside = 512\n",
    "    \n",
    "    field_ra = np.radians(field['RA'].values) #Phi\n",
    "    field_dec = np.radians(field['DEC'].values) #Pi/2 - dec = theta\n",
    "    random_ra = np.radians(random['RA'].values) \n",
    "    random_dec = np.radians(random['DEC'].values) \n",
    "    \n",
    "    field_FKP = np.array(field['WEIGHT_FKP'].values) \n",
    "    field_SYSTOT = np.array(field['WEIGHT_SYSTOT'].values) \n",
    "    field_CP = np.array(field['WEIGHT_CP'].values) \n",
    "    field_NOZ = np.array(field['WEIGHT_NOZ'].values)\n",
    "    field_data = field_SYSTOT*field_CP*field_NOZ #FKP left out\n",
    "    \n",
    "    random_FKP = np.array(random['WEIGHT_FKP'].values) \n",
    "    random_SYSTOT = np.array(random['WEIGHT_SYSTOT'].values) \n",
    "    random_CP = np.array(random['WEIGHT_CP'].values) \n",
    "    random_NOZ = np.array(random['WEIGHT_NOZ'].values)\n",
    "    random_data = random_SYSTOT*random_CP*random_NOZ\n",
    "    \n",
    "    field_indices = hp.ang2pix(nside, np.pi/2 - field_dec, field_ra) #pixel_indecis\n",
    "    random_indices = hp.ang2pix(nside, np.pi/2 - random_dec, random_ra)  \n",
    "    \n",
    "    field_pixel_data = np.bincount(field_indices, field_data, hp.nside2npix(nside)) \n",
    "                                                                        #for each pixel in the resolution, \n",
    "                                                                        #Adds all the data entries that \n",
    "                                                                        #have been assigned the such pixel\n",
    "    random_pixel_data = np.bincount(random_indices, random_data, hp.nside2npix(nside))\n",
    "    \n",
    "    alpha = sum(field_pixel_data)/sum(random_pixel_data)\n",
    "    \n",
    "    pixel_density_data = np.zeros(hp.nside2npix(nside))\n",
    "    goodpix = random_pixel_data > 0   #avoid dividing by 0\n",
    "    pixel_density_data[goodpix] = field_pixel_data[goodpix] / alpha*random_pixel_data[goodpix] - 1\n",
    "    \n",
    "    return pixel_density_data\n",
    "    \n",
    "   "
   ]
  },
  {
   "cell_type": "markdown",
   "metadata": {},
   "source": [
    "Load the data"
   ]
  },
  {
   "cell_type": "code",
   "execution_count": null,
   "metadata": {},
   "outputs": [],
   "source": [
    "NGC =  fits.open('/mnt/zfsusers/jaimerz/data/eBOSS_QSO_clustering_data-NGC-vDR16.fits')\n",
    "NGC_r =  fits.open('/mnt/zfsusers/jaimerz/data/eBOSS_QSO_clustering_random-NGC-vDR16.fits')\n",
    "SGC =  fits.open('/mnt/zfsusers/jaimerz/data/eBOSS_QSO_clustering_data-SGC-vDR16.fits')\n",
    "SGC_r =  fits.open('/mnt/zfsusers/jaimerz/data/eBOSS_QSO_clustering_random-SGC-vDR16.fits')\n",
    "prefix = '/home/zcapjru/PhD/Data/'\n",
    "#NGC =  fits.open(prefix + 'eBOSS_QSO_clustering_data-NGC-vDR16.fits')\n",
    "#NGC_r =  fits.open(prefix + 'eBOSS_QSO_clustering_random-NGC-vDR16.fits')\n",
    "#SGC =  fits.open(prefix + 'eBOSS_QSO_clustering_data-SGC-vDR16.fits')\n",
    "#SGC_r =  fits.open(prefix + 'eBOSS_QSO_clustering_random-SGC-vDR16.fits')"
   ]
  },
  {
   "cell_type": "markdown",
   "metadata": {},
   "source": [
    "Information about data"
   ]
  },
  {
   "cell_type": "code",
   "execution_count": null,
   "metadata": {},
   "outputs": [],
   "source": [
    "cols = NGC_r[1].columns\n",
    "cols.info()"
   ]
  },
  {
   "cell_type": "markdown",
   "metadata": {},
   "source": [
    "From fits to pandas and then to maps"
   ]
  },
  {
   "cell_type": "code",
   "execution_count": null,
   "metadata": {},
   "outputs": [],
   "source": [
    "NGC_table =   Table.read(NGC)\n",
    "NGC_r_table =  Table.read(NGC_r)\n",
    "SGC_table =   Table.read(SGC)\n",
    "SGC_r_table = Table.read(SGC_r)"
   ]
  },
  {
   "cell_type": "code",
   "execution_count": null,
   "metadata": {},
   "outputs": [],
   "source": [
    "NGC_data = NGC_table.to_pandas()\n",
    "NGC_r_data = NGC_r_table.to_pandas()\n",
    "SGC_data = SGC_table.to_pandas()\n",
    "SGC_r_data = SGC_r_table.to_pandas()"
   ]
  },
  {
   "cell_type": "markdown",
   "metadata": {},
   "source": [
    "bin data"
   ]
  },
  {
   "cell_type": "code",
   "execution_count": null,
   "metadata": {},
   "outputs": [],
   "source": [
    "%%time\n",
    "binned_NGC   = bin_z(NGC_data, [1.5])\n",
    "binned_NGC_r = bin_z(NGC_r_data, [1.5])\n",
    "binned_SGC   = bin_z(SGC_data, [1.5])\n",
    "binned_SGC_r = bin_z(SGC_r_data, [1.5])"
   ]
  },
  {
   "cell_type": "markdown",
   "metadata": {},
   "source": [
    "Thread and map"
   ]
  },
  {
   "cell_type": "code",
   "execution_count": null,
   "metadata": {},
   "outputs": [],
   "source": [
    "%%time\n",
    "NGC_maps = []\n",
    "for i in range(len(binned_NGC)):\n",
    "    NGC_maps.append(make_map(binned_NGC[i],binned_NGC_r[i] ))\n",
    "    \n",
    "SGC_maps = []\n",
    "for i in range(len(binned_SGC)):\n",
    "    SGC_maps.append(make_map(binned_SGC[i],binned_SGC_r[i] ))"
   ]
  },
  {
   "cell_type": "markdown",
   "metadata": {},
   "source": [
    "Plot"
   ]
  },
  {
   "cell_type": "code",
   "execution_count": null,
   "metadata": {},
   "outputs": [],
   "source": [
    "%%time\n",
    "hp.visufunc.mollview(NGC_maps[0], title= 'NGC z<1.5')"
   ]
  },
  {
   "cell_type": "code",
   "execution_count": null,
   "metadata": {},
   "outputs": [],
   "source": [
    "hp.visufunc.mollview(NGC_maps[1],title= 'NGC z=>1.5')"
   ]
  },
  {
   "cell_type": "code",
   "execution_count": null,
   "metadata": {},
   "outputs": [],
   "source": [
    "hp.visufunc.mollview(SGC_maps[0], title= 'NGC z<1.5')"
   ]
  },
  {
   "cell_type": "code",
   "execution_count": null,
   "metadata": {},
   "outputs": [],
   "source": [
    "hp.visufunc.mollview(SGC_maps[1], title= 'SGC z=>1.5')"
   ]
  },
  {
   "cell_type": "markdown",
   "metadata": {},
   "source": [
    "Make Cl's"
   ]
  },
  {
   "cell_type": "code",
   "execution_count": null,
   "metadata": {},
   "outputs": [],
   "source": [
    "# HEALPix resolution parameter used here\n",
    "nside = 512\n",
    "\n",
    "# Read mask and apodize it on a scale of ~1deg\n",
    "mask = nmt.mask_apodization(hp.read_map(\"mask.fits\", verbose=False),\n",
    "                            1., apotype=\"Smooth\")\n",
    "\n",
    "hp.mollview(mask, coord=['G', 'C'], title='Apodized mask')\n",
    "plt.show()\n",
    "\n",
    "# Read healpix maps and initialize a spin-0 and spin-2 field\n",
    "f_0 = nmt.NmtField(mask, [hp.read_map(\"maps.fits\", field=0, verbose=False)])\n",
    "\n",
    "# Initialize binning scheme with 4 ells per bandpower\n",
    "b = nmt.NmtBin.from_nside_linear(nside, 4)\n",
    "\n",
    "# Compute MASTER estimator\n",
    "# spin-0 x spin-0\n",
    "cl_00 = nmt.compute_full_master(f_0, f_0, b)\n",
    "# spin-0 x spin-2\n",
    "cl_02 = nmt.compute_full_master(f_0, f_2, b)\n",
    "# spin-2 x spin-2\n",
    "cl_22 = nmt.compute_full_master(f_2, f_2, b)\n",
    "\n",
    "# Plot results\n",
    "ell_arr = b.get_effective_ells()\n",
    "plt.plot(ell_arr, cl_00[0], 'r-', label='TT')\n",
    "plt.plot(ell_arr, np.fabs(cl_02[0]), 'g-', label='TE')\n",
    "plt.plot(ell_arr, cl_22[0], 'b-', label='EE')\n",
    "plt.plot(ell_arr, cl_22[3], 'y-', label='BB')\n",
    "plt.loglog()\n",
    "plt.xlabel('$\\\\ell$', fontsize=16)\n",
    "plt.ylabel('$C_\\\\ell$', fontsize=16)\n",
    "plt.legend(loc='upper right', ncol=2, labelspacing=0.1)\n",
    "plt.show()"
   ]
  }
 ],
 "metadata": {
  "kernelspec": {
   "display_name": "Python 2",
   "language": "python",
   "name": "python2"
  },
  "language_info": {
   "codemirror_mode": {
    "name": "ipython",
    "version": 2
   },
   "file_extension": ".py",
   "mimetype": "text/x-python",
   "name": "python",
   "nbconvert_exporter": "python",
   "pygments_lexer": "ipython2",
   "version": "2.7.15+"
  }
 },
 "nbformat": 4,
 "nbformat_minor": 4
}
