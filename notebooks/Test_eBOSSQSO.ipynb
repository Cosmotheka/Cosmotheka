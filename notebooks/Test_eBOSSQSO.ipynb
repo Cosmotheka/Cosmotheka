{
 "cells": [
  {
   "cell_type": "markdown",
   "metadata": {},
   "source": [
    "# QSO Cl's"
   ]
  },
  {
   "cell_type": "code",
   "execution_count": 1,
   "metadata": {},
   "outputs": [],
   "source": [
    "# some_file.py\n",
    "import sys\n",
    "# insert at 1, 0 is the script path (or '' in REPL)\n",
    "\n",
    "sys.path.insert(1, '/home/zcapjru/PhD/DEScls')\n",
    "\n",
    "from xcell.mappers import MappereBOSSQSO\n",
    "from xcell.mappers import MapperP15CMBK\n",
    "from astropy.io import fits\n",
    "from astropy.table import Table\n",
    "import pyccl as ccl\n",
    "import numpy as np\n",
    "import pylab as plt\n",
    "import pymaster as nmt\n",
    "import healpy as hp"
   ]
  },
  {
   "cell_type": "code",
   "execution_count": 2,
   "metadata": {},
   "outputs": [],
   "source": [
    "# Initialize binning scheme with 20 ells per bandpower\n",
    "nside = 512\n",
    "nside_mask = 512\n",
    "#bands = nmt.NmtBin.from_nside_linear(nside, 20)\n",
    "#ell_arr = bands.get_effective_ells()"
   ]
  },
  {
   "cell_type": "code",
   "execution_count": 3,
   "metadata": {},
   "outputs": [],
   "source": [
    "ells = []\n",
    "i = 11.5\n",
    "while i <= 3 * nside:\n",
    "    ells.append(round(i))\n",
    "    #i = i*(1+i/(3 * nside))\n",
    "    i = i+20*(1+i/240)\n",
    "    \n",
    "if ells[-1] <  3 * nside -1:   \n",
    "    ells.append(3 * nside -1)\n",
    "    \n",
    "bands = nmt.NmtBin.from_edges(ells[:-1], ells[1:])\n",
    "ell_arr = bands.get_effective_ells()"
   ]
  },
  {
   "cell_type": "code",
   "execution_count": 4,
   "metadata": {},
   "outputs": [],
   "source": [
    "bands = nmt.NmtBin.from_edges(ells[:-1], ells[1:])\n",
    "ell_arr = bands.get_effective_ells()"
   ]
  },
  {
   "cell_type": "code",
   "execution_count": 5,
   "metadata": {},
   "outputs": [],
   "source": [
    "NGC_1_config = {'data_catalogs':['/home/zcapjru/PhD/Data/eBOSS_QSO/eBOSS_QSO_clustering_data-NGC-vDR16.fits'], \n",
    "          'random_catalogs':['/home/zcapjru/PhD/Data/eBOSS_QSO/eBOSS_QSO_clustering_random-NGC-vDR16.fits'],\n",
    "          'z_edges':[0, 1.5],\n",
    "          'nside':nside, 'nside_mask': nside_mask, 'mask_name': 'mask_QSO_NGC_1' }\n",
    "\n",
    "NGC_2_config = {'data_catalogs':['/home/zcapjru/PhD/Data/eBOSS_QSO/eBOSS_QSO_clustering_data-NGC-vDR16.fits'], \n",
    "          'random_catalogs':['/home/zcapjru/PhD/Data/eBOSS_QSO/eBOSS_QSO_clustering_random-NGC-vDR16.fits'],\n",
    "          'z_edges':[1.5, 3],\n",
    "          'nside':nside, 'nside_mask': nside_mask, 'mask_name': 'mask_QSO_NGC_2'  }\n",
    "\n",
    "SGC_1_config = {'data_catalogs':['/home/zcapjru/PhD/Data/eBOSS_QSO/eBOSS_QSO_clustering_data-SGC-vDR16.fits'], \n",
    "          'random_catalogs':['/home/zcapjru/PhD/Data/eBOSS_QSO/eBOSS_QSO_clustering_random-SGC-vDR16.fits'],\n",
    "          'z_edges':[0, 1.5],\n",
    "          'nside':nside, 'nside_mask': nside_mask, 'mask_name': 'mask_QSO_SGC_1' }\n",
    "\n",
    "SGC_2_config = {'data_catalogs':['/home/zcapjru/PhD/Data/eBOSS_QSO/eBOSS_QSO_clustering_data-SGC-vDR16.fits'], \n",
    "          'random_catalogs':['/home/zcapjru/PhD/Data/eBOSS_QSO/eBOSS_QSO_clustering_random-SGC-vDR16.fits'],\n",
    "          'z_edges':[1.5, 3],\n",
    "          'nside':nside, 'nside_mask': nside_mask, 'mask_name': 'mask_QSO_SGC_1'  }"
   ]
  },
  {
   "cell_type": "code",
   "execution_count": 6,
   "metadata": {},
   "outputs": [],
   "source": [
    "NGC_1_maps = MappereBOSSQSO(NGC_1_config)\n",
    "NGC_2_maps = MappereBOSSQSO(NGC_2_config)\n",
    "SGC_1_maps = MappereBOSSQSO(SGC_1_config)\n",
    "SGC_2_maps = MappereBOSSQSO(SGC_2_config)"
   ]
  },
  {
   "cell_type": "code",
   "execution_count": 7,
   "metadata": {},
   "outputs": [],
   "source": [
    "cosmo = ccl.Cosmology(Omega_c=0.27, Omega_b=0.049, h=0.67, sigma8=0.81, n_s=0.96)\n",
    "b_ngc = 2.37*np.ones(50) \n",
    "b_sgc = 2.32 *np.ones(50) "
   ]
  },
  {
   "cell_type": "code",
   "execution_count": 8,
   "metadata": {},
   "outputs": [],
   "source": [
    "NGC_nz_1 = NGC_1_maps.get_nz()\n",
    "NGC_nz_2 = NGC_2_maps.get_nz()\n",
    "SGC_nz_1 = SGC_1_maps.get_nz()\n",
    "SGC_nz_2 = SGC_2_maps.get_nz()\n",
    "\n",
    "NGC_z_1 = NGC_nz_1[1]\n",
    "NGC_dNdz_1 = NGC_nz_1[0]\n",
    "\n",
    "NGC_z_2 = NGC_nz_2[1]\n",
    "NGC_dNdz_2 = NGC_nz_2[0]\n",
    "\n",
    "SGC_z_1 = SGC_nz_1[1]\n",
    "SGC_dNdz_1 = SGC_nz_1[0]\n",
    "\n",
    "SGC_z_2 = SGC_nz_2[1]\n",
    "SGC_dNdz_2 = SGC_nz_2[0]\n",
    "\n",
    "NGC_quasar1 = ccl.NumberCountsTracer(cosmo, has_rsd=False, dndz=(NGC_z_1,NGC_dNdz_1), bias=(NGC_z_1,b_ngc))\n",
    "NGC_quasar2 = ccl.NumberCountsTracer(cosmo, has_rsd=False, dndz=(NGC_z_2,NGC_dNdz_2), bias=(NGC_z_2,b_ngc))\n",
    "SGC_quasar1 = ccl.NumberCountsTracer(cosmo, has_rsd=False, dndz=(SGC_z_1,NGC_dNdz_1), bias=(SGC_z_1,b_sgc))\n",
    "SGC_quasar2 = ccl.NumberCountsTracer(cosmo, has_rsd=False, dndz=(SGC_z_2,NGC_dNdz_2), bias=(SGC_z_2,b_sgc))\n",
    "CMB_shear = ccl.CMBLensingTracer(cosmo, 1100)"
   ]
  },
  {
   "cell_type": "code",
   "execution_count": 9,
   "metadata": {},
   "outputs": [],
   "source": [
    "#ell = np.arange(2, 2000)\n",
    "NGC_theory_11 = ccl.angular_cl(cosmo, NGC_quasar1, NGC_quasar1, ell_arr) \n",
    "NGC_theory_12 = ccl.angular_cl(cosmo, NGC_quasar1, NGC_quasar2, ell_arr) \n",
    "NGC_theory_22 = ccl.angular_cl(cosmo, NGC_quasar2, NGC_quasar2, ell_arr) \n",
    "\n",
    "SGC_theory_11 = ccl.angular_cl(cosmo, SGC_quasar1, SGC_quasar1, ell_arr) \n",
    "SGC_theory_12 = ccl.angular_cl(cosmo, SGC_quasar1, SGC_quasar2, ell_arr) \n",
    "SGC_theory_22 = ccl.angular_cl(cosmo, SGC_quasar2, SGC_quasar2, ell_arr) "
   ]
  },
  {
   "cell_type": "code",
   "execution_count": 10,
   "metadata": {},
   "outputs": [],
   "source": [
    "def compute_cl(f_a, f_b, wsp):\n",
    "    # Compute the power spectrum (a la anafast) of the masked fields\n",
    "    # Note that we only use n_iter=0 here to speed up the computation,\n",
    "    # but the default value of 3 is recommended in general.\n",
    "    cl_coupled = nmt.compute_coupled_cell(f_a, f_b)\n",
    "    # Decouple power spectrum into bandpowers inverting the coupling matrix\n",
    "    #cl_decoupled = wsp.decouple_cell(cl_coupled) #removed bias here\n",
    "\n",
    "    return cl_coupled"
   ]
  },
  {
   "cell_type": "code",
   "execution_count": 11,
   "metadata": {},
   "outputs": [
    {
     "name": "stderr",
     "output_type": "stream",
     "text": [
      "/home/zcapjru/anaconda3/envs/PhD/lib/python3.8/site-packages/healpy/pixelfunc.py:475: RuntimeWarning: invalid value encountered in _ang2pix_ring\n",
      "  return pixlib._ang2pix_ring(nside, theta, phi)\n"
     ]
    }
   ],
   "source": [
    "NGC_f_1 =  NGC_1_maps.get_nmt_field()\n",
    "NGC_f_2 =  NGC_2_maps.get_nmt_field()"
   ]
  },
  {
   "cell_type": "code",
   "execution_count": 12,
   "metadata": {},
   "outputs": [],
   "source": [
    "SGC_f_1 =  SGC_1_maps.get_nmt_field()\n",
    "SGC_f_2 =  SGC_2_maps.get_nmt_field()"
   ]
  },
  {
   "cell_type": "code",
   "execution_count": 13,
   "metadata": {},
   "outputs": [],
   "source": [
    "NGC_w_11 = nmt.NmtWorkspace()\n",
    "NGC_w_11.compute_coupling_matrix(NGC_f_1, NGC_f_1, bands)\n",
    "      \n",
    "NGC_w_12 = nmt.NmtWorkspace()\n",
    "NGC_w_12.compute_coupling_matrix(NGC_f_1, NGC_f_2, bands)\n",
    "\n",
    "NGC_w_22 = nmt.NmtWorkspace()\n",
    "NGC_w_22.compute_coupling_matrix(NGC_f_2, NGC_f_2, bands)"
   ]
  },
  {
   "cell_type": "code",
   "execution_count": 14,
   "metadata": {},
   "outputs": [],
   "source": [
    "SGC_w_11 = nmt.NmtWorkspace()\n",
    "SGC_w_11.compute_coupling_matrix(SGC_f_1, SGC_f_1, bands)\n",
    "\n",
    "SGC_w_12 = nmt.NmtWorkspace()\n",
    "SGC_w_12.compute_coupling_matrix(SGC_f_1, SGC_f_2, bands)\n",
    "\n",
    "SGC_w_22 = nmt.NmtWorkspace()\n",
    "SGC_w_22.compute_coupling_matrix(SGC_f_2, SGC_f_2, bands)"
   ]
  },
  {
   "cell_type": "code",
   "execution_count": 15,
   "metadata": {},
   "outputs": [],
   "source": [
    "NGC_cl_11 = compute_cl(NGC_f_1, NGC_f_1, NGC_w_11)\n",
    "NGC_cl_12 = compute_cl(NGC_f_1, NGC_f_2, NGC_w_12)\n",
    "NGC_cl_22 = compute_cl(NGC_f_2, NGC_f_2, NGC_w_22)"
   ]
  },
  {
   "cell_type": "code",
   "execution_count": 16,
   "metadata": {},
   "outputs": [],
   "source": [
    "SGC_cl_11 = compute_cl(SGC_f_1, SGC_f_1, SGC_w_11)\n",
    "SGC_cl_12 = compute_cl(SGC_f_1, SGC_f_2, SGC_w_12)\n",
    "SGC_cl_22 = compute_cl(SGC_f_2, SGC_f_2, SGC_w_22)"
   ]
  },
  {
   "cell_type": "code",
   "execution_count": 17,
   "metadata": {},
   "outputs": [],
   "source": [
    "NGC_nl_11 = NGC_1_maps.get_nl_coupled() \n",
    "NGC_nl_22 = NGC_2_maps.get_nl_coupled() "
   ]
  },
  {
   "cell_type": "code",
   "execution_count": 18,
   "metadata": {},
   "outputs": [],
   "source": [
    "SGC_nl_11 = SGC_1_maps.get_nl_coupled() \n",
    "SGC_nl_22 = SGC_2_maps.get_nl_coupled() "
   ]
  },
  {
   "cell_type": "code",
   "execution_count": 19,
   "metadata": {},
   "outputs": [],
   "source": [
    "NGC_cl_11 = NGC_w_11.decouple_cell(NGC_cl_11) - NGC_w_11.decouple_cell(NGC_nl_11)\n",
    "NGC_cl_22 = NGC_w_11.decouple_cell(NGC_cl_22) - NGC_w_22.decouple_cell(NGC_nl_22)"
   ]
  },
  {
   "cell_type": "code",
   "execution_count": 20,
   "metadata": {},
   "outputs": [],
   "source": [
    "SGC_cl_11 = SGC_w_11.decouple_cell(SGC_cl_11) - SGC_w_11.decouple_cell(SGC_nl_11)\n",
    "SGC_cl_22 = SGC_w_22.decouple_cell(SGC_cl_22) - SGC_w_22.decouple_cell(SGC_nl_22)"
   ]
  },
  {
   "cell_type": "code",
   "execution_count": 21,
   "metadata": {},
   "outputs": [
    {
     "data": {
      "image/png": "[encoded data removed]",
      "text/plain": [
       "<Figure size 432x288 with 1 Axes>"
      ]
     },
     "metadata": {
      "needs_background": "light"
     },
     "output_type": "display_data"
    }
   ],
   "source": [
    "plt.plot(ell_arr, NGC_cl_22[0], 'o-', label='NGC Shear 2')\n",
    "plt.plot(ell_arr, NGC_theory_22, 'r--', label='Theory')\n",
    "plt.loglog()\n",
    "plt.title('Quasars density angular NGC 22')\n",
    "plt.xlabel('$\\\\ell$', fontsize=16)\n",
    "plt.ylabel('$C_\\\\ell$', fontsize=16)\n",
    "plt.legend(loc='lower left', ncol=2, labelspacing=0.1)\n",
    "plt.show()"
   ]
  },
  {
   "cell_type": "code",
   "execution_count": 22,
   "metadata": {},
   "outputs": [],
   "source": [
    "translate = {\n",
    "    'NGC': 'N',\n",
    "    'SGC': 'S',\n",
    "    '0': 'l',\n",
    "    '1': 'h'   \n",
    "}"
   ]
  },
  {
   "cell_type": "code",
   "execution_count": 23,
   "metadata": {},
   "outputs": [],
   "source": [
    "def load_david_cl(cup, a):\n",
    "    cup = translate[cup]\n",
    "    a = translate[a]\n",
    "    return np.load('/home/zcapjru/PhD/Data/David_eBOSS/cls_{}{}_ns512.npz'.format(cup, a))\n",
    "def load_jaime_cl(cup, a):\n",
    "    return np.loadtxt('/home/zcapjru/PhD/Cls/eBOSSQSO/4096/4096_{}_cl_{}{}.txt'.format(cup, a, a))\n",
    "def load_jaime_nl(cup, a):\n",
    "    return np.loadtxt('/home/zcapjru/PhD/Cls/eBOSSQSO/4096/4096_{}_nl_{}{}.txt'.format(cup, a, a))"
   ]
  },
  {
   "cell_type": "code",
   "execution_count": 24,
   "metadata": {},
   "outputs": [
    {
     "ename": "ValueError",
     "evalue": "operands could not be broadcast together with shapes (25,) (49,) ",
     "output_type": "error",
     "traceback": [
      "\u001b[0;31m---------------------------------------------------------------------------\u001b[0m",
      "\u001b[0;31mValueError\u001b[0m                                Traceback (most recent call last)",
      "\u001b[0;32m<ipython-input-24-5b6fd8f11878>\u001b[0m in \u001b[0;36m<module>\u001b[0;34m\u001b[0m\n\u001b[1;32m      5\u001b[0m             \u001b[0mjaime_ii\u001b[0m \u001b[0;34m=\u001b[0m \u001b[0mload_jaime_cl\u001b[0m\u001b[0;34m(\u001b[0m\u001b[0mcup\u001b[0m\u001b[0;34m,\u001b[0m\u001b[0mi\u001b[0m\u001b[0;34m)\u001b[0m\u001b[0;34m\u001b[0m\u001b[0;34m\u001b[0m\u001b[0m\n\u001b[1;32m      6\u001b[0m             \u001b[0mjaime_ii\u001b[0m \u001b[0;34m=\u001b[0m \u001b[0mjaime_ii\u001b[0m \u001b[0;34m-\u001b[0m \u001b[0mload_jaime_nl\u001b[0m\u001b[0;34m(\u001b[0m\u001b[0mcup\u001b[0m\u001b[0;34m,\u001b[0m\u001b[0mi\u001b[0m\u001b[0;34m)\u001b[0m\u001b[0;34m\u001b[0m\u001b[0;34m\u001b[0m\u001b[0m\n\u001b[0;32m----> 7\u001b[0;31m             \u001b[0mdiff\u001b[0m \u001b[0;34m=\u001b[0m \u001b[0mabs\u001b[0m\u001b[0;34m(\u001b[0m\u001b[0mdavid_ii\u001b[0m \u001b[0;34m-\u001b[0m \u001b[0mjaime_ii\u001b[0m\u001b[0;34m)\u001b[0m\u001b[0;34m\u001b[0m\u001b[0;34m\u001b[0m\u001b[0m\n\u001b[0m\u001b[1;32m      8\u001b[0m             \u001b[0mprint\u001b[0m\u001b[0;34m(\u001b[0m\u001b[0;34m'for {}_{}{} the max error is {}'\u001b[0m\u001b[0;34m.\u001b[0m\u001b[0mformat\u001b[0m\u001b[0;34m(\u001b[0m\u001b[0mcup\u001b[0m\u001b[0;34m,\u001b[0m \u001b[0mi\u001b[0m \u001b[0;34m,\u001b[0m \u001b[0mi\u001b[0m\u001b[0;34m,\u001b[0m \u001b[0mmax\u001b[0m\u001b[0;34m(\u001b[0m\u001b[0mdiff\u001b[0m\u001b[0;34m)\u001b[0m\u001b[0;34m)\u001b[0m\u001b[0;34m)\u001b[0m\u001b[0;34m\u001b[0m\u001b[0;34m\u001b[0m\u001b[0m\n",
      "\u001b[0;31mValueError\u001b[0m: operands could not be broadcast together with shapes (25,) (49,) "
     ]
    }
   ],
   "source": [
    "cups = ['NGC', 'SGC']\n",
    "for cup in cups:\n",
    "    for i in range(2):\n",
    "            david_ii = load_david_cl(cup,str(i))['cl'][0] - load_david_cl(cup,str(i))['nl'][0]\n",
    "            jaime_ii = load_jaime_cl(cup,i)\n",
    "            jaime_ii = jaime_ii - load_jaime_nl(cup,i)\n",
    "            diff = abs(david_ii - jaime_ii)\n",
    "            print('for {}_{}{} the max error is {}'.format(cup, i , i, max(diff)))"
   ]
  },
  {
   "cell_type": "code",
   "execution_count": null,
   "metadata": {},
   "outputs": [],
   "source": [
    "load_jaime_cl('NGC', 1) - load_jaime_nl('NGC',1)"
   ]
  },
  {
   "cell_type": "code",
   "execution_count": null,
   "metadata": {
    "scrolled": true
   },
   "outputs": [],
   "source": [
    "plt.plot( load_jaime_nl('SGC', 0) , 'bs', label='Jaime nl')\n",
    "plt.plot( load_jaime_cl('SGC', 0) , 'yo', label='Jaime Cl')\n",
    "#plt.semilogx()\n",
    "plt.title('Comp')\n",
    "plt.xlabel('$\\\\ell$', fontsize=16)\n",
    "plt.ylabel('$C_\\\\ell$', fontsize=16)\n",
    "plt.legend(loc='upper right', ncol=2, labelspacing=0.1)\n",
    "plt.ylim([9e-6, 1.05e-5])\n",
    "plt.show()"
   ]
  },
  {
   "cell_type": "code",
   "execution_count": null,
   "metadata": {
    "scrolled": true
   },
   "outputs": [],
   "source": [
    "plt.plot( load_jaime_nl('SGC', 1) , 'bs', label='Jaime nl')\n",
    "plt.plot( load_jaime_cl('SGC', 1) , 'yo', label='Jaime Cl')\n",
    "#plt.semilogx()\n",
    "plt.title('Comp')\n",
    "plt.xlabel('$\\\\ell$', fontsize=16)\n",
    "plt.ylabel('$C_\\\\ell$', fontsize=16)\n",
    "plt.legend(loc='upper right', ncol=2, labelspacing=0.1)\n",
    "plt.ylim([9e-6, 1.05e-5])\n",
    "plt.show()"
   ]
  },
  {
   "cell_type": "code",
   "execution_count": null,
   "metadata": {
    "scrolled": true
   },
   "outputs": [],
   "source": [
    "plt.plot(ell_arr, load_david_cl('NGC', '1')['cl'][0]-  load_david_cl('NGC', '1')['nl'][0], 'bs', label='David Cl')\n",
    "plt.plot(ell_arr, load_jaime_cl('NGC', 1) - load_jaime_nl('NGC',1) , 'yo', label='Jaime Cl')\n",
    "plt.loglog()\n",
    "plt.title('Comp')\n",
    "plt.xlabel('$\\\\ell$', fontsize=16)\n",
    "plt.ylabel('$C_\\\\ell$', fontsize=16)\n",
    "plt.legend(loc='lower left', ncol=2, labelspacing=0.1)\n",
    "plt.show()"
   ]
  },
  {
   "cell_type": "code",
   "execution_count": null,
   "metadata": {
    "scrolled": true
   },
   "outputs": [],
   "source": [
    "plt.plot(ell_arr,   load_david_cl('NGC', '1')['nl'][0], 'bs', label='David nl')\n",
    "plt.plot(ell_arr,  load_jaime_nl('NGC',1) , 'yo', label='Jaime nl')\n",
    "plt.loglog()\n",
    "plt.title('Comp')\n",
    "plt.xlabel('$\\\\ell$', fontsize=16)\n",
    "plt.ylabel('$C_\\\\ell$', fontsize=16)\n",
    "plt.legend(loc='lower left', ncol=2, labelspacing=0.1)\n",
    "plt.show()"
   ]
  },
  {
   "cell_type": "code",
   "execution_count": null,
   "metadata": {},
   "outputs": [],
   "source": [
    "load_david_cl('NGC', '1')['ls']"
   ]
  },
  {
   "cell_type": "code",
   "execution_count": null,
   "metadata": {},
   "outputs": [],
   "source": [
    "ell_arr"
   ]
  },
  {
   "cell_type": "code",
   "execution_count": null,
   "metadata": {},
   "outputs": [],
   "source": []
  }
 ],
 "metadata": {
  "kernelspec": {
   "display_name": "Python 3",
   "language": "python",
   "name": "python3"
  },
  "language_info": {
   "codemirror_mode": {
    "name": "ipython",
    "version": 3
   },
   "file_extension": ".py",
   "mimetype": "text/x-python",
   "name": "python",
   "nbconvert_exporter": "python",
   "pygments_lexer": "ipython3",
   "version": "3.8.5"
  }
 },
 "nbformat": 4,
 "nbformat_minor": 4
}
