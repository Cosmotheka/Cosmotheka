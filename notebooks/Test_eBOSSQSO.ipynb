{
 "cells": [
  {
   "cell_type": "markdown",
   "metadata": {},
   "source": [
    "# QSO Cl's"
   ]
  },
  {
   "cell_type": "code",
   "execution_count": 1,
   "metadata": {},
   "outputs": [],
   "source": [
    "# some_file.py\n",
    "import sys\n",
    "# insert at 1, 0 is the script path (or '' in REPL)\n",
    "sys.path.insert(1, '/home/zcapjru/PhD/DEScls/xcell/mappers')\n",
    "\n",
    "from mapper_base import MapperBase\n",
    "import mapper_eBOSSQSO\n",
    "\n",
    "from astropy.io import fits\n",
    "from astropy.table import Table\n",
    "import mapper_P15CMBK\n",
    "import pyccl as ccl\n",
    "import numpy as np\n",
    "import pylab as plt\n",
    "import pymaster as nmt\n",
    "import healpy as hp"
   ]
  },
  {
   "cell_type": "code",
   "execution_count": 2,
   "metadata": {},
   "outputs": [],
   "source": [
    "# Initialize binning scheme with 20 ells per bandpower\n",
    "nside = 1024\n",
    "nside_mask = 512\n",
    "#bands = nmt.NmtBin.from_nside_linear(nside, 20)\n",
    "#ell_arr = bands.get_effective_ells()"
   ]
  },
  {
   "cell_type": "code",
   "execution_count": 3,
   "metadata": {},
   "outputs": [],
   "source": [
    "ells = []\n",
    "i = 11.5\n",
    "while i <= 3 * nside:\n",
    "    ells.append(round(i))\n",
    "    #i = i*(1+i/(3 * nside))\n",
    "    i = i+20*(1+i/240)\n",
    "    \n",
    "if ells[-1] <  3 * nside -1:   \n",
    "    ells.append(3 * nside -1)\n",
    "    \n",
    "bands = nmt.NmtBin.from_edges(ells[:-1], ells[1:])\n",
    "ell_arr = bands.get_effective_ells()"
   ]
  },
  {
   "cell_type": "code",
   "execution_count": 4,
   "metadata": {},
   "outputs": [],
   "source": [
    "bands = nmt.NmtBin.from_edges(ells[:-1], ells[1:])\n",
    "ell_arr = bands.get_effective_ells()"
   ]
  },
  {
   "cell_type": "code",
   "execution_count": 9,
   "metadata": {},
   "outputs": [],
   "source": [
    "NGC_1_config = {'data_catalogs':['/home/zcapjru/PhD/Data/eBOSS_QSO/eBOSS_QSO_clustering_data-NGC-vDR16.fits'], \n",
    "          'random_catalogs':['/home/zcapjru/PhD/Data/eBOSS_QSO/eBOSS_QSO_clustering_random-NGC-vDR16.fits'],\n",
    "          'z_edges':[0, 1.5],\n",
    "          'nside':nside, 'nside_mask': nside_mask, 'mask_name': 'mask_QSO_NGC_1' }\n",
    "\n",
    "NGC_2_config = {'data_catalogs':['/home/zcapjru/PhD/Data/eBOSS_QSO/eBOSS_QSO_clustering_data-NGC-vDR16.fits'], \n",
    "          'random_catalogs':['/home/zcapjru/PhD/Data/eBOSS_QSO/eBOSS_QSO_clustering_random-NGC-vDR16.fits'],\n",
    "          'z_edges':[1.5, 3],\n",
    "          'nside':nside, 'nside_mask': nside_mask, 'mask_name': 'mask_QSO_NGC_2'  }\n",
    "\n",
    "SGC_1_config = {'data_catalogs':['/home/zcapjru/PhD/Data/eBOSS_QSO/eBOSS_QSO_clustering_data-SGC-vDR16.fits'], \n",
    "          'random_catalogs':['/home/zcapjru/PhD/Data/eBOSS_QSO/eBOSS_QSO_clustering_random-SGC-vDR16.fits'],\n",
    "          'z_edges':[0, 1.5],\n",
    "          'nside':nside, 'nside_mask': nside_mask, 'mask_name': 'mask_QSO_SGC_1' }\n",
    "\n",
    "SGC_2_config = {'data_catalogs':['/home/zcapjru/PhD/Data/eBOSS_QSO/eBOSS_QSO_clustering_data-SGC-vDR16.fits'], \n",
    "          'random_catalogs':['/home/zcapjru/PhD/Data/eBOSS_QSO/eBOSS_QSO_clustering_random-SGC-vDR16.fits'],\n",
    "          'z_edges':[1.5, 3],\n",
    "          'nside':nside, 'nside_mask': nside_mask, 'mask_name': 'mask_QSO_SGC_1'  }"
   ]
  },
  {
   "cell_type": "code",
   "execution_count": 10,
   "metadata": {},
   "outputs": [],
   "source": [
    "NGC_1_maps = mapper_eBOSSQSO.MappereBOSSQSO(NGC_1_config)\n",
    "NGC_2_maps = mapper_eBOSSQSO.MappereBOSSQSO(NGC_2_config)\n",
    "SGC_1_maps = mapper_eBOSSQSO.MappereBOSSQSO(SGC_1_config)\n",
    "SGC_2_maps = mapper_eBOSSQSO.MappereBOSSQSO(SGC_2_config)"
   ]
  },
  {
   "cell_type": "code",
   "execution_count": null,
   "metadata": {},
   "outputs": [],
   "source": [
    "cosmo = ccl.Cosmology(Omega_c=0.27, Omega_b=0.049, h=0.67, sigma8=0.81, n_s=0.96)\n",
    "b_ngc = 2.37*np.ones(200) \n",
    "b_sgc = 2.32 *np.ones(200) "
   ]
  },
  {
   "cell_type": "code",
   "execution_count": null,
   "metadata": {},
   "outputs": [],
   "source": [
    "NGC_nz_1 = NGC_1_maps.get_nz()\n",
    "NGC_nz_2 = NGC_2_maps.get_nz()\n",
    "SGC_nz_1 = SGC_1_maps.get_nz()\n",
    "SGC_nz_2 = SGC_2_maps.get_nz()\n",
    "\n",
    "NGC_z_1 = NGC_nz_1[1]\n",
    "NGC_dNdz_1 = NGC_nz_1[0]\n",
    "\n",
    "NGC_z_2 = NGC_nz_2[1]\n",
    "NGC_dNdz_2 = NGC_nz_2[0]\n",
    "\n",
    "SGC_z_1 = SGC_nz_1[1]\n",
    "SGC_dNdz_1 = SGC_nz_1[0]\n",
    "\n",
    "SGC_z_2 = SGC_nz_2[1]\n",
    "SGC_dNdz_2 = SGC_nz_2[0]\n",
    "\n",
    "NGC_quasar1 = ccl.NumberCountsTracer(cosmo, has_rsd=False, dndz=(NGC_z_1,NGC_dNdz_1), bias=(NGC_z_1,b_ngc))\n",
    "NGC_quasar2 = ccl.NumberCountsTracer(cosmo, has_rsd=False, dndz=(NGC_z_2,NGC_dNdz_2), bias=(NGC_z_2,b_ngc))\n",
    "SGC_quasar1 = ccl.NumberCountsTracer(cosmo, has_rsd=False, dndz=(SGC_z_1,NGC_dNdz_1), bias=(SGC_z_1,b_sgc))\n",
    "SGC_quasar2 = ccl.NumberCountsTracer(cosmo, has_rsd=False, dndz=(SGC_z_2,NGC_dNdz_2), bias=(SGC_z_2,b_sgc))\n",
    "CMB_shear = ccl.CMBLensingTracer(cosmo, 1100)"
   ]
  },
  {
   "cell_type": "code",
   "execution_count": null,
   "metadata": {},
   "outputs": [],
   "source": [
    "#ell = np.arange(2, 2000)\n",
    "NGC_theory_11 = ccl.angular_cl(cosmo, NGC_quasar1, NGC_quasar1, ell_arr) \n",
    "NGC_theory_12 = ccl.angular_cl(cosmo, NGC_quasar1, NGC_quasar2, ell_arr) \n",
    "NGC_theory_22 = ccl.angular_cl(cosmo, NGC_quasar2, NGC_quasar2, ell_arr) \n",
    "\n",
    "SGC_theory_11 = ccl.angular_cl(cosmo, SGC_quasar1, SGC_quasar1, ell_arr) \n",
    "SGC_theory_12 = ccl.angular_cl(cosmo, SGC_quasar1, SGC_quasar2, ell_arr) \n",
    "SGC_theory_22 = ccl.angular_cl(cosmo, SGC_quasar2, SGC_quasar2, ell_arr) \n",
    "\n",
    "NGC_shear_theory_1 = ccl.angular_cl(cosmo, CMB_shear, NGC_quasar1, ell_arr) \n",
    "NGC_shear_theory_2 = ccl.angular_cl(cosmo, CMB_shear, NGC_quasar2, ell_arr) \n",
    "SGC_shear_theory_1 = ccl.angular_cl(cosmo, CMB_shear, SGC_quasar1, ell_arr) \n",
    "SGC_shear_theory_2 = ccl.angular_cl(cosmo, CMB_shear, SGC_quasar2, ell_arr) "
   ]
  },
  {
   "cell_type": "code",
   "execution_count": null,
   "metadata": {},
   "outputs": [],
   "source": [
    "def compute_cl(f_a, f_b, wsp):\n",
    "    # Compute the power spectrum (a la anafast) of the masked fields\n",
    "    # Note that we only use n_iter=0 here to speed up the computation,\n",
    "    # but the default value of 3 is recommended in general.\n",
    "    cl_coupled = nmt.compute_coupled_cell(f_a, f_b)\n",
    "    # Decouple power spectrum into bandpowers inverting the coupling matrix\n",
    "    #cl_decoupled = wsp.decouple_cell(cl_coupled) #removed bias here\n",
    "\n",
    "    return cl_coupled"
   ]
  },
  {
   "cell_type": "code",
   "execution_count": null,
   "metadata": {},
   "outputs": [],
   "source": [
    "NGC_f_1 =  NGC_1_maps.get_nmt_field()\n",
    "NGC_f_2 =  NGC_2_maps.get_nmt_field()"
   ]
  },
  {
   "cell_type": "code",
   "execution_count": null,
   "metadata": {},
   "outputs": [],
   "source": [
    "SGC_f_1 =  SGC_1_maps.get_nmt_field()\n",
    "SGC_f_2 =  SGC_2_maps.get_nmt_field()"
   ]
  },
  {
   "cell_type": "code",
   "execution_count": null,
   "metadata": {},
   "outputs": [],
   "source": [
    "NGC_w_11 = nmt.NmtWorkspace()\n",
    "NGC_w_11.compute_coupling_matrix(NGC_f_1, NGC_f_1, bands)\n",
    "      \n",
    "NGC_w_12 = nmt.NmtWorkspace()\n",
    "NGC_w_12.compute_coupling_matrix(NGC_f_1, NGC_f_2, bands)\n",
    "\n",
    "NGC_w_22 = nmt.NmtWorkspace()\n",
    "NGC_w_22.compute_coupling_matrix(NGC_f_2, NGC_f_2, bands)"
   ]
  },
  {
   "cell_type": "code",
   "execution_count": null,
   "metadata": {},
   "outputs": [],
   "source": [
    "SGC_w_11 = nmt.NmtWorkspace()\n",
    "SGC_w_11.compute_coupling_matrix(SGC_f_1, SGC_f_1, bands)\n",
    "\n",
    "SGC_w_12 = nmt.NmtWorkspace()\n",
    "SGC_w_12.compute_coupling_matrix(SGC_f_1, SGC_f_2, bands)\n",
    "\n",
    "SGC_w_22 = nmt.NmtWorkspace()\n",
    "SGC_w_22.compute_coupling_matrix(SGC_f_2, SGC_f_2, bands)"
   ]
  },
  {
   "cell_type": "code",
   "execution_count": null,
   "metadata": {},
   "outputs": [],
   "source": [
    "NGC_empirical_11 = compute_cl(NGC_f_1, NGC_f_1, NGC_w_11)\n",
    "NGC_empirical_12 = compute_cl(NGC_f_1, NGC_f_2, NGC_w_12)\n",
    "NGC_empirical_22 = compute_cl(NGC_f_2, NGC_f_2, NGC_w_22)"
   ]
  },
  {
   "cell_type": "code",
   "execution_count": null,
   "metadata": {},
   "outputs": [],
   "source": [
    "SGC_empirical_11 = compute_cl(SGC_f_1, SGC_f_1, SGC_w_11)\n",
    "SGC_empirical_12 = compute_cl(SGC_f_1, SGC_f_2, SGC_w_12)\n",
    "SGC_empirical_22 = compute_cl(SGC_f_2, SGC_f_2, SGC_w_22)"
   ]
  },
  {
   "cell_type": "code",
   "execution_count": null,
   "metadata": {},
   "outputs": [],
   "source": [
    "NGC_nl_11 = NGC_1_maps.get_nl_coupled() \n",
    "NGC_nl_22 = NGC_2_maps.get_nl_coupled() "
   ]
  },
  {
   "cell_type": "code",
   "execution_count": null,
   "metadata": {},
   "outputs": [],
   "source": [
    "SGC_nl_11 = SGC_1_maps.get_nl_coupled() \n",
    "SGC_nl_22 = SGC_2_maps.get_nl_coupled() "
   ]
  },
  {
   "cell_type": "code",
   "execution_count": null,
   "metadata": {},
   "outputs": [],
   "source": [
    "NGC_nn_empirical_11 = NGC_w_11.decouple_cell(NGC_empirical_11) - NGC_w_11.decouple_cell(NGC_nl_11)\n",
    "NGC_nn_empirical_22 = NGC_w_11.decouple_cell(NGC_empirical_22) - NGC_w_22.decouple_cell(NGC_nl_22)"
   ]
  },
  {
   "cell_type": "code",
   "execution_count": null,
   "metadata": {},
   "outputs": [],
   "source": [
    "SGC_nn_empirical_11 = SGC_w_11.decouple_cell(SGC_empirical_11) - SGC_w_11.decouple_cell(SGC_nl_11)\n",
    "SGC_nn_empirical_22 = SGC_w_22.decouple_cell(SGC_empirical_22) - SGC_w_22.decouple_cell(SGC_nl_22)"
   ]
  },
  {
   "cell_type": "markdown",
   "metadata": {},
   "source": [
    "# Test cross-correlation"
   ]
  },
  {
   "cell_type": "code",
   "execution_count": null,
   "metadata": {},
   "outputs": [],
   "source": [
    "CMBK_config = {'file_klm':'/home/zcapjru/PhD/Data/COM_Lensing_2048_R2.00/dat_klm.fits', \n",
    "          'file_mask':'/home/zcapjru/PhD/Data/COM_Lensing_2048_R2.00/mask.fits.gz',\n",
    "               'file_noise':'/home/zcapjru/PhD/Data/COM_Lensing_2048_R2.00/nlkk.dat', 'mask_name': 1,            \n",
    "          'nside':nside}"
   ]
  },
  {
   "cell_type": "code",
   "execution_count": null,
   "metadata": {},
   "outputs": [],
   "source": [
    "CMBK_maps = mapper_CMBK.MapperCMBK(CMBK_config)"
   ]
  },
  {
   "cell_type": "code",
   "execution_count": null,
   "metadata": {},
   "outputs": [],
   "source": [
    "signal = CMBK_maps.get_signal_map()\n",
    "mask = CMBK_maps.get_mask()\n",
    "CMBK_f = CMBK_maps.get_nmt_field()"
   ]
  },
  {
   "cell_type": "code",
   "execution_count": null,
   "metadata": {},
   "outputs": [],
   "source": [
    "NGC1_k_w = nmt.NmtWorkspace()\n",
    "NGC1_k_w.compute_coupling_matrix(NGC_f_1, CMBK_f, bands)\n",
    "\n",
    "NGC2_k_w = nmt.NmtWorkspace()\n",
    "NGC2_k_w.compute_coupling_matrix(NGC_f_2, CMBK_f, bands)"
   ]
  },
  {
   "cell_type": "code",
   "execution_count": null,
   "metadata": {},
   "outputs": [],
   "source": [
    "SGC1_k_w = nmt.NmtWorkspace()\n",
    "SGC1_k_w.compute_coupling_matrix(SGC_f_1, CMBK_f, bands)\n",
    "\n",
    "SGC2_k_w = nmt.NmtWorkspace()\n",
    "SGC2_k_w.compute_coupling_matrix(SGC_f_2, CMBK_f, bands)"
   ]
  },
  {
   "cell_type": "code",
   "execution_count": null,
   "metadata": {},
   "outputs": [],
   "source": [
    "NGC1_k = compute_cl(NGC_f_1, CMBK_f, NGC1_k_w)\n",
    "NGC2_k = compute_cl(NGC_f_2, CMBK_f, NGC2_k_w)\n",
    "NGC1_k = NGC1_k_w.decouple_cell(NGC1_k)\n",
    "NGC2_k = NGC2_k_w.decouple_cell(NGC2_k)"
   ]
  },
  {
   "cell_type": "code",
   "execution_count": null,
   "metadata": {},
   "outputs": [],
   "source": [
    "SGC1_k = compute_cl(SGC_f_1, CMBK_f, SGC1_k_w)\n",
    "SGC2_k = compute_cl(SGC_f_2, CMBK_f, SGC2_k_w)\n",
    "SGC1_k = SGC1_k_w.decouple_cell(SGC1_k)\n",
    "SGC2_k = SGC2_k_w.decouple_cell(SGC2_k)"
   ]
  },
  {
   "cell_type": "code",
   "execution_count": null,
   "metadata": {
    "scrolled": true
   },
   "outputs": [],
   "source": [
    "plt.plot(ell_arr, NGC1_k[0], 'r-', label='NGC Shear 1')\n",
    "plt.plot(ell_arr, NGC_shear_theory_1, 'r--', label='Theory')\n",
    "\n",
    "plt.loglog()\n",
    "plt.title('Quasars density angular x CMB shear power spectrum')\n",
    "plt.xlabel('$\\\\ell$', fontsize=16)\n",
    "plt.ylabel('$C_\\\\ell$', fontsize=16)\n",
    "plt.legend(loc='lower left', ncol=2, labelspacing=0.1)\n",
    "plt.show()"
   ]
  },
  {
   "cell_type": "code",
   "execution_count": null,
   "metadata": {},
   "outputs": [],
   "source": [
    "plt.plot(ell_arr, NGC2_k[0], 'r-', label='NGC Shear 2')\n",
    "plt.plot(ell_arr, NGC_shear_theory_2, 'r--', label='Theory')\n",
    "plt.loglog()\n",
    "plt.title('Quasars density angular x CMB shear power spectrum')\n",
    "plt.xlabel('$\\\\ell$', fontsize=16)\n",
    "plt.ylabel('$C_\\\\ell$', fontsize=16)\n",
    "plt.legend(loc='lower left', ncol=2, labelspacing=0.1)\n",
    "plt.show()"
   ]
  },
  {
   "cell_type": "code",
   "execution_count": null,
   "metadata": {},
   "outputs": [],
   "source": [
    "plt.plot(ell_arr, SGC1_k[0], 'b-', label='SGC Shear 1')\n",
    "plt.plot(ell_arr, SGC_shear_theory_1, 'b--', label='Theory')\n",
    "\n",
    "plt.loglog()\n",
    "plt.title('Quasars density angular x CMB shear power spectrum')\n",
    "plt.xlabel('$\\\\ell$', fontsize=16)\n",
    "plt.ylabel('$C_\\\\ell$', fontsize=16)\n",
    "plt.legend(loc='lower left', ncol=2, labelspacing=0.1)\n",
    "plt.show()"
   ]
  },
  {
   "cell_type": "code",
   "execution_count": null,
   "metadata": {},
   "outputs": [],
   "source": [
    "plt.plot(ell_arr, SGC2_k[0], 'b-', label='SGC Shear 2')\n",
    "plt.plot(ell_arr, SGC_shear_theory_2, 'b--', label='Theory')\n",
    "\n",
    "plt.loglog()\n",
    "plt.title('Quasars density angular x CMB shear power spectrum')\n",
    "plt.xlabel('$\\\\ell$', fontsize=16)\n",
    "plt.ylabel('$C_\\\\ell$', fontsize=16)\n",
    "plt.legend(loc='lower left', ncol=2, labelspacing=0.1)\n",
    "plt.show()"
   ]
  },
  {
   "cell_type": "code",
   "execution_count": null,
   "metadata": {},
   "outputs": [],
   "source": [
    "np.savetxt('NGC1_k.txt', NGC1_k[0])\n",
    "np.savetxt('NGC2_k.txt', NGC2_k[0])"
   ]
  },
  {
   "cell_type": "code",
   "execution_count": null,
   "metadata": {},
   "outputs": [],
   "source": [
    "np.savetxt('SGC1_k.txt', SGC1_k[0])\n",
    "np.savetxt('SGC2_k.txt', SGC2_k[0])"
   ]
  },
  {
   "cell_type": "code",
   "execution_count": null,
   "metadata": {},
   "outputs": [],
   "source": []
  }
 ],
 "metadata": {
  "kernelspec": {
   "display_name": "Python 3",
   "language": "python",
   "name": "python3"
  },
  "language_info": {
   "codemirror_mode": {
    "name": "ipython",
    "version": 3
   },
   "file_extension": ".py",
   "mimetype": "text/x-python",
   "name": "python",
   "nbconvert_exporter": "python",
   "pygments_lexer": "ipython3",
   "version": "3.8.5"
  }
 },
 "nbformat": 4,
 "nbformat_minor": 4
}
