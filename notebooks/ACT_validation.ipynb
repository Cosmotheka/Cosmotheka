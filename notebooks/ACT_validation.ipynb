{
 "cells": [
  {
   "cell_type": "markdown",
   "metadata": {},
   "source": [
    "# ACT validation"
   ]
  },
  {
   "cell_type": "code",
   "execution_count": 1,
   "metadata": {
    "ExecuteTime": {
     "end_time": "2021-11-02T12:40:49.951550Z",
     "start_time": "2021-11-02T12:40:48.135639Z"
    }
   },
   "outputs": [],
   "source": [
    "# some_file.py\n",
    "import sys\n",
    "# insert at 1, 0 is the script path (or '' in REPL)\n",
    "\n",
    "sys.path.insert(1, '/home/jaimerz/PhD/xCell')\n",
    "\n",
    "\n",
    "from xcell.mappers import MapperBOSS\n",
    "from xcell.mappers import MapperACTk\n",
    "from xcell.mappers import MapperACTtSZ\n",
    "from xcell.mappers import utils\n",
    "from astropy.io import fits\n",
    "from astropy.table import Table\n",
    "import pyccl as ccl\n",
    "import numpy as np\n",
    "import pylab as plt\n",
    "import pymaster as nmt\n",
    "import healpy as hp\n",
    "import numpy as np\n",
    "import os"
   ]
  },
  {
   "cell_type": "code",
   "execution_count": 2,
   "metadata": {
    "ExecuteTime": {
     "end_time": "2021-11-02T12:40:49.962052Z",
     "start_time": "2021-11-02T12:40:49.954375Z"
    }
   },
   "outputs": [],
   "source": [
    "def compute_cl(mapper_a, mapper_b, bands, wsp_file):\n",
    "    # Compute the power spectrum (a la anafast) of the masked fields\n",
    "    # Note that we only use n_iter=0 here to speed up the computation,\n",
    "    # but the default value of 3 is recommended in general.\n",
    "    n_a = mapper_a.mask_power\n",
    "    n_b = mapper_b.mask_power\n",
    "    f_a = mapper_a.get_nmt_field()\n",
    "    f_b = mapper_b.get_nmt_field()\n",
    "    w_a = mapper_a.get_mask()\n",
    "    w_b = mapper_b.get_mask()\n",
    "    cl_coupled = nmt.compute_coupled_cell(f_a, f_b)\n",
    "    wsp = nmt.NmtWorkspace()\n",
    "    #if os.path.isfile(wsp_file):\n",
    "    #    wsp.read_from(wsp_file)\n",
    "    #else:\n",
    "    #    wsp.write_to(wsp_file)\n",
    "    wsp.compute_coupling_matrix(f_a, f_b, bands)\n",
    "    \n",
    "    if (n_a > 1) or (n_b > 1):\n",
    "        cl_coupled *= np.mean(w_a**(n_a-1))*np.mean(w_b**(n_b-1))\n",
    "        cl_coupled *= np.mean(w_a*w_b)/np.mean(w_a**n_a*w_b**n_b)   \n",
    "    \n",
    "    cl_decoupled = wsp.decouple_cell(cl_coupled)\n",
    "\n",
    "    return cl_coupled, cl_decoupled"
   ]
  },
  {
   "cell_type": "markdown",
   "metadata": {},
   "source": [
    "# Configs"
   ]
  },
  {
   "cell_type": "code",
   "execution_count": 3,
   "metadata": {
    "ExecuteTime": {
     "end_time": "2021-11-02T12:40:49.970592Z",
     "start_time": "2021-11-02T12:40:49.965496Z"
    }
   },
   "outputs": [],
   "source": [
    "nside = 512\n",
    "path_ACT = '/home/jaimerz/PhD/xCell/data/ACT/'\n",
    "ACTk_config = {'file_map':path_ACT+'act_planck_dr4.01_s14s15_D56_lensing_kappa_baseline.fits',\n",
    "               'file_mask':path_ACT+'act_dr4.01_s14s15_D56_lensing_mask.fits',\n",
    "               'mask_name': 'mask_CMBK',\n",
    "               'nside': nside, \n",
    "               'mask_power': 1}\n",
    "ACTtSZ_config = {'file_map':path_ACT+'tilec_single_tile_D56_comptony_map_v1.2.0_joint.fits',\n",
    "                 'file_noise': path_ACT+'tilec_single_tile_D56_comptony_map_v1.2.0_joint_noise.fits',\n",
    "                 'file_beam': path_ACT+'tilec_single_tile_D56_comptony_map_v1.2.0_joint_beam.fits',\n",
    "               'file_mask': path_ACT+'masks/compsep_masks/act_dr4.01_s14s15_D56_compsep_mask.fits',\n",
    "               'mask_name': 'mask_CMBtSZ',\n",
    "               'nside': nside}\n",
    "path_BOSS = '/home/jaimerz/PhD/xCell/data/BOSS/'\n",
    "BOSS_config = {'data_catalogs': [path_BOSS+'galaxy_DR12v5_CMASSLOWZTOT_South.fits'], \n",
    "               'random_catalogs':[path_BOSS+'random0_DR12v5_CMASSLOWZTOT_South.fits'],\n",
    "               #'file_mask': [path_ACT+'act_dr4.01_s14s15_D56_lensing_mask.fits'],\n",
    "               'file_mask': [path_BOSS+'mask_DR12v5_CMASSLOWZTOT_South.fits'], \n",
    "               'SDSS_name': 'BOSS',\n",
    "               'mask_name': 'mask_BOSS', \n",
    "               'nside': nside}\n",
    "path = '/home/jaimerz/PhD/xCell/'\n",
    "c_test = {'file_map': path+'xcell/tests/data/map.fits',\n",
    "        'file_mask': path+'xcell/tests/data/map.fits',\n",
    "        'nside': 32}"
   ]
  },
  {
   "cell_type": "code",
   "execution_count": 4,
   "metadata": {
    "ExecuteTime": {
     "end_time": "2021-11-02T12:40:49.982124Z",
     "start_time": "2021-11-02T12:40:49.975881Z"
    }
   },
   "outputs": [],
   "source": [
    "#ells = np.array([0, 30, 60, 90, 120, 150, 180, 210, 240, 272, 309,\n",
    "#        351, 398, 452, 513, 582, 661, 750, 852,  967, 1098, 1247, 1416, 1536, 1608, 1826, 2073, 2354, 2673, 3072])\n",
    "ells = []\n",
    "i = 11.5\n",
    "while i <= 3*nside: #l[-1]:\n",
    "    ells.append(round(i))\n",
    "    #i = i*(1+i/(3 * nside))\n",
    "    i = i+40*(1+i/500)\n",
    "bands = nmt.NmtBin.from_edges(ells[:-1], ells[1:])\n",
    "ell_arr = bands.get_effective_ells()"
   ]
  },
  {
   "cell_type": "markdown",
   "metadata": {},
   "source": [
    "# ACTk X BOSS"
   ]
  },
  {
   "cell_type": "code",
   "execution_count": 5,
   "metadata": {
    "ExecuteTime": {
     "end_time": "2021-11-02T12:40:49.990652Z",
     "start_time": "2021-11-02T12:40:49.983839Z"
    }
   },
   "outputs": [],
   "source": [
    "ACTk_mapper = MapperACTk(ACTk_config)\n",
    "BOSS_mapper_wrong = MapperBOSS(BOSS_config)\n",
    "BOSS_mapper = MapperBOSS(BOSS_config)"
   ]
  },
  {
   "cell_type": "code",
   "execution_count": 6,
   "metadata": {
    "ExecuteTime": {
     "end_time": "2021-11-02T12:40:50.222456Z",
     "start_time": "2021-11-02T12:40:49.994071Z"
    }
   },
   "outputs": [],
   "source": [
    "BOSS_wrong_signal = np.load('/home/jaimerz/PhD/xCell/data/BOSS/Wrong_CMASS_delta.npz')['signal_map']"
   ]
  },
  {
   "cell_type": "code",
   "execution_count": 7,
   "metadata": {
    "ExecuteTime": {
     "end_time": "2021-11-02T12:41:11.970324Z",
     "start_time": "2021-11-02T12:40:50.224048Z"
    }
   },
   "outputs": [
    {
     "name": "stderr",
     "output_type": "stream",
     "text": [
      "/home/jaimerz/.local/lib/python3.8/site-packages/healpy/sphtfunc.py:822: UserWarning: Sigma is 0.000000 arcmin (0.000000 rad) \n",
      "  warnings.warn(\n",
      "/home/jaimerz/.local/lib/python3.8/site-packages/healpy/sphtfunc.py:827: UserWarning: -> fwhm is 0.000000 arcmin\n",
      "  warnings.warn(\n",
      "/home/jaimerz/.local/lib/python3.8/site-packages/healpy/sphtfunc.py:822: UserWarning: Sigma is 0.000000 arcmin (0.000000 rad) \n",
      "  warnings.warn(\n",
      "/home/jaimerz/.local/lib/python3.8/site-packages/healpy/sphtfunc.py:827: UserWarning: -> fwhm is 0.000000 arcmin\n",
      "  warnings.warn(\n"
     ]
    }
   ],
   "source": [
    "ACTk_signal = ACTk_mapper.get_signal_map()\n",
    "ACTk_mask = ACTk_mapper.get_mask()\n",
    "\n",
    "BOSS_mapper_wrong.delta_map = BOSS_wrong_signal[0]\n",
    "BOSS_signal_wrong = BOSS_mapper_wrong.get_signal_map()\n",
    "BOSS_mapper_wrong.mask = ACTk_mask\n",
    "BOSS_mask_wrong = BOSS_mapper_wrong.get_mask()\n",
    "\n",
    "BOSS_signal = BOSS_mapper.get_signal_map()\n",
    "BOSS_mask = BOSS_mapper.get_mask()"
   ]
  },
  {
   "cell_type": "code",
   "execution_count": 8,
   "metadata": {
    "ExecuteTime": {
     "end_time": "2021-11-02T12:41:11.976991Z",
     "start_time": "2021-11-02T12:41:11.972561Z"
    }
   },
   "outputs": [
    {
     "data": {
      "text/plain": [
       "512.0"
      ]
     },
     "execution_count": 8,
     "metadata": {},
     "output_type": "execute_result"
    }
   ],
   "source": [
    "(len(ACTk_signal[0])/12)**(1/2)"
   ]
  },
  {
   "cell_type": "markdown",
   "metadata": {},
   "source": [
    "## Plots"
   ]
  },
  {
   "cell_type": "code",
   "execution_count": 9,
   "metadata": {
    "ExecuteTime": {
     "end_time": "2021-11-02T12:41:12.314889Z",
     "start_time": "2021-11-02T12:41:11.978722Z"
    }
   },
   "outputs": [
    {
     "name": "stderr",
     "output_type": "stream",
     "text": [
      "/home/jaimerz/.local/lib/python3.8/site-packages/healpy/projaxes.py:920: MatplotlibDeprecationWarning: You are modifying the state of a globally registered colormap. In future versions, you will not be able to modify a registered colormap in-place. To remove this warning, you can make a copy of the colormap first. cmap = copy.copy(mpl.cm.get_cmap(\"viridis\"))\n",
      "  newcm.set_over(newcm(1.0))\n",
      "/home/jaimerz/.local/lib/python3.8/site-packages/healpy/projaxes.py:921: MatplotlibDeprecationWarning: You are modifying the state of a globally registered colormap. In future versions, you will not be able to modify a registered colormap in-place. To remove this warning, you can make a copy of the colormap first. cmap = copy.copy(mpl.cm.get_cmap(\"viridis\"))\n",
      "  newcm.set_under(bgcolor)\n",
      "/home/jaimerz/.local/lib/python3.8/site-packages/healpy/projaxes.py:922: MatplotlibDeprecationWarning: You are modifying the state of a globally registered colormap. In future versions, you will not be able to modify a registered colormap in-place. To remove this warning, you can make a copy of the colormap first. cmap = copy.copy(mpl.cm.get_cmap(\"viridis\"))\n",
      "  newcm.set_bad(badcolor)\n",
      "/home/jaimerz/.local/lib/python3.8/site-packages/healpy/projaxes.py:202: MatplotlibDeprecationWarning: Passing parameters norm and vmin/vmax simultaneously is deprecated since 3.3 and will become an error two minor releases later. Please pass vmin/vmax directly to the norm when creating it.\n",
      "  aximg = self.imshow(\n"
     ]
    },
    {
     "data": {
      "image/png": "[encoded data removed]",
      "text/plain": [
       "<Figure size 612x388.8 with 2 Axes>"
      ]
     },
     "metadata": {
      "needs_background": "light"
     },
     "output_type": "display_data"
    }
   ],
   "source": [
    "hp.visufunc.mollview(ACTk_signal[0], title= r'ACT_$\\kappa$')"
   ]
  },
  {
   "cell_type": "code",
   "execution_count": 10,
   "metadata": {
    "ExecuteTime": {
     "end_time": "2021-11-02T12:41:12.532231Z",
     "start_time": "2021-11-02T12:41:12.316421Z"
    }
   },
   "outputs": [
    {
     "data": {
      "image/png": "[encoded data removed]",
      "text/plain": [
       "<Figure size 612x388.8 with 2 Axes>"
      ]
     },
     "metadata": {
      "needs_background": "light"
     },
     "output_type": "display_data"
    }
   ],
   "source": [
    "hp.visufunc.mollview(BOSS_signal[0], title= r'CMB_$\\kappa$')"
   ]
  },
  {
   "cell_type": "code",
   "execution_count": 11,
   "metadata": {
    "ExecuteTime": {
     "end_time": "2021-11-02T12:41:12.538420Z",
     "start_time": "2021-11-02T12:41:12.534026Z"
    }
   },
   "outputs": [],
   "source": [
    "ref = np.load('/home/jaimerz/PhD/xCell/data/ACT/ACTk_BOSS_cl.npz')"
   ]
  },
  {
   "cell_type": "markdown",
   "metadata": {},
   "source": [
    "## Cls"
   ]
  },
  {
   "cell_type": "markdown",
   "metadata": {
    "ExecuteTime": {
     "end_time": "2021-10-22T08:40:36.618226Z",
     "start_time": "2021-10-22T08:40:36.615997Z"
    }
   },
   "source": [
    "### Calculation with anafast"
   ]
  },
  {
   "cell_type": "code",
   "execution_count": 12,
   "metadata": {
    "ExecuteTime": {
     "end_time": "2021-11-02T12:41:12.728312Z",
     "start_time": "2021-11-02T12:41:12.543139Z"
    }
   },
   "outputs": [],
   "source": [
    "cosmo = ccl.boltzmann.classy.Class()\n",
    "params = {'h': 0.67,\n",
    "'Omega_cdm': 0.25, #0.237153,\n",
    "'Omega_b': 0.05,\n",
    "'n_s': 0.9649,\n",
    "'ln10^{10}A_s': 3.045}\n",
    "cosmo.set(params)\n",
    "cosmo.compute()\n",
    "z_arr = np.arange(0, 1.1, 0.1)\n",
    "b_arr = 2.00 *np.ones(len(z_arr))\n",
    "X_arr = [cosmo.angular_distance(z)*(1+z) for z in z_arr]\n",
    "dNdz = np.sin(z_arr*np.pi)**2\n",
    "nz = [list(z_arr), list(dNdz)]\n",
    "cosmo = ccl.Cosmology(Omega_c=0.27, Omega_b=0.049, h=0.67, sigma8=0.81, n_s=0.96)\n",
    "clustering_t = ccl.NumberCountsTracer(cosmo, has_rsd=False, dndz=(z_arr, dNdz), bias=(z_arr, b_arr))\n",
    "lensing_t = ccl.WeakLensingTracer(cosmo, dndz=(z_arr, dNdz))\n",
    "CMBlensing_t = ccl.CMBLensingTracer(cosmo, 1100)\n",
    "\n",
    "#np.savetxt('/home/jaimerz/PhD/LimberJack.jl/nz.txt', nz)\n",
    "#np.savetxt('/home/jaimerz/PhD/LimberJack.jl/bg.txt', b_arr)\n",
    "#np.savetxt('/home/jaimerz/PhD/LimberJack.jl/clustering_tracer.txt', clustering_t.get_kernel(X_arr))\n",
    "#np.savetxt('/home/jaimerz/PhD/LimberJack.jl/lensing_tracer.txt', lensing_t.get_kernel(X_arr))\n",
    "#np.savetxt('/home/jaimerz/PhD/LimberJack.jl/CMBlensing_tracer.txt', CMBlensing_t.get_kernel(X_arr))"
   ]
  },
  {
   "cell_type": "code",
   "execution_count": 13,
   "metadata": {
    "ExecuteTime": {
     "end_time": "2021-11-02T12:41:13.360132Z",
     "start_time": "2021-11-02T12:41:12.731009Z"
    }
   },
   "outputs": [],
   "source": [
    "b_BOSS = 2.00 *np.ones(50)\n",
    "cosmo = ccl.Cosmology(Omega_c=0.27, Omega_b=0.049, h=0.67, sigma8=0.81, n_s=0.96)\n",
    "BOSS_nz = BOSS_mapper.get_nz()\n",
    "BOSS_z = BOSS_nz[0]\n",
    "BOSS_dNdz = BOSS_nz[1]\n",
    "np.savetxt('/home/jaimerz/PhD/LimberJack.jl/BOSS_nz.txt', BOSS_nz)\n",
    "np.savetxt('/home/jaimerz/PhD/LimberJack.jl/BOSS_bg.txt', b_BOSS)\n",
    "\n",
    "BOSS_t = ccl.NumberCountsTracer(cosmo, has_rsd=False, dndz=(BOSS_z, BOSS_dNdz), bias=(BOSS_z, b_BOSS))\n",
    "ACTk_t = ccl.CMBLensingTracer(cosmo, 1100)\n",
    "ACTk_BOSS_cl_t = ccl.angular_cl(cosmo, ACTk_t, BOSS_t, ell_arr) \n",
    "ACTk_ACTk_cl_t = ccl.angular_cl(cosmo, ACTk_t, BOSS_t, ell_arr) \n",
    "BOSS_BOSS_cl_t = ccl.angular_cl(cosmo, ACTk_t, BOSS_t, ell_arr) "
   ]
  },
  {
   "cell_type": "code",
   "execution_count": 14,
   "metadata": {
    "ExecuteTime": {
     "end_time": "2021-11-02T12:41:13.483888Z",
     "start_time": "2021-11-02T12:41:13.361704Z"
    }
   },
   "outputs": [
    {
     "ename": "ValueError",
     "evalue": "operands could not be broadcast together with shapes (12582912,) (3145728,) ",
     "output_type": "error",
     "traceback": [
      "\u001b[0;31m---------------------------------------------------------------------------\u001b[0m",
      "\u001b[0;31mValueError\u001b[0m                                Traceback (most recent call last)",
      "\u001b[0;32m<ipython-input-14-76f9210adba9>\u001b[0m in \u001b[0;36m<module>\u001b[0;34m\u001b[0m\n\u001b[1;32m      1\u001b[0m \u001b[0mACTk_signal_w\u001b[0m \u001b[0;34m=\u001b[0m \u001b[0mACTk_signal\u001b[0m\u001b[0;34m[\u001b[0m\u001b[0;36m0\u001b[0m\u001b[0;34m]\u001b[0m\u001b[0;34m*\u001b[0m\u001b[0mnp\u001b[0m\u001b[0;34m.\u001b[0m\u001b[0mmean\u001b[0m\u001b[0;34m(\u001b[0m\u001b[0mACTk_mapper\u001b[0m\u001b[0;34m.\u001b[0m\u001b[0mpixell_mask\u001b[0m\u001b[0;34m**\u001b[0m\u001b[0;36m2\u001b[0m\u001b[0;34m)\u001b[0m\u001b[0;34m\u001b[0m\u001b[0;34m\u001b[0m\u001b[0m\n\u001b[0;32m----> 2\u001b[0;31m \u001b[0mcl\u001b[0m  \u001b[0;34m=\u001b[0m \u001b[0mhp\u001b[0m\u001b[0;34m.\u001b[0m\u001b[0manafast\u001b[0m\u001b[0;34m(\u001b[0m\u001b[0mBOSS_signal_wrong\u001b[0m\u001b[0;34m[\u001b[0m\u001b[0;36m0\u001b[0m\u001b[0;34m]\u001b[0m\u001b[0;34m*\u001b[0m\u001b[0mBOSS_mask_wrong\u001b[0m\u001b[0;34m,\u001b[0m \u001b[0mACTk_signal_w\u001b[0m\u001b[0;34m*\u001b[0m\u001b[0mACTk_mask\u001b[0m\u001b[0;34m)\u001b[0m\u001b[0;34m\u001b[0m\u001b[0;34m\u001b[0m\u001b[0m\n\u001b[0m\u001b[1;32m      3\u001b[0m \u001b[0mcl\u001b[0m \u001b[0;34m/=\u001b[0m \u001b[0mnp\u001b[0m\u001b[0;34m.\u001b[0m\u001b[0mmean\u001b[0m\u001b[0;34m(\u001b[0m\u001b[0mBOSS_mask_wrong\u001b[0m\u001b[0;34m**\u001b[0m\u001b[0;36m2\u001b[0m\u001b[0;34m*\u001b[0m\u001b[0mACTk_mask\u001b[0m\u001b[0;34m**\u001b[0m\u001b[0;36m2\u001b[0m\u001b[0;34m)\u001b[0m\u001b[0;34m\u001b[0m\u001b[0;34m\u001b[0m\u001b[0m\n\u001b[1;32m      4\u001b[0m \u001b[0mell\u001b[0m \u001b[0;34m=\u001b[0m \u001b[0mnp\u001b[0m\u001b[0;34m.\u001b[0m\u001b[0marange\u001b[0m\u001b[0;34m(\u001b[0m\u001b[0mlen\u001b[0m\u001b[0;34m(\u001b[0m\u001b[0mcl\u001b[0m\u001b[0;34m)\u001b[0m\u001b[0;34m)\u001b[0m\u001b[0;34m\u001b[0m\u001b[0;34m\u001b[0m\u001b[0m\n\u001b[1;32m      5\u001b[0m \u001b[0mprint\u001b[0m\u001b[0;34m(\u001b[0m\u001b[0mell\u001b[0m\u001b[0;34m.\u001b[0m\u001b[0mmax\u001b[0m\u001b[0;34m(\u001b[0m\u001b[0;34m)\u001b[0m\u001b[0;34m)\u001b[0m\u001b[0;34m\u001b[0m\u001b[0;34m\u001b[0m\u001b[0m\n",
      "\u001b[0;31mValueError\u001b[0m: operands could not be broadcast together with shapes (12582912,) (3145728,) "
     ]
    }
   ],
   "source": [
    "ACTk_signal_w = ACTk_signal[0]*np.mean(ACTk_mapper.pixell_mask**2) \n",
    "cl  = hp.anafast(BOSS_signal_wrong[0]*BOSS_mask_wrong, ACTk_signal_w*ACTk_mask)\n",
    "cl /= np.mean(BOSS_mask_wrong**2*ACTk_mask**2)\n",
    "ell = np.arange(len(cl))\n",
    "print(ell.max())\n",
    "# Bin the resulting spectra as well as the ell values\n",
    "bins      = np.linspace(50, 3000, 20)\n",
    "digitized = np.digitize(ell, bins)\n",
    "cl_binned  = [cl[digitized == i].mean() for i in range(1, len(bins))]\n",
    "ell_binned = [ell[digitized == i].mean() for i in range(1, len(bins))]"
   ]
  },
  {
   "cell_type": "code",
   "execution_count": null,
   "metadata": {
    "ExecuteTime": {
     "end_time": "2021-11-02T12:41:13.485793Z",
     "start_time": "2021-11-02T12:40:48.163Z"
    }
   },
   "outputs": [],
   "source": [
    "# Now plot the quick powerspectrum we just made\n",
    "plt.figure(figsize = (8,6))\n",
    "plt.rc('font', family='serif')\n",
    "plt.plot(ell_binned, cl_binned, 'r-', label='Anafast Cl')\n",
    "plt.plot(ref['ell'], ref['cl'] , 'b--', label='Reference')\n",
    "plt.plot(ell_arr, ACTk_BOSS_cl_t , 'k--', label='Theory')\n",
    "plt.xlabel('L')\n",
    "plt.ylabel('$C_{L}$')\n",
    "plt.xlim(100, 3000)\n",
    "plt.title(\"CMASS Galaxies x ACT Lensing Map\", fontsize = 20)\n",
    "plt.loglog()\n",
    "plt.legend(loc='lower left', ncol=2, labelspacing=0.1)\n",
    "plt.show()"
   ]
  },
  {
   "cell_type": "markdown",
   "metadata": {},
   "source": [
    "### CCL calculation "
   ]
  },
  {
   "cell_type": "code",
   "execution_count": null,
   "metadata": {
    "ExecuteTime": {
     "end_time": "2021-11-02T12:41:13.486577Z",
     "start_time": "2021-11-02T12:40:48.164Z"
    }
   },
   "outputs": [],
   "source": [
    "#ACTk_mapper.signal_map = ACTk_mapper.signal_map/np.mean(ACTk_mapper.pixell_mask**2)"
   ]
  },
  {
   "cell_type": "code",
   "execution_count": null,
   "metadata": {
    "ExecuteTime": {
     "end_time": "2021-11-02T12:41:13.487270Z",
     "start_time": "2021-11-02T12:40:48.165Z"
    }
   },
   "outputs": [],
   "source": [
    "mod = np.mean(ACTk_mapper.pixell_mask**2)*np.mean(ACTk_mapper.mask*BOSS_mapper.mask)\n",
    "#mod = np.mean(ACTk_mapper.mask**2)*np.mean(ACTk_mapper.mask*BOSS_mapper.mask)\n",
    "mod /= np.mean(ACTk_mapper.mask**3*BOSS_mapper.mask)\n",
    "mod"
   ]
  },
  {
   "cell_type": "code",
   "execution_count": null,
   "metadata": {
    "ExecuteTime": {
     "end_time": "2021-11-02T12:41:13.488203Z",
     "start_time": "2021-11-02T12:40:48.166Z"
    }
   },
   "outputs": [],
   "source": [
    "cl_ACTk_BOSS, cl_ACTk_BOSS_dc = compute_cl(ACTk_mapper, BOSS_mapper, bands, 'wsp_ACTk_BOSS.fits')"
   ]
  },
  {
   "cell_type": "code",
   "execution_count": null,
   "metadata": {
    "ExecuteTime": {
     "end_time": "2021-11-02T12:41:13.489618Z",
     "start_time": "2021-11-02T12:40:48.167Z"
    }
   },
   "outputs": [],
   "source": [
    "plt.plot(ell_arr, cl_ACTk_BOSS_dc[0], 'r-', label='MCM*Pcl')\n",
    "plt.plot(ell_arr, mod*cl_ACTk_BOSS_dc[0] , 'g-', label='MCM*Pcl*mod')\n",
    "plt.plot(ell_arr, ACTk_BOSS_cl_t , 'r--', label='Theory')\n",
    "plt.plot(ref['ell'], ref['cl'] , 'b--', label='Reference')\n",
    "plt.loglog()\n",
    "plt.title('BOSS-ACTk')\n",
    "plt.xlabel('$\\\\ell$', fontsize=16)\n",
    "plt.ylabel('$C_\\\\ell$', fontsize=16)\n",
    "plt.legend(loc='lower left', ncol=2, labelspacing=0.1)\n",
    "plt.show()"
   ]
  },
  {
   "cell_type": "markdown",
   "metadata": {},
   "source": [
    "# ACT tSZ"
   ]
  },
  {
   "cell_type": "code",
   "execution_count": null,
   "metadata": {
    "ExecuteTime": {
     "end_time": "2021-11-02T12:41:13.490491Z",
     "start_time": "2021-11-02T12:40:48.170Z"
    }
   },
   "outputs": [],
   "source": [
    "ACTtSZ_mapper = MapperACTtSZ(ACTtSZ_config)"
   ]
  },
  {
   "cell_type": "code",
   "execution_count": null,
   "metadata": {
    "ExecuteTime": {
     "end_time": "2021-11-02T12:41:13.491612Z",
     "start_time": "2021-11-02T12:40:48.171Z"
    }
   },
   "outputs": [],
   "source": [
    "#fits.open(path_ACT+'tilec_single_tile_D56_comptony_map_v1.2.0_joint_noise.fits')\n",
    "# This file seems to be corrupted"
   ]
  },
  {
   "cell_type": "code",
   "execution_count": null,
   "metadata": {
    "ExecuteTime": {
     "end_time": "2021-11-02T12:41:13.492774Z",
     "start_time": "2021-11-02T12:40:48.173Z"
    }
   },
   "outputs": [],
   "source": [
    "ACTtSZ_signal = ACTtSZ_mapper.get_signal_map() \n",
    "ACTtSZ_mask = ACTtSZ_mapper.get_mask()\n",
    "ACTtSZ_noise = ACTtSZ_mapper.get_noise()"
   ]
  },
  {
   "cell_type": "markdown",
   "metadata": {},
   "source": [
    "## Plots"
   ]
  },
  {
   "cell_type": "code",
   "execution_count": null,
   "metadata": {
    "ExecuteTime": {
     "end_time": "2021-11-02T12:41:13.493536Z",
     "start_time": "2021-11-02T12:40:48.174Z"
    }
   },
   "outputs": [],
   "source": [
    "hp.visufunc.mollview(ACTtSZ_signal[0], title= r'ACT_tSZ')"
   ]
  },
  {
   "cell_type": "code",
   "execution_count": null,
   "metadata": {
    "ExecuteTime": {
     "end_time": "2021-11-02T12:41:13.494208Z",
     "start_time": "2021-11-02T12:40:48.175Z"
    }
   },
   "outputs": [],
   "source": [
    "hp.visufunc.mollview(ACTtSZ_mask, title= r'ACT_tSZ')"
   ]
  },
  {
   "cell_type": "code",
   "execution_count": null,
   "metadata": {
    "ExecuteTime": {
     "end_time": "2021-11-02T12:41:13.494992Z",
     "start_time": "2021-11-02T12:40:48.176Z"
    }
   },
   "outputs": [],
   "source": [
    "hp.visufunc.mollview(ACTtSZ_noise, title= r'ACT_tSZ')"
   ]
  },
  {
   "cell_type": "markdown",
   "metadata": {},
   "source": [
    "## Cls"
   ]
  },
  {
   "cell_type": "code",
   "execution_count": null,
   "metadata": {
    "ExecuteTime": {
     "end_time": "2021-11-02T12:41:13.495682Z",
     "start_time": "2021-11-02T12:40:48.178Z"
    }
   },
   "outputs": [],
   "source": [
    "tSZ_nl = ACTtSZ_mapper.get_nl_coupled()"
   ]
  },
  {
   "cell_type": "code",
   "execution_count": null,
   "metadata": {
    "ExecuteTime": {
     "end_time": "2021-11-02T12:41:13.496832Z",
     "start_time": "2021-11-02T12:40:48.180Z"
    }
   },
   "outputs": [],
   "source": [
    "tSZ_cl, tSZ_cl_dc = compute_cl(ACTtSZ_mapper, ACTtSZ_mapper, bands, 'wsp_ACTk_BOSS.fits')\n",
    "tSZ_dl_dc = ell_arr**2*tSZ_cl/(2*np.pi)"
   ]
  },
  {
   "cell_type": "code",
   "execution_count": null,
   "metadata": {
    "ExecuteTime": {
     "end_time": "2021-11-02T12:41:13.497956Z",
     "start_time": "2021-11-02T12:40:48.182Z"
    }
   },
   "outputs": [],
   "source": [
    "plt.plot(ell_arr, tSZ_cl[0], 'r-', label='cl')\n",
    "plt.loglog()\n",
    "plt.title('ACTtSZ ')\n",
    "plt.xlabel('$\\\\ell$', fontsize=16)\n",
    "plt.ylabel('$C_\\\\ell$', fontsize=16)\n",
    "plt.legend(loc='lower left', ncol=2, labelspacing=0.1)\n",
    "plt.show()"
   ]
  },
  {
   "cell_type": "code",
   "execution_count": null,
   "metadata": {
    "ExecuteTime": {
     "end_time": "2021-11-02T12:41:13.498928Z",
     "start_time": "2021-11-02T12:40:48.184Z"
    }
   },
   "outputs": [],
   "source": [
    "plt.plot(ell_arr, tSZ_dl[0], 'r-', label='dl')\n",
    "plt.yscale('log')\n",
    "plt.title('ACTtSZ ')\n",
    "plt.xlabel('$\\\\ell$', fontsize=16)\n",
    "plt.ylabel('$D_\\\\ell$', fontsize=16)\n",
    "plt.legend(loc='lower left', ncol=2, labelspacing=0.1)\n",
    "plt.show()"
   ]
  },
  {
   "cell_type": "code",
   "execution_count": null,
   "metadata": {},
   "outputs": [],
   "source": []
  },
  {
   "cell_type": "code",
   "execution_count": null,
   "metadata": {},
   "outputs": [],
   "source": []
  }
 ],
 "metadata": {
  "kernelspec": {
   "display_name": "Python 3",
   "language": "python",
   "name": "python3"
  },
  "language_info": {
   "codemirror_mode": {
    "name": "ipython",
    "version": 3
   },
   "file_extension": ".py",
   "mimetype": "text/x-python",
   "name": "python",
   "nbconvert_exporter": "python",
   "pygments_lexer": "ipython3",
   "version": "3.8.5"
  }
 },
 "nbformat": 4,
 "nbformat_minor": 4
}
