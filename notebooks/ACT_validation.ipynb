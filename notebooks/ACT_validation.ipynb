{
 "cells": [
  {
   "cell_type": "markdown",
   "metadata": {},
   "source": [
    "# ACT validation"
   ]
  },
  {
   "cell_type": "code",
   "execution_count": 1,
   "metadata": {
    "ExecuteTime": {
     "end_time": "2021-11-02T11:25:32.361542Z",
     "start_time": "2021-11-02T11:25:31.076999Z"
    }
   },
   "outputs": [],
   "source": [
    "# some_file.py\n",
    "import sys\n",
    "# insert at 1, 0 is the script path (or '' in REPL)\n",
    "\n",
    "sys.path.insert(1, '/home/jaimerz/PhD/xCell')\n",
    "\n",
    "\n",
    "from xcell.mappers import MapperBOSS\n",
    "from xcell.mappers import MapperACTk\n",
    "from xcell.mappers import MapperACTtSZ\n",
    "from xcell.mappers import utils\n",
    "from astropy.io import fits\n",
    "from astropy.table import Table\n",
    "import pyccl as ccl\n",
    "import numpy as np\n",
    "import pylab as plt\n",
    "import pymaster as nmt\n",
    "import healpy as hp\n",
    "import numpy as np\n",
    "import os"
   ]
  },
  {
   "cell_type": "code",
   "execution_count": 2,
   "metadata": {
    "ExecuteTime": {
     "end_time": "2021-11-02T11:25:32.367154Z",
     "start_time": "2021-11-02T11:25:32.363592Z"
    }
   },
   "outputs": [],
   "source": [
    "def compute_cl(mapper_a, mapper_b, bands, wsp_file):\n",
    "    # Compute the power spectrum (a la anafast) of the masked fields\n",
    "    # Note that we only use n_iter=0 here to speed up the computation,\n",
    "    # but the default value of 3 is recommended in general.\n",
    "    n_a = mapper_a.mask_power\n",
    "    n_b = mapper_b.mask_power\n",
    "    f_a = mapper_a.get_nmt_field()\n",
    "    f_b = mapper_b.get_nmt_field()\n",
    "    w_a = mapper_a.get_mask()\n",
    "    w_b = mapper_b.get_mask()\n",
    "    cl_coupled = nmt.compute_coupled_cell(f_a, f_b)\n",
    "    wsp = nmt.NmtWorkspace()\n",
    "    #if os.path.isfile(wsp_file):\n",
    "    #    wsp.read_from(wsp_file)\n",
    "    #else:\n",
    "    #    wsp.write_to(wsp_file)\n",
    "    wsp.compute_coupling_matrix(f_a, f_b, bands)\n",
    "    \n",
    "    if (n_a > 1) or (n_b > 1):\n",
    "        cl_coupled *= np.mean(w_a**(n_a-1))*np.mean(w_b**(n_b-1))\n",
    "        cl_coupled *= np.mean(w_a*w_b)/np.mean(w_a**n_a*w_b**n_b)   \n",
    "    \n",
    "    cl_decoupled = wsp.decouple_cell(cl_coupled)\n",
    "\n",
    "    return cl_coupled, cl_decoupled"
   ]
  },
  {
   "cell_type": "markdown",
   "metadata": {},
   "source": [
    "# Configs"
   ]
  },
  {
   "cell_type": "code",
   "execution_count": 3,
   "metadata": {
    "ExecuteTime": {
     "end_time": "2021-11-02T11:25:32.375166Z",
     "start_time": "2021-11-02T11:25:32.369712Z"
    }
   },
   "outputs": [],
   "source": [
    "nside = 128\n",
    "path_ACT = '/home/jaimerz/PhD/xCell/data/ACT/'\n",
    "ACTk_config = {'file_map':path_ACT+'act_planck_dr4.01_s14s15_D56_lensing_kappa_baseline.fits',\n",
    "               'file_mask':path_ACT+'act_dr4.01_s14s15_D56_lensing_mask.fits',\n",
    "               'mask_name': 'mask_CMBK',\n",
    "               'nside': nside, \n",
    "               'mask_power': 1}\n",
    "ACTtSZ_config = {'file_map':path_ACT+'tilec_single_tile_D56_comptony_map_v1.2.0_joint.fits',\n",
    "                 'file_noise': path_ACT+'tilec_single_tile_D56_comptony_map_v1.2.0_joint_noise.fits',\n",
    "                 'file_beam': path_ACT+'tilec_single_tile_D56_comptony_map_v1.2.0_joint_beam.fits',\n",
    "               'file_mask': path_ACT+'masks/compsep_masks/act_dr4.01_s14s15_D56_compsep_mask.fits',\n",
    "               'mask_name': 'mask_CMBtSZ',\n",
    "               'nside': nside}\n",
    "path_BOSS = '/home/jaimerz/PhD/xCell/data/BOSS/'\n",
    "BOSS_config = {'data_catalogs': [path_BOSS+'galaxy_DR12v5_CMASSLOWZTOT_South.fits'], \n",
    "               'random_catalogs':[path_BOSS+'random0_DR12v5_CMASSLOWZTOT_South.fits'],\n",
    "               #'file_mask': [path_ACT+'act_dr4.01_s14s15_D56_lensing_mask.fits'],\n",
    "               'file_mask': [path_BOSS+'mask_DR12v5_CMASSLOWZTOT_South.fits'], \n",
    "               'SDSS_name': 'BOSS',\n",
    "               'mask_name': 'mask_BOSS', \n",
    "               'nside': nside}\n",
    "path = '/home/jaimerz/PhD/xCell/'\n",
    "c_test = {'file_map': path+'xcell/tests/data/map.fits',\n",
    "        'file_mask': path+'xcell/tests/data/map.fits',\n",
    "        'nside': 32}"
   ]
  },
  {
   "cell_type": "code",
   "execution_count": 4,
   "metadata": {
    "ExecuteTime": {
     "end_time": "2021-11-02T11:25:32.382805Z",
     "start_time": "2021-11-02T11:25:32.377423Z"
    }
   },
   "outputs": [],
   "source": [
    "#ells = np.array([0, 30, 60, 90, 120, 150, 180, 210, 240, 272, 309,\n",
    "#        351, 398, 452, 513, 582, 661, 750, 852,  967, 1098, 1247, 1416, 1536, 1608, 1826, 2073, 2354, 2673, 3072])\n",
    "ells = []\n",
    "i = 11.5\n",
    "while i <= 3*nside: #l[-1]:\n",
    "    ells.append(round(i))\n",
    "    #i = i*(1+i/(3 * nside))\n",
    "    i = i+40*(1+i/500)\n",
    "bands = nmt.NmtBin.from_edges(ells[:-1], ells[1:])\n",
    "ell_arr = bands.get_effective_ells()"
   ]
  },
  {
   "cell_type": "markdown",
   "metadata": {},
   "source": [
    "# ACTk X BOSS"
   ]
  },
  {
   "cell_type": "code",
   "execution_count": 5,
   "metadata": {
    "ExecuteTime": {
     "end_time": "2021-11-02T11:25:32.388597Z",
     "start_time": "2021-11-02T11:25:32.384351Z"
    }
   },
   "outputs": [],
   "source": [
    "ACTk_mapper = MapperACTk(ACTk_config)\n",
    "BOSS_mapper_wrong = MapperBOSS(BOSS_config)\n",
    "BOSS_mapper = MapperBOSS(BOSS_config)"
   ]
  },
  {
   "cell_type": "code",
   "execution_count": 6,
   "metadata": {
    "ExecuteTime": {
     "end_time": "2021-11-02T11:25:32.498619Z",
     "start_time": "2021-11-02T11:25:32.390940Z"
    }
   },
   "outputs": [],
   "source": [
    "BOSS_wrong_signal = np.load('/home/jaimerz/PhD/xCell/data/BOSS/Wrong_CMASS_delta.npz')['signal_map']"
   ]
  },
  {
   "cell_type": "code",
   "execution_count": 7,
   "metadata": {
    "ExecuteTime": {
     "end_time": "2021-11-02T11:25:50.415510Z",
     "start_time": "2021-11-02T11:25:32.500302Z"
    }
   },
   "outputs": [
    {
     "name": "stderr",
     "output_type": "stream",
     "text": [
      "/home/jaimerz/.local/lib/python3.8/site-packages/healpy/sphtfunc.py:822: UserWarning: Sigma is 0.000000 arcmin (0.000000 rad) \n",
      "  warnings.warn(\n",
      "/home/jaimerz/.local/lib/python3.8/site-packages/healpy/sphtfunc.py:827: UserWarning: -> fwhm is 0.000000 arcmin\n",
      "  warnings.warn(\n",
      "/home/jaimerz/.local/lib/python3.8/site-packages/healpy/sphtfunc.py:822: UserWarning: Sigma is 0.000000 arcmin (0.000000 rad) \n",
      "  warnings.warn(\n",
      "/home/jaimerz/.local/lib/python3.8/site-packages/healpy/sphtfunc.py:827: UserWarning: -> fwhm is 0.000000 arcmin\n",
      "  warnings.warn(\n"
     ]
    }
   ],
   "source": [
    "ACTk_signal = ACTk_mapper.get_signal_map()\n",
    "ACTk_mask = ACTk_mapper.get_mask()\n",
    "\n",
    "BOSS_mapper_wrong.delta_map = BOSS_wrong_signal[0]\n",
    "BOSS_signal_wrong = BOSS_mapper_wrong.get_signal_map()\n",
    "BOSS_mapper_wrong.mask = ACTk_mask\n",
    "BOSS_mask_wrong = BOSS_mapper_wrong.get_mask()\n",
    "\n",
    "BOSS_signal = BOSS_mapper.get_signal_map()\n",
    "BOSS_mask = BOSS_mapper.get_mask()"
   ]
  },
  {
   "cell_type": "code",
   "execution_count": 8,
   "metadata": {
    "ExecuteTime": {
     "end_time": "2021-11-02T11:25:50.424742Z",
     "start_time": "2021-11-02T11:25:50.417963Z"
    }
   },
   "outputs": [
    {
     "data": {
      "text/plain": [
       "128.0"
      ]
     },
     "execution_count": 8,
     "metadata": {},
     "output_type": "execute_result"
    }
   ],
   "source": [
    "(len(ACTk_signal[0])/12)**(1/2)"
   ]
  },
  {
   "cell_type": "markdown",
   "metadata": {},
   "source": [
    "## Plots"
   ]
  },
  {
   "cell_type": "code",
   "execution_count": 9,
   "metadata": {
    "ExecuteTime": {
     "end_time": "2021-11-02T11:25:50.707414Z",
     "start_time": "2021-11-02T11:25:50.427938Z"
    }
   },
   "outputs": [
    {
     "name": "stderr",
     "output_type": "stream",
     "text": [
      "/home/jaimerz/.local/lib/python3.8/site-packages/healpy/projaxes.py:920: MatplotlibDeprecationWarning: You are modifying the state of a globally registered colormap. In future versions, you will not be able to modify a registered colormap in-place. To remove this warning, you can make a copy of the colormap first. cmap = copy.copy(mpl.cm.get_cmap(\"viridis\"))\n",
      "  newcm.set_over(newcm(1.0))\n",
      "/home/jaimerz/.local/lib/python3.8/site-packages/healpy/projaxes.py:921: MatplotlibDeprecationWarning: You are modifying the state of a globally registered colormap. In future versions, you will not be able to modify a registered colormap in-place. To remove this warning, you can make a copy of the colormap first. cmap = copy.copy(mpl.cm.get_cmap(\"viridis\"))\n",
      "  newcm.set_under(bgcolor)\n",
      "/home/jaimerz/.local/lib/python3.8/site-packages/healpy/projaxes.py:922: MatplotlibDeprecationWarning: You are modifying the state of a globally registered colormap. In future versions, you will not be able to modify a registered colormap in-place. To remove this warning, you can make a copy of the colormap first. cmap = copy.copy(mpl.cm.get_cmap(\"viridis\"))\n",
      "  newcm.set_bad(badcolor)\n",
      "/home/jaimerz/.local/lib/python3.8/site-packages/healpy/projaxes.py:202: MatplotlibDeprecationWarning: Passing parameters norm and vmin/vmax simultaneously is deprecated since 3.3 and will become an error two minor releases later. Please pass vmin/vmax directly to the norm when creating it.\n",
      "  aximg = self.imshow(\n"
     ]
    },
    {
     "data": {
      "image/png": "[encoded data removed]",
      "text/plain": [
       "<Figure size 612x388.8 with 2 Axes>"
      ]
     },
     "metadata": {
      "needs_background": "light"
     },
     "output_type": "display_data"
    }
   ],
   "source": [
    "hp.visufunc.mollview(ACTk_signal[0], title= r'ACT_$\\kappa$')"
   ]
  },
  {
   "cell_type": "code",
   "execution_count": 10,
   "metadata": {
    "ExecuteTime": {
     "end_time": "2021-11-02T11:25:50.881215Z",
     "start_time": "2021-11-02T11:25:50.708754Z"
    }
   },
   "outputs": [
    {
     "data": {
      "image/png": "[encoded data removed]",
      "text/plain": [
       "<Figure size 612x388.8 with 2 Axes>"
      ]
     },
     "metadata": {
      "needs_background": "light"
     },
     "output_type": "display_data"
    }
   ],
   "source": [
    "hp.visufunc.mollview(BOSS_signal[0], title= r'CMB_$\\kappa$')"
   ]
  },
  {
   "cell_type": "code",
   "execution_count": 11,
   "metadata": {
    "ExecuteTime": {
     "end_time": "2021-11-02T11:25:50.893454Z",
     "start_time": "2021-11-02T11:25:50.882633Z"
    }
   },
   "outputs": [],
   "source": [
    "ref = np.load('/home/jaimerz/PhD/xCell/data/ACT/ACTk_BOSS_cl.npz')"
   ]
  },
  {
   "cell_type": "markdown",
   "metadata": {},
   "source": [
    "## Cls"
   ]
  },
  {
   "cell_type": "markdown",
   "metadata": {
    "ExecuteTime": {
     "end_time": "2021-10-22T08:40:36.618226Z",
     "start_time": "2021-10-22T08:40:36.615997Z"
    }
   },
   "source": [
    "### Calculation with anafast"
   ]
  },
  {
   "cell_type": "code",
   "execution_count": 12,
   "metadata": {
    "ExecuteTime": {
     "end_time": "2021-11-02T11:25:51.028741Z",
     "start_time": "2021-11-02T11:25:50.894993Z"
    }
   },
   "outputs": [],
   "source": [
    "cosmo = ccl.boltzmann.classy.Class()\n",
    "params = {'h': 0.67,\n",
    "'Omega_cdm': 0.25, #0.237153,\n",
    "'Omega_b': 0.05,\n",
    "'n_s': 0.9649,\n",
    "'ln10^{10}A_s': 3.045}\n",
    "cosmo.set(params)\n",
    "cosmo.compute()\n",
    "z_arr = np.arange(0, 1.1, 0.1)\n",
    "b_arr = 2.00 *np.ones(len(z_arr))\n",
    "X_arr = [cosmo.angular_distance(z)*(1+z) for z in z_arr]\n",
    "dNdz = np.sin(z_arr*np.pi)**2\n",
    "nz = [list(z_arr), list(dNdz)]\n",
    "cosmo = ccl.Cosmology(Omega_c=0.27, Omega_b=0.049, h=0.67, sigma8=0.81, n_s=0.96)\n",
    "clustering_t = ccl.NumberCountsTracer(cosmo, has_rsd=False, dndz=(z_arr, dNdz), bias=(z_arr, b_arr))\n",
    "lensing_t = ccl.WeakLensingTracer(cosmo, dndz=(z_arr, dNdz))\n",
    "CMBlensing_t = ccl.CMBLensingTracer(cosmo, 1100)\n",
    "\n",
    "#np.savetxt('/home/jaimerz/PhD/LimberJack.jl/nz.txt', nz)\n",
    "#np.savetxt('/home/jaimerz/PhD/LimberJack.jl/bg.txt', b_arr)\n",
    "#np.savetxt('/home/jaimerz/PhD/LimberJack.jl/clustering_tracer.txt', clustering_t.get_kernel(X_arr))\n",
    "#np.savetxt('/home/jaimerz/PhD/LimberJack.jl/lensing_tracer.txt', lensing_t.get_kernel(X_arr))\n",
    "#np.savetxt('/home/jaimerz/PhD/LimberJack.jl/CMBlensing_tracer.txt', CMBlensing_t.get_kernel(X_arr))"
   ]
  },
  {
   "cell_type": "code",
   "execution_count": 13,
   "metadata": {
    "ExecuteTime": {
     "end_time": "2021-11-02T11:25:51.420034Z",
     "start_time": "2021-11-02T11:25:51.030069Z"
    }
   },
   "outputs": [],
   "source": [
    "b_BOSS = 2.00 *np.ones(50)\n",
    "cosmo = ccl.Cosmology(Omega_c=0.27, Omega_b=0.049, h=0.67, sigma8=0.81, n_s=0.96)\n",
    "BOSS_nz = BOSS_mapper.get_nz()\n",
    "BOSS_z = BOSS_nz[0]\n",
    "BOSS_dNdz = BOSS_nz[1]\n",
    "np.savetxt('/home/jaimerz/PhD/LimberJack.jl/BOSS_nz.txt', BOSS_nz)\n",
    "np.savetxt('/home/jaimerz/PhD/LimberJack.jl/BOSS_bg.txt', b_BOSS)\n",
    "\n",
    "BOSS_t = ccl.NumberCountsTracer(cosmo, has_rsd=False, dndz=(BOSS_z, BOSS_dNdz), bias=(BOSS_z, b_BOSS))\n",
    "ACTk_t = ccl.CMBLensingTracer(cosmo, 1100)\n",
    "ACTk_BOSS_cl_t = ccl.angular_cl(cosmo, ACTk_t, BOSS_t, ell_arr) \n",
    "ACTk_ACTk_cl_t = ccl.angular_cl(cosmo, ACTk_t, BOSS_t, ell_arr) \n",
    "BOSS_BOSS_cl_t = ccl.angular_cl(cosmo, ACTk_t, BOSS_t, ell_arr) "
   ]
  },
  {
   "cell_type": "code",
   "execution_count": 14,
   "metadata": {
    "ExecuteTime": {
     "end_time": "2021-11-02T11:25:51.527783Z",
     "start_time": "2021-11-02T11:25:51.423072Z"
    }
   },
   "outputs": [
    {
     "ename": "ValueError",
     "evalue": "operands could not be broadcast together with shapes (12582912,) (196608,) ",
     "output_type": "error",
     "traceback": [
      "\u001b[0;31m---------------------------------------------------------------------------\u001b[0m",
      "\u001b[0;31mValueError\u001b[0m                                Traceback (most recent call last)",
      "\u001b[0;32m<ipython-input-14-76f9210adba9>\u001b[0m in \u001b[0;36m<module>\u001b[0;34m\u001b[0m\n\u001b[1;32m      1\u001b[0m \u001b[0mACTk_signal_w\u001b[0m \u001b[0;34m=\u001b[0m \u001b[0mACTk_signal\u001b[0m\u001b[0;34m[\u001b[0m\u001b[0;36m0\u001b[0m\u001b[0;34m]\u001b[0m\u001b[0;34m*\u001b[0m\u001b[0mnp\u001b[0m\u001b[0;34m.\u001b[0m\u001b[0mmean\u001b[0m\u001b[0;34m(\u001b[0m\u001b[0mACTk_mapper\u001b[0m\u001b[0;34m.\u001b[0m\u001b[0mpixell_mask\u001b[0m\u001b[0;34m**\u001b[0m\u001b[0;36m2\u001b[0m\u001b[0;34m)\u001b[0m\u001b[0;34m\u001b[0m\u001b[0;34m\u001b[0m\u001b[0m\n\u001b[0;32m----> 2\u001b[0;31m \u001b[0mcl\u001b[0m  \u001b[0;34m=\u001b[0m \u001b[0mhp\u001b[0m\u001b[0;34m.\u001b[0m\u001b[0manafast\u001b[0m\u001b[0;34m(\u001b[0m\u001b[0mBOSS_signal_wrong\u001b[0m\u001b[0;34m[\u001b[0m\u001b[0;36m0\u001b[0m\u001b[0;34m]\u001b[0m\u001b[0;34m*\u001b[0m\u001b[0mBOSS_mask_wrong\u001b[0m\u001b[0;34m,\u001b[0m \u001b[0mACTk_signal_w\u001b[0m\u001b[0;34m*\u001b[0m\u001b[0mACTk_mask\u001b[0m\u001b[0;34m)\u001b[0m\u001b[0;34m\u001b[0m\u001b[0;34m\u001b[0m\u001b[0m\n\u001b[0m\u001b[1;32m      3\u001b[0m \u001b[0mcl\u001b[0m \u001b[0;34m/=\u001b[0m \u001b[0mnp\u001b[0m\u001b[0;34m.\u001b[0m\u001b[0mmean\u001b[0m\u001b[0;34m(\u001b[0m\u001b[0mBOSS_mask_wrong\u001b[0m\u001b[0;34m**\u001b[0m\u001b[0;36m2\u001b[0m\u001b[0;34m*\u001b[0m\u001b[0mACTk_mask\u001b[0m\u001b[0;34m**\u001b[0m\u001b[0;36m2\u001b[0m\u001b[0;34m)\u001b[0m\u001b[0;34m\u001b[0m\u001b[0;34m\u001b[0m\u001b[0m\n\u001b[1;32m      4\u001b[0m \u001b[0mell\u001b[0m \u001b[0;34m=\u001b[0m \u001b[0mnp\u001b[0m\u001b[0;34m.\u001b[0m\u001b[0marange\u001b[0m\u001b[0;34m(\u001b[0m\u001b[0mlen\u001b[0m\u001b[0;34m(\u001b[0m\u001b[0mcl\u001b[0m\u001b[0;34m)\u001b[0m\u001b[0;34m)\u001b[0m\u001b[0;34m\u001b[0m\u001b[0;34m\u001b[0m\u001b[0m\n\u001b[1;32m      5\u001b[0m \u001b[0mprint\u001b[0m\u001b[0;34m(\u001b[0m\u001b[0mell\u001b[0m\u001b[0;34m.\u001b[0m\u001b[0mmax\u001b[0m\u001b[0;34m(\u001b[0m\u001b[0;34m)\u001b[0m\u001b[0;34m)\u001b[0m\u001b[0;34m\u001b[0m\u001b[0;34m\u001b[0m\u001b[0m\n",
      "\u001b[0;31mValueError\u001b[0m: operands could not be broadcast together with shapes (12582912,) (196608,) "
     ]
    }
   ],
   "source": [
    "ACTk_signal_w = ACTk_signal[0]*np.mean(ACTk_mapper.pixell_mask**2) \n",
    "cl  = hp.anafast(BOSS_signal_wrong[0]*BOSS_mask_wrong, ACTk_signal_w*ACTk_mask)\n",
    "cl /= np.mean(BOSS_mask_wrong**2*ACTk_mask**2)\n",
    "ell = np.arange(len(cl))\n",
    "print(ell.max())\n",
    "# Bin the resulting spectra as well as the ell values\n",
    "bins      = np.linspace(50, 3000, 20)\n",
    "digitized = np.digitize(ell, bins)\n",
    "cl_binned  = [cl[digitized == i].mean() for i in range(1, len(bins))]\n",
    "ell_binned = [ell[digitized == i].mean() for i in range(1, len(bins))]"
   ]
  },
  {
   "cell_type": "code",
   "execution_count": null,
   "metadata": {
    "ExecuteTime": {
     "end_time": "2021-11-02T11:25:51.529561Z",
     "start_time": "2021-11-02T11:25:31.089Z"
    }
   },
   "outputs": [],
   "source": [
    "# Now plot the quick powerspectrum we just made\n",
    "plt.figure(figsize = (8,6))\n",
    "plt.rc('font', family='serif')\n",
    "plt.plot(ell_binned, cl_binned, 'r-', label='Anafast Cl')\n",
    "plt.plot(ref['ell'], ref['cl'] , 'b--', label='Reference')\n",
    "plt.plot(ell_arr, ACTk_BOSS_cl_t , 'k--', label='Theory')\n",
    "plt.xlabel('L')\n",
    "plt.ylabel('$C_{L}$')\n",
    "plt.xlim(100, 3000)\n",
    "plt.title(\"CMASS Galaxies x ACT Lensing Map\", fontsize = 20)\n",
    "plt.loglog()\n",
    "plt.legend(loc='lower left', ncol=2, labelspacing=0.1)\n",
    "plt.show()"
   ]
  },
  {
   "cell_type": "markdown",
   "metadata": {},
   "source": [
    "### CCL calculation "
   ]
  },
  {
   "cell_type": "code",
   "execution_count": null,
   "metadata": {
    "ExecuteTime": {
     "end_time": "2021-11-02T11:25:51.530179Z",
     "start_time": "2021-11-02T11:25:31.091Z"
    }
   },
   "outputs": [],
   "source": [
    "#ACTk_mapper.signal_map = ACTk_mapper.signal_map/np.mean(ACTk_mapper.pixell_mask**2)"
   ]
  },
  {
   "cell_type": "code",
   "execution_count": null,
   "metadata": {
    "ExecuteTime": {
     "end_time": "2021-11-02T11:25:51.531447Z",
     "start_time": "2021-11-02T11:25:31.092Z"
    }
   },
   "outputs": [],
   "source": [
    "mod = np.mean(ACTk_mapper.pixell_mask**2)*np.mean(ACTk_mapper.mask*BOSS_mapper.mask)\n",
    "#mod = np.mean(ACTk_mapper.mask**2)*np.mean(ACTk_mapper.mask*BOSS_mapper.mask)\n",
    "mod /= np.mean(ACTk_mapper.mask**3*BOSS_mapper.mask)\n",
    "mod"
   ]
  },
  {
   "cell_type": "code",
   "execution_count": null,
   "metadata": {
    "ExecuteTime": {
     "end_time": "2021-11-02T11:25:51.532398Z",
     "start_time": "2021-11-02T11:25:31.093Z"
    }
   },
   "outputs": [],
   "source": [
    "cl_ACTk_BOSS, cl_ACTk_BOSS_dc = compute_cl(ACTk_mapper, BOSS_mapper, bands, 'wsp_ACTk_BOSS.fits')"
   ]
  },
  {
   "cell_type": "code",
   "execution_count": null,
   "metadata": {
    "ExecuteTime": {
     "end_time": "2021-11-02T11:25:51.533043Z",
     "start_time": "2021-11-02T11:25:31.093Z"
    }
   },
   "outputs": [],
   "source": [
    "plt.plot(ell_arr, cl_ACTk_BOSS_dc[0], 'r-', label='MCM*Pcl')\n",
    "plt.plot(ell_arr, mod*cl_ACTk_BOSS_dc[0] , 'g-', label='MCM*Pcl*mod')\n",
    "plt.plot(ell_arr, ACTk_BOSS_cl_t , 'r--', label='Theory')\n",
    "plt.plot(ref['ell'], ref['cl'] , 'b--', label='Reference')\n",
    "plt.loglog()\n",
    "plt.title('BOSS-ACTk')\n",
    "plt.xlabel('$\\\\ell$', fontsize=16)\n",
    "plt.ylabel('$C_\\\\ell$', fontsize=16)\n",
    "plt.legend(loc='lower left', ncol=2, labelspacing=0.1)\n",
    "plt.show()"
   ]
  },
  {
   "cell_type": "markdown",
   "metadata": {},
   "source": [
    "# ACT tSZ"
   ]
  },
  {
   "cell_type": "code",
   "execution_count": 15,
   "metadata": {
    "ExecuteTime": {
     "end_time": "2021-11-02T11:27:12.262004Z",
     "start_time": "2021-11-02T11:27:12.258561Z"
    }
   },
   "outputs": [],
   "source": [
    "ACTtSZ_mapper = MapperACTtSZ(ACTtSZ_config)"
   ]
  },
  {
   "cell_type": "code",
   "execution_count": 16,
   "metadata": {
    "ExecuteTime": {
     "end_time": "2021-11-02T11:27:12.484820Z",
     "start_time": "2021-11-02T11:27:12.482124Z"
    }
   },
   "outputs": [],
   "source": [
    "#fits.open(path_ACT+'tilec_single_tile_D56_comptony_map_v1.2.0_joint_noise.fits')\n",
    "# This file seems to be corrupted"
   ]
  },
  {
   "cell_type": "code",
   "execution_count": 17,
   "metadata": {
    "ExecuteTime": {
     "end_time": "2021-11-02T11:27:18.653086Z",
     "start_time": "2021-11-02T11:27:12.658667Z"
    }
   },
   "outputs": [
    {
     "name": "stderr",
     "output_type": "stream",
     "text": [
      "/home/jaimerz/.local/lib/python3.8/site-packages/healpy/sphtfunc.py:822: UserWarning: Sigma is 0.000000 arcmin (0.000000 rad) \n",
      "  warnings.warn(\n",
      "/home/jaimerz/.local/lib/python3.8/site-packages/healpy/sphtfunc.py:827: UserWarning: -> fwhm is 0.000000 arcmin\n",
      "  warnings.warn(\n",
      "/home/jaimerz/.local/lib/python3.8/site-packages/healpy/sphtfunc.py:822: UserWarning: Sigma is 0.000000 arcmin (0.000000 rad) \n",
      "  warnings.warn(\n",
      "/home/jaimerz/.local/lib/python3.8/site-packages/healpy/sphtfunc.py:827: UserWarning: -> fwhm is 0.000000 arcmin\n",
      "  warnings.warn(\n"
     ]
    },
    {
     "ename": "OSError",
     "evalue": "Empty or corrupt FITS file",
     "output_type": "error",
     "traceback": [
      "\u001b[0;31m---------------------------------------------------------------------------\u001b[0m",
      "\u001b[0;31mOSError\u001b[0m                                   Traceback (most recent call last)",
      "\u001b[0;32m<ipython-input-17-065f9abed311>\u001b[0m in \u001b[0;36m<module>\u001b[0;34m\u001b[0m\n\u001b[1;32m      1\u001b[0m \u001b[0mACTtSZ_signal\u001b[0m \u001b[0;34m=\u001b[0m \u001b[0mACTtSZ_mapper\u001b[0m\u001b[0;34m.\u001b[0m\u001b[0mget_signal_map\u001b[0m\u001b[0;34m(\u001b[0m\u001b[0;34m)\u001b[0m\u001b[0;34m\u001b[0m\u001b[0;34m\u001b[0m\u001b[0m\n\u001b[1;32m      2\u001b[0m \u001b[0mACTtSZ_mask\u001b[0m \u001b[0;34m=\u001b[0m \u001b[0mACTtSZ_mapper\u001b[0m\u001b[0;34m.\u001b[0m\u001b[0mget_mask\u001b[0m\u001b[0;34m(\u001b[0m\u001b[0;34m)\u001b[0m\u001b[0;34m\u001b[0m\u001b[0;34m\u001b[0m\u001b[0m\n\u001b[0;32m----> 3\u001b[0;31m \u001b[0mACTtSZ_noise\u001b[0m \u001b[0;34m=\u001b[0m \u001b[0mACTtSZ_mapper\u001b[0m\u001b[0;34m.\u001b[0m\u001b[0mget_noise\u001b[0m\u001b[0;34m(\u001b[0m\u001b[0;34m)\u001b[0m\u001b[0;34m\u001b[0m\u001b[0;34m\u001b[0m\u001b[0m\n\u001b[0m",
      "\u001b[0;32m~/PhD/xCell/xcell/mappers/mapper_ACT_base.py\u001b[0m in \u001b[0;36mget_noise\u001b[0;34m(self)\u001b[0m\n\u001b[1;32m     47\u001b[0m     \u001b[0;32mdef\u001b[0m \u001b[0mget_noise\u001b[0m\u001b[0;34m(\u001b[0m\u001b[0mself\u001b[0m\u001b[0;34m)\u001b[0m\u001b[0;34m:\u001b[0m\u001b[0;34m\u001b[0m\u001b[0;34m\u001b[0m\u001b[0m\n\u001b[1;32m     48\u001b[0m         \u001b[0;32mif\u001b[0m \u001b[0mself\u001b[0m\u001b[0;34m.\u001b[0m\u001b[0mnoise\u001b[0m \u001b[0;32mis\u001b[0m \u001b[0;32mNone\u001b[0m\u001b[0;34m:\u001b[0m\u001b[0;34m\u001b[0m\u001b[0;34m\u001b[0m\u001b[0m\n\u001b[0;32m---> 49\u001b[0;31m             \u001b[0mself\u001b[0m\u001b[0;34m.\u001b[0m\u001b[0mnoise\u001b[0m \u001b[0;34m=\u001b[0m \u001b[0menmap\u001b[0m\u001b[0;34m.\u001b[0m\u001b[0mread_map\u001b[0m\u001b[0;34m(\u001b[0m\u001b[0mself\u001b[0m\u001b[0;34m.\u001b[0m\u001b[0mfile_noise\u001b[0m\u001b[0;34m)\u001b[0m\u001b[0;34m\u001b[0m\u001b[0;34m\u001b[0m\u001b[0m\n\u001b[0m\u001b[1;32m     50\u001b[0m             self.noise = reproject.healpix_from_enmap(self.noise,\n\u001b[1;32m     51\u001b[0m                                                      \u001b[0mlmax\u001b[0m \u001b[0;34m=\u001b[0m \u001b[0mself\u001b[0m\u001b[0;34m.\u001b[0m\u001b[0mlmax\u001b[0m\u001b[0;34m,\u001b[0m\u001b[0;34m\u001b[0m\u001b[0;34m\u001b[0m\u001b[0m\n",
      "\u001b[0;32m~/.local/lib/python3.8/site-packages/pixell/enmap.py\u001b[0m in \u001b[0;36mread_map\u001b[0;34m(fname, fmt, sel, box, pixbox, geometry, wrap, mode, sel_threshold, wcs, hdu, delayed, verbose)\u001b[0m\n\u001b[1;32m   2082\u001b[0m                 \u001b[0;32melse\u001b[0m\u001b[0;34m:\u001b[0m \u001b[0mfmt\u001b[0m \u001b[0;34m=\u001b[0m \u001b[0;34m\"fits\"\u001b[0m\u001b[0;34m\u001b[0m\u001b[0;34m\u001b[0m\u001b[0m\n\u001b[1;32m   2083\u001b[0m         \u001b[0;32mif\u001b[0m \u001b[0mfmt\u001b[0m \u001b[0;34m==\u001b[0m \u001b[0;34m\"fits\"\u001b[0m\u001b[0;34m:\u001b[0m\u001b[0;34m\u001b[0m\u001b[0;34m\u001b[0m\u001b[0m\n\u001b[0;32m-> 2084\u001b[0;31m                 \u001b[0mres\u001b[0m \u001b[0;34m=\u001b[0m \u001b[0mread_fits\u001b[0m\u001b[0;34m(\u001b[0m\u001b[0mfname\u001b[0m\u001b[0;34m,\u001b[0m \u001b[0msel\u001b[0m\u001b[0;34m=\u001b[0m\u001b[0msel\u001b[0m\u001b[0;34m,\u001b[0m \u001b[0mbox\u001b[0m\u001b[0;34m=\u001b[0m\u001b[0mbox\u001b[0m\u001b[0;34m,\u001b[0m \u001b[0mpixbox\u001b[0m\u001b[0;34m=\u001b[0m\u001b[0mpixbox\u001b[0m\u001b[0;34m,\u001b[0m \u001b[0mgeometry\u001b[0m\u001b[0;34m=\u001b[0m\u001b[0mgeometry\u001b[0m\u001b[0;34m,\u001b[0m \u001b[0mwrap\u001b[0m\u001b[0;34m=\u001b[0m\u001b[0mwrap\u001b[0m\u001b[0;34m,\u001b[0m \u001b[0mmode\u001b[0m\u001b[0;34m=\u001b[0m\u001b[0mmode\u001b[0m\u001b[0;34m,\u001b[0m \u001b[0msel_threshold\u001b[0m\u001b[0;34m=\u001b[0m\u001b[0msel_threshold\u001b[0m\u001b[0;34m,\u001b[0m \u001b[0mwcs\u001b[0m\u001b[0;34m=\u001b[0m\u001b[0mwcs\u001b[0m\u001b[0;34m,\u001b[0m \u001b[0mhdu\u001b[0m\u001b[0;34m=\u001b[0m\u001b[0mhdu\u001b[0m\u001b[0;34m,\u001b[0m \u001b[0mdelayed\u001b[0m\u001b[0;34m=\u001b[0m\u001b[0mdelayed\u001b[0m\u001b[0;34m,\u001b[0m \u001b[0mverbose\u001b[0m\u001b[0;34m=\u001b[0m\u001b[0mverbose\u001b[0m\u001b[0;34m)\u001b[0m\u001b[0;34m\u001b[0m\u001b[0;34m\u001b[0m\u001b[0m\n\u001b[0m\u001b[1;32m   2085\u001b[0m         \u001b[0;32melif\u001b[0m \u001b[0mfmt\u001b[0m \u001b[0;34m==\u001b[0m \u001b[0;34m\"hdf\"\u001b[0m\u001b[0;34m:\u001b[0m\u001b[0;34m\u001b[0m\u001b[0;34m\u001b[0m\u001b[0m\n\u001b[1;32m   2086\u001b[0m                 \u001b[0mres\u001b[0m \u001b[0;34m=\u001b[0m \u001b[0mread_hdf\u001b[0m\u001b[0;34m(\u001b[0m\u001b[0mfname\u001b[0m\u001b[0;34m,\u001b[0m \u001b[0msel\u001b[0m\u001b[0;34m=\u001b[0m\u001b[0msel\u001b[0m\u001b[0;34m,\u001b[0m \u001b[0mbox\u001b[0m\u001b[0;34m=\u001b[0m\u001b[0mbox\u001b[0m\u001b[0;34m,\u001b[0m \u001b[0mpixbox\u001b[0m\u001b[0;34m=\u001b[0m\u001b[0mpixbox\u001b[0m\u001b[0;34m,\u001b[0m \u001b[0mgeometry\u001b[0m\u001b[0;34m=\u001b[0m\u001b[0mgeometry\u001b[0m\u001b[0;34m,\u001b[0m \u001b[0mwrap\u001b[0m\u001b[0;34m=\u001b[0m\u001b[0mwrap\u001b[0m\u001b[0;34m,\u001b[0m \u001b[0mmode\u001b[0m\u001b[0;34m=\u001b[0m\u001b[0mmode\u001b[0m\u001b[0;34m,\u001b[0m \u001b[0msel_threshold\u001b[0m\u001b[0;34m=\u001b[0m\u001b[0msel_threshold\u001b[0m\u001b[0;34m,\u001b[0m \u001b[0mwcs\u001b[0m\u001b[0;34m=\u001b[0m\u001b[0mwcs\u001b[0m\u001b[0;34m,\u001b[0m \u001b[0mdelayed\u001b[0m\u001b[0;34m=\u001b[0m\u001b[0mdelayed\u001b[0m\u001b[0;34m)\u001b[0m\u001b[0;34m\u001b[0m\u001b[0;34m\u001b[0m\u001b[0m\n",
      "\u001b[0;32m~/.local/lib/python3.8/site-packages/pixell/enmap.py\u001b[0m in \u001b[0;36mread_fits\u001b[0;34m(fname, hdu, sel, box, pixbox, geometry, wrap, mode, sel_threshold, wcs, delayed, verbose)\u001b[0m\n\u001b[1;32m   2169\u001b[0m \ta coordinate box [[yfrom,xfrom],[yto,xto]] can be specified.\"\"\"\n\u001b[1;32m   2170\u001b[0m         \u001b[0;32mif\u001b[0m \u001b[0mhdu\u001b[0m \u001b[0;32mis\u001b[0m \u001b[0;32mNone\u001b[0m\u001b[0;34m:\u001b[0m \u001b[0mhdu\u001b[0m \u001b[0;34m=\u001b[0m \u001b[0;36m0\u001b[0m\u001b[0;34m\u001b[0m\u001b[0;34m\u001b[0m\u001b[0m\n\u001b[0;32m-> 2171\u001b[0;31m         \u001b[0mhdu\u001b[0m \u001b[0;34m=\u001b[0m \u001b[0mastropy\u001b[0m\u001b[0;34m.\u001b[0m\u001b[0mio\u001b[0m\u001b[0;34m.\u001b[0m\u001b[0mfits\u001b[0m\u001b[0;34m.\u001b[0m\u001b[0mopen\u001b[0m\u001b[0;34m(\u001b[0m\u001b[0mfname\u001b[0m\u001b[0;34m)\u001b[0m\u001b[0;34m[\u001b[0m\u001b[0mhdu\u001b[0m\u001b[0;34m]\u001b[0m\u001b[0;34m\u001b[0m\u001b[0;34m\u001b[0m\u001b[0m\n\u001b[0m\u001b[1;32m   2172\u001b[0m         \u001b[0mndim\u001b[0m \u001b[0;34m=\u001b[0m \u001b[0mlen\u001b[0m\u001b[0;34m(\u001b[0m\u001b[0mhdu\u001b[0m\u001b[0;34m.\u001b[0m\u001b[0mshape\u001b[0m\u001b[0;34m)\u001b[0m\u001b[0;34m\u001b[0m\u001b[0;34m\u001b[0m\u001b[0m\n\u001b[1;32m   2173\u001b[0m         \u001b[0;32mif\u001b[0m \u001b[0mhdu\u001b[0m\u001b[0;34m.\u001b[0m\u001b[0mheader\u001b[0m\u001b[0;34m[\u001b[0m\u001b[0;34m\"NAXIS\"\u001b[0m\u001b[0;34m]\u001b[0m \u001b[0;34m<\u001b[0m \u001b[0;36m2\u001b[0m\u001b[0;34m:\u001b[0m\u001b[0;34m\u001b[0m\u001b[0;34m\u001b[0m\u001b[0m\n",
      "\u001b[0;32m~/.local/lib/python3.8/site-packages/astropy/io/fits/hdu/hdulist.py\u001b[0m in \u001b[0;36mfitsopen\u001b[0;34m(name, mode, memmap, save_backup, cache, lazy_load_hdus, **kwargs)\u001b[0m\n\u001b[1;32m    162\u001b[0m         \u001b[0;32mraise\u001b[0m \u001b[0mValueError\u001b[0m\u001b[0;34m(\u001b[0m\u001b[0;34mf'Empty filename: {name!r}'\u001b[0m\u001b[0;34m)\u001b[0m\u001b[0;34m\u001b[0m\u001b[0;34m\u001b[0m\u001b[0m\n\u001b[1;32m    163\u001b[0m \u001b[0;34m\u001b[0m\u001b[0m\n\u001b[0;32m--> 164\u001b[0;31m     return HDUList.fromfile(name, mode, memmap, save_backup, cache,\n\u001b[0m\u001b[1;32m    165\u001b[0m                             lazy_load_hdus, **kwargs)\n\u001b[1;32m    166\u001b[0m \u001b[0;34m\u001b[0m\u001b[0m\n",
      "\u001b[0;32m~/.local/lib/python3.8/site-packages/astropy/io/fits/hdu/hdulist.py\u001b[0m in \u001b[0;36mfromfile\u001b[0;34m(cls, fileobj, mode, memmap, save_backup, cache, lazy_load_hdus, **kwargs)\u001b[0m\n\u001b[1;32m    399\u001b[0m         \"\"\"\n\u001b[1;32m    400\u001b[0m \u001b[0;34m\u001b[0m\u001b[0m\n\u001b[0;32m--> 401\u001b[0;31m         return cls._readfrom(fileobj=fileobj, mode=mode, memmap=memmap,\n\u001b[0m\u001b[1;32m    402\u001b[0m                              \u001b[0msave_backup\u001b[0m\u001b[0;34m=\u001b[0m\u001b[0msave_backup\u001b[0m\u001b[0;34m,\u001b[0m \u001b[0mcache\u001b[0m\u001b[0;34m=\u001b[0m\u001b[0mcache\u001b[0m\u001b[0;34m,\u001b[0m\u001b[0;34m\u001b[0m\u001b[0;34m\u001b[0m\u001b[0m\n\u001b[1;32m    403\u001b[0m                              lazy_load_hdus=lazy_load_hdus, **kwargs)\n",
      "\u001b[0;32m~/.local/lib/python3.8/site-packages/astropy/io/fits/hdu/hdulist.py\u001b[0m in \u001b[0;36m_readfrom\u001b[0;34m(cls, fileobj, data, mode, memmap, cache, lazy_load_hdus, **kwargs)\u001b[0m\n\u001b[1;32m   1084\u001b[0m                 \u001b[0mhdulist\u001b[0m\u001b[0;34m.\u001b[0m\u001b[0m_file\u001b[0m\u001b[0;34m.\u001b[0m\u001b[0mclose\u001b[0m\u001b[0;34m(\u001b[0m\u001b[0;34m)\u001b[0m\u001b[0;34m\u001b[0m\u001b[0;34m\u001b[0m\u001b[0m\n\u001b[1;32m   1085\u001b[0m \u001b[0;34m\u001b[0m\u001b[0m\n\u001b[0;32m-> 1086\u001b[0;31m             \u001b[0;32mraise\u001b[0m \u001b[0mOSError\u001b[0m\u001b[0;34m(\u001b[0m\u001b[0;34m'Empty or corrupt FITS file'\u001b[0m\u001b[0;34m)\u001b[0m\u001b[0;34m\u001b[0m\u001b[0;34m\u001b[0m\u001b[0m\n\u001b[0m\u001b[1;32m   1087\u001b[0m \u001b[0;34m\u001b[0m\u001b[0m\n\u001b[1;32m   1088\u001b[0m         \u001b[0;32mif\u001b[0m \u001b[0;32mnot\u001b[0m \u001b[0mlazy_load_hdus\u001b[0m \u001b[0;32mor\u001b[0m \u001b[0mkwargs\u001b[0m\u001b[0;34m.\u001b[0m\u001b[0mget\u001b[0m\u001b[0;34m(\u001b[0m\u001b[0;34m'checksum'\u001b[0m\u001b[0;34m)\u001b[0m \u001b[0;32mis\u001b[0m \u001b[0;32mTrue\u001b[0m\u001b[0;34m:\u001b[0m\u001b[0;34m\u001b[0m\u001b[0;34m\u001b[0m\u001b[0m\n",
      "\u001b[0;31mOSError\u001b[0m: Empty or corrupt FITS file"
     ]
    }
   ],
   "source": [
    "ACTtSZ_signal = ACTtSZ_mapper.get_signal_map() \n",
    "ACTtSZ_mask = ACTtSZ_mapper.get_mask()\n",
    "ACTtSZ_noise = ACTtSZ_mapper.get_noise()"
   ]
  },
  {
   "cell_type": "markdown",
   "metadata": {},
   "source": [
    "## Plots"
   ]
  },
  {
   "cell_type": "code",
   "execution_count": 18,
   "metadata": {
    "ExecuteTime": {
     "end_time": "2021-11-02T11:27:27.027484Z",
     "start_time": "2021-11-02T11:27:26.849460Z"
    }
   },
   "outputs": [
    {
     "name": "stderr",
     "output_type": "stream",
     "text": [
      "/home/jaimerz/.local/lib/python3.8/site-packages/healpy/projaxes.py:920: MatplotlibDeprecationWarning: You are modifying the state of a globally registered colormap. In future versions, you will not be able to modify a registered colormap in-place. To remove this warning, you can make a copy of the colormap first. cmap = copy.copy(mpl.cm.get_cmap(\"viridis\"))\n",
      "  newcm.set_over(newcm(1.0))\n",
      "/home/jaimerz/.local/lib/python3.8/site-packages/healpy/projaxes.py:921: MatplotlibDeprecationWarning: You are modifying the state of a globally registered colormap. In future versions, you will not be able to modify a registered colormap in-place. To remove this warning, you can make a copy of the colormap first. cmap = copy.copy(mpl.cm.get_cmap(\"viridis\"))\n",
      "  newcm.set_under(bgcolor)\n",
      "/home/jaimerz/.local/lib/python3.8/site-packages/healpy/projaxes.py:922: MatplotlibDeprecationWarning: You are modifying the state of a globally registered colormap. In future versions, you will not be able to modify a registered colormap in-place. To remove this warning, you can make a copy of the colormap first. cmap = copy.copy(mpl.cm.get_cmap(\"viridis\"))\n",
      "  newcm.set_bad(badcolor)\n",
      "/home/jaimerz/.local/lib/python3.8/site-packages/healpy/projaxes.py:202: MatplotlibDeprecationWarning: Passing parameters norm and vmin/vmax simultaneously is deprecated since 3.3 and will become an error two minor releases later. Please pass vmin/vmax directly to the norm when creating it.\n",
      "  aximg = self.imshow(\n"
     ]
    },
    {
     "data": {
      "image/png": "[encoded data removed]",
      "text/plain": [
       "<Figure size 612x388.8 with 2 Axes>"
      ]
     },
     "metadata": {
      "needs_background": "light"
     },
     "output_type": "display_data"
    }
   ],
   "source": [
    "hp.visufunc.mollview(ACTtSZ_signal[0], title= r'ACT_tSZ')"
   ]
  },
  {
   "cell_type": "code",
   "execution_count": 19,
   "metadata": {
    "ExecuteTime": {
     "end_time": "2021-11-02T11:27:27.195897Z",
     "start_time": "2021-11-02T11:27:27.040460Z"
    }
   },
   "outputs": [
    {
     "data": {
      "image/png": "[encoded data removed]",
      "text/plain": [
       "<Figure size 612x388.8 with 2 Axes>"
      ]
     },
     "metadata": {
      "needs_background": "light"
     },
     "output_type": "display_data"
    }
   ],
   "source": [
    "hp.visufunc.mollview(ACTtSZ_mask, title= r'ACT_tSZ')"
   ]
  },
  {
   "cell_type": "code",
   "execution_count": 20,
   "metadata": {
    "ExecuteTime": {
     "end_time": "2021-11-02T11:27:27.204514Z",
     "start_time": "2021-11-02T11:27:27.197299Z"
    }
   },
   "outputs": [
    {
     "ename": "NameError",
     "evalue": "name 'ACTtSZ_noise' is not defined",
     "output_type": "error",
     "traceback": [
      "\u001b[0;31m---------------------------------------------------------------------------\u001b[0m",
      "\u001b[0;31mNameError\u001b[0m                                 Traceback (most recent call last)",
      "\u001b[0;32m<ipython-input-20-189346e0d0f4>\u001b[0m in \u001b[0;36m<module>\u001b[0;34m\u001b[0m\n\u001b[0;32m----> 1\u001b[0;31m \u001b[0mhp\u001b[0m\u001b[0;34m.\u001b[0m\u001b[0mvisufunc\u001b[0m\u001b[0;34m.\u001b[0m\u001b[0mmollview\u001b[0m\u001b[0;34m(\u001b[0m\u001b[0mACTtSZ_noise\u001b[0m\u001b[0;34m,\u001b[0m \u001b[0mtitle\u001b[0m\u001b[0;34m=\u001b[0m \u001b[0;34mr'ACT_tSZ'\u001b[0m\u001b[0;34m)\u001b[0m\u001b[0;34m\u001b[0m\u001b[0;34m\u001b[0m\u001b[0m\n\u001b[0m",
      "\u001b[0;31mNameError\u001b[0m: name 'ACTtSZ_noise' is not defined"
     ]
    }
   ],
   "source": [
    "hp.visufunc.mollview(ACTtSZ_noise, title= r'ACT_tSZ')"
   ]
  },
  {
   "cell_type": "markdown",
   "metadata": {},
   "source": [
    "## Cls"
   ]
  },
  {
   "cell_type": "code",
   "execution_count": null,
   "metadata": {
    "ExecuteTime": {
     "end_time": "2021-11-02T11:27:18.691206Z",
     "start_time": "2021-11-02T11:27:15.533Z"
    }
   },
   "outputs": [],
   "source": [
    "tSZ_nl = ACTtSZ_mapper.get_nl_coupled()"
   ]
  },
  {
   "cell_type": "code",
   "execution_count": null,
   "metadata": {
    "ExecuteTime": {
     "end_time": "2021-11-02T11:25:51.540701Z",
     "start_time": "2021-11-02T11:25:31.104Z"
    }
   },
   "outputs": [],
   "source": [
    "tSZ_cl, tSZ_cl_dc = compute_cl(ACTtSZ_mapper, ACTtSZ_mapper, bands, 'wsp_ACTk_BOSS.fits')\n",
    "tSZ_dl_dc = ell_arr**2*tSZ_cl/(2*np.pi)"
   ]
  },
  {
   "cell_type": "code",
   "execution_count": null,
   "metadata": {
    "ExecuteTime": {
     "end_time": "2021-11-02T11:25:51.541759Z",
     "start_time": "2021-11-02T11:25:31.106Z"
    }
   },
   "outputs": [],
   "source": [
    "plt.plot(ell_arr, tSZ_cl[0], 'r-', label='cl')\n",
    "plt.loglog()\n",
    "plt.title('ACTtSZ ')\n",
    "plt.xlabel('$\\\\ell$', fontsize=16)\n",
    "plt.ylabel('$C_\\\\ell$', fontsize=16)\n",
    "plt.legend(loc='lower left', ncol=2, labelspacing=0.1)\n",
    "plt.show()"
   ]
  },
  {
   "cell_type": "code",
   "execution_count": null,
   "metadata": {
    "ExecuteTime": {
     "end_time": "2021-11-02T11:25:51.542548Z",
     "start_time": "2021-11-02T11:25:31.108Z"
    }
   },
   "outputs": [],
   "source": [
    "plt.plot(ell_arr, tSZ_dl[0], 'r-', label='dl')\n",
    "plt.yscale('log')\n",
    "plt.title('ACTtSZ ')\n",
    "plt.xlabel('$\\\\ell$', fontsize=16)\n",
    "plt.ylabel('$D_\\\\ell$', fontsize=16)\n",
    "plt.legend(loc='lower left', ncol=2, labelspacing=0.1)\n",
    "plt.show()"
   ]
  },
  {
   "cell_type": "code",
   "execution_count": null,
   "metadata": {},
   "outputs": [],
   "source": []
  },
  {
   "cell_type": "code",
   "execution_count": null,
   "metadata": {},
   "outputs": [],
   "source": []
  }
 ],
 "metadata": {
  "kernelspec": {
   "display_name": "Python 3",
   "language": "python",
   "name": "python3"
  },
  "language_info": {
   "codemirror_mode": {
    "name": "ipython",
    "version": 3
   },
   "file_extension": ".py",
   "mimetype": "text/x-python",
   "name": "python",
   "nbconvert_exporter": "python",
   "pygments_lexer": "ipython3",
   "version": "3.8.5"
  }
 },
 "nbformat": 4,
 "nbformat_minor": 4
}
