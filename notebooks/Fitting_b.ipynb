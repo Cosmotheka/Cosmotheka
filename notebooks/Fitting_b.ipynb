{
 "cells": [
  {
   "cell_type": "code",
   "execution_count": 1,
   "metadata": {},
   "outputs": [
    {
     "name": "stderr",
     "output_type": "stream",
     "text": [
      "WARNING (theano.configdefaults): install mkl with `conda install mkl-service`: No module named 'mkl'\n"
     ]
    }
   ],
   "source": [
    "# some_file.py\n",
    "import sys\n",
    "# insert at 1, 0 is the script path (or '' in REPL)\n",
    "sys.path.insert(1, '/home/zcapjru/PhD/DEScls')\n",
    "from xcell.mappers import MappereBOSSQSO\n",
    "from xcell.mappers import MapperP15CMBK\n",
    "\n",
    "from astropy.io import fits\n",
    "from astropy.table import Table\n",
    "\n",
    "import pyccl as ccl\n",
    "import numpy as np\n",
    "import pylab as plt\n",
    "import pymaster as nmt\n",
    "import healpy as hp\n",
    "from classy import Class\n",
    "import pymc3 as pm"
   ]
  },
  {
   "cell_type": "code",
   "execution_count": 2,
   "metadata": {},
   "outputs": [],
   "source": [
    "sys.path.insert(1, '/home/zcapjru/PhD/Pk_Emulator')\n",
    "\n",
    "import scipy\n",
    "import itertools\n",
    "from numpy import linalg\n",
    "from sklearn.decomposition import PCA\n",
    "\n",
    "import lin_pk_emul as emul"
   ]
  },
  {
   "cell_type": "code",
   "execution_count": 3,
   "metadata": {},
   "outputs": [
    {
     "name": "stdout",
     "output_type": "stream",
     "text": [
      "[ 21.5  43.   67.   92.5 120.  150.5 183.  218.  256.5 298.  343.  391.5\n",
      " 444.  501.  563.  630.  702.5 781.  866.  955. ]\n"
     ]
    }
   ],
   "source": [
    "# Initialize binning scheme with 20 ells per bandpower\n",
    "nside = 512\n",
    "nside_mask = 512\n",
    "\n",
    "ells = []\n",
    "i = 11.5\n",
    "while i <= 3 * nside:\n",
    "    ells.append(round(i))\n",
    "    #i = i*(1+i/(3 * nside))\n",
    "    i = i+20*(1+i/240)\n",
    "    \n",
    "if ells[-1] <  3 * nside -1:   \n",
    "    ells.append(3 * nside -1)\n",
    "    \n",
    "ells = np.array(ells)\n",
    "\n",
    "\n",
    "scale_cut = 1000\n",
    "ells = ells[ells < scale_cut]\n",
    "\n",
    "if ells[-1] < scale_cut:\n",
    "    ells = np.append(ells, scale_cut)\n",
    "    \n",
    "bands = nmt.NmtBin.from_edges(ells[:-1], ells[1:])\n",
    "ell_arr = bands.get_effective_ells()\n",
    "print(ell_arr)"
   ]
  },
  {
   "cell_type": "code",
   "execution_count": 4,
   "metadata": {},
   "outputs": [],
   "source": [
    "NGC_1_config = {'data_catalogs':['/home/zcapjru/PhD/Data/eBOSS_QSO/eBOSS_QSO_clustering_data-NGC-vDR16.fits'], \n",
    "          'random_catalogs':['/home/zcapjru/PhD/Data/eBOSS_QSO/eBOSS_QSO_clustering_random-NGC-vDR16.fits'],\n",
    "          'z_edges':[0, 1.5],\n",
    "          'nside':nside, 'nside_mask': nside_mask, 'mask_name': 'mask_QSO_NGC_1' }\n",
    "\n",
    "NGC_2_config = {'data_catalogs':['/home/zcapjru/PhD/Data/eBOSS_QSO/eBOSS_QSO_clustering_data-NGC-vDR16.fits'], \n",
    "          'random_catalogs':['/home/zcapjru/PhD/Data/eBOSS_QSO/eBOSS_QSO_clustering_random-NGC-vDR16.fits'],\n",
    "          'z_edges':[1.5, 3],\n",
    "          'nside':nside, 'nside_mask': nside_mask, 'mask_name': 'mask_QSO_NGC_2'  }\n",
    "\n",
    "SGC_1_config = {'data_catalogs':['/home/zcapjru/PhD/Data/eBOSS_QSO/eBOSS_QSO_clustering_data-SGC-vDR16.fits'], \n",
    "          'random_catalogs':['/home/zcapjru/PhD/Data/eBOSS_QSO/eBOSS_QSO_clustering_random-SGC-vDR16.fits'],\n",
    "          'z_edges':[0.01, 1.5],\n",
    "          'nside':nside, 'nside_mask': nside_mask, 'mask_name': 'mask_QSO_SGC_1' }\n",
    "\n",
    "SGC_2_config = {'data_catalogs':['/home/zcapjru/PhD/Data/eBOSS_QSO/eBOSS_QSO_clustering_data-SGC-vDR16.fits'], \n",
    "          'random_catalogs':['/home/zcapjru/PhD/Data/eBOSS_QSO/eBOSS_QSO_clustering_random-SGC-vDR16.fits'],\n",
    "          'z_edges':[1.5, 3],\n",
    "          'nside':nside, 'nside_mask': nside_mask, 'mask_name': 'mask_QSO_SGC_1'  }\n",
    "\n",
    "CMBK_config = {'file_klm':'/home/zcapjru/PhD/Data/COM_Lensing_2048_R2.00/dat_klm.fits', \n",
    "          'file_mask':'/home/zcapjru/PhD/Data/COM_Lensing_2048_R2.00/mask.fits.gz',\n",
    "               'file_noise':'/home/zcapjru/PhD/Data/COM_Lensing_2048_R2.00/nlkk.dat', 'mask_name': 3,\n",
    "          'nside':nside}"
   ]
  },
  {
   "cell_type": "code",
   "execution_count": 5,
   "metadata": {},
   "outputs": [
    {
     "name": "stderr",
     "output_type": "stream",
     "text": [
      "/home/zcapjru/anaconda3/envs/PhD/lib/python3.8/site-packages/healpy/fitsfunc.py:368: UserWarning: If you are not specifying the input dtype and using the default np.float64 dtype of read_map(), please consider that it will change in a future version to None as to keep the same dtype of the input file: please explicitly set the dtype if it is important to you.\n",
      "  warnings.warn(\n"
     ]
    }
   ],
   "source": [
    "b_arr = np.linspace(0, 5, 100)\n",
    "zbin = 2\n",
    "mode = 'SGC'\n",
    "only_gg = False\n",
    "only_gk = True\n",
    "use_emulator = True\n",
    "use_toeplitz = True\n",
    "use_pymc = True\n",
    "\n",
    "maps_k = MapperP15CMBK(CMBK_config)\n",
    "maps_q = MappereBOSSQSO(SGC_2_config)"
   ]
  },
  {
   "cell_type": "code",
   "execution_count": 6,
   "metadata": {},
   "outputs": [],
   "source": [
    "pars = {\n",
    "            'h':       0.67,\n",
    "            'Omega_c': 0.27,\n",
    "            'Omega_b': 0.045,\n",
    "            'sigma8': 0.840,\n",
    "            'n_s':     0.96,\n",
    "            'w0': -1.0,\n",
    "            'wa':  0.0\n",
    "        }\n",
    "param_dict = dict({'transfer_function': 'boltzmann_class'},\n",
    "                          **pars)\n",
    "cosmo = ccl.Cosmology(**param_dict)\n",
    "\n",
    "nz = maps_q.get_nz()\n",
    "\n",
    "z = nz[1]\n",
    "dNdz = nz[0]"
   ]
  },
  {
   "cell_type": "code",
   "execution_count": 7,
   "metadata": {},
   "outputs": [],
   "source": [
    "def get_cov_wsp(f1, f2, f3 = None, f4 = None, toeplitz = False):\n",
    "    cw = nmt.NmtCovarianceWorkspace()\n",
    "    if toeplitz:\n",
    "        cw.compute_coupling_coefficients(f1, f2, f3, f4,  l_toeplitz=345, l_exact=100, dl_band=250)\n",
    "    else:\n",
    "        cw.compute_coupling_coefficients(f1, f2, f3, f4)\n",
    "    return cw\n",
    "\n",
    "def get_cov(cl1, cl2, cl3, cl4, cw, wa, wb):\n",
    "    return  nmt.gaussian_covariance(cw,\n",
    "                                      0, 0, 0, 0,  # Spins of the 4 fields\n",
    "                                      cl1,  # TT\n",
    "                                      cl2,  # TT\n",
    "                                      cl3,  # TT\n",
    "                                      cl4,  # TT\n",
    "                                      wa, wb=wb)"
   ]
  },
  {
   "cell_type": "code",
   "execution_count": 8,
   "metadata": {},
   "outputs": [
    {
     "name": "stdout",
     "output_type": "stream",
     "text": [
      "CPU times: user 1min 9s, sys: 312 ms, total: 1min 10s\n",
      "Wall time: 7.15 s\n"
     ]
    }
   ],
   "source": [
    "%%time\n",
    "m_q = maps_q.get_mask()\n",
    "f_q = maps_q.get_nmt_field()\n",
    "\n",
    "w_qq = nmt.NmtWorkspace()\n",
    "w_qq.compute_coupling_matrix(f_q, f_q, bands)\n",
    "\n",
    "#everything decoupled\n",
    "nl_qq =  w_qq.decouple_cell(maps_q.get_nl_coupled())\n",
    "\n",
    "cw_qq = get_cov_wsp(f_q, f_q, toeplitz = use_toeplitz)\n",
    "\n",
    "cl_qq = nmt.compute_coupled_cell(f_q, f_q)/ np.mean(m_q * m_q)\n",
    "cov_qqqq = get_cov(cl_qq, cl_qq, cl_qq, cl_qq, cw_qq, w_qq, w_qq)\n",
    "\n",
    "err_qq = np.sqrt(cov_qqqq.diagonal())"
   ]
  },
  {
   "cell_type": "code",
   "execution_count": 9,
   "metadata": {},
   "outputs": [
    {
     "name": "stdout",
     "output_type": "stream",
     "text": [
      "CPU times: user 9min 19s, sys: 22.3 s, total: 9min 42s\n",
      "Wall time: 1min 34s\n"
     ]
    }
   ],
   "source": [
    "%%time\n",
    "m_k = maps_k.get_mask()\n",
    "f_k = maps_k.get_nmt_field()\n",
    "\n",
    "w_kq = nmt.NmtWorkspace()\n",
    "w_kq.compute_coupling_matrix(f_q, f_k, bands)\n",
    "\n",
    "w_kk = nmt.NmtWorkspace()\n",
    "w_kk.compute_coupling_matrix(f_k, f_k, bands)\n",
    "\n",
    "cw_qkqk = get_cov_wsp(f_q, f_k, toeplitz = use_toeplitz)\n",
    "cw_qqqk = get_cov_wsp(f_q, f_q, f_q, f_k, toeplitz = use_toeplitz)\n",
    "\n",
    "cl_qk = nmt.compute_coupled_cell(f_q, f_k)/ np.mean(m_q * m_k)\n",
    "cl_kq = cl_qk\n",
    "cl_kk = nmt.compute_coupled_cell(f_k, f_k)/ np.mean(m_k * m_k)\n",
    "cov_qkqk = get_cov(cl_qq, cl_qk, cl_kq, cl_kk, cw_qkqk, w_kq, w_kq)\n",
    "\n",
    "cov_qqqk = get_cov(cl_qq, cl_qk, cl_qq, cl_qk, cw_qqqk, w_qq, w_kq)\n",
    "\n",
    "err_qk = np.sqrt(cov_qkqk.diagonal())"
   ]
  },
  {
   "cell_type": "code",
   "execution_count": 10,
   "metadata": {},
   "outputs": [],
   "source": [
    "sel = ell_arr < scale_cut\n",
    "cl_qq = w_qq.decouple_cell(nmt.compute_coupled_cell(f_q, f_q))[0] - nl_qq[0]\n",
    "cl_qk = w_kq.decouple_cell(nmt.compute_coupled_cell(f_q, f_k))[0] \n",
    "data = np.zeros(2*len(cl_qq))\n",
    "data[:len(cl_qq)] =  cl_qq\n",
    "data[len(cl_qq):] =  cl_qk"
   ]
  },
  {
   "cell_type": "code",
   "execution_count": 11,
   "metadata": {},
   "outputs": [],
   "source": [
    "def build_comp_cov(cov_aaaa, cov_aaab, cov_aabb):\n",
    "    cov_abaa = np.transpose(cov_aaab)\n",
    "    dim = len(cov_aaaa)\n",
    "    comp_cov = np.zeros([2*dim, 2*dim])\n",
    "    comp_cov[:dim,:dim] = cov_aaaa\n",
    "    comp_cov[:dim,dim:] = cov_aaab\n",
    "    comp_cov[dim:,:dim] = cov_abaa\n",
    "    comp_cov[dim:,dim:] = cov_aabb\n",
    "    return comp_cov"
   ]
  },
  {
   "cell_type": "code",
   "execution_count": 12,
   "metadata": {},
   "outputs": [],
   "source": [
    "comp_cov = build_comp_cov(cov_qqqq, cov_qqqk, cov_qkqk)"
   ]
  },
  {
   "cell_type": "code",
   "execution_count": 13,
   "metadata": {},
   "outputs": [
    {
     "name": "stderr",
     "output_type": "stream",
     "text": [
      "/home/zcapjru/anaconda3/envs/PhD/lib/python3.8/site-packages/scipy/interpolate/interpolate.py:231: ComplexWarning: Casting complex values to real discards the imaginary part\n",
      "  nx, tx, ny, ty, c, fp, ier = dfitpack.regrid_smth(\n"
     ]
    }
   ],
   "source": [
    "if use_emulator:\n",
    "    emulator_100 = emul.LinPkEmulator(10, 200, 100, new=False )\n",
    "    k_arr, pk0 = emulator_100.get_emulated_Pk(cosmo['Omega_c'],cosmo['h'])\n",
    "    a_arr = np.linspace(0.01, 1, num=50)\n",
    "    #pk = ccl.boltzmann.get_class_pk_lin(cosmo)\n",
    "    D_arr = (1 + ccl.background.growth_factor(cosmo, a_arr)) ** 2\n",
    "    \n",
    "    pk_arr = [] \n",
    "    for item in D_arr:\n",
    "        pk_arr.append(pk0*item)\n",
    "    pk_arr = np.array(pk_arr).real\n",
    "    \n",
    "    pknew = ccl.Pk2D(a_arr = a_arr, lk_arr = k_arr, pk_arr = pk_arr,\n",
    "                 cosmo=cosmo, is_logp=False)\n",
    "    ccl.ccllib.cosmology_compute_linear_power(cosmo.cosmo, pknew.psp, 0)"
   ]
  },
  {
   "cell_type": "code",
   "execution_count": 14,
   "metadata": {},
   "outputs": [],
   "source": [
    "def theory(b):\n",
    "    b = b*np.ones(len(z))\n",
    "    print(b)\n",
    "    quasar = ccl.NumberCountsTracer(cosmo, has_rsd=False, dndz=(z, dNdz), bias=(z,b))\n",
    "    CMB_shear = ccl.CMBLensingTracer(cosmo, 1100)\n",
    "    clgg = ccl.angular_cl(cosmo, quasar, quasar, ell_arr)\n",
    "    clgk = ccl.angular_cl(cosmo, quasar, CMB_shear, ell_arr)\n",
    "    theory = np.zeros(2*len(clgg))\n",
    "    theory[:len(clgg)] = clgg\n",
    "    theory[len(clgg):] = clgk\n",
    "    return theory\n",
    "\n",
    "def gof(b):\n",
    "    inv_cov = np.linalg.inv(comp_cov)\n",
    "    t = theory(b)\n",
    "    if only_gg:\n",
    "        data[int(len(data)/2):] = np.zeros(int(len(data)/2))\n",
    "        t[int(len(data)/2):] = np.zeros(int(len(data)/2))  \n",
    "    if only_gk:\n",
    "        data[:int(len(data)/2)] = np.zeros(int(len(data)/2))\n",
    "        t[:int(len(data)/2)] = np.zeros(int(len(data)/2)) \n",
    "    return np.transpose(data-t)@inv_cov@(data-t)"
   ]
  },
  {
   "cell_type": "code",
   "execution_count": 15,
   "metadata": {},
   "outputs": [
    {
     "name": "stderr",
     "output_type": "stream",
     "text": [
      "Auto-assigning NUTS sampler...\n",
      "Initializing NUTS using jitter+adapt_diag...\n",
      "Multiprocess sampling (4 chains in 4 jobs)\n",
      "NUTS: [beta]\n"
     ]
    },
    {
     "data": {
      "text/html": [
       "\n",
       "    <div>\n",
       "        <style>\n",
       "            /* Turns off some styling */\n",
       "            progress {\n",
       "                /* gets rid of default border in Firefox and Opera. */\n",
       "                border: none;\n",
       "                /* Needs to be in here for Safari polyfill so background images work as expected. */\n",
       "                background-size: auto;\n",
       "            }\n",
       "            .progress-bar-interrupted, .progress-bar-interrupted::-webkit-progress-bar {\n",
       "                background: #F44336;\n",
       "            }\n",
       "        </style>\n",
       "      <progress value='6000' class='' max='6000' style='width:300px; height:20px; vertical-align: middle;'></progress>\n",
       "      100.00% [6000/6000 00:00<00:00 Sampling 4 chains, 0 divergences]\n",
       "    </div>\n",
       "    "
      ],
      "text/plain": [
       "<IPython.core.display.HTML object>"
      ]
     },
     "metadata": {},
     "output_type": "display_data"
    },
    {
     "name": "stderr",
     "output_type": "stream",
     "text": [
      "Sampling 4 chains for 1_000 tune and 500 draw iterations (4_000 + 2_000 draws total) took 2 seconds.\n"
     ]
    }
   ],
   "source": [
    "if use_pymc:\n",
    "    pymc_theory = pm.Model()\n",
    "    with pymc_theory:\n",
    "\n",
    "        # Priors for unknown model parameters\n",
    "        beta = pm.Uniform(\"beta\", 0, 5)\n",
    "        trace = pm.sample(500, return_inferencedata=False)\n",
    "\n",
    "        # Need to transform the prior into chi square --> How without sampling values from the prior?\n",
    "        #mu = gof(beta) #My gof function cannot take the distribution object of the Pymc as it is\n",
    "\n",
    "        # Likelihood (sampling distribution) of observations\n",
    "        # Y_obs = pm.Normal(\"Y_obs\", mu=np.sqrt(mu), observed=data) #Noise? Observed? --> ALready included in mu?\n",
    "        # media == teoria \n",
    "        # como hacer el noise en una covarianza"
   ]
  },
  {
   "cell_type": "code",
   "execution_count": 16,
   "metadata": {},
   "outputs": [
    {
     "data": {
      "text/plain": [
       "array([3.41701514, 3.5659843 , 3.5659843 , ..., 3.45085764, 4.88065677,\n",
       "       4.91608614])"
      ]
     },
     "execution_count": 16,
     "metadata": {},
     "output_type": "execute_result"
    }
   ],
   "source": [
    "trace['beta']"
   ]
  },
  {
   "cell_type": "code",
   "execution_count": 17,
   "metadata": {},
   "outputs": [
    {
     "name": "stdout",
     "output_type": "stream",
     "text": [
      "[0. 0. 0. 0. 0. 0. 0. 0. 0. 0. 0. 0. 0. 0. 0. 0. 0. 0. 0. 0. 0. 0. 0. 0.\n",
      " 0. 0. 0. 0. 0. 0. 0. 0. 0. 0. 0. 0. 0. 0. 0. 0. 0. 0. 0. 0. 0. 0. 0. 0.\n",
      " 0. 0.]\n",
      "[0.05050505 0.05050505 0.05050505 0.05050505 0.05050505 0.05050505\n",
      " 0.05050505 0.05050505 0.05050505 0.05050505 0.05050505 0.05050505\n",
      " 0.05050505 0.05050505 0.05050505 0.05050505 0.05050505 0.05050505\n",
      " 0.05050505 0.05050505 0.05050505 0.05050505 0.05050505 0.05050505\n",
      " 0.05050505 0.05050505 0.05050505 0.05050505 0.05050505 0.05050505\n",
      " 0.05050505 0.05050505 0.05050505 0.05050505 0.05050505 0.05050505\n",
      " 0.05050505 0.05050505 0.05050505 0.05050505 0.05050505 0.05050505\n",
      " 0.05050505 0.05050505 0.05050505 0.05050505 0.05050505 0.05050505\n",
      " 0.05050505 0.05050505]\n"
     ]
    },
    {
     "ename": "CCLError",
     "evalue": "Error CCL_ERROR_INTEG: ccl_cls.c: ccl_angular_cls_limber(); integration error\n",
     "output_type": "error",
     "traceback": [
      "\u001b[0;31m---------------------------------------------------------------------------\u001b[0m",
      "\u001b[0;31mCCLError\u001b[0m                                  Traceback (most recent call last)",
      "\u001b[0;32m<ipython-input-17-622009defc2c>\u001b[0m in \u001b[0;36m<module>\u001b[0;34m\u001b[0m\n\u001b[1;32m      1\u001b[0m \u001b[0mx2\u001b[0m \u001b[0;34m=\u001b[0m \u001b[0;34m[\u001b[0m\u001b[0;34m]\u001b[0m\u001b[0;34m\u001b[0m\u001b[0;34m\u001b[0m\u001b[0m\n\u001b[1;32m      2\u001b[0m \u001b[0;32mfor\u001b[0m \u001b[0mitem\u001b[0m \u001b[0;32min\u001b[0m \u001b[0mb_arr\u001b[0m\u001b[0;34m:\u001b[0m\u001b[0;34m\u001b[0m\u001b[0;34m\u001b[0m\u001b[0m\n\u001b[0;32m----> 3\u001b[0;31m     \u001b[0mx2\u001b[0m\u001b[0;34m.\u001b[0m\u001b[0mappend\u001b[0m\u001b[0;34m(\u001b[0m\u001b[0mgof\u001b[0m\u001b[0;34m(\u001b[0m\u001b[0mitem\u001b[0m\u001b[0;34m)\u001b[0m\u001b[0;34m)\u001b[0m\u001b[0;34m\u001b[0m\u001b[0;34m\u001b[0m\u001b[0m\n\u001b[0m\u001b[1;32m      4\u001b[0m \u001b[0mx2\u001b[0m \u001b[0;34m=\u001b[0m \u001b[0mnp\u001b[0m\u001b[0;34m.\u001b[0m\u001b[0marray\u001b[0m\u001b[0;34m(\u001b[0m\u001b[0mx2\u001b[0m\u001b[0;34m)\u001b[0m\u001b[0;34m\u001b[0m\u001b[0;34m\u001b[0m\u001b[0m\n\u001b[1;32m      5\u001b[0m \u001b[0;34m\u001b[0m\u001b[0m\n",
      "\u001b[0;32m<ipython-input-14-860f54998ae5>\u001b[0m in \u001b[0;36mgof\u001b[0;34m(b)\u001b[0m\n\u001b[1;32m     13\u001b[0m \u001b[0;32mdef\u001b[0m \u001b[0mgof\u001b[0m\u001b[0;34m(\u001b[0m\u001b[0mb\u001b[0m\u001b[0;34m)\u001b[0m\u001b[0;34m:\u001b[0m\u001b[0;34m\u001b[0m\u001b[0;34m\u001b[0m\u001b[0m\n\u001b[1;32m     14\u001b[0m     \u001b[0minv_cov\u001b[0m \u001b[0;34m=\u001b[0m \u001b[0mnp\u001b[0m\u001b[0;34m.\u001b[0m\u001b[0mlinalg\u001b[0m\u001b[0;34m.\u001b[0m\u001b[0minv\u001b[0m\u001b[0;34m(\u001b[0m\u001b[0mcomp_cov\u001b[0m\u001b[0;34m)\u001b[0m\u001b[0;34m\u001b[0m\u001b[0;34m\u001b[0m\u001b[0m\n\u001b[0;32m---> 15\u001b[0;31m     \u001b[0mt\u001b[0m \u001b[0;34m=\u001b[0m \u001b[0mtheory\u001b[0m\u001b[0;34m(\u001b[0m\u001b[0mb\u001b[0m\u001b[0;34m)\u001b[0m\u001b[0;34m\u001b[0m\u001b[0;34m\u001b[0m\u001b[0m\n\u001b[0m\u001b[1;32m     16\u001b[0m     \u001b[0;32mif\u001b[0m \u001b[0monly_gg\u001b[0m\u001b[0;34m:\u001b[0m\u001b[0;34m\u001b[0m\u001b[0;34m\u001b[0m\u001b[0m\n\u001b[1;32m     17\u001b[0m         \u001b[0mdata\u001b[0m\u001b[0;34m[\u001b[0m\u001b[0mint\u001b[0m\u001b[0;34m(\u001b[0m\u001b[0mlen\u001b[0m\u001b[0;34m(\u001b[0m\u001b[0mdata\u001b[0m\u001b[0;34m)\u001b[0m\u001b[0;34m/\u001b[0m\u001b[0;36m2\u001b[0m\u001b[0;34m)\u001b[0m\u001b[0;34m:\u001b[0m\u001b[0;34m]\u001b[0m \u001b[0;34m=\u001b[0m \u001b[0mnp\u001b[0m\u001b[0;34m.\u001b[0m\u001b[0mzeros\u001b[0m\u001b[0;34m(\u001b[0m\u001b[0mint\u001b[0m\u001b[0;34m(\u001b[0m\u001b[0mlen\u001b[0m\u001b[0;34m(\u001b[0m\u001b[0mdata\u001b[0m\u001b[0;34m)\u001b[0m\u001b[0;34m/\u001b[0m\u001b[0;36m2\u001b[0m\u001b[0;34m)\u001b[0m\u001b[0;34m)\u001b[0m\u001b[0;34m\u001b[0m\u001b[0;34m\u001b[0m\u001b[0m\n",
      "\u001b[0;32m<ipython-input-14-860f54998ae5>\u001b[0m in \u001b[0;36mtheory\u001b[0;34m(b)\u001b[0m\n\u001b[1;32m      4\u001b[0m     \u001b[0mquasar\u001b[0m \u001b[0;34m=\u001b[0m \u001b[0mccl\u001b[0m\u001b[0;34m.\u001b[0m\u001b[0mNumberCountsTracer\u001b[0m\u001b[0;34m(\u001b[0m\u001b[0mcosmo\u001b[0m\u001b[0;34m,\u001b[0m \u001b[0mhas_rsd\u001b[0m\u001b[0;34m=\u001b[0m\u001b[0;32mFalse\u001b[0m\u001b[0;34m,\u001b[0m \u001b[0mdndz\u001b[0m\u001b[0;34m=\u001b[0m\u001b[0;34m(\u001b[0m\u001b[0mz\u001b[0m\u001b[0;34m,\u001b[0m \u001b[0mdNdz\u001b[0m\u001b[0;34m)\u001b[0m\u001b[0;34m,\u001b[0m \u001b[0mbias\u001b[0m\u001b[0;34m=\u001b[0m\u001b[0;34m(\u001b[0m\u001b[0mz\u001b[0m\u001b[0;34m,\u001b[0m\u001b[0mb\u001b[0m\u001b[0;34m)\u001b[0m\u001b[0;34m)\u001b[0m\u001b[0;34m\u001b[0m\u001b[0;34m\u001b[0m\u001b[0m\n\u001b[1;32m      5\u001b[0m     \u001b[0mCMB_shear\u001b[0m \u001b[0;34m=\u001b[0m \u001b[0mccl\u001b[0m\u001b[0;34m.\u001b[0m\u001b[0mCMBLensingTracer\u001b[0m\u001b[0;34m(\u001b[0m\u001b[0mcosmo\u001b[0m\u001b[0;34m,\u001b[0m \u001b[0;36m1100\u001b[0m\u001b[0;34m)\u001b[0m\u001b[0;34m\u001b[0m\u001b[0;34m\u001b[0m\u001b[0m\n\u001b[0;32m----> 6\u001b[0;31m     \u001b[0mclgg\u001b[0m \u001b[0;34m=\u001b[0m \u001b[0mccl\u001b[0m\u001b[0;34m.\u001b[0m\u001b[0mangular_cl\u001b[0m\u001b[0;34m(\u001b[0m\u001b[0mcosmo\u001b[0m\u001b[0;34m,\u001b[0m \u001b[0mquasar\u001b[0m\u001b[0;34m,\u001b[0m \u001b[0mquasar\u001b[0m\u001b[0;34m,\u001b[0m \u001b[0mell_arr\u001b[0m\u001b[0;34m)\u001b[0m\u001b[0;34m\u001b[0m\u001b[0;34m\u001b[0m\u001b[0m\n\u001b[0m\u001b[1;32m      7\u001b[0m     \u001b[0mclgk\u001b[0m \u001b[0;34m=\u001b[0m \u001b[0mccl\u001b[0m\u001b[0;34m.\u001b[0m\u001b[0mangular_cl\u001b[0m\u001b[0;34m(\u001b[0m\u001b[0mcosmo\u001b[0m\u001b[0;34m,\u001b[0m \u001b[0mquasar\u001b[0m\u001b[0;34m,\u001b[0m \u001b[0mCMB_shear\u001b[0m\u001b[0;34m,\u001b[0m \u001b[0mell_arr\u001b[0m\u001b[0;34m)\u001b[0m\u001b[0;34m\u001b[0m\u001b[0;34m\u001b[0m\u001b[0m\n\u001b[1;32m      8\u001b[0m     \u001b[0mtheory\u001b[0m \u001b[0;34m=\u001b[0m \u001b[0mnp\u001b[0m\u001b[0;34m.\u001b[0m\u001b[0mzeros\u001b[0m\u001b[0;34m(\u001b[0m\u001b[0;36m2\u001b[0m\u001b[0;34m*\u001b[0m\u001b[0mlen\u001b[0m\u001b[0;34m(\u001b[0m\u001b[0mclgg\u001b[0m\u001b[0;34m)\u001b[0m\u001b[0;34m)\u001b[0m\u001b[0;34m\u001b[0m\u001b[0;34m\u001b[0m\u001b[0m\n",
      "\u001b[0;32m~/anaconda3/envs/PhD/lib/python3.8/site-packages/pyccl/cls.py\u001b[0m in \u001b[0;36mangular_cl\u001b[0;34m(cosmo, cltracer1, cltracer2, ell, p_of_k_a, l_limber, limber_integration_method)\u001b[0m\n\u001b[1;32m     96\u001b[0m     \u001b[0mlib\u001b[0m\u001b[0;34m.\u001b[0m\u001b[0mcl_tracer_collection_t_free\u001b[0m\u001b[0;34m(\u001b[0m\u001b[0mclt2\u001b[0m\u001b[0;34m)\u001b[0m\u001b[0;34m\u001b[0m\u001b[0;34m\u001b[0m\u001b[0m\n\u001b[1;32m     97\u001b[0m \u001b[0;34m\u001b[0m\u001b[0m\n\u001b[0;32m---> 98\u001b[0;31m     \u001b[0mcheck\u001b[0m\u001b[0;34m(\u001b[0m\u001b[0mstatus\u001b[0m\u001b[0;34m,\u001b[0m \u001b[0mcosmo\u001b[0m\u001b[0;34m=\u001b[0m\u001b[0mcosmo_in\u001b[0m\u001b[0;34m)\u001b[0m\u001b[0;34m\u001b[0m\u001b[0;34m\u001b[0m\u001b[0m\n\u001b[0m\u001b[1;32m     99\u001b[0m     \u001b[0;32mreturn\u001b[0m \u001b[0mcl\u001b[0m\u001b[0;34m\u001b[0m\u001b[0;34m\u001b[0m\u001b[0m\n",
      "\u001b[0;32m~/anaconda3/envs/PhD/lib/python3.8/site-packages/pyccl/pyutils.py\u001b[0m in \u001b[0;36mcheck\u001b[0;34m(status, cosmo)\u001b[0m\n\u001b[1;32m     46\u001b[0m     \u001b[0;31m# Check for known error status\u001b[0m\u001b[0;34m\u001b[0m\u001b[0;34m\u001b[0m\u001b[0;34m\u001b[0m\u001b[0m\n\u001b[1;32m     47\u001b[0m     \u001b[0;32mif\u001b[0m \u001b[0mstatus\u001b[0m \u001b[0;32min\u001b[0m \u001b[0merror_types\u001b[0m\u001b[0;34m.\u001b[0m\u001b[0mkeys\u001b[0m\u001b[0;34m(\u001b[0m\u001b[0;34m)\u001b[0m\u001b[0;34m:\u001b[0m\u001b[0;34m\u001b[0m\u001b[0;34m\u001b[0m\u001b[0m\n\u001b[0;32m---> 48\u001b[0;31m         \u001b[0;32mraise\u001b[0m \u001b[0mCCLError\u001b[0m\u001b[0;34m(\u001b[0m\u001b[0;34m\"Error %s: %s\"\u001b[0m \u001b[0;34m%\u001b[0m \u001b[0;34m(\u001b[0m\u001b[0merror_types\u001b[0m\u001b[0;34m[\u001b[0m\u001b[0mstatus\u001b[0m\u001b[0;34m]\u001b[0m\u001b[0;34m,\u001b[0m \u001b[0mmsg\u001b[0m\u001b[0;34m)\u001b[0m\u001b[0;34m)\u001b[0m\u001b[0;34m\u001b[0m\u001b[0;34m\u001b[0m\u001b[0m\n\u001b[0m\u001b[1;32m     49\u001b[0m \u001b[0;34m\u001b[0m\u001b[0m\n\u001b[1;32m     50\u001b[0m     \u001b[0;31m# Check for unknown error\u001b[0m\u001b[0;34m\u001b[0m\u001b[0;34m\u001b[0m\u001b[0;34m\u001b[0m\u001b[0m\n",
      "\u001b[0;31mCCLError\u001b[0m: Error CCL_ERROR_INTEG: ccl_cls.c: ccl_angular_cls_limber(); integration error\n"
     ]
    }
   ],
   "source": [
    "x2 = []\n",
    "for item in b_arr:\n",
    "    x2.append(gof(item))\n",
    "x2 = np.array(x2)\n",
    "\n",
    "pb = np.exp(-0.5*x2)\n",
    "pb = pb/sum(pb)\n",
    "best_b = b_arr[np.argmin(x2)]\n",
    "best_x2 = min(x2)\n",
    "mean_b = (sum(b_arr*pb))/(sum(pb))\n",
    "sigma_b = np.sqrt((sum(np.abs(b_arr-mean_b)*pb))/(sum(pb)))\n",
    "print(best_x2, best_b, mean_b, sigma_b)\n",
    "print(len(data))"
   ]
  },
  {
   "cell_type": "code",
   "execution_count": null,
   "metadata": {},
   "outputs": [],
   "source": [
    "best_b = best_b*np.ones(len(z))\n",
    "\n",
    "quasar = ccl.NumberCountsTracer(cosmo, has_rsd=False, dndz=(z,dNdz), bias=(z,best_b))\n",
    "CMB_shear = ccl.CMBLensingTracer(cosmo, 1100)\n",
    "\n",
    "theory_qq = ccl.angular_cl(cosmo, quasar, quasar, ell_arr)\n",
    "theory_qk = ccl.angular_cl(cosmo, CMB_shear, quasar, ell_arr)"
   ]
  },
  {
   "cell_type": "code",
   "execution_count": null,
   "metadata": {},
   "outputs": [],
   "source": [
    "plt.errorbar(ell_arr, cl_qq, yerr=err_qq, marker='s', ecolor='k', label='Empirical')\n",
    "plt.plot(ell_arr, nl_qq[0], 'go-', label='Noise')\n",
    "plt.plot(ell_arr, theory_qq, 'r--', label='Best theory')\n",
    "\n",
    "\n",
    "#plt.loglog()\n",
    "#plt.xlim((ell_arr[0], ell_arr[-1]))\n",
    "plt.title('{}_{}{}'.format(mode, zbin, zbin))\n",
    "plt.xlabel('$\\\\ell$', fontsize=16)\n",
    "plt.ylabel('$C_\\\\ell$', fontsize=16)\n",
    "plt.legend(loc='lower left', ncol=2, labelspacing=0.1)\n",
    "plt.show()"
   ]
  },
  {
   "cell_type": "code",
   "execution_count": null,
   "metadata": {},
   "outputs": [],
   "source": [
    "plt.plot(ell_arr, (theory_qq-cl_qq)/err_qq, 'ro-', label=r'$\\frac{t-d}{\\sigma}$')\n",
    "#plt.loglog()\n",
    "#plt.xlim((ell_arr[0], ell_arr[-1]))\n",
    "plt.title('Residuals {}_{}{}'.format(mode, zbin, zbin))\n",
    "plt.xlabel('$\\\\ell$', fontsize=16)\n",
    "plt.ylabel('$C_\\\\ell$', fontsize=16)\n",
    "plt.legend(loc='lower left', ncol=2, labelspacing=0.1)\n",
    "plt.show()"
   ]
  },
  {
   "cell_type": "code",
   "execution_count": null,
   "metadata": {},
   "outputs": [],
   "source": [
    "plt.errorbar(ell_arr, cl_qk, yerr=err_qk, marker='s', ecolor='k', label='Empirical')\n",
    "plt.plot(ell_arr, theory_qk, 'r--', label='Best theory')\n",
    "\n",
    "\n",
    "plt.loglog()\n",
    "#plt.xlim((ell_arr[0], ell_arr[-1]))\n",
    "plt.title('{}_{}{}'.format(mode, zbin, 'k'))\n",
    "plt.xlabel('$\\\\ell$', fontsize=16)\n",
    "plt.ylabel('$C_\\\\ell$', fontsize=16)\n",
    "plt.legend(loc='lower left', ncol=2, labelspacing=0.1)\n",
    "plt.show()"
   ]
  },
  {
   "cell_type": "code",
   "execution_count": null,
   "metadata": {},
   "outputs": [],
   "source": [
    "plt.plot(ell_arr, (theory_qk-cl_qk)/err_qk, 'ro-', label=r'$\\frac{t-d}{\\sigma}$')\n",
    "\n",
    "#plt.loglog()\n",
    "#plt.xlim((ell_arr[0], ell_arr[-1]))\n",
    "plt.title('Residuals {}_{}{}'.format(mode, zbin, 'k'))\n",
    "plt.xlabel('$\\\\ell$', fontsize=16)\n",
    "plt.ylabel('$C_\\\\ell$', fontsize=16)\n",
    "plt.legend(loc='lower left', ncol=2, labelspacing=0.1)\n",
    "plt.show()"
   ]
  },
  {
   "cell_type": "code",
   "execution_count": null,
   "metadata": {},
   "outputs": [],
   "source": [
    "plt.plot(b_arr, pb, 'r-', label='P(b)')\n",
    "plt.text(0, 0.09, 'best b ='+'{}'.format(best_b[0]))\n",
    "plt.text(0, 0.07, r'$\\bar{b}$ ='+'{}'.format(mean_b))\n",
    "plt.text(0, 0.05, r'$\\sigma b$ ='+'{}'.format(sigma_b))\n",
    "plt.text(0, 0.03, r'$\\chi^2$ ='+'{}'.format(best_x2))\n",
    "plt.title('{}_{}+Shear'.format(mode, zbin))\n",
    "plt.xlabel('$b$', fontsize=16)\n",
    "plt.ylabel('$P(b)$', fontsize=16)\n",
    "plt.legend(loc='lower left', ncol=2, labelspacing=0.1)\n",
    "plt.show()"
   ]
  },
  {
   "cell_type": "code",
   "execution_count": null,
   "metadata": {},
   "outputs": [],
   "source": []
  }
 ],
 "metadata": {
  "kernelspec": {
   "display_name": "Python 3",
   "language": "python",
   "name": "python3"
  },
  "language_info": {
   "codemirror_mode": {
    "name": "ipython",
    "version": 3
   },
   "file_extension": ".py",
   "mimetype": "text/x-python",
   "name": "python",
   "nbconvert_exporter": "python",
   "pygments_lexer": "ipython3",
   "version": "3.8.5"
  }
 },
 "nbformat": 4,
 "nbformat_minor": 4
}
