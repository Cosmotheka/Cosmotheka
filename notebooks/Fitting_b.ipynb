{
 "cells": [
  {
   "cell_type": "code",
   "execution_count": 1,
   "metadata": {},
   "outputs": [
    {
     "name": "stderr",
     "output_type": "stream",
     "text": [
      "WARNING (theano.configdefaults): install mkl with `conda install mkl-service`: No module named 'mkl'\n"
     ]
    }
   ],
   "source": [
    "# some_file.py\n",
    "import sys\n",
    "# insert at 1, 0 is the script path (or '' in REPL)\n",
    "sys.path.insert(1, '/home/zcapjru/PhD/DEScls')\n",
    "from xcell.mappers import MappereBOSSQSO\n",
    "from xcell.mappers import MapperP15CMBK\n",
    "\n",
    "from astropy.io import fits\n",
    "from astropy.table import Table\n",
    "\n",
    "import pyccl as ccl\n",
    "import numpy as np\n",
    "import pylab as plt\n",
    "import pymaster as nmt\n",
    "import healpy as hp\n",
    "from classy import Class\n",
    "import pymc3 as pm\n",
    "import theano.tensor as tt\n",
    "import os"
   ]
  },
  {
   "cell_type": "code",
   "execution_count": 2,
   "metadata": {},
   "outputs": [],
   "source": [
    "sys.path.insert(1, '/home/zcapjru/PhD/Pk_Emulator')\n",
    "\n",
    "import scipy\n",
    "import itertools\n",
    "from numpy import linalg\n",
    "from sklearn.decomposition import PCA\n",
    "\n",
    "import lin_pk_emul as emul"
   ]
  },
  {
   "cell_type": "code",
   "execution_count": 3,
   "metadata": {},
   "outputs": [
    {
     "name": "stdout",
     "output_type": "stream",
     "text": [
      "[ 21.5  43.   67.   92.5 120.  150.5 183.  218.  256.5 298.  343.  391.5\n",
      " 444.  485.5]\n"
     ]
    }
   ],
   "source": [
    "# Initialize binning scheme with 20 ells per bandpower\n",
    "nside = 512\n",
    "nside_mask = 512\n",
    "\n",
    "ells = []\n",
    "i = 11.5\n",
    "while i <= 3 * nside:\n",
    "    ells.append(round(i))\n",
    "    #i = i*(1+i/(3 * nside))\n",
    "    i = i+20*(1+i/240)\n",
    "    \n",
    "if ells[-1] <  3 * nside -1:   \n",
    "    ells.append(3 * nside -1)\n",
    "    \n",
    "ells = np.array(ells)\n",
    "\n",
    "extened_ell_arr = np.arange(1, 3*nside)\n",
    "\n",
    "scale_cut = 500\n",
    "ells = ells[ells < scale_cut]\n",
    "\n",
    "if ells[-1] < scale_cut:\n",
    "    ells = np.append(ells, scale_cut)\n",
    "    \n",
    "bands = nmt.NmtBin.from_edges(ells[:-1], ells[1:])\n",
    "ell_arr = bands.get_effective_ells()\n",
    "print(ell_arr)"
   ]
  },
  {
   "cell_type": "code",
   "execution_count": 4,
   "metadata": {},
   "outputs": [],
   "source": [
    "NGC_1_config = {'data_catalogs':['/home/zcapjru/PhD/Data/eBOSS_QSO/eBOSS_QSO_clustering_data-NGC-vDR16.fits'], \n",
    "          'random_catalogs':['/home/zcapjru/PhD/Data/eBOSS_QSO/eBOSS_QSO_clustering_random-NGC-vDR16.fits'],\n",
    "          'z_edges':[0, 1.5],\n",
    "          'nside':nside, 'nside_mask': nside_mask, 'mask_name': 'mask_QSO_NGC_1' }\n",
    "\n",
    "NGC_2_config = {'data_catalogs':['/home/zcapjru/PhD/Data/eBOSS_QSO/eBOSS_QSO_clustering_data-NGC-vDR16.fits'], \n",
    "          'random_catalogs':['/home/zcapjru/PhD/Data/eBOSS_QSO/eBOSS_QSO_clustering_random-NGC-vDR16.fits'],\n",
    "          'z_edges':[1.5, 3],\n",
    "          'nside':nside, 'nside_mask': nside_mask, 'mask_name': 'mask_QSO_NGC_2'  }\n",
    "\n",
    "SGC_1_config = {'data_catalogs':['/home/zcapjru/PhD/Data/eBOSS_QSO/eBOSS_QSO_clustering_data-SGC-vDR16.fits'], \n",
    "          'random_catalogs':['/home/zcapjru/PhD/Data/eBOSS_QSO/eBOSS_QSO_clustering_random-SGC-vDR16.fits'],\n",
    "          'z_edges':[0.01, 1.5],\n",
    "          'nside':nside, 'nside_mask': nside_mask, 'mask_name': 'mask_QSO_SGC_1' }\n",
    "\n",
    "SGC_2_config = {'data_catalogs':['/home/zcapjru/PhD/Data/eBOSS_QSO/eBOSS_QSO_clustering_data-SGC-vDR16.fits'], \n",
    "          'random_catalogs':['/home/zcapjru/PhD/Data/eBOSS_QSO/eBOSS_QSO_clustering_random-SGC-vDR16.fits'],\n",
    "          'z_edges':[1.5, 3],\n",
    "          'nside':nside, 'nside_mask': nside_mask, 'mask_name': 'mask_QSO_SGC_1'  }\n",
    "\n",
    "CMBK_config = {'file_klm':'/home/zcapjru/PhD/Data/COM_Lensing_2048_R2.00/dat_klm.fits', \n",
    "          'file_mask':'/home/zcapjru/PhD/Data/COM_Lensing_2048_R2.00/mask.fits.gz',\n",
    "               'file_noise':'/home/zcapjru/PhD/Data/COM_Lensing_2048_R2.00/nlkk.dat', 'mask_name': 3,\n",
    "          'nside':nside}"
   ]
  },
  {
   "cell_type": "code",
   "execution_count": 5,
   "metadata": {},
   "outputs": [
    {
     "name": "stderr",
     "output_type": "stream",
     "text": [
      "/home/zcapjru/anaconda3/envs/PhD/lib/python3.8/site-packages/healpy/fitsfunc.py:368: UserWarning: If you are not specifying the input dtype and using the default np.float64 dtype of read_map(), please consider that it will change in a future version to None as to keep the same dtype of the input file: please explicitly set the dtype if it is important to you.\n",
      "  warnings.warn(\n"
     ]
    }
   ],
   "source": [
    "b_arr = np.linspace(0, 5, 100)\n",
    "zbin = 1\n",
    "mode = 'NGC'\n",
    "only_gg = False\n",
    "only_gk = False\n",
    "use_emulator = False\n",
    "use_toeplitz = True\n",
    "#use_pymc = True\n",
    "cov_path = '/home/zcapjru/PhD/Covs/'\n",
    "\n",
    "maps_k = MapperP15CMBK(CMBK_config)\n",
    "maps_q = MappereBOSSQSO(NGC_1_config)"
   ]
  },
  {
   "cell_type": "code",
   "execution_count": 6,
   "metadata": {},
   "outputs": [],
   "source": [
    "pars = {\n",
    "            'h':       0.67,\n",
    "            'Omega_c': 0.27,\n",
    "            'Omega_b': 0.045,\n",
    "            'sigma8': 0.840,\n",
    "            'n_s':     0.96,\n",
    "            'w0': -1.0,\n",
    "            'wa':  0.0\n",
    "        }\n",
    "param_dict = dict({'transfer_function': 'boltzmann_class'},\n",
    "                          **pars)\n",
    "cosmo = ccl.Cosmology(**param_dict)\n",
    "\n",
    "nz = maps_q.get_nz()\n",
    "\n",
    "z = nz[1]\n",
    "dNdz = nz[0]"
   ]
  },
  {
   "cell_type": "code",
   "execution_count": 7,
   "metadata": {},
   "outputs": [],
   "source": [
    "def get_cov_wsp(f1, f2, f3 = None, f4 = None, toeplitz = False):\n",
    "    cw = nmt.NmtCovarianceWorkspace()\n",
    "    if toeplitz:\n",
    "        cw.compute_coupling_coefficients(f1, f2, f3, f4,  l_toeplitz=345, l_exact=100, dl_band=250)\n",
    "    else:\n",
    "        cw.compute_coupling_coefficients(f1, f2, f3, f4)\n",
    "    return cw\n",
    "\n",
    "def get_cov(cl1, cl2, cl3, cl4, cw, wa, wb):\n",
    "    return  nmt.gaussian_covariance(cw,\n",
    "                                      0, 0, 0, 0,  # Spins of the 4 fields\n",
    "                                      cl1,  # TT\n",
    "                                      cl2,  # TT\n",
    "                                      cl3,  # TT\n",
    "                                      cl4,  # TT\n",
    "                                      wa, wb=wb)"
   ]
  },
  {
   "cell_type": "code",
   "execution_count": 8,
   "metadata": {},
   "outputs": [
    {
     "name": "stdout",
     "output_type": "stream",
     "text": [
      "CPU times: user 6min 4s, sys: 17.4 s, total: 6min 21s\n",
      "Wall time: 1min 5s\n"
     ]
    }
   ],
   "source": [
    "%%time\n",
    "m_q = maps_q.get_mask()\n",
    "f_q = maps_q.get_nmt_field()\n",
    "\n",
    "w_qq = nmt.NmtWorkspace()\n",
    "w_qq.compute_coupling_matrix(f_q, f_q, bands)\n",
    "\n",
    "#everything decoupled\n",
    "nl_qq =  w_qq.decouple_cell(maps_q.get_nl_coupled())\n",
    "\n",
    "cw_qq = get_cov_wsp(f_q, f_q, toeplitz = use_toeplitz)\n",
    "\n",
    "cl_qq = nmt.compute_coupled_cell(f_q, f_q)/ np.mean(m_q * m_q)\n",
    "cov_qqqq = get_cov(cl_qq, cl_qq, cl_qq, cl_qq, cw_qq, w_qq, w_qq)\n",
    "\n",
    "err_qq = np.sqrt(cov_qqqq.diagonal())\n",
    "\n",
    "\n",
    "m_k = maps_k.get_mask()\n",
    "f_k = maps_k.get_nmt_field()\n",
    "\n",
    "w_kq = nmt.NmtWorkspace()\n",
    "w_kq.compute_coupling_matrix(f_q, f_k, bands)\n",
    "\n",
    "w_kk = nmt.NmtWorkspace()\n",
    "w_kk.compute_coupling_matrix(f_k, f_k, bands)\n",
    "\n",
    "cw_qkqk = get_cov_wsp(f_q, f_k, toeplitz = use_toeplitz)\n",
    "cw_qqqk = get_cov_wsp(f_q, f_q, f_q, f_k, toeplitz = use_toeplitz)\n",
    "\n",
    "cl_qk = nmt.compute_coupled_cell(f_q, f_k)/ np.mean(m_q * m_k)\n",
    "cl_kq = cl_qk\n",
    "cl_kk = nmt.compute_coupled_cell(f_k, f_k)/ np.mean(m_k * m_k)\n",
    "cov_qkqk = get_cov(cl_qq, cl_qk, cl_kq, cl_kk, cw_qkqk, w_kq, w_kq)\n",
    "\n",
    "cov_qqqk = get_cov(cl_qq, cl_qk, cl_qq, cl_qk, cw_qqqk, w_qq, w_kq)\n",
    "\n",
    "err_qk = np.sqrt(cov_qkqk.diagonal())"
   ]
  },
  {
   "cell_type": "code",
   "execution_count": 9,
   "metadata": {},
   "outputs": [],
   "source": [
    "cl_qq = w_qq.decouple_cell(nmt.compute_coupled_cell(f_q, f_q))[0] - nl_qq[0]\n",
    "cl_qk = w_kq.decouple_cell(nmt.compute_coupled_cell(f_q, f_k))[0] \n",
    "data = np.zeros(2*len(cl_qq))\n",
    "data[:len(cl_qq)] =  cl_qq\n",
    "data[len(cl_qq):] =  cl_qk"
   ]
  },
  {
   "cell_type": "code",
   "execution_count": 10,
   "metadata": {},
   "outputs": [],
   "source": [
    "def build_comp_cov(cov_aaaa, cov_aaab, cov_aabb):\n",
    "    cov_abaa = np.transpose(cov_aaab)\n",
    "    dim = len(cov_aaaa)\n",
    "    comp_cov = np.zeros([2*dim, 2*dim])\n",
    "    comp_cov[:dim,:dim] = cov_aaaa\n",
    "    comp_cov[:dim,dim:] = cov_aaab\n",
    "    comp_cov[dim:,:dim] = cov_abaa\n",
    "    comp_cov[dim:,dim:] = cov_aabb\n",
    "    return comp_cov"
   ]
  },
  {
   "cell_type": "code",
   "execution_count": 11,
   "metadata": {},
   "outputs": [],
   "source": [
    "comp_cov = build_comp_cov(cov_qqqq, cov_qqqk, cov_qkqk)"
   ]
  },
  {
   "cell_type": "code",
   "execution_count": 12,
   "metadata": {},
   "outputs": [],
   "source": [
    "if use_emulator:\n",
    "    emulator_100 = emul.LinPkEmulator(10, 200, 100, new=False )\n",
    "    k_arr, pk0 = emulator_100.get_emulated_Pk(cosmo['Omega_c'],cosmo['h'])\n",
    "    a_arr = np.linspace(0.01, 1, num=50)\n",
    "    #pk = ccl.boltzmann.get_class_pk_lin(cosmo)\n",
    "    D_arr = (1 + ccl.background.growth_factor(cosmo, a_arr)) ** 2\n",
    "    \n",
    "    pk_arr = [] \n",
    "    for item in D_arr:\n",
    "        pk_arr.append(pk0*item)\n",
    "    pk_arr = np.array(pk_arr).real\n",
    "    \n",
    "    pknew = ccl.Pk2D(a_arr = a_arr, lk_arr = k_arr, pk_arr = pk_arr,\n",
    "                 cosmo=cosmo, is_logp=False)\n",
    "    ccl.ccllib.cosmology_compute_linear_power(cosmo.cosmo, pknew.psp, 0)"
   ]
  },
  {
   "cell_type": "code",
   "execution_count": 13,
   "metadata": {},
   "outputs": [],
   "source": [
    "def theory(b):\n",
    "    b = b*np.ones(len(z))\n",
    "    quasar = ccl.NumberCountsTracer(cosmo, has_rsd=False, dndz=(z, dNdz), bias=(z,b))\n",
    "    CMB_shear = ccl.CMBLensingTracer(cosmo, 1100)\n",
    "    clgg = w_qq.decouple_cell(w_qq.couple_cell([ccl.angular_cl(cosmo, quasar, quasar, extened_ell_arr)]))[0]\n",
    "    clgk = w_kq.decouple_cell(w_kq.couple_cell([ccl.angular_cl(cosmo, CMB_shear, quasar, extened_ell_arr)]))[0]\n",
    "    theory = np.zeros(2*len(clgg))\n",
    "    theory[:len(clgg)] = clgg\n",
    "    theory[len(clgg):] = clgk\n",
    "    return theory\n",
    "\n",
    "def gof(b):\n",
    "    inv_cov = np.linalg.inv(comp_cov)\n",
    "    t = theory(b)\n",
    "    if only_gg:\n",
    "        data[int(len(data)/2):] = np.zeros(int(len(data)/2))\n",
    "        t[int(len(data)/2):] = np.zeros(int(len(data)/2))  \n",
    "    if only_gk:\n",
    "        data[:int(len(data)/2)] = np.zeros(int(len(data)/2))\n",
    "        t[:int(len(data)/2)] = np.zeros(int(len(data)/2)) \n",
    "    return np.transpose(data-t)@inv_cov@(data-t)"
   ]
  },
  {
   "cell_type": "code",
   "execution_count": 14,
   "metadata": {},
   "outputs": [
    {
     "name": "stdout",
     "output_type": "stream",
     "text": [
      "41.38493568728109 1.8181818181818181 1.826085825774906 0.27683431762976274\n",
      "28\n"
     ]
    }
   ],
   "source": [
    "x2 = []\n",
    "for item in b_arr:\n",
    "    x2.append(gof(item))\n",
    "x2 = np.array(x2)\n",
    "\n",
    "pb = np.exp(-0.5*x2)\n",
    "pb = pb/sum(pb)\n",
    "best_b = b_arr[np.argmin(x2)]\n",
    "best_x2 = min(x2)\n",
    "mean_b = (sum(b_arr*pb))/(sum(pb))\n",
    "sigma_b = np.sqrt((sum(np.abs(b_arr-mean_b)*pb))/(sum(pb)))\n",
    "print(best_x2, best_b, mean_b, sigma_b)\n",
    "print(len(data))"
   ]
  },
  {
   "cell_type": "code",
   "execution_count": 15,
   "metadata": {},
   "outputs": [],
   "source": [
    "best_b = best_b*np.ones(len(z))\n",
    "\n",
    "quasar = ccl.NumberCountsTracer(cosmo, has_rsd=False, dndz=(z,dNdz), bias=(z,best_b))\n",
    "CMB_shear = ccl.CMBLensingTracer(cosmo, 1100)\n",
    "\n",
    "theory_qq = w_qq.decouple_cell(w_qq.couple_cell([ccl.angular_cl(cosmo, quasar, quasar, extened_ell_arr)]))[0]\n",
    "theory_qk = w_kq.decouple_cell(w_kq.couple_cell([ccl.angular_cl(cosmo, CMB_shear, quasar, extened_ell_arr)]))[0]"
   ]
  },
  {
   "cell_type": "code",
   "execution_count": 16,
   "metadata": {},
   "outputs": [
    {
     "data": {
      "image/png": "[encoded data removed]",
      "text/plain": [
       "<Figure size 432x288 with 1 Axes>"
      ]
     },
     "metadata": {
      "needs_background": "light"
     },
     "output_type": "display_data"
    }
   ],
   "source": [
    "plt.errorbar(ell_arr, cl_qq, yerr=err_qq, marker='s', ecolor='k', label='Empirical')\n",
    "plt.plot(ell_arr, nl_qq[0], 'go-', label='Noise')\n",
    "plt.plot(ell_arr, theory_qq, 'r--', label='Best theory')\n",
    "\n",
    "\n",
    "plt.loglog()\n",
    "#plt.xlim((ell_arr[0], ell_arr[-1]))\n",
    "plt.title('{}_{}{}'.format(mode, zbin, zbin))\n",
    "plt.xlabel('$\\\\ell$', fontsize=16)\n",
    "plt.ylabel('$C_\\\\ell$', fontsize=16)\n",
    "plt.legend(loc='lower left', ncol=2, labelspacing=0.1)\n",
    "plt.show()"
   ]
  },
  {
   "cell_type": "code",
   "execution_count": 17,
   "metadata": {},
   "outputs": [
    {
     "data": {
      "image/png": "[encoded data removed]",
      "text/plain": [
       "<Figure size 432x288 with 1 Axes>"
      ]
     },
     "metadata": {
      "needs_background": "light"
     },
     "output_type": "display_data"
    }
   ],
   "source": [
    "plt.plot(ell_arr, (theory_qq-cl_qq)/err_qq, 'ro-', label=r'$\\frac{t-d}{\\sigma}$')\n",
    "#plt.loglog()\n",
    "#plt.xlim((ell_arr[0], ell_arr[-1]))\n",
    "plt.title('Residuals {}_{}{}'.format(mode, zbin, zbin))\n",
    "plt.xlabel('$\\\\ell$', fontsize=16)\n",
    "plt.ylabel('$C_\\\\ell$', fontsize=16)\n",
    "plt.legend(loc='lower left', ncol=2, labelspacing=0.1)\n",
    "plt.show()"
   ]
  },
  {
   "cell_type": "code",
   "execution_count": 18,
   "metadata": {},
   "outputs": [
    {
     "data": {
      "image/png": "[encoded data removed]",
      "text/plain": [
       "<Figure size 432x288 with 1 Axes>"
      ]
     },
     "metadata": {
      "needs_background": "light"
     },
     "output_type": "display_data"
    }
   ],
   "source": [
    "plt.errorbar(ell_arr, cl_qk, yerr=err_qk, marker='s', ecolor='k', label='Empirical')\n",
    "plt.plot(ell_arr, theory_qk, 'r--', label='Best theory')\n",
    "\n",
    "\n",
    "plt.loglog()\n",
    "#plt.xlim((ell_arr[0], ell_arr[-1]))\n",
    "plt.title('{}_{}{}'.format(mode, zbin, 'k'))\n",
    "plt.xlabel('$\\\\ell$', fontsize=16)\n",
    "plt.ylabel('$C_\\\\ell$', fontsize=16)\n",
    "plt.legend(loc='lower left', ncol=2, labelspacing=0.1)\n",
    "plt.show()"
   ]
  },
  {
   "cell_type": "code",
   "execution_count": 19,
   "metadata": {
    "scrolled": true
   },
   "outputs": [
    {
     "data": {
      "image/png": "[encoded data removed]",
      "text/plain": [
       "<Figure size 432x288 with 1 Axes>"
      ]
     },
     "metadata": {
      "needs_background": "light"
     },
     "output_type": "display_data"
    }
   ],
   "source": [
    "plt.plot(ell_arr, (theory_qk-cl_qk)/err_qk, 'ro-', label=r'$\\frac{t-d}{\\sigma}$')\n",
    "\n",
    "#plt.loglog()\n",
    "#plt.xlim((ell_arr[0], ell_arr[-1]))\n",
    "plt.title('Residuals {}_{}{}'.format(mode, zbin, 'k'))\n",
    "plt.xlabel('$\\\\ell$', fontsize=16)\n",
    "plt.ylabel('$C_\\\\ell$', fontsize=16)\n",
    "plt.legend(loc='lower left', ncol=2, labelspacing=0.1)\n",
    "plt.show()"
   ]
  },
  {
   "cell_type": "code",
   "execution_count": 20,
   "metadata": {},
   "outputs": [
    {
     "data": {
      "image/png": "[encoded data removed]",
      "text/plain": [
       "<Figure size 432x288 with 1 Axes>"
      ]
     },
     "metadata": {
      "needs_background": "light"
     },
     "output_type": "display_data"
    }
   ],
   "source": [
    "plt.plot(b_arr, pb, 'r-', label='P(b)')\n",
    "plt.text(0, 0.09, 'best b ='+'{}'.format(best_b[0]))\n",
    "plt.text(0, 0.07, r'$\\bar{b}$ ='+'{}'.format(mean_b))\n",
    "plt.text(0, 0.05, r'$\\sigma b$ ='+'{}'.format(sigma_b))\n",
    "plt.text(0, 0.03, r'$\\chi^2$ ='+'{}'.format(best_x2))\n",
    "plt.title('{}_{}+Shear'.format(mode, zbin))\n",
    "plt.xlabel('$b$', fontsize=16)\n",
    "plt.ylabel('$P(b)$', fontsize=16)\n",
    "plt.legend(loc='lower left', ncol=2, labelspacing=0.1)\n",
    "plt.show()"
   ]
  },
  {
   "cell_type": "code",
   "execution_count": null,
   "metadata": {},
   "outputs": [],
   "source": []
  }
 ],
 "metadata": {
  "kernelspec": {
   "display_name": "Python 3",
   "language": "python",
   "name": "python3"
  },
  "language_info": {
   "codemirror_mode": {
    "name": "ipython",
    "version": 3
   },
   "file_extension": ".py",
   "mimetype": "text/x-python",
   "name": "python",
   "nbconvert_exporter": "python",
   "pygments_lexer": "ipython3",
   "version": "3.8.5"
  }
 },
 "nbformat": 4,
 "nbformat_minor": 4
}
