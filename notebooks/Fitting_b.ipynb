{
 "cells": [
  {
   "cell_type": "code",
   "execution_count": 1,
   "metadata": {},
   "outputs": [],
   "source": [
    "# some_file.py\n",
    "import sys\n",
    "# insert at 1, 0 is the script path (or '' in REPL)\n",
    "sys.path.insert(1, '/home/zcapjru/PhD/DEScls/xcell/mappers')\n",
    "\n",
    "\n",
    "from mapper_base import MapperBase\n",
    "from astropy.io import fits\n",
    "from astropy.table import Table\n",
    "\n",
    "import mapper_eBOSSQSO\n",
    "import mapper_P15CMBK\n",
    "import pyccl as ccl\n",
    "import numpy as np\n",
    "import pylab as plt\n",
    "import pymaster as nmt\n",
    "import healpy as hp"
   ]
  },
  {
   "cell_type": "code",
   "execution_count": 2,
   "metadata": {},
   "outputs": [
    {
     "name": "stdout",
     "output_type": "stream",
     "text": [
      "[ 21.5  43.   67.   92.5 120.  150.5 183.  218.  256.5 298.  343.  391.5\n",
      " 444.  501.  563.  630.  702.5 781.  866.  955. ]\n"
     ]
    }
   ],
   "source": [
    "# Initialize binning scheme with 20 ells per bandpower\n",
    "nside = 512\n",
    "nside_mask = 512\n",
    "\n",
    "ells = []\n",
    "i = 11.5\n",
    "while i <= 3 * nside:\n",
    "    ells.append(round(i))\n",
    "    #i = i*(1+i/(3 * nside))\n",
    "    i = i+20*(1+i/240)\n",
    "    \n",
    "if ells[-1] <  3 * nside -1:   \n",
    "    ells.append(3 * nside -1)\n",
    "    \n",
    "ells = np.array(ells)\n",
    "\n",
    "\n",
    "scale_cut = 1000\n",
    "ells = ells[ells < scale_cut]\n",
    "\n",
    "if ells[-1] < scale_cut:\n",
    "    ells = np.append(ells, scale_cut)\n",
    "    \n",
    "bands = nmt.NmtBin.from_edges(ells[:-1], ells[1:])\n",
    "ell_arr = bands.get_effective_ells()\n",
    "print(ell_arr)"
   ]
  },
  {
   "cell_type": "code",
   "execution_count": 3,
   "metadata": {},
   "outputs": [],
   "source": [
    "NGC_1_config = {'data_catalogs':['/home/zcapjru/PhD/Data/eBOSS_QSO/eBOSS_QSO_clustering_data-NGC-vDR16.fits'], \n",
    "          'random_catalogs':['/home/zcapjru/PhD/Data/eBOSS_QSO/eBOSS_QSO_clustering_random-NGC-vDR16.fits'],\n",
    "          'z_edges':[0, 1.5],\n",
    "          'nside':nside, 'nside_mask': nside_mask, 'mask_name': 'mask_QSO_NGC_1' }\n",
    "\n",
    "NGC_2_config = {'data_catalogs':['/home/zcapjru/PhD/Data/eBOSS_QSO/eBOSS_QSO_clustering_data-NGC-vDR16.fits'], \n",
    "          'random_catalogs':['/home/zcapjru/PhD/Data/eBOSS_QSO/eBOSS_QSO_clustering_random-NGC-vDR16.fits'],\n",
    "          'z_edges':[1.5, 3],\n",
    "          'nside':nside, 'nside_mask': nside_mask, 'mask_name': 'mask_QSO_NGC_2'  }\n",
    "\n",
    "SGC_1_config = {'data_catalogs':['/home/zcapjru/PhD/Data/eBOSS_QSO/eBOSS_QSO_clustering_data-SGC-vDR16.fits'], \n",
    "          'random_catalogs':['/home/zcapjru/PhD/Data/eBOSS_QSO/eBOSS_QSO_clustering_random-SGC-vDR16.fits'],\n",
    "          'z_edges':[0.01, 1.5],\n",
    "          'nside':nside, 'nside_mask': nside_mask, 'mask_name': 'mask_QSO_SGC_1' }\n",
    "\n",
    "SGC_2_config = {'data_catalogs':['/home/zcapjru/PhD/Data/eBOSS_QSO/eBOSS_QSO_clustering_data-SGC-vDR16.fits'], \n",
    "          'random_catalogs':['/home/zcapjru/PhD/Data/eBOSS_QSO/eBOSS_QSO_clustering_random-SGC-vDR16.fits'],\n",
    "          'z_edges':[1.5, 3],\n",
    "          'nside':nside, 'nside_mask': nside_mask, 'mask_name': 'mask_QSO_SGC_1'  }\n",
    "\n",
    "CMBK_config = {'file_klm':'/home/zcapjru/PhD/Data/COM_Lensing_2048_R2.00/dat_klm.fits', \n",
    "          'file_mask':'/home/zcapjru/PhD/Data/COM_Lensing_2048_R2.00/mask.fits.gz',\n",
    "               'file_noise':'/home/zcapjru/PhD/Data/COM_Lensing_2048_R2.00/nlkk.dat', 'mask_name': 3,\n",
    "          'nside':nside}"
   ]
  },
  {
   "cell_type": "code",
   "execution_count": 4,
   "metadata": {},
   "outputs": [
    {
     "name": "stderr",
     "output_type": "stream",
     "text": [
      "/home/zcapjru/anaconda3/envs/PhD/lib/python3.8/site-packages/healpy/fitsfunc.py:368: UserWarning: If you are not specifying the input dtype and using the default np.float64 dtype of read_map(), please consider that it will change in a future version to None as to keep the same dtype of the input file: please explicitly set the dtype if it is important to you.\n",
      "  warnings.warn(\n"
     ]
    }
   ],
   "source": [
    "b_arr = np.linspace(0, 5, 100)\n",
    "zbin = 2\n",
    "mode = 'SGC'\n",
    "only_gg = False\n",
    "only_gk = True\n",
    "\n",
    "maps_k = mapper_P15CMBK.MapperP15CMBK(CMBK_config)\n",
    "maps_1 = mapper_eBOSSQSO.MappereBOSSQSO(SGC_1_config)\n",
    "maps_2 = mapper_eBOSSQSO.MappereBOSSQSO(SGC_2_config)"
   ]
  },
  {
   "cell_type": "code",
   "execution_count": 5,
   "metadata": {},
   "outputs": [],
   "source": [
    "cosmo = ccl.Cosmology(Omega_c=0.27, Omega_b=0.049, h=0.67, sigma8=0.81, n_s=0.96)\n",
    "\n",
    "nz_1 = maps_1.get_nz()\n",
    "nz_2 = maps_2.get_nz()\n",
    "\n",
    "nzs = {\n",
    "    'z_1'    : nz_1[1],\n",
    "    'dNdz_1' : nz_1[0],\n",
    "    'z_2'    : nz_2[1],\n",
    "    'dNdz_2' : nz_2[0]\n",
    "}\n",
    "\n",
    "z_1 = nz_1[1]\n",
    "dNdz_1 = nz_1[0]\n",
    "\n",
    "z_2 = nz_2[1]\n",
    "dNdz_2 = nz_2[0]"
   ]
  },
  {
   "cell_type": "code",
   "execution_count": 6,
   "metadata": {},
   "outputs": [],
   "source": [
    "def get_cov_wsp(f1, f2, f3 = None, f4 = None):\n",
    "    cw = nmt.NmtCovarianceWorkspace()\n",
    "    cw.compute_coupling_coefficients(f1, f2, f3, f4)\n",
    "    return cw\n",
    "\n",
    "def get_cov(cl1, cl2, cl3, cl4, cw, wa, wb):\n",
    "    return  nmt.gaussian_covariance(cw,\n",
    "                                      0, 0, 0, 0,  # Spins of the 4 fields\n",
    "                                      cl1,  # TT\n",
    "                                      cl2,  # TT\n",
    "                                      cl3,  # TT\n",
    "                                      cl4,  # TT\n",
    "                                      wa, wb=wb)"
   ]
  },
  {
   "cell_type": "code",
   "execution_count": 7,
   "metadata": {},
   "outputs": [],
   "source": [
    "m1 = maps_1.get_mask()\n",
    "m2 = maps_2.get_mask()\n",
    "\n",
    "f1 = maps_1.get_nmt_field()\n",
    "f2 = maps_1.get_nmt_field()\n",
    "\n",
    "w_11 = nmt.NmtWorkspace()\n",
    "w_11.compute_coupling_matrix(f1, f1, bands)\n",
    "      \n",
    "w_12 = nmt.NmtWorkspace()\n",
    "w_12.compute_coupling_matrix(f1, f2, bands)\n",
    "\n",
    "w_22 = nmt.NmtWorkspace()\n",
    "w_22.compute_coupling_matrix(f2, f2, bands)\n",
    "\n",
    "#everything decoupled\n",
    "nl11 =  w_11.decouple_cell(maps_1.get_nl_coupled())\n",
    "nl22 =  w_22.decouple_cell(maps_2.get_nl_coupled())\n",
    "nl12 = [np.zeros_like(nl11)]\n",
    "nl21 = [np.zeros_like(nl11)]\n",
    "\n",
    "cw_1111 = get_cov_wsp(f1, f1)\n",
    "cw_2222 = get_cov_wsp(f2, f2)\n",
    "\n",
    "cl = nmt.compute_coupled_cell(f1, f1)/ np.mean(m1 * m1)\n",
    "cov_1111 = get_cov(cl, cl, cl, cl, cw_1111, w_11, w_11)\n",
    "\n",
    "cl = nmt.compute_coupled_cell(f2, f2)/ np.mean(m2 * m2)\n",
    "cov_2222 = get_cov(cl, cl, cl, cl, cw_2222, w_22, w_22)\n",
    "\n",
    "err_11 = np.sqrt(cov_1111.diagonal())\n",
    "err_22 = np.sqrt(cov_2222.diagonal())"
   ]
  },
  {
   "cell_type": "code",
   "execution_count": 8,
   "metadata": {},
   "outputs": [],
   "source": [
    "mk = maps_k.get_mask()\n",
    "fk = maps_k.get_nmt_field()\n",
    "\n",
    "w_k1 = nmt.NmtWorkspace()\n",
    "w_k1.compute_coupling_matrix(f1, fk, bands)\n",
    "\n",
    "w_k2 = nmt.NmtWorkspace()\n",
    "w_k2.compute_coupling_matrix(f2, fk, bands)\n",
    "\n",
    "w_kk = nmt.NmtWorkspace()\n",
    "w_kk.compute_coupling_matrix(fk, fk, bands)\n",
    "\n",
    "cw_1k1k = get_cov_wsp(f1, fk)\n",
    "cw_111k = get_cov_wsp(f1, f1, f1, fk)\n",
    "cw_222k = get_cov_wsp(f2, f2, f2, fk)\n",
    "cw_2k2k = get_cov_wsp(f2, fk)\n",
    "\n",
    "cl11 = nmt.compute_coupled_cell(f1, f1)/ np.mean(m1 * m1)\n",
    "cl1k = nmt.compute_coupled_cell(f1, fk)/ np.mean(m1 * mk)\n",
    "clk1 = nmt.compute_coupled_cell(fk, f1)/ np.mean(mk * m1)\n",
    "clkk = nmt.compute_coupled_cell(fk, fk)/ np.mean(mk * mk)\n",
    "cov_1k1k = get_cov(cl11, cl1k, clk1, clkk, cw_1k1k, w_k1, w_k1)\n",
    "\n",
    "cl11 = nmt.compute_coupled_cell(f1, f1)/ np.mean(m1 * m1)\n",
    "cl1k = nmt.compute_coupled_cell(f1, fk)/ np.mean(m1 * mk)\n",
    "cov_111k = get_cov(cl11, cl1k, cl11, cl1k, cw_111k, w_11, w_k1)\n",
    "\n",
    "cl22 = nmt.compute_coupled_cell(f2, f2)/ np.mean(m2 * m2)\n",
    "cl2k = nmt.compute_coupled_cell(f2, fk)/ np.mean(m2 * mk)\n",
    "cov_222k = get_cov(cl22, cl2k, cl22, cl2k, cw_222k, w_22, w_k2)\n",
    "\n",
    "cl22 = nmt.compute_coupled_cell(f2, f2)/ np.mean(m2 * m2)\n",
    "cl2k = nmt.compute_coupled_cell(f2, fk)/ np.mean(m2 * mk)\n",
    "clk2 = nmt.compute_coupled_cell(fk, f2)/ np.mean(mk * m2)\n",
    "clkk = nmt.compute_coupled_cell(fk, fk)/ np.mean(mk * mk)\n",
    "cov_2k2k = get_cov(cl22, cl2k, clk2, clkk, cw_2k2k, w_k2, w_k2)\n",
    "\n",
    "err_1k = np.sqrt(cov_1k1k.diagonal())\n",
    "err_2k = np.sqrt(cov_2k2k.diagonal())"
   ]
  },
  {
   "cell_type": "code",
   "execution_count": 9,
   "metadata": {},
   "outputs": [],
   "source": [
    "sel = ell_arr < scale_cut\n",
    "cl11 = w_11.decouple_cell(nmt.compute_coupled_cell(f1, f1))[0] - nl11[0]\n",
    "cl1k = w_k1.decouple_cell(nmt.compute_coupled_cell(f1, fk))[0] \n",
    "data_1 = np.zeros(2*len(cl11))\n",
    "data_1[:len(cl11)] =  cl11\n",
    "data_1[len(cl11):] =  cl1k\n",
    "\n",
    "cl22 = w_22.decouple_cell(nmt.compute_coupled_cell(f2, f2))[0] - nl22[0]\n",
    "cl2k = w_k2.decouple_cell(nmt.compute_coupled_cell(f2, fk))[0]\n",
    "data_2 = np.zeros(2*len(cl22))\n",
    "data_2[:len(cl22)] =  cl22\n",
    "data_2[len(cl22):] =  cl2k"
   ]
  },
  {
   "cell_type": "code",
   "execution_count": 10,
   "metadata": {},
   "outputs": [],
   "source": [
    "nls = {\n",
    "    'nl11': nl11[0],\n",
    "    'nl22': nl22[0]\n",
    "}\n",
    "\n",
    "cls = {\n",
    "    'cl11': cl11,\n",
    "    'cl1k': cl1k,\n",
    "    'cl22': cl22, \n",
    "    'cl2k': cl2k\n",
    "}\n",
    "\n",
    "errors = {\n",
    "    'err_11': err_11,\n",
    "    'err_22': err_22,\n",
    "    'err_1k': err_1k,\n",
    "    'err_2k': err_2k\n",
    "}"
   ]
  },
  {
   "cell_type": "code",
   "execution_count": 11,
   "metadata": {},
   "outputs": [],
   "source": [
    "def build_comp_cov(cov_aaaa, cov_aaab, cov_aabb):\n",
    "    cov_abaa = np.transpose(cov_aaab)\n",
    "    dim = len(cov_aaaa)\n",
    "    comp_cov = np.zeros([2*dim, 2*dim])\n",
    "    comp_cov[:dim,:dim] = cov_aaaa\n",
    "    comp_cov[:dim,dim:] = cov_aaab\n",
    "    comp_cov[dim:,:dim] = cov_abaa\n",
    "    comp_cov[dim:,dim:] = cov_aabb\n",
    "    return comp_cov"
   ]
  },
  {
   "cell_type": "code",
   "execution_count": 12,
   "metadata": {},
   "outputs": [],
   "source": [
    "comp_cov_1 = build_comp_cov(cov_1111, cov_111k, cov_1k1k)\n",
    "comp_cov_2 = build_comp_cov(cov_2222, cov_222k, cov_2k2k)"
   ]
  },
  {
   "cell_type": "code",
   "execution_count": 13,
   "metadata": {},
   "outputs": [],
   "source": [
    "covs = {\n",
    "    'comp_cov_1': comp_cov_1,\n",
    "    'comp_cov_2': comp_cov_2\n",
    "}\n",
    "\n",
    "datas = {\n",
    "    'data_1': data_1,\n",
    "    'data_2': data_2\n",
    "}"
   ]
  },
  {
   "cell_type": "code",
   "execution_count": 14,
   "metadata": {},
   "outputs": [],
   "source": [
    "def theory(z, dNdz, b):\n",
    "    b = b*np.ones(len(z))\n",
    "    quasar = ccl.NumberCountsTracer(cosmo, has_rsd=False, dndz=(z, dNdz), bias=(z,b))\n",
    "    CMB_shear = ccl.CMBLensingTracer(cosmo, 1100)\n",
    "    clgg = ccl.angular_cl(cosmo, quasar, quasar, ell_arr)\n",
    "    clgs = ccl.angular_cl(cosmo, quasar, CMB_shear, ell_arr)\n",
    "    theory = np.zeros(2*len(clgg))\n",
    "    theory[:len(clgg)] = clgg\n",
    "    theory[len(clgg):] = clgs\n",
    "    return theory\n",
    "\n",
    "def gof(b, zbin):\n",
    "    cov = covs['comp_cov_{}'.format(zbin)]\n",
    "    inv_cov = np.linalg.inv(cov)\n",
    "    d = datas['data_{}'.format(zbin)]\n",
    "    t = theory(nzs['z_{}'.format(zbin)], nzs['dNdz_{}'.format(zbin)], b)\n",
    "    if only_gg:\n",
    "        d[int(len(d)/2):] = np.zeros(int(len(d)/2))\n",
    "        t[int(len(d)/2):] = np.zeros(int(len(d)/2))  \n",
    "    if only_gk:\n",
    "        d[:int(len(d)/2)] = np.zeros(int(len(d)/2))\n",
    "        t[:int(len(d)/2)] = np.zeros(int(len(d)/2)) \n",
    "    return np.transpose(d-t)@inv_cov@(d-t)"
   ]
  },
  {
   "cell_type": "code",
   "execution_count": 15,
   "metadata": {},
   "outputs": [
    {
     "name": "stdout",
     "output_type": "stream",
     "text": [
      "16.664100066805034 2.5757575757575757 2.571190646891646 0.6030624798986196\n",
      "40\n"
     ]
    }
   ],
   "source": [
    "x2 = []\n",
    "for item in b_arr:\n",
    "    x2.append(gof(item, zbin))\n",
    "x2 = np.array(x2)\n",
    "\n",
    "pb = np.exp(-0.5*x2)\n",
    "pb = pb/sum(pb)\n",
    "best_b = b_arr[np.argmin(x2)]\n",
    "best_x2 = min(x2)\n",
    "mean_b = (sum(b_arr*pb))/(sum(pb))\n",
    "sigma_b = np.sqrt((sum(np.abs(b_arr-mean_b)*pb))/(sum(pb)))\n",
    "print(best_x2, best_b, mean_b, sigma_b)\n",
    "print(len(datas['data_1']))"
   ]
  },
  {
   "cell_type": "code",
   "execution_count": 16,
   "metadata": {},
   "outputs": [],
   "source": [
    "best_b = best_b*np.ones(len(z_1))\n",
    "z = nzs['z_{}'.format(zbin)]\n",
    "dNdz = nzs['dNdz_{}'.format(zbin)]\n",
    "\n",
    "quasar = ccl.NumberCountsTracer(cosmo, has_rsd=False, dndz=(z,dNdz), bias=(z_1,best_b))\n",
    "CMB_shear = ccl.CMBLensingTracer(cosmo, 1100)\n",
    "\n",
    "theory_gg = ccl.angular_cl(cosmo, quasar, quasar, ell_arr)\n",
    "theory_gk = ccl.angular_cl(cosmo, CMB_shear, quasar, ell_arr)"
   ]
  },
  {
   "cell_type": "code",
   "execution_count": 17,
   "metadata": {},
   "outputs": [
    {
     "data": {
      "image/png": "[encoded data removed]",
      "text/plain": [
       "<Figure size 432x288 with 1 Axes>"
      ]
     },
     "metadata": {
      "needs_background": "light"
     },
     "output_type": "display_data"
    }
   ],
   "source": [
    "cl = cls['cl{}{}'.format(zbin,zbin)]\n",
    "nl = nls['nl{}{}'.format(zbin,zbin)]\n",
    "err = errors['err_{}{}'.format(zbin,zbin)]\n",
    "\n",
    "plt.errorbar(ell_arr, cl, yerr=err, marker='s', ecolor='k', label='Empirical')\n",
    "plt.plot(ell_arr, nl, 'go-', label='Noise')\n",
    "plt.plot(ell_arr, theory_gg, 'r--', label='Best theory')\n",
    "\n",
    "\n",
    "#plt.loglog()\n",
    "#plt.xlim((ell_arr[0], ell_arr[-1]))\n",
    "plt.title('{}_{}{}'.format(mode, zbin, zbin))\n",
    "plt.xlabel('$\\\\ell$', fontsize=16)\n",
    "plt.ylabel('$C_\\\\ell$', fontsize=16)\n",
    "plt.legend(loc='lower left', ncol=2, labelspacing=0.1)\n",
    "plt.show()"
   ]
  },
  {
   "cell_type": "code",
   "execution_count": 18,
   "metadata": {},
   "outputs": [
    {
     "data": {
      "image/png": "[encoded data removed]",
      "text/plain": [
       "<Figure size 432x288 with 1 Axes>"
      ]
     },
     "metadata": {
      "needs_background": "light"
     },
     "output_type": "display_data"
    }
   ],
   "source": [
    "cl = cls['cl{}{}'.format(zbin,zbin)]\n",
    "err = errors['err_{}{}'.format(zbin,zbin)]\n",
    "\n",
    "plt.plot(ell_arr, (theory_gg-cl)/err, 'ro-', label=r'$\\frac{t-d}{\\sigma}$')\n",
    "#plt.loglog()\n",
    "#plt.xlim((ell_arr[0], ell_arr[-1]))\n",
    "plt.title('Residuals {}_{}{}'.format(mode, zbin, zbin))\n",
    "plt.xlabel('$\\\\ell$', fontsize=16)\n",
    "plt.ylabel('$C_\\\\ell$', fontsize=16)\n",
    "plt.legend(loc='lower left', ncol=2, labelspacing=0.1)\n",
    "plt.show()"
   ]
  },
  {
   "cell_type": "code",
   "execution_count": 19,
   "metadata": {},
   "outputs": [
    {
     "data": {
      "image/png": "[encoded data removed]",
      "text/plain": [
       "<Figure size 432x288 with 1 Axes>"
      ]
     },
     "metadata": {
      "needs_background": "light"
     },
     "output_type": "display_data"
    }
   ],
   "source": [
    "cl = cls['cl{}{}'.format(zbin,'k')]\n",
    "err = errors['err_{}{}'.format(zbin,'k')]\n",
    "\n",
    "plt.errorbar(ell_arr, cl, yerr=err, marker='s', ecolor='k', label='Empirical')\n",
    "plt.plot(ell_arr, theory_gk, 'r--', label='Best theory')\n",
    "\n",
    "\n",
    "plt.loglog()\n",
    "#plt.xlim((ell_arr[0], ell_arr[-1]))\n",
    "plt.title('{}_{}{}'.format(mode, zbin, 'k'))\n",
    "plt.xlabel('$\\\\ell$', fontsize=16)\n",
    "plt.ylabel('$C_\\\\ell$', fontsize=16)\n",
    "plt.legend(loc='lower left', ncol=2, labelspacing=0.1)\n",
    "plt.show()"
   ]
  },
  {
   "cell_type": "code",
   "execution_count": 20,
   "metadata": {},
   "outputs": [
    {
     "data": {
      "image/png": "[encoded data removed]",
      "text/plain": [
       "<Figure size 432x288 with 1 Axes>"
      ]
     },
     "metadata": {
      "needs_background": "light"
     },
     "output_type": "display_data"
    }
   ],
   "source": [
    "cl = cls['cl{}{}'.format(zbin,'k')]\n",
    "err = errors['err_{}{}'.format(zbin,'k')]\n",
    "\n",
    "plt.plot(ell_arr, (theory_gk-cl)/err, 'ro-', label=r'$\\frac{t-d}{\\sigma}$')\n",
    "\n",
    "#plt.loglog()\n",
    "#plt.xlim((ell_arr[0], ell_arr[-1]))\n",
    "plt.title('Residuals {}_{}{}'.format(mode, zbin, 'k'))\n",
    "plt.xlabel('$\\\\ell$', fontsize=16)\n",
    "plt.ylabel('$C_\\\\ell$', fontsize=16)\n",
    "plt.legend(loc='lower left', ncol=2, labelspacing=0.1)\n",
    "plt.show()"
   ]
  },
  {
   "cell_type": "code",
   "execution_count": 21,
   "metadata": {},
   "outputs": [
    {
     "data": {
      "image/png": "[encoded data removed]",
      "text/plain": [
       "<Figure size 432x288 with 1 Axes>"
      ]
     },
     "metadata": {
      "needs_background": "light"
     },
     "output_type": "display_data"
    }
   ],
   "source": [
    "plt.plot(b_arr, pb, 'r-', label='P(b)')\n",
    "plt.text(0, 0.09, 'best b ='+'{}'.format(best_b[0]))\n",
    "plt.text(0, 0.07, r'$\\bar{b}$ ='+'{}'.format(mean_b))\n",
    "plt.text(0, 0.05, r'$\\sigma b$ ='+'{}'.format(sigma_b))\n",
    "plt.text(0, 0.03, r'$\\chi^2$ ='+'{}'.format(best_x2))\n",
    "plt.title('{}_{}+Shear'.format(mode, zbin))\n",
    "plt.xlabel('$b$', fontsize=16)\n",
    "plt.ylabel('$P(b)$', fontsize=16)\n",
    "plt.legend(loc='lower left', ncol=2, labelspacing=0.1)\n",
    "plt.show()"
   ]
  },
  {
   "cell_type": "code",
   "execution_count": null,
   "metadata": {},
   "outputs": [],
   "source": []
  }
 ],
 "metadata": {
  "kernelspec": {
   "display_name": "Python 3",
   "language": "python",
   "name": "python3"
  },
  "language_info": {
   "codemirror_mode": {
    "name": "ipython",
    "version": 3
   },
   "file_extension": ".py",
   "mimetype": "text/x-python",
   "name": "python",
   "nbconvert_exporter": "python",
   "pygments_lexer": "ipython3",
   "version": "3.8.5"
  }
 },
 "nbformat": 4,
 "nbformat_minor": 4
}
