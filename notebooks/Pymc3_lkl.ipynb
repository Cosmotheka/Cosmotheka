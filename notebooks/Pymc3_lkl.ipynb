{
 "cells": [
  {
   "cell_type": "code",
   "execution_count": 22,
   "metadata": {},
   "outputs": [],
   "source": [
    "# some_file.py\n",
    "import sys\n",
    "# insert at 1, 0 is the script path (or '' in REPL)\n",
    "sys.path.insert(1, '/home/zcapjru/PhD/DEScls')\n",
    "from xcell.mappers import MappereBOSSQSO\n",
    "from xcell.mappers import MapperP15CMBK\n",
    "\n",
    "from astropy.io import fits\n",
    "from astropy.table import Table\n",
    "\n",
    "import pyccl as ccl\n",
    "import numpy as np\n",
    "import pylab as plt\n",
    "import pymaster as nmt\n",
    "import healpy as hp\n",
    "from classy import Class\n",
    "import pymc3 as pm\n",
    "import theano.tensor as tt\n",
    "import os\n",
    "import arviz as az"
   ]
  },
  {
   "cell_type": "code",
   "execution_count": 2,
   "metadata": {},
   "outputs": [],
   "source": [
    "sys.path.insert(1, '/home/zcapjru/PhD/Pk_Emulator')\n",
    "\n",
    "import scipy\n",
    "import itertools\n",
    "from numpy import linalg\n",
    "from sklearn.decomposition import PCA\n",
    "\n",
    "import lin_pk_emul as emul"
   ]
  },
  {
   "cell_type": "code",
   "execution_count": 3,
   "metadata": {},
   "outputs": [
    {
     "name": "stdout",
     "output_type": "stream",
     "text": [
      "[ 21.5  43.   67.   92.5 120.  150.5 183.  218.  256.5 298.  343.  391.5\n",
      " 444.  501.  563.  630.  702.5 781.  866.  955. ]\n"
     ]
    }
   ],
   "source": [
    "# Initialize binning scheme with 20 ells per bandpower\n",
    "nside = 512\n",
    "nside_mask = 512\n",
    "\n",
    "ells = []\n",
    "i = 11.5\n",
    "while i <= 3 * nside:\n",
    "    ells.append(round(i))\n",
    "    #i = i*(1+i/(3 * nside))\n",
    "    i = i+20*(1+i/240)\n",
    "    \n",
    "if ells[-1] <  3 * nside -1:   \n",
    "    ells.append(3 * nside -1)\n",
    "    \n",
    "ells = np.array(ells)\n",
    "\n",
    "\n",
    "scale_cut = 1000\n",
    "ells = ells[ells < scale_cut]\n",
    "\n",
    "if ells[-1] < scale_cut:\n",
    "    ells = np.append(ells, scale_cut)\n",
    "    \n",
    "bands = nmt.NmtBin.from_edges(ells[:-1], ells[1:])\n",
    "ell_arr = bands.get_effective_ells()\n",
    "print(ell_arr)"
   ]
  },
  {
   "cell_type": "code",
   "execution_count": 4,
   "metadata": {},
   "outputs": [],
   "source": [
    "NGC_1_config = {'data_catalogs':['/home/zcapjru/PhD/Data/eBOSS_QSO/eBOSS_QSO_clustering_data-NGC-vDR16.fits'], \n",
    "          'random_catalogs':['/home/zcapjru/PhD/Data/eBOSS_QSO/eBOSS_QSO_clustering_random-NGC-vDR16.fits'],\n",
    "          'z_edges':[0, 1.5],\n",
    "          'nside':nside, 'nside_mask': nside_mask, 'mask_name': 'mask_QSO_NGC_1' }\n",
    "\n",
    "NGC_2_config = {'data_catalogs':['/home/zcapjru/PhD/Data/eBOSS_QSO/eBOSS_QSO_clustering_data-NGC-vDR16.fits'], \n",
    "          'random_catalogs':['/home/zcapjru/PhD/Data/eBOSS_QSO/eBOSS_QSO_clustering_random-NGC-vDR16.fits'],\n",
    "          'z_edges':[1.5, 3],\n",
    "          'nside':nside, 'nside_mask': nside_mask, 'mask_name': 'mask_QSO_NGC_2'  }\n",
    "\n",
    "SGC_1_config = {'data_catalogs':['/home/zcapjru/PhD/Data/eBOSS_QSO/eBOSS_QSO_clustering_data-SGC-vDR16.fits'], \n",
    "          'random_catalogs':['/home/zcapjru/PhD/Data/eBOSS_QSO/eBOSS_QSO_clustering_random-SGC-vDR16.fits'],\n",
    "          'z_edges':[0.01, 1.5],\n",
    "          'nside':nside, 'nside_mask': nside_mask, 'mask_name': 'mask_QSO_SGC_1' }\n",
    "\n",
    "SGC_2_config = {'data_catalogs':['/home/zcapjru/PhD/Data/eBOSS_QSO/eBOSS_QSO_clustering_data-SGC-vDR16.fits'], \n",
    "          'random_catalogs':['/home/zcapjru/PhD/Data/eBOSS_QSO/eBOSS_QSO_clustering_random-SGC-vDR16.fits'],\n",
    "          'z_edges':[1.5, 3],\n",
    "          'nside':nside, 'nside_mask': nside_mask, 'mask_name': 'mask_QSO_SGC_1'  }\n",
    "\n",
    "CMBK_config = {'file_klm':'/home/zcapjru/PhD/Data/COM_Lensing_2048_R2.00/dat_klm.fits', \n",
    "          'file_mask':'/home/zcapjru/PhD/Data/COM_Lensing_2048_R2.00/mask.fits.gz',\n",
    "               'file_noise':'/home/zcapjru/PhD/Data/COM_Lensing_2048_R2.00/nlkk.dat', 'mask_name': 3,\n",
    "          'nside':nside}"
   ]
  },
  {
   "cell_type": "code",
   "execution_count": 5,
   "metadata": {},
   "outputs": [
    {
     "name": "stderr",
     "output_type": "stream",
     "text": [
      "/home/zcapjru/anaconda3/envs/PhD/lib/python3.8/site-packages/healpy/fitsfunc.py:368: UserWarning: If you are not specifying the input dtype and using the default np.float64 dtype of read_map(), please consider that it will change in a future version to None as to keep the same dtype of the input file: please explicitly set the dtype if it is important to you.\n",
      "  warnings.warn(\n"
     ]
    }
   ],
   "source": [
    "b_arr = np.linspace(0, 5, 100)\n",
    "zbin = 1\n",
    "mode = 'NGC'\n",
    "experiments = ['gg', 'gk']\n",
    "#use_emulator = True\n",
    "use_toeplitz = True\n",
    "cov_path = '/home/zcapjru/PhD/Covs/'\n",
    "maps_k = MapperP15CMBK(CMBK_config)\n",
    "maps_q = MappereBOSSQSO(NGC_1_config)"
   ]
  },
  {
   "cell_type": "code",
   "execution_count": 6,
   "metadata": {},
   "outputs": [],
   "source": [
    "nz = maps_q.get_nz()\n",
    "\n",
    "z = nz[1]\n",
    "dNdz = nz[0]\n",
    "\n",
    "m_q = maps_q.get_mask()\n",
    "f_q = maps_q.get_nmt_field()\n",
    "\n",
    "w_qq = nmt.NmtWorkspace()\n",
    "w_qq.compute_coupling_matrix(f_q, f_q, bands)\n",
    "\n",
    "nl_qq =  w_qq.decouple_cell(maps_q.get_nl_coupled())\n",
    "\n",
    "m_k = maps_k.get_mask()\n",
    "f_k = maps_k.get_nmt_field()\n",
    "\n",
    "w_kq = nmt.NmtWorkspace()\n",
    "w_kq.compute_coupling_matrix(f_q, f_k, bands)\n",
    "\n",
    "w_kk = nmt.NmtWorkspace()\n",
    "w_kk.compute_coupling_matrix(f_k, f_k, bands)"
   ]
  },
  {
   "cell_type": "code",
   "execution_count": 7,
   "metadata": {},
   "outputs": [],
   "source": [
    "def get_cov_wsp(f1, f2, f3 = None, f4 = None, toeplitz = False):\n",
    "    cw = nmt.NmtCovarianceWorkspace()\n",
    "    if toeplitz:\n",
    "        cw.compute_coupling_coefficients(f1, f2, f3, f4,  l_toeplitz=345, l_exact=100, dl_band=250)\n",
    "    else:\n",
    "        cw.compute_coupling_coefficients(f1, f2, f3, f4)\n",
    "    return cw\n",
    "\n",
    "def get_cov(cl1, cl2, cl3, cl4, cw, wa, wb):\n",
    "    return  nmt.gaussian_covariance(cw,\n",
    "                                      0, 0, 0, 0,  # Spins of the 4 fields\n",
    "                                      cl1,  # TT\n",
    "                                      cl2,  # TT\n",
    "                                      cl3,  # TT\n",
    "                                      cl4,  # TT\n",
    "                                      wa, wb=wb)\n",
    "\n",
    "def build_comp_cov(cov_aaaa, cov_aaab, cov_aabb):\n",
    "    cov_abaa = np.transpose(cov_aaab)\n",
    "    dim = len(cov_aaaa)\n",
    "    comp_cov = np.zeros([2*dim, 2*dim])\n",
    "    comp_cov[:dim,:dim] = cov_aaaa\n",
    "    comp_cov[:dim,dim:] = cov_aaab\n",
    "    comp_cov[dim:,:dim] = cov_abaa\n",
    "    comp_cov[dim:,dim:] = cov_aabb\n",
    "    return comp_cov"
   ]
  },
  {
   "cell_type": "code",
   "execution_count": 8,
   "metadata": {},
   "outputs": [],
   "source": [
    "fname_cov_qqqq = cov_path + 'eBOSSQSO_{}_{}_cov_qqqq_ns512.txt'.format(mode, zbin)\n",
    "fname_cov_qkqk = cov_path + 'eBOSSQSOxP15CMBK_{}_{}_cov_qkqk_ns512.txt'.format(mode, zbin)\n",
    "fname_cov_qqqk = cov_path + 'eBOSSQSOxP15CMBK_{}_{}_cov_qqqk_ns512.txt'.format(mode, zbin)\n",
    "\n",
    "if os.path.isfile(fname_cov_qqqq): \n",
    "    cov_qqqq = np.loadtxt(fname_cov_qqqq)\n",
    "else:\n",
    "    cw_qq = get_cov_wsp(f_q, f_q, toeplitz = use_toeplitz)\n",
    "\n",
    "    cl_qq = nmt.compute_coupled_cell(f_q, f_q)/ np.mean(m_q * m_q)\n",
    "    cov_qqqq = get_cov(cl_qq, cl_qq, cl_qq, cl_qq, cw_qq, w_qq, w_qq)\n",
    "    \n",
    "    np.savetxt(fname_cov_qqqq, cov_qqqq)\n",
    "\n",
    "if os.path.isfile(fname_cov_qkqk): \n",
    "    cov_qkqk = np.loadtxt(fname_cov_qkqk)\n",
    "else:\n",
    "    cw_qkqk = get_cov_wsp(f_q, f_k, toeplitz = use_toeplitz)\n",
    "    \n",
    "    cl_qk = nmt.compute_coupled_cell(f_q, f_k)/ np.mean(m_q * m_k)\n",
    "    cl_kq = cl_qk\n",
    "    cl_kk = nmt.compute_coupled_cell(f_k, f_k)/ np.mean(m_k * m_k)\n",
    "    cov_qkqk = get_cov(cl_qq, cl_qk, cl_kq, cl_kk, cw_qkqk, w_kq, w_kq)\n",
    "    np.savetxt(fname_cov_qkqk, cov_qkqk)\n",
    "    \n",
    "if os.path.isfile(fname_cov_qqqk): \n",
    "    cov_qqqk = np.loadtxt(fname_cov_qqqk)\n",
    "else:\n",
    "    cw_qqqk = get_cov_wsp(f_q, f_q, f_q, f_k, toeplitz = use_toeplitz)\n",
    "    cov_qqqk = get_cov(cl_qq, cl_qk, cl_qq, cl_qk, cw_qqqk, w_qq, w_kq)\n",
    "    np.savetxt(fname_cov_qqqk, cov_qqqk)\n",
    "\n",
    "err_qk = np.sqrt(cov_qkqk.diagonal())\n",
    "err_qq = np.sqrt(cov_qqqq.diagonal())"
   ]
  },
  {
   "cell_type": "code",
   "execution_count": 9,
   "metadata": {},
   "outputs": [],
   "source": [
    "cl_qq = w_qq.decouple_cell(nmt.compute_coupled_cell(f_q, f_q))[0] - nl_qq[0]\n",
    "cl_qk = w_kq.decouple_cell(nmt.compute_coupled_cell(f_q, f_k))[0] "
   ]
  },
  {
   "cell_type": "code",
   "execution_count": 10,
   "metadata": {},
   "outputs": [],
   "source": [
    "comp_cov = build_comp_cov(cov_qqqq, cov_qqqk, cov_qkqk)"
   ]
  },
  {
   "cell_type": "code",
   "execution_count": 11,
   "metadata": {},
   "outputs": [],
   "source": [
    "class lkl(tt.Op):\n",
    "\n",
    "    \"\"\"\n",
    "    Specify what type of object will be passed and returned to the Op when it is\n",
    "    called. In our case we will be passing it a vector of values (the parameters\n",
    "    that define our model) and returning a single \"scalar\" value (the\n",
    "    log-likelihood)\n",
    "    \"\"\"\n",
    "    itypes = [tt.dvector] # expects a vector of parameter values when called\n",
    "    otypes = [tt.dscalar] # outputs a single scalar value (the log likelihood)\n",
    "\n",
    "    def __init__(self):\n",
    "        \"\"\"\n",
    "        Initialise the Op with various things that our log-likelihood function\n",
    "        requires. Below are the things that are needed in this particular\n",
    "        example.\n",
    "\n",
    "        Parameters\n",
    "        ----------\n",
    "        \"\"\"\n",
    "        \n",
    "        self.cl_qq = cl_qq\n",
    "        self.cl_qk = cl_qk\n",
    "        self.data = np.zeros(2*len(self.cl_qq))\n",
    "        self.mcmc_record = []\n",
    "        \n",
    "        cov = comp_cov\n",
    "        self.icov = np.linalg.inv(cov)\n",
    "        print('cov inverted')\n",
    "            \n",
    "        print('Likelihoood initialized')\n",
    "\n",
    "    def likelihood(self, theta):\n",
    "        \n",
    "        Omega_c, h, beta = theta\n",
    "        th_vector = np.zeros(len(self.data))\n",
    "        \n",
    "        try:\n",
    "            cosmo = ccl.Cosmology(Omega_c=Omega_c, Omega_b=0.045, h=h, sigma8=0.78, n_s=0.96,\n",
    "                                      transfer_function='boltzmann_class')\n",
    "            b = beta*np.ones(len(z))\n",
    "            \n",
    "            if 'gg' in experiments:\n",
    "                self.data[:len(cl_qq)] =  self.cl_qq\n",
    "                quasar = ccl.NumberCountsTracer(cosmo, has_rsd=False, dndz=(z, dNdz),\n",
    "                                            bias=(z,b))\n",
    "                clgg = ccl.angular_cl(cosmo, quasar, quasar, ell_arr)\n",
    "                th_vector[:len(clgg)] = clgg\n",
    "            \n",
    "            if 'gk' in experiments:\n",
    "                self.data[len(cl_qq):] =  self.cl_qk\n",
    "                CMB_shear = ccl.CMBLensingTracer(cosmo, 1100)\n",
    "                clgk = ccl.angular_cl(cosmo, quasar, CMB_shear, ell_arr)\n",
    "                th_vector[len(clgk):] = clgk\n",
    "                \n",
    "        except Exception as e:\n",
    "            return -np.inf\n",
    "        \n",
    "        #logl = -0.5\n",
    "        logl = -0.5 * np.transpose(self.data-th_vector)@self.icov@(self.data-th_vector)\n",
    "        return logl\n",
    "\n",
    "    def perform(self, node, inputs, outputs):\n",
    "        # the method that is used when calling the Op\n",
    "        theta, = inputs  # this will contain my variables\n",
    "\n",
    "        # call the log-likelihood function\n",
    "        logl = self.likelihood(theta)\n",
    "        self.mcmc_record.append(np.append([logl],theta))\n",
    "\n",
    "        outputs[0][0] = np.array(logl) # output the log-likelihood"
   ]
  },
  {
   "cell_type": "code",
   "execution_count": 12,
   "metadata": {},
   "outputs": [
    {
     "name": "stdout",
     "output_type": "stream",
     "text": [
      "cov inverted\n",
      "Likelihoood initialized\n"
     ]
    }
   ],
   "source": [
    "logl = lkl()\n",
    "\n",
    "with pm.Model() as model:\n",
    "    # uniform priors on m and c\n",
    "    beta = pm.Uniform(\"beta\", 0, 5)\n",
    "    Omega_c = pm.Uniform('Omega_c', 0, 0.5)\n",
    "    h = pm.Uniform('h', 0.6, 0.85)\n",
    "    # convert m and c to a tensor vector\n",
    "    theta = tt.as_tensor_variable([Omega_c, h, beta],ndim=3)\n",
    "\n",
    "    # use a DensityDist (use a lamdba function to \"call\" the Op)\n",
    "    #pm.DensityDist('likelihood', lambda v: logl(v), observed={'v': theta})\n",
    "    pm.Potential('like', logl(theta))"
   ]
  },
  {
   "cell_type": "code",
   "execution_count": 13,
   "metadata": {},
   "outputs": [
    {
     "name": "stderr",
     "output_type": "stream",
     "text": [
      "Only 10 samples in chain.\n",
      "Sequential sampling (1 chains in 1 job)\n",
      "CompoundStep\n",
      ">Metropolis: [h]\n",
      ">Metropolis: [Omega_c]\n",
      ">Metropolis: [beta]\n"
     ]
    },
    {
     "data": {
      "text/html": [
       "\n",
       "    <div>\n",
       "        <style>\n",
       "            /* Turns off some styling */\n",
       "            progress {\n",
       "                /* gets rid of default border in Firefox and Opera. */\n",
       "                border: none;\n",
       "                /* Needs to be in here for Safari polyfill so background images work as expected. */\n",
       "                background-size: auto;\n",
       "            }\n",
       "            .progress-bar-interrupted, .progress-bar-interrupted::-webkit-progress-bar {\n",
       "                background: #F44336;\n",
       "            }\n",
       "        </style>\n",
       "      <progress value='15' class='' max='15' style='width:300px; height:20px; vertical-align: middle;'></progress>\n",
       "      100.00% [15/15 04:55<00:00 Sampling chain 0, 0 divergences]\n",
       "    </div>\n",
       "    "
      ],
      "text/plain": [
       "<IPython.core.display.HTML object>"
      ]
     },
     "metadata": {},
     "output_type": "display_data"
    },
    {
     "name": "stderr",
     "output_type": "stream",
     "text": [
      "Sampling 1 chain for 5 tune and 10 draw iterations (5 + 10 draws total) took 295 seconds.\n",
      "/home/zcapjru/anaconda3/envs/PhD/lib/python3.8/site-packages/arviz/data/base.py:148: UserWarning: More chains (10) than draws (3). Passed array should have shape (chains, draws, *shape)\n",
      "  warnings.warn(\n",
      "/home/zcapjru/anaconda3/envs/PhD/lib/python3.8/site-packages/pymc3/sampling.py:628: UserWarning: The number of samples is too small to check convergence reliably.\n",
      "  warnings.warn(\n"
     ]
    }
   ],
   "source": [
    "#Make posteriors\n",
    "with model:\n",
    "    #step = pm.NUTS()\n",
    "    step = pm.Metropolis()\n",
    "    start = {'beta': 1.5, 'Omega_c':.3, 'h': 0.67}\n",
    "    trace = pm.sample(10, tune=5, step=step, start=start, chains = 1, discard_tuned_samples=True)\n",
    "    #trace = pm.sample(10, tune=5, init=None, step=step, cores=2)"
   ]
  },
  {
   "cell_type": "code",
   "execution_count": 29,
   "metadata": {},
   "outputs": [
    {
     "data": {
      "text/plain": [
       "array([[-4.66996154e+01,  2.50000000e-01,  7.25000000e-01,\n",
       "         2.50000000e+00],\n",
       "       [-3.19457527e+01,  3.00000000e-01,  6.58973882e-01,\n",
       "         1.50000000e+00],\n",
       "       [-3.22789296e+01,  3.00000000e-01,  6.70000000e-01,\n",
       "         1.50000000e+00],\n",
       "       [-3.46769665e+01,  3.61953316e-01,  6.58973882e-01,\n",
       "         1.50000000e+00],\n",
       "       [-3.19457527e+01,  3.00000000e-01,  6.58973882e-01,\n",
       "         1.50000000e+00],\n",
       "       [-8.31911210e+01,  3.00000000e-01,  6.58973882e-01,\n",
       "         2.80886612e+00],\n",
       "       [-3.19457527e+01,  3.00000000e-01,  6.58973882e-01,\n",
       "         1.50000000e+00],\n",
       "       [-3.20596857e+01,  3.00000000e-01,  6.62735067e-01,\n",
       "         1.50000000e+00],\n",
       "       [-3.19457527e+01,  3.00000000e-01,  6.58973882e-01,\n",
       "         1.50000000e+00],\n",
       "       [-2.56463484e+01,  1.83857322e-01,  6.62735067e-01,\n",
       "         1.50000000e+00],\n",
       "       [-3.20596857e+01,  3.00000000e-01,  6.62735067e-01,\n",
       "         1.50000000e+00],\n",
       "       [-4.58185829e+01,  1.83857322e-01,  6.62735067e-01,\n",
       "         2.29013220e+00],\n",
       "       [-2.56463484e+01,  1.83857322e-01,  6.62735067e-01,\n",
       "         1.50000000e+00],\n",
       "       [-2.52160373e+01,  1.83857322e-01,  6.28473267e-01,\n",
       "         1.50000000e+00],\n",
       "       [-2.56463484e+01,  1.83857322e-01,  6.62735067e-01,\n",
       "         1.50000000e+00],\n",
       "       [-3.36072400e+01,  3.60055141e-01,  6.28473267e-01,\n",
       "         1.50000000e+00],\n",
       "       [-2.52160373e+01,  1.83857322e-01,  6.28473267e-01,\n",
       "         1.50000000e+00],\n",
       "       [-3.25681639e+01,  1.83857322e-01,  6.28473267e-01,\n",
       "         1.27616804e+00],\n",
       "       [-2.52160373e+01,  1.83857322e-01,  6.28473267e-01,\n",
       "         1.50000000e+00],\n",
       "       [-2.50343789e+01,  1.83857322e-01,  6.08698336e-01,\n",
       "         1.50000000e+00],\n",
       "       [-2.52160373e+01,  1.83857322e-01,  6.28473267e-01,\n",
       "         1.50000000e+00],\n",
       "       [-2.47232563e+01,  1.64458726e-01,  6.28473267e-01,\n",
       "         1.50000000e+00],\n",
       "       [-2.52160373e+01,  1.83857322e-01,  6.28473267e-01,\n",
       "         1.50000000e+00],\n",
       "       [-2.30915877e+01,  1.64458726e-01,  6.28473267e-01,\n",
       "         1.63055204e+00],\n",
       "       [-2.47232563e+01,  1.64458726e-01,  6.28473267e-01,\n",
       "         1.50000000e+00],\n",
       "       [-2.27045558e+01,  1.64458726e-01,  6.80115385e-01,\n",
       "         1.63055204e+00],\n",
       "       [-2.30915877e+01,  1.64458726e-01,  6.28473267e-01,\n",
       "         1.63055204e+00],\n",
       "       [-2.42921060e+01,  2.12332135e-01,  6.80115385e-01,\n",
       "         1.63055204e+00],\n",
       "       [-2.27045558e+01,  1.64458726e-01,  6.80115385e-01,\n",
       "         1.63055204e+00],\n",
       "       [-3.31603031e+02,  1.64458726e-01,  6.80115385e-01,\n",
       "         3.22537302e+00],\n",
       "       [-2.27045558e+01,  1.64458726e-01,  6.80115385e-01,\n",
       "         1.63055204e+00],\n",
       "       [-2.27115889e+01,  1.64458726e-01,  7.06698750e-01,\n",
       "         1.63055204e+00],\n",
       "       [-2.27045558e+01,  1.64458726e-01,  6.80115385e-01,\n",
       "         1.63055204e+00],\n",
       "       [-2.28981684e+01,  1.72565775e-01,  7.06698750e-01,\n",
       "         1.63055204e+00],\n",
       "       [-2.27115889e+01,  1.64458726e-01,  7.06698750e-01,\n",
       "         1.63055204e+00],\n",
       "       [-2.25170894e+01,  1.72565775e-01,  7.06698750e-01,\n",
       "         1.85744555e+00],\n",
       "       [-2.28981684e+01,  1.72565775e-01,  7.06698750e-01,\n",
       "         1.63055204e+00],\n",
       "       [-2.41090085e+01,  1.72565775e-01,  6.43641661e-01,\n",
       "         1.85744555e+00],\n",
       "       [-2.25170894e+01,  1.72565775e-01,  7.06698750e-01,\n",
       "         1.85744555e+00],\n",
       "       [-2.25069218e+01,  1.72756997e-01,  7.06698750e-01,\n",
       "         1.85744555e+00],\n",
       "       [-2.25170894e+01,  1.72565775e-01,  7.06698750e-01,\n",
       "         1.85744555e+00],\n",
       "       [-3.05060432e+02,  1.72756997e-01,  7.06698750e-01,\n",
       "         3.25996556e+00],\n",
       "       [-2.25069218e+01,  1.72756997e-01,  7.06698750e-01,\n",
       "         1.85744555e+00],\n",
       "       [-2.33889716e+01,  1.72756997e-01,  6.65671723e-01,\n",
       "         1.85744555e+00],\n",
       "       [-2.25069218e+01,  1.72756997e-01,  7.06698750e-01,\n",
       "         1.85744555e+00],\n",
       "       [-2.22370414e+01,  2.12409912e-01,  7.06698750e-01,\n",
       "         1.85744555e+00],\n",
       "       [-2.25069218e+01,  1.72756997e-01,  7.06698750e-01,\n",
       "         1.85744555e+00],\n",
       "       [-2.22362976e+01,  2.12409912e-01,  7.06698750e-01,\n",
       "         1.85490189e+00],\n",
       "       [-2.22370414e+01,  2.12409912e-01,  7.06698750e-01,\n",
       "         1.85744555e+00],\n",
       "       [-2.21395817e+01,  2.12409912e-01,  6.50328381e-01,\n",
       "         1.85490189e+00],\n",
       "       [-2.22362976e+01,  2.12409912e-01,  7.06698750e-01,\n",
       "         1.85490189e+00],\n",
       "       [-2.84710612e+02,  6.14565481e-02,  6.50328381e-01,\n",
       "         1.85490189e+00],\n",
       "       [-2.21395817e+01,  2.12409912e-01,  6.50328381e-01,\n",
       "         1.85490189e+00],\n",
       "       [-3.44500918e+01,  2.12409912e-01,  6.50328381e-01,\n",
       "         1.28698032e+00],\n",
       "       [-2.21395817e+01,  2.12409912e-01,  6.50328381e-01,\n",
       "         1.85490189e+00],\n",
       "       [-2.28863991e+01,  2.12409912e-01,  7.74266807e-01,\n",
       "         1.85490189e+00],\n",
       "       [-2.21395817e+01,  2.12409912e-01,  6.50328381e-01,\n",
       "         1.85490189e+00],\n",
       "       [-2.37868247e+01,  2.30575966e-01,  7.74266807e-01,\n",
       "         1.85490189e+00],\n",
       "       [-2.28863991e+01,  2.12409912e-01,  7.74266807e-01,\n",
       "         1.85490189e+00],\n",
       "       [-1.17731286e+02,  2.12409912e-01,  7.74266807e-01,\n",
       "         2.94376660e+00],\n",
       "       [-2.28863991e+01,  2.12409912e-01,  7.74266807e-01,\n",
       "         1.85490189e+00],\n",
       "       [-2.21775748e+01,  2.12409912e-01,  6.95595116e-01,\n",
       "         1.85490189e+00],\n",
       "       [-2.28863991e+01,  2.12409912e-01,  7.74266807e-01,\n",
       "         1.85490189e+00],\n",
       "       [-2.62871620e+01,  3.10887869e-01,  6.95595116e-01,\n",
       "         1.85490189e+00],\n",
       "       [-2.21775748e+01,  2.12409912e-01,  6.95595116e-01,\n",
       "         1.85490189e+00],\n",
       "       [-1.13467833e+02,  2.12409912e-01,  6.95595116e-01,\n",
       "         2.84834864e+00],\n",
       "       [-2.21775748e+01,  2.12409912e-01,  6.95595116e-01,\n",
       "         1.85490189e+00],\n",
       "       [-2.21194532e+01,  2.12409912e-01,  6.58150870e-01,\n",
       "         1.85490189e+00],\n",
       "       [-2.21775748e+01,  2.12409912e-01,  6.95595116e-01,\n",
       "         1.85490189e+00],\n",
       "       [-2.54854924e+01,  1.48830462e-01,  6.95595116e-01,\n",
       "         1.85490189e+00],\n",
       "       [-2.21775748e+01,  2.12409912e-01,  6.95595116e-01,\n",
       "         1.85490189e+00],\n",
       "       [-7.87986701e+01,  2.12409912e-01,  6.95595116e-01,\n",
       "         2.47818946e-01],\n",
       "       [-2.21775748e+01,  2.12409912e-01,  6.95595116e-01,\n",
       "         1.85490189e+00],\n",
       "       [-2.21412998e+01,  2.12409912e-01,  6.86150574e-01,\n",
       "         1.85490189e+00],\n",
       "       [-2.21775748e+01,  2.12409912e-01,  6.95595116e-01,\n",
       "         1.85490189e+00],\n",
       "       [-2.39709409e+01,  2.66247588e-01,  6.86150574e-01,\n",
       "         1.85490189e+00],\n",
       "       [-2.21412998e+01,  2.12409912e-01,  6.86150574e-01,\n",
       "         1.85490189e+00],\n",
       "       [-1.01567862e+02,  2.12409912e-01,  6.86150574e-01,\n",
       "         2.78171514e+00],\n",
       "       [-2.21412998e+01,  2.12409912e-01,  6.86150574e-01,\n",
       "         1.85490189e+00],\n",
       "       [-2.23286136e+01,  2.12409912e-01,  6.21987408e-01,\n",
       "         1.85490189e+00],\n",
       "       [-2.21412998e+01,  2.12409912e-01,  6.86150574e-01,\n",
       "         1.85490189e+00],\n",
       "       [-5.10469592e+01,  1.05006581e-01,  6.86150574e-01,\n",
       "         1.85490189e+00],\n",
       "       [-2.21412998e+01,  2.12409912e-01,  6.86150574e-01,\n",
       "         1.85490189e+00],\n",
       "       [-2.24175946e+01,  2.12409912e-01,  6.86150574e-01,\n",
       "         1.90857819e+00],\n",
       "       [-2.21412998e+01,  2.12409912e-01,  6.86150574e-01,\n",
       "         1.85490189e+00],\n",
       "       [-2.25382815e+01,  2.12409912e-01,  7.39534153e-01,\n",
       "         1.90857819e+00],\n",
       "       [-2.24175946e+01,  2.12409912e-01,  6.86150574e-01,\n",
       "         1.90857819e+00],\n",
       "       [-2.23188476e+01,  2.00234558e-01,  7.39534153e-01,\n",
       "         1.90857819e+00],\n",
       "       [-2.25382815e+01,  2.12409912e-01,  7.39534153e-01,\n",
       "         1.90857819e+00],\n",
       "       [-2.26580190e+01,  2.00234558e-01,  7.39534153e-01,\n",
       "         1.75475973e+00],\n",
       "       [-2.23188476e+01,  2.00234558e-01,  7.39534153e-01,\n",
       "         1.90857819e+00]])"
      ]
     },
     "execution_count": 29,
     "metadata": {},
     "output_type": "execute_result"
    }
   ],
   "source": [
    "np.array(logl.mcmc_record)"
   ]
  },
  {
   "cell_type": "code",
   "execution_count": 23,
   "metadata": {},
   "outputs": [
    {
     "name": "stderr",
     "output_type": "stream",
     "text": [
      "/home/zcapjru/anaconda3/envs/PhD/lib/python3.8/site-packages/arviz/data/io_pymc3.py:87: FutureWarning: Using `from_pymc3` without the model will be deprecated in a future release. Not using the model will return less accurate and less useful results. Make sure you use the model argument or call from_pymc3 within a model context.\n",
      "  warnings.warn(\n",
      "/home/zcapjru/anaconda3/envs/PhD/lib/python3.8/site-packages/arviz/data/base.py:148: UserWarning: More chains (10) than draws (3). Passed array should have shape (chains, draws, *shape)\n",
      "  warnings.warn(\n",
      "/home/zcapjru/anaconda3/envs/PhD/lib/python3.8/site-packages/arviz/data/io_pymc3.py:87: FutureWarning: Using `from_pymc3` without the model will be deprecated in a future release. Not using the model will return less accurate and less useful results. Make sure you use the model argument or call from_pymc3 within a model context.\n",
      "  warnings.warn(\n",
      "/home/zcapjru/anaconda3/envs/PhD/lib/python3.8/site-packages/arviz/data/base.py:148: UserWarning: More chains (10) than draws (3). Passed array should have shape (chains, draws, *shape)\n",
      "  warnings.warn(\n"
     ]
    },
    {
     "data": {
      "text/html": [
       "<div>\n",
       "<style scoped>\n",
       "    .dataframe tbody tr th:only-of-type {\n",
       "        vertical-align: middle;\n",
       "    }\n",
       "\n",
       "    .dataframe tbody tr th {\n",
       "        vertical-align: top;\n",
       "    }\n",
       "\n",
       "    .dataframe thead th {\n",
       "        text-align: right;\n",
       "    }\n",
       "</style>\n",
       "<table border=\"1\" class=\"dataframe\">\n",
       "  <thead>\n",
       "    <tr style=\"text-align: right;\">\n",
       "      <th></th>\n",
       "      <th>mean</th>\n",
       "      <th>sd</th>\n",
       "      <th>hdi_3%</th>\n",
       "      <th>hdi_97%</th>\n",
       "    </tr>\n",
       "  </thead>\n",
       "  <tbody>\n",
       "    <tr>\n",
       "      <th>beta</th>\n",
       "      <td>1.87</td>\n",
       "      <td>0.02</td>\n",
       "      <td>1.85</td>\n",
       "      <td>1.91</td>\n",
       "    </tr>\n",
       "    <tr>\n",
       "      <th>Omega_c</th>\n",
       "      <td>0.20</td>\n",
       "      <td>0.02</td>\n",
       "      <td>0.17</td>\n",
       "      <td>0.21</td>\n",
       "    </tr>\n",
       "    <tr>\n",
       "      <th>h</th>\n",
       "      <td>0.70</td>\n",
       "      <td>0.03</td>\n",
       "      <td>0.65</td>\n",
       "      <td>0.77</td>\n",
       "    </tr>\n",
       "  </tbody>\n",
       "</table>\n",
       "</div>"
      ],
      "text/plain": [
       "         mean    sd  hdi_3%  hdi_97%\n",
       "beta     1.87  0.02    1.85     1.91\n",
       "Omega_c  0.20  0.02    0.17     0.21\n",
       "h        0.70  0.03    0.65     0.77"
      ]
     },
     "metadata": {},
     "output_type": "display_data"
    },
    {
     "data": {
      "image/png": "[encoded data removed]",
      "text/plain": [
       "<Figure size 864x432 with 6 Axes>"
      ]
     },
     "metadata": {
      "needs_background": "light"
     },
     "output_type": "display_data"
    }
   ],
   "source": [
    "# plot the traces\n",
    "pm.traceplot(trace)\n",
    "display(az.summary(trace, kind=\"stats\", round_to=2))"
   ]
  },
  {
   "cell_type": "code",
   "execution_count": 27,
   "metadata": {},
   "outputs": [
    {
     "data": {
      "text/plain": [
       "array([1.85744555, 1.85744555, 1.85490189, 1.85490189, 1.85490189,\n",
       "       1.85490189, 1.85490189, 1.85490189, 1.90857819, 1.90857819])"
      ]
     },
     "execution_count": 27,
     "metadata": {},
     "output_type": "execute_result"
    }
   ],
   "source": [
    "trace['beta']"
   ]
  },
  {
   "cell_type": "code",
   "execution_count": 24,
   "metadata": {},
   "outputs": [
    {
     "data": {
      "text/plain": [
       "array([[ True,  True,  True],\n",
       "       [False,  True, False],\n",
       "       [False,  True,  True],\n",
       "       [ True, False, False],\n",
       "       [ True, False, False],\n",
       "       [ True, False, False],\n",
       "       [False, False, False],\n",
       "       [ True, False, False],\n",
       "       [False, False,  True],\n",
       "       [ True,  True, False]])"
      ]
     },
     "execution_count": 24,
     "metadata": {},
     "output_type": "execute_result"
    }
   ],
   "source": [
    "trace['accepted']"
   ]
  },
  {
   "cell_type": "code",
   "execution_count": null,
   "metadata": {},
   "outputs": [],
   "source": [
    "best_b = best_b*np.ones(len(z))\n",
    "\n",
    "quasar = ccl.NumberCountsTracer(cosmo, has_rsd=False, dndz=(z,dNdz), bias=(z,best_b))\n",
    "CMB_shear = ccl.CMBLensingTracer(cosmo, 1100)\n",
    "\n",
    "theory_qq = ccl.angular_cl(cosmo, quasar, quasar, ell_arr)\n",
    "theory_qk = ccl.angular_cl(cosmo, CMB_shear, quasar, ell_arr)"
   ]
  },
  {
   "cell_type": "code",
   "execution_count": null,
   "metadata": {},
   "outputs": [],
   "source": [
    "plt.errorbar(ell_arr, cl_qq, yerr=err_qq, marker='s', ecolor='k', label='Empirical')\n",
    "plt.plot(ell_arr, nl_qq[0], 'go-', label='Noise')\n",
    "plt.plot(ell_arr, theory_qq, 'r--', label='Best theory')\n",
    "\n",
    "\n",
    "#plt.loglog()\n",
    "#plt.xlim((ell_arr[0], ell_arr[-1]))\n",
    "plt.title('{}_{}{}'.format(mode, zbin, zbin))\n",
    "plt.xlabel('$\\\\ell$', fontsize=16)\n",
    "plt.ylabel('$C_\\\\ell$', fontsize=16)\n",
    "plt.legend(loc='lower left', ncol=2, labelspacing=0.1)\n",
    "plt.show()"
   ]
  },
  {
   "cell_type": "code",
   "execution_count": null,
   "metadata": {},
   "outputs": [],
   "source": [
    "plt.plot(ell_arr, (theory_qq-cl_qq)/err_qq, 'ro-', label=r'$\\frac{t-d}{\\sigma}$')\n",
    "#plt.loglog()\n",
    "#plt.xlim((ell_arr[0], ell_arr[-1]))\n",
    "plt.title('Residuals {}_{}{}'.format(mode, zbin, zbin))\n",
    "plt.xlabel('$\\\\ell$', fontsize=16)\n",
    "plt.ylabel('$C_\\\\ell$', fontsize=16)\n",
    "plt.legend(loc='lower left', ncol=2, labelspacing=0.1)\n",
    "plt.show()"
   ]
  },
  {
   "cell_type": "code",
   "execution_count": null,
   "metadata": {},
   "outputs": [],
   "source": [
    "plt.errorbar(ell_arr, cl_qk, yerr=err_qk, marker='s', ecolor='k', label='Empirical')\n",
    "plt.plot(ell_arr, theory_qk, 'r--', label='Best theory')\n",
    "\n",
    "\n",
    "plt.loglog()\n",
    "#plt.xlim((ell_arr[0], ell_arr[-1]))\n",
    "plt.title('{}_{}{}'.format(mode, zbin, 'k'))\n",
    "plt.xlabel('$\\\\ell$', fontsize=16)\n",
    "plt.ylabel('$C_\\\\ell$', fontsize=16)\n",
    "plt.legend(loc='lower left', ncol=2, labelspacing=0.1)\n",
    "plt.show()"
   ]
  },
  {
   "cell_type": "code",
   "execution_count": null,
   "metadata": {},
   "outputs": [],
   "source": [
    "plt.plot(ell_arr, (theory_qk-cl_qk)/err_qk, 'ro-', label=r'$\\frac{t-d}{\\sigma}$')\n",
    "\n",
    "#plt.loglog()\n",
    "#plt.xlim((ell_arr[0], ell_arr[-1]))\n",
    "plt.title('Residuals {}_{}{}'.format(mode, zbin, 'k'))\n",
    "plt.xlabel('$\\\\ell$', fontsize=16)\n",
    "plt.ylabel('$C_\\\\ell$', fontsize=16)\n",
    "plt.legend(loc='lower left', ncol=2, labelspacing=0.1)\n",
    "plt.show()"
   ]
  },
  {
   "cell_type": "code",
   "execution_count": null,
   "metadata": {},
   "outputs": [],
   "source": [
    "plt.plot(b_arr, pb, 'r-', label='P(b)')\n",
    "plt.text(0, 0.09, 'best b ='+'{}'.format(best_b[0]))\n",
    "plt.text(0, 0.07, r'$\\bar{b}$ ='+'{}'.format(mean_b))\n",
    "plt.text(0, 0.05, r'$\\sigma b$ ='+'{}'.format(sigma_b))\n",
    "plt.text(0, 0.03, r'$\\chi^2$ ='+'{}'.format(best_x2))\n",
    "plt.title('{}_{}+Shear'.format(mode, zbin))\n",
    "plt.xlabel('$b$', fontsize=16)\n",
    "plt.ylabel('$P(b)$', fontsize=16)\n",
    "plt.legend(loc='lower left', ncol=2, labelspacing=0.1)\n",
    "plt.show()"
   ]
  },
  {
   "cell_type": "code",
   "execution_count": null,
   "metadata": {},
   "outputs": [],
   "source": []
  }
 ],
 "metadata": {
  "kernelspec": {
   "display_name": "Python 3",
   "language": "python",
   "name": "python3"
  },
  "language_info": {
   "codemirror_mode": {
    "name": "ipython",
    "version": 3
   },
   "file_extension": ".py",
   "mimetype": "text/x-python",
   "name": "python",
   "nbconvert_exporter": "python",
   "pygments_lexer": "ipython3",
   "version": "3.8.5"
  }
 },
 "nbformat": 4,
 "nbformat_minor": 4
}
