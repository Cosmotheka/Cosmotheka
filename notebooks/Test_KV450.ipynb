{
 "cells": [
  {
   "cell_type": "code",
   "execution_count": 1,
   "metadata": {},
   "outputs": [],
   "source": [
    "from mapper_base import MapperBase\n",
    "from astropy.io import fits\n",
    "from astropy.table import Table\n",
    "\n",
    "import mapper_KV450\n",
    "import pyccl as ccl\n",
    "import numpy as np\n",
    "import pylab as plt\n",
    "import pymaster as nmt\n",
    "import healpy as hp\n",
    "import os"
   ]
  },
  {
   "cell_type": "code",
   "execution_count": 2,
   "metadata": {},
   "outputs": [],
   "source": [
    "# Initialize binning scheme with 20 ells per bandpower\n",
    "nside = 512\n",
    "ells = []\n",
    "i = 11.5\n",
    "while i <= 3 * nside:\n",
    "    ells.append(round(i))\n",
    "    #i = i*(1+i/(3 * nside))\n",
    "    i = i+20*(1+i/240)\n",
    "\n",
    "bands = nmt.NmtBin.from_edges(ells[:-1], ells[1:])\n",
    "ell_arr = bands.get_effective_ells()"
   ]
  },
  {
   "cell_type": "code",
   "execution_count": 3,
   "metadata": {},
   "outputs": [
    {
     "data": {
      "text/plain": [
       "['/home/zcapjru/PhD/Data/KV450/KV450_G12_reweight_3x4x4_v2_good.cat',\n",
       " '/home/zcapjru/PhD/Data/KV450/KV450_G23_reweight_3x4x4_v2_good.cat',\n",
       " '/home/zcapjru/PhD/Data/KV450/KV450_GS_reweight_3x4x4_v2_good.cat',\n",
       " '/home/zcapjru/PhD/Data/KV450/KV450_G15_reweight_3x4x4_v2_good.cat',\n",
       " '/home/zcapjru/PhD/Data/KV450/KV450_G9_reweight_3x4x4_v2_good.cat']"
      ]
     },
     "execution_count": 3,
     "metadata": {},
     "output_type": "execute_result"
    }
   ],
   "source": [
    "path = '/home/zcapjru/PhD/Data/KV450/'\n",
    "\n",
    "cats = [path+'KV450_G12_reweight_3x4x4_v2_good.cat', \n",
    "        path+'KV450_G23_reweight_3x4x4_v2_good.cat',\n",
    "        path+'KV450_GS_reweight_3x4x4_v2_good.cat',\n",
    "        path+'KV450_G15_reweight_3x4x4_v2_good.cat',\n",
    "        path+'KV450_G9_reweight_3x4x4_v2_good.cat'\n",
    "       ]\n",
    "cats"
   ]
  },
  {
   "cell_type": "code",
   "execution_count": 4,
   "metadata": {},
   "outputs": [],
   "source": [
    "KV_1_config = {'data_catalogs': cats , \n",
    "                'file_nz':path + 'REDSHIFT_DISTRIBUTIONS/Nz_DIR/Nz_DIR_Mean/Nz_DIR_z0.1t0.3.asc',\n",
    "          'zbin':1,\n",
    "          'nside':nside, \n",
    "          'mask_name': 'mask_KV450_1', \n",
    "          'lite_path': '/home/zcapjru/PhD/Data/KV_lite_cats/'}\n",
    "\n",
    "KV_5_config = {'data_catalogs': cats ,               \n",
    "                'file_nz':path + 'REDSHIFT_DISTRIBUTIONS/Nz_DIR/Nz_DIR_Mean/Nz_DIR_z0.9t1.2.asc',\n",
    "          'zbin':5,\n",
    "           'mask_name': 'mask_KV450_5',\n",
    "          'nside':nside,\n",
    "          'lite_path': '/home/zcapjru/PhD/Data/KV_lite_cats/'}"
   ]
  },
  {
   "cell_type": "code",
   "execution_count": 5,
   "metadata": {
    "scrolled": true
   },
   "outputs": [
    {
     "name": "stdout",
     "output_type": "stream",
     "text": [
      "loading lite cats mode: shear Catalogs loaded removed GAAP Data binned Additive biased removed "
     ]
    },
    {
     "name": "stderr",
     "output_type": "stream",
     "text": [
      "/home/zcapjru/PhD/DEScls/mappers/mapper_KV450.py:113: SettingWithCopyWarning: \n",
      "A value is trying to be set on a copy of a slice from a DataFrame.\n",
      "Try using .loc[row_indexer,col_indexer] = value instead\n",
      "\n",
      "See the caveats in the documentation: https://pandas.pydata.org/pandas-docs/stable/user_guide/indexing.html#returning-a-view-versus-a-copy\n",
      "  self.cat_data[sel_gals]['bias_corrected_e1'] -= np.mean(self.cat_data[sel_gals]['bias_corrected_e1'])\n",
      "/home/zcapjru/PhD/DEScls/mappers/mapper_KV450.py:114: SettingWithCopyWarning: \n",
      "A value is trying to be set on a copy of a slice from a DataFrame.\n",
      "Try using .loc[row_indexer,col_indexer] = value instead\n",
      "\n",
      "See the caveats in the documentation: https://pandas.pydata.org/pandas-docs/stable/user_guide/indexing.html#returning-a-view-versus-a-copy\n",
      "  self.cat_data[sel_gals]['bias_corrected_e2'] -= np.mean(self.cat_data[sel_gals]['bias_corrected_e2'])\n",
      "/home/zcapjru/PhD/DEScls/mappers/mapper_KV450.py:120: SettingWithCopyWarning: \n",
      "A value is trying to be set on a copy of a slice from a DataFrame.\n",
      "Try using .loc[row_indexer,col_indexer] = value instead\n",
      "\n",
      "See the caveats in the documentation: https://pandas.pydata.org/pandas-docs/stable/user_guide/indexing.html#returning-a-view-versus-a-copy\n",
      "  self.cat_data[sel_gals]['bias_corrected_e1'] /= 1 + m[self.zbin-1]\n"
     ]
    },
    {
     "name": "stdout",
     "output_type": "stream",
     "text": [
      "Multiplicative bias removed loading lite cats "
     ]
    },
    {
     "name": "stderr",
     "output_type": "stream",
     "text": [
      "/home/zcapjru/PhD/DEScls/mappers/mapper_KV450.py:121: SettingWithCopyWarning: \n",
      "A value is trying to be set on a copy of a slice from a DataFrame.\n",
      "Try using .loc[row_indexer,col_indexer] = value instead\n",
      "\n",
      "See the caveats in the documentation: https://pandas.pydata.org/pandas-docs/stable/user_guide/indexing.html#returning-a-view-versus-a-copy\n",
      "  self.cat_data[sel_gals]['bias_corrected_e2'] /= 1 + m[self.zbin-1]\n"
     ]
    },
    {
     "name": "stdout",
     "output_type": "stream",
     "text": [
      "mode: shear Catalogs loaded removed GAAP Data binned "
     ]
    },
    {
     "name": "stderr",
     "output_type": "stream",
     "text": [
      "/home/zcapjru/PhD/DEScls/mappers/mapper_KV450.py:113: SettingWithCopyWarning: \n",
      "A value is trying to be set on a copy of a slice from a DataFrame.\n",
      "Try using .loc[row_indexer,col_indexer] = value instead\n",
      "\n",
      "See the caveats in the documentation: https://pandas.pydata.org/pandas-docs/stable/user_guide/indexing.html#returning-a-view-versus-a-copy\n",
      "  self.cat_data[sel_gals]['bias_corrected_e1'] -= np.mean(self.cat_data[sel_gals]['bias_corrected_e1'])\n"
     ]
    },
    {
     "name": "stdout",
     "output_type": "stream",
     "text": [
      "Additive biased removed "
     ]
    },
    {
     "name": "stderr",
     "output_type": "stream",
     "text": [
      "/home/zcapjru/PhD/DEScls/mappers/mapper_KV450.py:114: SettingWithCopyWarning: \n",
      "A value is trying to be set on a copy of a slice from a DataFrame.\n",
      "Try using .loc[row_indexer,col_indexer] = value instead\n",
      "\n",
      "See the caveats in the documentation: https://pandas.pydata.org/pandas-docs/stable/user_guide/indexing.html#returning-a-view-versus-a-copy\n",
      "  self.cat_data[sel_gals]['bias_corrected_e2'] -= np.mean(self.cat_data[sel_gals]['bias_corrected_e2'])\n",
      "/home/zcapjru/PhD/DEScls/mappers/mapper_KV450.py:120: SettingWithCopyWarning: \n",
      "A value is trying to be set on a copy of a slice from a DataFrame.\n",
      "Try using .loc[row_indexer,col_indexer] = value instead\n",
      "\n",
      "See the caveats in the documentation: https://pandas.pydata.org/pandas-docs/stable/user_guide/indexing.html#returning-a-view-versus-a-copy\n",
      "  self.cat_data[sel_gals]['bias_corrected_e1'] /= 1 + m[self.zbin-1]\n"
     ]
    },
    {
     "name": "stdout",
     "output_type": "stream",
     "text": [
      "Multiplicative bias removed "
     ]
    },
    {
     "name": "stderr",
     "output_type": "stream",
     "text": [
      "/home/zcapjru/PhD/DEScls/mappers/mapper_KV450.py:121: SettingWithCopyWarning: \n",
      "A value is trying to be set on a copy of a slice from a DataFrame.\n",
      "Try using .loc[row_indexer,col_indexer] = value instead\n",
      "\n",
      "See the caveats in the documentation: https://pandas.pydata.org/pandas-docs/stable/user_guide/indexing.html#returning-a-view-versus-a-copy\n",
      "  self.cat_data[sel_gals]['bias_corrected_e2'] /= 1 + m[self.zbin-1]\n"
     ]
    }
   ],
   "source": [
    "KV_1_maps = mapper_KV450.MapperKV450(KV_1_config)\n",
    "KV_5_maps = mapper_KV450.MapperKV450(KV_5_config)"
   ]
  },
  {
   "cell_type": "code",
   "execution_count": 6,
   "metadata": {},
   "outputs": [],
   "source": [
    "KV_nz_1 = KV_1_maps.dndz\n",
    "KV_z_1 = KV_nz_1[0]\n",
    "KV_dNdz_1 = KV_nz_1[1]\n",
    "\n",
    "KV_nz_5 = KV_5_maps.dndz\n",
    "KV_z_5 = KV_nz_5[0]\n",
    "KV_dNdz_5 = KV_nz_5[1]"
   ]
  },
  {
   "cell_type": "code",
   "execution_count": 7,
   "metadata": {},
   "outputs": [],
   "source": [
    "cosmo = ccl.Cosmology(Omega_c=0.27, Omega_b=0.049, h=0.67, sigma8=0.81, n_s=0.96)\n",
    "ia = np.ones(120)*0.981\n",
    "\n",
    "KV_theory_1 = ccl.WeakLensingTracer(cosmo,  dndz=(KV_z_1,KV_dNdz_1), has_shear=True, ia_bias=(KV_z_1,ia), use_A_ia=True)\n",
    "Theory_cl_s1s1 = ccl.angular_cl(cosmo, KV_theory_1, KV_theory_1, ell_arr) \n",
    "\n",
    "KV_theory_5 = ccl.WeakLensingTracer(cosmo,  dndz=(KV_z_5,KV_dNdz_5), has_shear=True, ia_bias=(KV_z_5,ia), use_A_ia=True)\n",
    "Theory_cl_s5s5 = ccl.angular_cl(cosmo, KV_theory_5, KV_theory_5, ell_arr) \n",
    "\n",
    "Theory_cl_s1s5 = ccl.angular_cl(cosmo, KV_theory_1, KV_theory_5, ell_arr)"
   ]
  },
  {
   "cell_type": "code",
   "execution_count": 8,
   "metadata": {},
   "outputs": [
    {
     "data": {
      "image/png": "[encoded data removed]",
      "text/plain": [
       "<Figure size 432x288 with 1 Axes>"
      ]
     },
     "metadata": {
      "needs_background": "light"
     },
     "output_type": "display_data"
    }
   ],
   "source": [
    "plt.plot(KV_z_1, KV_dNdz_1, 'r-', label='Nz 1')\n",
    "plt.plot(KV_z_5, KV_dNdz_5, 'g-', label='Nz 2')\n",
    "\n",
    "plt.xlabel('z', fontsize=16)\n",
    "plt.ylabel('Nz', fontsize=16)\n",
    "plt.legend(loc='upper left', ncol=2, labelspacing=0.1)\n",
    "plt.show()"
   ]
  },
  {
   "cell_type": "code",
   "execution_count": 9,
   "metadata": {},
   "outputs": [
    {
     "name": "stdout",
     "output_type": "stream",
     "text": [
      "Calculating shear spin-2 field\n",
      "Calculating PSF spin-2 field\n",
      "Calculating star density spin-0 field\n",
      "Calculating shear spin-2 field\n",
      "Calculating PSF spin-2 field\n",
      "Calculating star density spin-0 field\n"
     ]
    }
   ],
   "source": [
    "KV_shear_1 = KV_1_maps.get_signal_map(mode = 'shear')\n",
    "KV_psf_1 = KV_1_maps.get_signal_map(mode = 'PSF')\n",
    "KV_stars_1 = KV_1_maps.get_signal_map(mode = 'stars')\n",
    "\n",
    "KV_shear_5 = KV_5_maps.get_signal_map(mode = 'shear')\n",
    "KV_psf_5 = KV_5_maps.get_signal_map(mode = 'PSF')\n",
    "KV_stars_5 = KV_5_maps.get_signal_map(mode = 'stars')"
   ]
  },
  {
   "cell_type": "code",
   "execution_count": 10,
   "metadata": {},
   "outputs": [
    {
     "name": "stdout",
     "output_type": "stream",
     "text": [
      "Using galaxies mask\n",
      "Using galaxies mask\n",
      "Using stars mask\n",
      "Using galaxies mask\n",
      "Using galaxies mask\n",
      "Using stars mask\n"
     ]
    }
   ],
   "source": [
    "KV_galaxy_mask_1 = KV_1_maps.get_mask(mode='shear')\n",
    "KV_galaxy_mask_1 = KV_1_maps.get_mask(mode='PSF')\n",
    "KV_star_mask_1 = KV_1_maps.get_mask(mode='stars')\n",
    "\n",
    "KV_galaxy_mask_5 = KV_5_maps.get_mask(mode='shear')\n",
    "KV_galaxy_mask_5 = KV_5_maps.get_mask(mode='PSF')\n",
    "KV_star_mask_5 = KV_5_maps.get_mask(mode='stars')"
   ]
  },
  {
   "cell_type": "code",
   "execution_count": 11,
   "metadata": {},
   "outputs": [
    {
     "name": "stdout",
     "output_type": "stream",
     "text": [
      "Calculating shear spin-2 field\n",
      "Using galaxies mask\n",
      "Calculating PSF spin-2 field\n",
      "Using galaxies mask\n",
      "Calculating star density spin-0 field\n",
      "Using stars mask\n",
      "Calculating shear spin-2 field\n",
      "Using galaxies mask\n",
      "Calculating PSF spin-2 field\n",
      "Using galaxies mask\n",
      "Calculating star density spin-0 field\n",
      "Using stars mask\n"
     ]
    }
   ],
   "source": [
    "KV_shear_f_1 =   KV_1_maps.get_nmt_field(mode='shear')\n",
    "KV_psf_f_1 =   KV_1_maps.get_nmt_field(mode='PSF')\n",
    "KV_stars_f_1 =   KV_1_maps.get_nmt_field(mode='stars')\n",
    "\n",
    "KV_shear_f_5 =   KV_5_maps.get_nmt_field(mode='shear')\n",
    "KV_psf_f_5 =   KV_5_maps.get_nmt_field(mode='PSF')\n",
    "KV_stars_f_5 =   KV_5_maps.get_nmt_field(mode='stars')"
   ]
  },
  {
   "cell_type": "code",
   "execution_count": 12,
   "metadata": {},
   "outputs": [],
   "source": [
    "KV_w_s1s1 = nmt.NmtWorkspace()\n",
    "KV_w_s1s1.compute_coupling_matrix(KV_shear_f_1, KV_shear_f_1, bands)\n",
    "\n",
    "KV_w_s1s5 = nmt.NmtWorkspace()\n",
    "KV_w_s1s5.compute_coupling_matrix(KV_shear_f_1, KV_shear_f_5, bands)\n",
    "\n",
    "KV_w_s5s5 = nmt.NmtWorkspace()\n",
    "KV_w_s5s5.compute_coupling_matrix(KV_shear_f_5, KV_shear_f_5, bands)"
   ]
  },
  {
   "cell_type": "code",
   "execution_count": 13,
   "metadata": {},
   "outputs": [],
   "source": [
    "def compute_cl(f_a, f_b, wsp):\n",
    "    # Compute the power spectrum (a la anafast) of the masked fields\n",
    "    # Note that we only use n_iter=0 here to speed up the computation,\n",
    "    # but the default value of 3 is recommended in general.\n",
    "    cl_coupled = nmt.compute_coupled_cell(f_a, f_b)\n",
    "    # Decouple power spectrum into bandpowers inverting the coupling matrix\n",
    "    cl_decoupled = wsp.decouple_cell(cl_coupled) #removed bias here\n",
    "\n",
    "    return cl_decoupled"
   ]
  },
  {
   "cell_type": "code",
   "execution_count": 14,
   "metadata": {
    "scrolled": true
   },
   "outputs": [
    {
     "name": "stdout",
     "output_type": "stream",
     "text": [
      "Calculating shear nl coupled\n",
      "Calculating shear nl coupled\n"
     ]
    }
   ],
   "source": [
    "KV_nl_s1s1 = KV_1_maps.get_nl_coupled(mode='shear')\n",
    "KV_nl_s1s1 = KV_w_s1s1.decouple_cell(KV_nl_s1s1)\n",
    "\n",
    "KV_nl_s5s5 = KV_5_maps.get_nl_coupled(mode='shear')\n",
    "KV_nl_s5s5 = KV_w_s5s5.decouple_cell(KV_nl_s5s5)"
   ]
  },
  {
   "cell_type": "code",
   "execution_count": 15,
   "metadata": {},
   "outputs": [],
   "source": [
    "cl_s1s1 = compute_cl(KV_shear_f_1, KV_shear_f_1, KV_w_s1s1)\n",
    "cl_s1s5 = compute_cl(KV_shear_f_1, KV_shear_f_5, KV_w_s1s5)\n",
    "cl_s5s5 = compute_cl(KV_shear_f_5, KV_shear_f_5, KV_w_s5s5)\n",
    "#print(cl_s1s1, KV_nl_s1s1)\n",
    "#cl_s1s1 = cl_s1s1 - KV_nl_s1s1"
   ]
  },
  {
   "cell_type": "code",
   "execution_count": 16,
   "metadata": {},
   "outputs": [],
   "source": [
    "def load_carlos_cl(a, b):\n",
    "    return np.load('/home/zcapjru/PhD/Data/Carlos_KV/cl_KVwl{}_KVwl{}.npz'.format(a,b))\n",
    "def load_jaime_cl(a, b):\n",
    "    return np.loadtxt('/home/zcapjru/PhD/Cls/KV450/KV450_cl_{}{}.txt'.format(a,b))\n",
    "def load_jaime_nl(a, b):\n",
    "    return np.loadtxt('/home/zcapjru/PhD/Cls/KV450/KV450_nl_{}{}.txt'.format(a,b))"
   ]
  },
  {
   "cell_type": "code",
   "execution_count": 28,
   "metadata": {},
   "outputs": [
    {
     "name": "stdout",
     "output_type": "stream",
     "text": [
      "for bin_00 the max error is 1.1458483866624476e-16\n",
      "for bin_01 the max error is 8.037996163484712e-17\n",
      "for bin_02 the max error is 1.2863483720578663e-16\n",
      "for bin_03 the max error is 3.096702559627173e-16\n",
      "for bin_04 the max error is 1.278891993962746e-15\n",
      "for bin_11 the max error is 2.487579602658036e-16\n",
      "for bin_12 the max error is 4.6791097689543866e-17\n",
      "for bin_13 the max error is 2.588316958105388e-16\n",
      "for bin_14 the max error is 4.552451896307734e-16\n",
      "for bin_22 the max error is 2.2536004097989005e-16\n",
      "for bin_23 the max error is 1.4779168258392777e-16\n",
      "for bin_24 the max error is 5.345489868071472e-16\n",
      "for bin_33 the max error is 1.0072535801974733e-15\n",
      "for bin_34 the max error is 1.4265687141579605e-15\n",
      "for bin_44 the max error is 1.1839691276146845e-15\n"
     ]
    }
   ],
   "source": [
    "for i in range(5):\n",
    "    for j in range(5):\n",
    "        if i <= j:\n",
    "            carlos_ij = load_carlos_cl(i,j)['cl'][0]\n",
    "            jaime_ij = load_jaime_cl(i,j)[0]\n",
    "            if i == j:\n",
    "                jaime_ij = jaime_ij - load_jaime_nl(i,j)[0]\n",
    "            diff = abs(carlos_ij - jaime_ij)\n",
    "            print('for bin_{}{} the max error is {}'.format(i , j, max(diff)))"
   ]
  },
  {
   "cell_type": "code",
   "execution_count": 23,
   "metadata": {},
   "outputs": [],
   "source": [
    "carlos11 = load_carlos_cl(0,0)\n",
    "jcl11 = load_jaime_cl(0,0)[0]\n",
    "jnl11 = load_jaime_nl(0,0)[0]\n",
    "\n",
    "carlos15 = load_carlos_cl(0,4)\n",
    "jcl15 = load_jaime_cl(0,4)[0]\n",
    "#jnl11 = load_jaime_nl(0,4)[0]\n",
    "\n",
    "carlos55 = load_carlos_cl(4,4)\n",
    "jcl55 = load_jaime_cl(4,4)[0]\n",
    "jnl55 = load_jaime_nl(4,4)[0]"
   ]
  },
  {
   "cell_type": "code",
   "execution_count": 26,
   "metadata": {},
   "outputs": [
    {
     "data": {
      "text/plain": [
       "array([-1.10549327e-16,  1.14584839e-16,  4.86608103e-17,  1.35317567e-18,\n",
       "       -7.27472311e-17,  5.71997275e-17,  1.81908721e-18,  5.61515954e-17,\n",
       "       -3.96405255e-17,  4.24099109e-17,  1.38010978e-17, -1.88876107e-17,\n",
       "       -1.92449143e-17,  2.87439349e-18,  5.09568844e-17, -6.79942339e-18,\n",
       "        3.30318766e-17,  1.28062179e-18,  9.22622945e-18,  6.25719099e-18,\n",
       "       -7.44489145e-18,  1.60310705e-18, -7.69761002e-18, -2.92548554e-19,\n",
       "       -2.92424807e-18,  3.31035613e-19, -1.16859155e-18, -9.10820153e-19,\n",
       "       -3.51389219e-19, -1.11626824e-18,  1.00836088e-18, -3.79303256e-19,\n",
       "        3.53551842e-18,  4.78416451e-19,  2.14214963e-20,  1.15993635e-18,\n",
       "       -4.58056227e-19,  1.62709322e-18, -2.40012245e-19])"
      ]
     },
     "execution_count": 26,
     "metadata": {},
     "output_type": "execute_result"
    }
   ],
   "source": [
    "maxjcl11-jnl11-carlos11['cl'][0]"
   ]
  },
  {
   "cell_type": "code",
   "execution_count": 24,
   "metadata": {},
   "outputs": [
    {
     "name": "stdout",
     "output_type": "stream",
     "text": [
      "39 39\n"
     ]
    }
   ],
   "source": [
    "print(len(jcl11), len(carlos11['nl'][0]))"
   ]
  },
  {
   "cell_type": "code",
   "execution_count": null,
   "metadata": {
    "scrolled": false
   },
   "outputs": [],
   "source": [
    "#plt.plot(ell_arr, cl_s1s1[0] -KV_nl_s1s1[0], 'bo-', label='Empirical')\n",
    "plt.plot(carlos11['ell'], jcl11-jnl11, 'bs', label='Jaime')\n",
    "plt.plot(carlos11['ell'], carlos11['cl'][0] , 'yo', label='Carlos')\n",
    "#plt.plot(ell_arr,Theory_cl_s1s1, 'r--', label='Theory')\n",
    "\n",
    "#plt.plot(ell_arr, DES_theory_11, 'r--', label='Theory cl_ij')\n",
    "#plt.plot(ccl_11['ell'], ccl_11['cl'][0], 'g-', label='Carlos cl_ij')\n",
    "\n",
    "plt.loglog()\n",
    "plt.title('KV s1s1')\n",
    "#plt.xlim((ell_arr[1], ell_arr[-1]))\n",
    "plt.xlabel('$\\\\ell$', fontsize=16)\n",
    "plt.ylabel('$C_\\\\ell$', fontsize=16)\n",
    "plt.legend(loc='lower left', ncol=2, labelspacing=0.1)\n",
    "plt.show()"
   ]
  },
  {
   "cell_type": "code",
   "execution_count": null,
   "metadata": {
    "scrolled": false
   },
   "outputs": [],
   "source": [
    "#plt.plot(ell_arr, cl_s1s1[0] -KV_nl_s1s1[0], 'bo-', label='Empirical')\n",
    "plt.plot(carlos11['ell'], jnl11, 'bs', label='Jaime')\n",
    "plt.plot(carlos11['ell'], carlos11['nl'][0] , 'yo', label='Carlos')\n",
    "#plt.plot(ell_arr,Theory_cl_s1s1, 'r--', label='Theory')\n",
    "\n",
    "#plt.plot(ell_arr, DES_theory_11, 'r--', label='Theory cl_ij')\n",
    "#plt.plot(ccl_11['ell'], ccl_11['cl'][0], 'g-', label='Carlos cl_ij')\n",
    "\n",
    "plt.loglog()\n",
    "plt.title('KV s1s1')\n",
    "#plt.xlim((ell_arr[1], ell_arr[-1]))\n",
    "plt.xlabel('$\\\\ell$', fontsize=16)\n",
    "plt.ylabel('$C_\\\\ell$', fontsize=16)\n",
    "plt.legend(loc='lower left', ncol=2, labelspacing=0.1)\n",
    "plt.show()"
   ]
  },
  {
   "cell_type": "code",
   "execution_count": null,
   "metadata": {},
   "outputs": [],
   "source": [
    "#plt.plot(ell_arr, cl_s1s1[0] -KV_nl_s1s1[0], 'bo-', label='Empirical')\n",
    "plt.plot(carlos15['ell'], jcl15, 'bs', label='Jaime')\n",
    "plt.plot(carlos15['ell'], carlos15['cl'][0] , 'yo', label='Carlos')\n",
    "#plt.plot(ell_arr,Theory_cl_s1s1, 'r--', label='Theory')\n",
    "\n",
    "#plt.plot(ell_arr, DES_theory_11, 'r--', label='Theory cl_ij')\n",
    "#plt.plot(ccl_11['ell'], ccl_11['cl'][0], 'g-', label='Carlos cl_ij')\n",
    "\n",
    "plt.loglog()\n",
    "plt.title('KV s1s5')\n",
    "#plt.xlim((ell_arr[1], ell_arr[-1]))\n",
    "plt.xlabel('$\\\\ell$', fontsize=16)\n",
    "plt.ylabel('$C_\\\\ell$', fontsize=16)\n",
    "plt.legend(loc='lower left', ncol=2, labelspacing=0.1)\n",
    "plt.show()"
   ]
  },
  {
   "cell_type": "code",
   "execution_count": null,
   "metadata": {},
   "outputs": [],
   "source": [
    "#plt.plot(ell_arr, cl_s1s1[0] -KV_nl_s1s1[0], 'bo-', label='Empirical')\n",
    "plt.plot(carlos55['ell'], jcl55-jnl55, 'bs', label='Jaime')\n",
    "plt.plot(carlos55['ell'], carlos55['cl'][0] , 'yo', label='Carlos')\n",
    "#plt.plot(ell_arr,Theory_cl_s1s1, 'r--', label='Theory')\n",
    "\n",
    "#plt.plot(ell_arr, DES_theory_11, 'r--', label='Theory cl_ij')\n",
    "#plt.plot(ccl_11['ell'], ccl_11['cl'][0], 'g-', label='Carlos cl_ij')\n",
    "\n",
    "plt.loglog()\n",
    "plt.title('KV s5s5')\n",
    "#plt.xlim((ell_arr[1], ell_arr[-1]))\n",
    "plt.xlabel('$\\\\ell$', fontsize=16)\n",
    "plt.ylabel('$C_\\\\ell$', fontsize=16)\n",
    "plt.legend(loc='lower left', ncol=2, labelspacing=0.1)\n",
    "plt.show()"
   ]
  },
  {
   "cell_type": "code",
   "execution_count": null,
   "metadata": {},
   "outputs": [],
   "source": [
    "#plt.plot(ell_arr, cl_s1s1[0] -KV_nl_s1s1[0], 'bo-', label='Empirical')\n",
    "plt.plot(carlos55['ell'], (jcl55-jnl55-carlos55['cl'][0])/carlos55['cl'][0], 'b-', label='Jaime')\n",
    "#plt.plot(ell_arr,Theory_cl_s1s1, 'r--', label='Theory')\n",
    "\n",
    "#plt.plot(ell_arr, DES_theory_11, 'r--', label='Theory cl_ij')\n",
    "#plt.plot(ccl_11['ell'], ccl_11['cl'][0], 'g-', label='Carlos cl_ij')\n",
    "\n",
    "plt.loglog()\n",
    "plt.title('KV s5s5')\n",
    "#plt.xlim((ell_arr[1], ell_arr[-1]))\n",
    "plt.xlabel('$\\\\ell$', fontsize=16)\n",
    "plt.ylabel('$C_\\\\ell$', fontsize=16)\n",
    "plt.legend(loc='lower left', ncol=2, labelspacing=0.1)\n",
    "plt.show()"
   ]
  },
  {
   "cell_type": "code",
   "execution_count": null,
   "metadata": {},
   "outputs": [],
   "source": [
    "#plt.plot(ell_arr, cl_s1s1[0] -KV_nl_s1s1[0], 'bo-', label='Empirical')\n",
    "plt.plot(carlos55['ell'], jnl55, 'bs', label='Jaime')\n",
    "plt.plot(carlos55['ell'], carlos55['nl'][0] , 'yo', label='Carlos')\n",
    "#plt.plot(ell_arr,Theory_cl_s1s1, 'r--', label='Theory')\n",
    "\n",
    "#plt.plot(ell_arr, DES_theory_11, 'r--', label='Theory cl_ij')\n",
    "#plt.plot(ccl_11['ell'], ccl_11['cl'][0], 'g-', label='Carlos cl_ij')\n",
    "\n",
    "plt.loglog()\n",
    "plt.title('KV s5s5')\n",
    "#plt.xlim((ell_arr[1], ell_arr[-1]))\n",
    "plt.xlabel('$\\\\ell$', fontsize=16)\n",
    "plt.ylabel('$C_\\\\ell$', fontsize=16)\n",
    "plt.legend(loc='lower left', ncol=2, labelspacing=0.1)\n",
    "plt.show()"
   ]
  },
  {
   "cell_type": "code",
   "execution_count": null,
   "metadata": {},
   "outputs": [],
   "source": []
  }
 ],
 "metadata": {
  "kernelspec": {
   "display_name": "Python 3",
   "language": "python",
   "name": "python3"
  },
  "language_info": {
   "codemirror_mode": {
    "name": "ipython",
    "version": 3
   },
   "file_extension": ".py",
   "mimetype": "text/x-python",
   "name": "python",
   "nbconvert_exporter": "python",
   "pygments_lexer": "ipython3",
   "version": "3.8.5"
  }
 },
 "nbformat": 4,
 "nbformat_minor": 4
}
