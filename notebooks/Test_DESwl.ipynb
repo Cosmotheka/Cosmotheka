{
 "cells": [
  {
   "cell_type": "code",
   "execution_count": 2,
   "metadata": {},
   "outputs": [],
   "source": [
    "# some_file.py\n",
    "import sys\n",
    "# insert at 1, 0 is the script path (or '' in REPL)\n",
    "sys.path.insert(1, '/home/zcapjru/PhD/DEScls/xcell/mappers')\n",
    "\n",
    "\n",
    "from mapper_base import MapperBase\n",
    "from astropy.io import fits\n",
    "from astropy.table import Table\n",
    "\n",
    "import mapper_DESY1wl\n",
    "import pyccl as ccl\n",
    "import numpy as np\n",
    "import pylab as plt\n",
    "import pymaster as nmt\n",
    "import healpy as hp\n",
    "import os"
   ]
  },
  {
   "cell_type": "code",
   "execution_count": null,
   "metadata": {},
   "outputs": [],
   "source": [
    "# Initialize binning scheme with 20 ells per bandpower\n",
    "nside = 512\n",
    "ells = []\n",
    "i = 11.5\n",
    "while i <= 3 * nside:\n",
    "    ells.append(round(i))\n",
    "    #i = i*(1+i/(3 * nside))\n",
    "    i = i+20*(1+i/240)\n",
    "\n",
    "bands = nmt.NmtBin.from_edges(ells[:-1], ells[1:])\n",
    "ell_arr = bands.get_effective_ells()"
   ]
  },
  {
   "cell_type": "code",
   "execution_count": null,
   "metadata": {},
   "outputs": [],
   "source": [
    "path_data = '/home/zcapjru/PhD/Data/DESwl/'\n",
    "#path_lite = '/home/zcapjru/PhD/Data/DESwl_lite/'\n",
    "path_lite = '/home/zcapjru/PhD/Data/David_DESwl_lite/'"
   ]
  },
  {
   "cell_type": "code",
   "execution_count": null,
   "metadata": {},
   "outputs": [],
   "source": [
    "DESwl_1_config = {'zbin_cat': path_data + 'y1_source_redshift_binning_v1.fits',\n",
    "        'data_cat':  path_data + 'mcal-y1a1-combined-riz-unblind-v4-matched.fits',\n",
    "         'file_nz': path_data + 'y1_redshift_distributions_v1.fits',\n",
    "         'path_lite': path_lite,\n",
    "         'nside': nside,\n",
    "         'bin': 0,\n",
    "         'mask_name': 'name'}\n",
    "\n",
    "\n",
    "DESwl_2_config = {'zbin_cat': path_data + 'y1_source_redshift_binning_v1.fits',\n",
    "        'data_cat':  path_data + 'mcal-y1a1-combined-riz-unblind-v4-matched.fits',\n",
    "         'file_nz': path_data + 'y1_redshift_distributions_v1.fits',\n",
    "         'path_lite': path_lite ,\n",
    "         'nside': nside,\n",
    "         'bin': 1,\n",
    "         'mask_name': 'name'}\n"
   ]
  },
  {
   "cell_type": "code",
   "execution_count": null,
   "metadata": {},
   "outputs": [],
   "source": [
    "DES_1_maps = mapper_DESwl.MapperDESwl(DESwl_1_config)\n",
    "DES_2_maps = mapper_DESwl.MapperDESwl(DESwl_2_config)"
   ]
  },
  {
   "cell_type": "code",
   "execution_count": null,
   "metadata": {},
   "outputs": [],
   "source": [
    "DES_nz_1 = DES_1_maps.nz\n",
    "DES_z_1 = DES_nz_1['Z_MID']\n",
    "DES_dNdz_1 = DES_nz_1['BIN1']\n",
    "\n",
    "DES_nz_2 = DES_2_maps.nz\n",
    "DES_z_2 = DES_nz_2['Z_MID']\n",
    "DES_dNdz_2 = DES_nz_2['BIN2']"
   ]
  },
  {
   "cell_type": "code",
   "execution_count": null,
   "metadata": {},
   "outputs": [],
   "source": [
    "plt.plot(DES_z_1, DES_dNdz_1, 'r-', label='Nz 1')\n",
    "plt.plot(DES_z_2, DES_dNdz_2, 'g-', label='Nz 2')\n",
    "\n",
    "plt.xlabel('z', fontsize=16)\n",
    "plt.ylabel('Nz', fontsize=16)\n",
    "plt.legend(loc='upper left', ncol=2, labelspacing=0.1)\n",
    "plt.show()"
   ]
  },
  {
   "cell_type": "code",
   "execution_count": null,
   "metadata": {},
   "outputs": [],
   "source": [
    "cosmo = ccl.Cosmology(Omega_c=0.27, Omega_b=0.049, h=0.67, sigma8=0.81, n_s=0.96)\n",
    "ia = np.ones(len(DES_z_1))*0.981\n",
    "\n",
    "DESwl_theory_1 = ccl.WeakLensingTracer(cosmo,  dndz=(DES_z_1,DES_dNdz_1), has_shear=True, ia_bias=(DES_z_1,ia), use_A_ia=True)\n",
    "Theory_cl_s1s1 = ccl.angular_cl(cosmo, DESwl_theory_1, DESwl_theory_1, ell_arr) \n",
    "\n",
    "DESwl_theory_2 = ccl.WeakLensingTracer(cosmo,  dndz=(DES_z_2,DES_dNdz_2), has_shear=True, ia_bias=(DES_z_2,ia), use_A_ia=True)\n",
    "Theory_cl_s2s2 = ccl.angular_cl(cosmo, DESwl_theory_2, DESwl_theory_2, ell_arr) \n",
    "\n",
    "Theory_cl_s1s2 = ccl.angular_cl(cosmo, DESwl_theory_1, DESwl_theory_2, ell_arr)"
   ]
  },
  {
   "cell_type": "code",
   "execution_count": null,
   "metadata": {},
   "outputs": [],
   "source": [
    "# Read healpix maps and initialize a spin-0 and spin-2 field\n",
    "DES_mask_1  = DES_1_maps.get_mask()\n",
    "DES_signal_1 = DES_1_maps.get_signal_map()\n",
    "DES_mask_2  = DES_2_maps.get_mask()\n",
    "DES_signal_2 = DES_2_maps.get_signal_map()"
   ]
  },
  {
   "cell_type": "code",
   "execution_count": null,
   "metadata": {},
   "outputs": [],
   "source": [
    "DES_signal_1[0]"
   ]
  },
  {
   "cell_type": "code",
   "execution_count": null,
   "metadata": {},
   "outputs": [],
   "source": [
    "def load_carlos_maps(mode):\n",
    "    if mode == 'w':\n",
    "        print('Loading w')\n",
    "        output = hp.read_map('/home/zcapjru/PhD/Data/DESwl_Carlos_maps/map_metacal_bin0_w_ns4096.fits')\n",
    "    elif mode == 'we1':\n",
    "        print('Loading we1')\n",
    "        output = hp.read_map('/home/zcapjru/PhD/Data/DESwl_Carlos_maps/map_metacal_bin0_we1_ns4096.fits')\n",
    "    elif mode == 'we2':\n",
    "        print('Loading we2')\n",
    "        output = hp.read_map('/home/zcapjru/PhD/Data/DESwl_Carlos_maps/map_metacal_bin0_we2_ns4096.fits')\n",
    "    else:\n",
    "        print('Mode not recognized')\n",
    "        \n",
    "    return output"
   ]
  },
  {
   "cell_type": "code",
   "execution_count": null,
   "metadata": {},
   "outputs": [],
   "source": [
    "carlos_signal = [-load_carlos_maps('we1'), load_carlos_maps('we2')]\n",
    "carlos_mask = load_carlos_maps('w')"
   ]
  },
  {
   "cell_type": "code",
   "execution_count": null,
   "metadata": {},
   "outputs": [],
   "source": [
    "hp.visufunc.mollview(DES_signal_1[1], title= 'DES wl')"
   ]
  },
  {
   "cell_type": "code",
   "execution_count": null,
   "metadata": {},
   "outputs": [],
   "source": [
    "hp.visufunc.mollview(carlos_signal[1], title= 'DES wl')"
   ]
  },
  {
   "cell_type": "code",
   "execution_count": null,
   "metadata": {},
   "outputs": [],
   "source": [
    "hp.visufunc.mollview(DES_signal_1[0], title= 'DES wl')"
   ]
  },
  {
   "cell_type": "code",
   "execution_count": null,
   "metadata": {},
   "outputs": [],
   "source": [
    "hp.visufunc.mollview(carlos_signal[0], title= 'DES wl')"
   ]
  },
  {
   "cell_type": "code",
   "execution_count": null,
   "metadata": {},
   "outputs": [],
   "source": [
    "hp.visufunc.mollview(DES_mask_1, title= 'Mask')\n"
   ]
  },
  {
   "cell_type": "code",
   "execution_count": null,
   "metadata": {},
   "outputs": [],
   "source": [
    "hp.visufunc.mollview(carlos_mask, title= 'Mask')\n"
   ]
  },
  {
   "cell_type": "code",
   "execution_count": null,
   "metadata": {},
   "outputs": [],
   "source": [
    "DES_f_1 =  DES_1_maps.get_nmt_field()\n",
    "DES_f_2 =  DES_2_maps.get_nmt_field()"
   ]
  },
  {
   "cell_type": "code",
   "execution_count": null,
   "metadata": {},
   "outputs": [],
   "source": [
    "DES_w_11 = nmt.NmtWorkspace()\n",
    "DES_w_11.compute_coupling_matrix(DES_f_1, DES_f_1, bands)\n",
    "\n",
    "DES_w_12 = nmt.NmtWorkspace()\n",
    "DES_w_12.compute_coupling_matrix(DES_f_1, DES_f_2, bands)"
   ]
  },
  {
   "cell_type": "code",
   "execution_count": null,
   "metadata": {},
   "outputs": [],
   "source": [
    "def compute_cl(f_a, f_b, wsp):\n",
    "    # Compute the power spectrum (a la anafast) of the masked fields\n",
    "    # Note that we only use n_iter=0 here to speed up the computation,\n",
    "    # but the default value of 3 is recommended in general.\n",
    "    cl_coupled = nmt.compute_coupled_cell(f_a, f_b)\n",
    "    # Decouple power spectrum into bandpowers inverting the coupling matrix\n",
    "    cl_decoupled = wsp.decouple_cell(cl_coupled) #removed bias here\n",
    "\n",
    "    return cl_decoupled"
   ]
  },
  {
   "cell_type": "code",
   "execution_count": null,
   "metadata": {},
   "outputs": [],
   "source": [
    "nl_11 = DES_w_11.decouple_cell(DES_1_maps.get_nl_coupled())\n",
    "cl_11 = compute_cl(DES_f_1, DES_f_1, DES_w_11)\n",
    "cl_11 = cl_11 - nl_11"
   ]
  },
  {
   "cell_type": "code",
   "execution_count": null,
   "metadata": {},
   "outputs": [],
   "source": [
    "cl_12 = compute_cl(DES_f_1, DES_f_2, DES_w_12)"
   ]
  },
  {
   "cell_type": "code",
   "execution_count": null,
   "metadata": {},
   "outputs": [],
   "source": [
    "plt.plot(ell_arr, cl_11[0], 'bo-', label='Jaime cl_ij')\n",
    "plt.plot(ell_arr, nl_11[0], 'go-', label='Jaime nl_ij')\n",
    "plt.plot(ell_arr, Theory_cl_s1s1, 'r--', label='Theory cl_ij')\n",
    "\n",
    "plt.loglog()\n",
    "plt.title('DESwl Cl 11')\n",
    "plt.xlim((ell_arr[1], ell_arr[-1]))\n",
    "plt.xlabel('$\\\\ell$', fontsize=16)\n",
    "plt.ylabel('$C_\\\\ell$', fontsize=16)\n",
    "plt.legend(loc='lower left', ncol=2, labelspacing=0.1)\n",
    "plt.show()"
   ]
  },
  {
   "cell_type": "code",
   "execution_count": null,
   "metadata": {},
   "outputs": [],
   "source": [
    "plt.plot(ell_arr, cl_12[0], 'bo-', label='Jaime cl_ij')\n",
    "plt.plot(ell_arr, Theory_cl_s1s2, 'r--', label='Theory cl_ij')\n",
    "\n",
    "plt.loglog()\n",
    "plt.title('DESwl Cl 12')\n",
    "plt.xlim((ell_arr[1], ell_arr[-1]))\n",
    "plt.xlabel('$\\\\ell$', fontsize=16)\n",
    "plt.ylabel('$C_\\\\ell$', fontsize=16)\n",
    "plt.legend(loc='lower left', ncol=2, labelspacing=0.1)\n",
    "plt.show()"
   ]
  },
  {
   "cell_type": "code",
   "execution_count": null,
   "metadata": {},
   "outputs": [],
   "source": []
  }
 ],
 "metadata": {
  "kernelspec": {
   "display_name": "Python 3",
   "language": "python",
   "name": "python3"
  },
  "language_info": {
   "codemirror_mode": {
    "name": "ipython",
    "version": 3
   },
   "file_extension": ".py",
   "mimetype": "text/x-python",
   "name": "python",
   "nbconvert_exporter": "python",
   "pygments_lexer": "ipython3",
   "version": "3.8.5"
  }
 },
 "nbformat": 4,
 "nbformat_minor": 4
}
