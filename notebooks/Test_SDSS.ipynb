{
 "cells": [
  {
   "cell_type": "markdown",
   "metadata": {},
   "source": [
    "# QSO Cl's"
   ]
  },
  {
   "cell_type": "code",
   "execution_count": 1,
   "metadata": {},
   "outputs": [],
   "source": [
    "# some_file.py\n",
    "import sys\n",
    "# insert at 1, 0 is the script path (or '' in REPL)\n",
    "\n",
    "sys.path.insert(1, '/home/jaimerz/PhD/xCell')\n",
    "\n",
    "from xcell.mappers import MappereBOSSQSO\n",
    "from xcell.mappers import MapperBOSSCMASS\n",
    "from xcell.mappers import MapperBOSSLOWZ\n",
    "from astropy.io import fits\n",
    "from astropy.table import Table\n",
    "import pyccl as ccl\n",
    "import numpy as np\n",
    "import pylab as plt\n",
    "import pymaster as nmt\n",
    "import healpy as hp\n",
    "import numpy as np"
   ]
  },
  {
   "cell_type": "code",
   "execution_count": 2,
   "metadata": {},
   "outputs": [],
   "source": [
    "# Initialize binning scheme with 20 ells per bandpower\n",
    "nside =  512\n",
    "nside_mask = 512\n",
    "#bands = nmt.NmtBin.from_nside_linear(nside, 20)\n",
    "#ell_arr = bands.get_effective_ells()"
   ]
  },
  {
   "cell_type": "code",
   "execution_count": 3,
   "metadata": {},
   "outputs": [],
   "source": [
    "ells = [0, 30, 60, 90, 120, 150, 180, 210, 240, 272, 309, 351, 398, 452, 513, 582, 661, 750, 852, 967, 1098, 1247, 1416, 1536] #1608, 1826, 2073, 2354, 2673, 3072]\n",
    "bands = nmt.NmtBin.from_edges(ells[:-1], ells[1:])\n",
    "ell_arr = bands.get_effective_ells()"
   ]
  },
  {
   "cell_type": "code",
   "execution_count": 4,
   "metadata": {},
   "outputs": [],
   "source": [
    "bands = nmt.NmtBin.from_edges(ells[:-1], ells[1:])\n",
    "ell_arr = bands.get_effective_ells()"
   ]
  },
  {
   "cell_type": "code",
   "execution_count": 5,
   "metadata": {},
   "outputs": [],
   "source": [
    "data_path = '/home/jaimerz/PhD/xCell/data/'\n",
    "QSO_NGC1_config = {'data_catalogs':[data_path+'eBOSSQSO/eBOSS_QSO_clustering_data-NGC-vDR16.fits'], \n",
    "          'random_catalogs':[data_path+'eBOSSQSO/eBOSS_QSO_clustering_random-NGC-vDR16.fits'],\n",
    "          'z_edges':[0, 1.5],\n",
    "          'nside':nside, 'nside_mask': nside_mask, 'mask_name': 'mask_QSO_NGC_1'}\n",
    "\n",
    "QSO_NGC2_config = {'data_catalogs':[data_path+'eBOSSQSO/eBOSS_QSO_clustering_data-NGC-vDR16.fits'], \n",
    "          'random_catalogs':[data_path+'eBOSSQSO/eBOSS_QSO_clustering_random-NGC-vDR16.fits'],\n",
    "          'z_edges':[1.5, 3],\n",
    "          'nside':nside, 'nside_mask': nside_mask, 'mask_name': 'mask_QSO_NGC_2'}\n",
    "\n",
    "CMASS_NGC_config = {'data_catalogs':[data_path+'BOSSCMASS/galaxy_DR12v5_CMASS_North.fits'], \n",
    "          'random_catalogs':[data_path+'BOSSCMASS/random1_DR12v5_CMASS_North.fits'],\n",
    "          'mask_path':[data_path+'BOSSCMASS/mask_DR12v5_CMASS_North.fits'],\n",
    "          #'z_edges':[0.43, 0.75],\n",
    "          'nside':nside, 'nside_mask': nside_mask, 'mask_name': 'mask_CMASS_NGC'}\n",
    "\n",
    "LOWZ_NGC_config = {'data_catalogs':[data_path+'BOSSLOWZ/galaxy_DR12v5_LOWZ_North.fits'], \n",
    "          'random_catalogs':[data_path+'BOSSLOWZ/random1_DR12v5_LOWZ_North.fits'],\n",
    "          'mask_path':[data_path+'BOSSLOWZ/mask_DR12v5_LOWZ_North.fits'],\n",
    "          #'z_edges':[0.15, 0.43],\n",
    "          'nside':nside, 'nside_mask': nside_mask, 'mask_name': 'mask_LOWZ_NGC'}"
   ]
  },
  {
   "cell_type": "code",
   "execution_count": 6,
   "metadata": {},
   "outputs": [],
   "source": [
    "QSO_1 = MappereBOSSQSO(QSO_NGC1_config)\n",
    "QSO_2 = MappereBOSSQSO(QSO_NGC2_config)"
   ]
  },
  {
   "cell_type": "code",
   "execution_count": 7,
   "metadata": {},
   "outputs": [],
   "source": [
    "CMASS = MapperBOSSCMASS(CMASS_NGC_config)\n",
    "LOWZ = MapperBOSSLOWZ(LOWZ_NGC_config)"
   ]
  },
  {
   "cell_type": "code",
   "execution_count": 10,
   "metadata": {},
   "outputs": [
    {
     "ename": "NameError",
     "evalue": "name 'Table' is not defined",
     "output_type": "error",
     "traceback": [
      "\u001b[0;31m---------------------------------------------------------------------------\u001b[0m",
      "\u001b[0;31mNameError\u001b[0m                                 Traceback (most recent call last)",
      "\u001b[0;32m<ipython-input-10-6cc78373737f>\u001b[0m in \u001b[0;36m<module>\u001b[0;34m\u001b[0m\n\u001b[0;32m----> 1\u001b[0;31m \u001b[0mQSO_1\u001b[0m\u001b[0;34m.\u001b[0m\u001b[0mget_catalog\u001b[0m\u001b[0;34m(\u001b[0m\u001b[0;34m)\u001b[0m\u001b[0;34m\u001b[0m\u001b[0;34m\u001b[0m\u001b[0m\n\u001b[0m",
      "\u001b[0;32m~/PhD/xCell/xcell/mappers/mapper_base.py\u001b[0m in \u001b[0;36mget_catalog\u001b[0;34m(self, mod)\u001b[0m\n\u001b[1;32m     55\u001b[0m                     \u001b[0;32mraise\u001b[0m \u001b[0mValueError\u001b[0m\u001b[0;34m(\u001b[0m\u001b[0;34mf\"File {file} not found\"\u001b[0m\u001b[0;34m)\u001b[0m\u001b[0;34m\u001b[0m\u001b[0;34m\u001b[0m\u001b[0m\n\u001b[1;32m     56\u001b[0m                 \u001b[0;32mwith\u001b[0m \u001b[0mfits\u001b[0m\u001b[0;34m.\u001b[0m\u001b[0mopen\u001b[0m\u001b[0;34m(\u001b[0m\u001b[0mfile\u001b[0m\u001b[0;34m)\u001b[0m \u001b[0;32mas\u001b[0m \u001b[0mf\u001b[0m\u001b[0;34m:\u001b[0m\u001b[0;34m\u001b[0m\u001b[0;34m\u001b[0m\u001b[0m\n\u001b[0;32m---> 57\u001b[0;31m                     \u001b[0mcats\u001b[0m\u001b[0;34m.\u001b[0m\u001b[0mappend\u001b[0m\u001b[0;34m(\u001b[0m\u001b[0mself\u001b[0m\u001b[0;34m.\u001b[0m\u001b[0m_bin_z\u001b[0m\u001b[0;34m(\u001b[0m\u001b[0mTable\u001b[0m\u001b[0;34m.\u001b[0m\u001b[0mread\u001b[0m\u001b[0;34m(\u001b[0m\u001b[0mf\u001b[0m\u001b[0;34m)\u001b[0m\u001b[0;34m)\u001b[0m\u001b[0;34m)\u001b[0m\u001b[0;34m\u001b[0m\u001b[0;34m\u001b[0m\u001b[0m\n\u001b[0m\u001b[1;32m     58\u001b[0m             \u001b[0mself\u001b[0m\u001b[0;34m.\u001b[0m\u001b[0mcats\u001b[0m\u001b[0;34m[\u001b[0m\u001b[0mmod\u001b[0m\u001b[0;34m]\u001b[0m \u001b[0;34m=\u001b[0m \u001b[0mvstack\u001b[0m\u001b[0;34m(\u001b[0m\u001b[0mcats\u001b[0m\u001b[0;34m)\u001b[0m\u001b[0;34m\u001b[0m\u001b[0;34m\u001b[0m\u001b[0m\n\u001b[1;32m     59\u001b[0m         \u001b[0;32mreturn\u001b[0m \u001b[0mself\u001b[0m\u001b[0;34m.\u001b[0m\u001b[0mcats\u001b[0m\u001b[0;34m[\u001b[0m\u001b[0mmod\u001b[0m\u001b[0;34m]\u001b[0m\u001b[0;34m\u001b[0m\u001b[0;34m\u001b[0m\u001b[0m\n",
      "\u001b[0;31mNameError\u001b[0m: name 'Table' is not defined"
     ]
    }
   ],
   "source": [
    "QSO_1.get_catalog()"
   ]
  },
  {
   "cell_type": "code",
   "execution_count": 8,
   "metadata": {},
   "outputs": [],
   "source": [
    "cosmo = ccl.Cosmology(Omega_c=0.27, Omega_b=0.049, h=0.67, sigma8=0.81, n_s=0.96)\n",
    "b_ngc = 2.37*np.ones(50) \n",
    "b_sgc = 2.32 *np.ones(50) "
   ]
  },
  {
   "cell_type": "code",
   "execution_count": null,
   "metadata": {},
   "outputs": [],
   "source": [
    "QSO_nz_1 = QSO_1.get_nz()\n",
    "QSO_nz_2 = QSO_2.get_nz()\n",
    "QSO_z_1 = QSO_nz_1[1]\n",
    "QSO_dNdz_1 = QSO_nz_1[0]\n",
    "QSO_z_2 = QSO_nz_2[1]\n",
    "QSO_dNdz_2 = QSO_nz_2[0]\n",
    "\n",
    "#quasar1 = ccl.NumberCountsTracer(cosmo, has_rsd=False, dndz=(z_1,dNdz_1), bias=(z_1,b_ngc))\n",
    "#quasar2 = ccl.NumberCountsTracer(cosmo, has_rsd=False, dndz=(z_2,dNdz_2), bias=(z_2,b_ngc))\n",
    "#CMB_shear = ccl.CMBLensingTracer(cosmo, 1100)"
   ]
  },
  {
   "cell_type": "code",
   "execution_count": null,
   "metadata": {},
   "outputs": [],
   "source": [
    "#ell = np.arange(2, 2000)\n",
    "#theory_11 = ccl.angular_cl(cosmo, quasar1, quasar1, ell_arr) \n",
    "#theory_12 = ccl.angular_cl(cosmo, quasar1, quasar2, ell_arr) \n",
    "#theory_22 = ccl.angular_cl(cosmo, quasar2, quasar2, ell_arr) "
   ]
  },
  {
   "cell_type": "code",
   "execution_count": null,
   "metadata": {},
   "outputs": [],
   "source": [
    "def compute_cl(f_a, f_b, wsp):\n",
    "    # Compute the power spectrum (a la anafast) of the masked fields\n",
    "    # Note that we only use n_iter=0 here to speed up the computation,\n",
    "    # but the default value of 3 is recommended in general.\n",
    "    cl_coupled = nmt.compute_coupled_cell(f_a, f_b)\n",
    "    # Decouple power spectrum into bandpowers inverting the coupling matrix\n",
    "    #cl_decoupled = wsp.decouple_cell(cl_coupled) #removed bias here\n",
    "\n",
    "    return cl_coupled"
   ]
  },
  {
   "cell_type": "code",
   "execution_count": null,
   "metadata": {},
   "outputs": [],
   "source": [
    "QSO_f_1 =  QSO_1.get_nmt_field()\n",
    "QSO_f_2 =  QSO_2.get_nmt_field()"
   ]
  },
  {
   "cell_type": "code",
   "execution_count": null,
   "metadata": {},
   "outputs": [],
   "source": [
    "CMASS_f_1 =  CMASS_1.get_nmt_field()\n",
    "CMASS_f_2 =  CMASS_2.get_nmt_field()"
   ]
  },
  {
   "cell_type": "code",
   "execution_count": null,
   "metadata": {},
   "outputs": [],
   "source": [
    "LOWZ_f_1 =  LOWZ_1.get_nmt_field()\n",
    "LOWZ_f_2 =  LOWZ_2.get_nmt_field()"
   ]
  },
  {
   "cell_type": "code",
   "execution_count": null,
   "metadata": {},
   "outputs": [],
   "source": [
    "sgdgdas"
   ]
  },
  {
   "cell_type": "code",
   "execution_count": null,
   "metadata": {},
   "outputs": [],
   "source": [
    "w_11 = nmt.NmtWorkspace()\n",
    "w_11.compute_coupling_matrix(f_1, f_1, bands)\n",
    "\n",
    "w_22 = nmt.NmtWorkspace()\n",
    "w_22.compute_coupling_matrix(f_2, f_2, bands)"
   ]
  },
  {
   "cell_type": "code",
   "execution_count": null,
   "metadata": {},
   "outputs": [],
   "source": [
    "cl_c_11 = nmt.compute_coupled_cell(f_1, f_1)\n",
    "cl_c_22 = nmt.compute_coupled_cell(f_2, f_2)"
   ]
  },
  {
   "cell_type": "code",
   "execution_count": null,
   "metadata": {},
   "outputs": [],
   "source": [
    "cl_11 = w_11.decouple_cell(cl_c_11)\n",
    "cl_22 = w_22.decouple_cell(cl_c_22)"
   ]
  },
  {
   "cell_type": "code",
   "execution_count": null,
   "metadata": {},
   "outputs": [],
   "source": [
    "nl_c_11 = maps_1.get_nl_coupled() \n",
    "nl_c_22 = maps_2.get_nl_coupled() "
   ]
  },
  {
   "cell_type": "code",
   "execution_count": null,
   "metadata": {},
   "outputs": [],
   "source": [
    "nl_11 = w_11.decouple_cell(nl_c_11)\n",
    "nl_22 = w_22.decouple_cell(nl_c_22)"
   ]
  },
  {
   "cell_type": "code",
   "execution_count": null,
   "metadata": {},
   "outputs": [],
   "source": [
    "np.savez('512_eBOSSQSO_NGC+SGC_11', cl_coupled=cl_c_11, nl_decoupled=nl_11, nl_coupled=nl_c_11, cl_decoupled=cl_11)\n",
    "np.savez('512_eBOSSQSO_NGC+SGC_22', cl_coupled=cl_c_22, nl_decoupled=nl_22, nl_coupled=nl_c_22, cl_decoupled=cl_22)"
   ]
  },
  {
   "cell_type": "code",
   "execution_count": null,
   "metadata": {},
   "outputs": [],
   "source": [
    "translate = {\n",
    "    'NGC': 'N',\n",
    "    'SGC': 'S',\n",
    "    '0': 'l',\n",
    "    '1': 'h'   \n",
    "}"
   ]
  },
  {
   "cell_type": "code",
   "execution_count": null,
   "metadata": {},
   "outputs": [],
   "source": [
    "def load_david_cl(cup, a):\n",
    "    cup = translate[cup]\n",
    "    a = translate[a]\n",
    "    return np.load('/home/zcapjru/PhD/Data/David_eBOSS/cls_{}{}_ns4096.npz'.format(cup, a))\n",
    "def load_jaime_cl(cup, a):\n",
    "    return np.loadtxt('/home/zcapjru/PhD/Cls/eBOSSQSO/4096/4096_{}_cl_{}{}.txt'.format(cup, a, a))\n",
    "def load_jaime_nl(cup, a):\n",
    "    return np.loadtxt('/home/zcapjru/PhD/Cls/eBOSSQSO/4096/4096_{}_nl_{}{}.txt'.format(cup, a, a))"
   ]
  },
  {
   "cell_type": "code",
   "execution_count": null,
   "metadata": {},
   "outputs": [],
   "source": [
    "NGC_nl_11[0]"
   ]
  },
  {
   "cell_type": "code",
   "execution_count": null,
   "metadata": {},
   "outputs": [],
   "source": [
    "plt.plot( NGC_nl_11[0], 'o-', label='cl')\n",
    "plt.plot(load_david_cl('NGC', '1')['nl_coupled'][0], 'r--', label='david cl')\n",
    "#plt.loglog()\n",
    "plt.title('Quasars density angular NGC 22')\n",
    "plt.xlabel('$\\\\ell$', fontsize=16)\n",
    "plt.ylabel('$C_\\\\ell$', fontsize=16)\n",
    "plt.legend(loc='lower left', ncol=2, labelspacing=0.1)\n",
    "plt.show()"
   ]
  },
  {
   "cell_type": "code",
   "execution_count": null,
   "metadata": {},
   "outputs": [],
   "source": [
    "cups = ['NGC', 'SGC']\n",
    "for cup in cups:\n",
    "    for i in range(2):\n",
    "            david_ii = load_david_cl(cup,str(i))['cl'][0] - load_david_cl(cup,str(i))['nl'][0]\n",
    "            jaime_ii = load_jaime_cl(cup,i)\n",
    "            jaime_ii = jaime_ii - load_jaime_nl(cup,i)\n",
    "            diff = abs(david_ii - jaime_ii)\n",
    "            print('for {}_{}{} the max error is {}'.format(cup, i , i, max(diff)))"
   ]
  },
  {
   "cell_type": "code",
   "execution_count": null,
   "metadata": {},
   "outputs": [],
   "source": [
    "load_david_cl('NGC', '1')['nl_coupled'][0]\n",
    "#(ells > 2000) & (ells < 8000)"
   ]
  },
  {
   "cell_type": "code",
   "execution_count": null,
   "metadata": {
    "scrolled": true
   },
   "outputs": [],
   "source": [
    "plt.plot( load_jaime_nl('SGC', 0) , 'bs', label='Jaime nl')\n",
    "plt.plot( load_jaime_cl('SGC', 0) , 'yo', label='Jaime Cl')\n",
    "#plt.semilogx()\n",
    "plt.title('Comp')\n",
    "plt.xlabel('$\\\\ell$', fontsize=16)\n",
    "plt.ylabel('$C_\\\\ell$', fontsize=16)\n",
    "plt.legend(loc='upper right', ncol=2, labelspacing=0.1)\n",
    "plt.ylim([9e-6, 1.05e-5])\n",
    "plt.show()"
   ]
  },
  {
   "cell_type": "code",
   "execution_count": null,
   "metadata": {
    "scrolled": true
   },
   "outputs": [],
   "source": [
    "plt.plot( load_jaime_nl('SGC', 1) , 'bs', label='Jaime nl')\n",
    "plt.plot( load_jaime_cl('SGC', 1) , 'yo', label='Jaime Cl')\n",
    "#plt.semilogx()\n",
    "plt.title('Comp')\n",
    "plt.xlabel('$\\\\ell$', fontsize=16)\n",
    "plt.ylabel('$C_\\\\ell$', fontsize=16)\n",
    "plt.legend(loc='upper right', ncol=2, labelspacing=0.1)\n",
    "plt.ylim([9e-6, 1.05e-5])\n",
    "plt.show()"
   ]
  },
  {
   "cell_type": "code",
   "execution_count": null,
   "metadata": {
    "scrolled": true
   },
   "outputs": [],
   "source": [
    "plt.plot(ell_arr, load_david_cl('NGC', '1')['cl'][0]-  load_david_cl('NGC', '1')['nl'][0], 'bs', label='David Cl')\n",
    "plt.plot(ell_arr, load_jaime_cl('NGC', 1) - load_jaime_nl('NGC',1) , 'yo', label='Jaime Cl')\n",
    "plt.loglog()\n",
    "plt.title('Comp')\n",
    "plt.xlabel('$\\\\ell$', fontsize=16)\n",
    "plt.ylabel('$C_\\\\ell$', fontsize=16)\n",
    "plt.legend(loc='lower left', ncol=2, labelspacing=0.1)\n",
    "plt.show()"
   ]
  },
  {
   "cell_type": "code",
   "execution_count": null,
   "metadata": {
    "scrolled": true
   },
   "outputs": [],
   "source": [
    "plt.plot(ell_arr,   load_david_cl('NGC', '1')['nl'][0], 'bs', label='David nl')\n",
    "plt.plot(ell_arr,  load_jaime_nl('NGC',1) , 'yo', label='Jaime nl')\n",
    "plt.loglog()\n",
    "plt.title('Comp')\n",
    "plt.xlabel('$\\\\ell$', fontsize=16)\n",
    "plt.ylabel('$C_\\\\ell$', fontsize=16)\n",
    "plt.legend(loc='lower left', ncol=2, labelspacing=0.1)\n",
    "plt.show()"
   ]
  },
  {
   "cell_type": "code",
   "execution_count": null,
   "metadata": {},
   "outputs": [],
   "source": [
    "load_david_cl('NGC', '1')['ls']"
   ]
  },
  {
   "cell_type": "code",
   "execution_count": null,
   "metadata": {},
   "outputs": [],
   "source": [
    "ell_arr"
   ]
  },
  {
   "cell_type": "code",
   "execution_count": null,
   "metadata": {},
   "outputs": [],
   "source": []
  }
 ],
 "metadata": {
  "kernelspec": {
   "display_name": "Python 3",
   "language": "python",
   "name": "python3"
  },
  "language_info": {
   "codemirror_mode": {
    "name": "ipython",
    "version": 3
   },
   "file_extension": ".py",
   "mimetype": "text/x-python",
   "name": "python",
   "nbconvert_exporter": "python",
   "pygments_lexer": "ipython3",
   "version": "3.8.5"
  }
 },
 "nbformat": 4,
 "nbformat_minor": 4
}
