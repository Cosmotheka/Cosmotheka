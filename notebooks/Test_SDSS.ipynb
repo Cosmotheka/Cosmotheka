{
 "cells": [
  {
   "cell_type": "markdown",
   "metadata": {},
   "source": [
    "# QSO Cl's"
   ]
  },
  {
   "cell_type": "code",
   "execution_count": 1,
   "metadata": {},
   "outputs": [],
   "source": [
    "# some_file.py\n",
    "import sys\n",
    "# insert at 1, 0 is the script path (or '' in REPL)\n",
    "\n",
    "sys.path.insert(1, '/home/jaimerz/PhD/xCell')\n",
    "\n",
    "from xcell.mappers import MapperBOSS\n",
    "from xcell.mappers import MappereBOSS\n",
    "from xcell.mappers import utils\n",
    "from astropy.io import fits\n",
    "from astropy.table import Table\n",
    "import pyccl as ccl\n",
    "import numpy as np\n",
    "import pylab as plt\n",
    "import pymaster as nmt\n",
    "import healpy as hp\n",
    "import numpy as np"
   ]
  },
  {
   "cell_type": "code",
   "execution_count": 2,
   "metadata": {},
   "outputs": [],
   "source": [
    "# Initialize binning scheme with 20 ells per bandpower\n",
    "nside =  512\n",
    "nside_mask = 512\n",
    "#bands = nmt.NmtBin.from_nside_linear(nside, 20)\n",
    "#ell_arr = bands.get_effective_ells()"
   ]
  },
  {
   "cell_type": "code",
   "execution_count": 3,
   "metadata": {},
   "outputs": [],
   "source": [
    "ells = [0, 30, 60, 90, 120, 150, 180, 210, 240, 272, 309, 351, 398, 452, 513, 582, 661, 750, 852, 967, 1098, 1247, 1416, 1536] #1608, 1826, 2073, 2354, 2673, 3072]\n",
    "bands = nmt.NmtBin.from_edges(ells[:-1], ells[1:])\n",
    "ell_arr = bands.get_effective_ells()"
   ]
  },
  {
   "cell_type": "code",
   "execution_count": 4,
   "metadata": {},
   "outputs": [],
   "source": [
    "bands = nmt.NmtBin.from_edges(ells[:-1], ells[1:])\n",
    "ell_arr = bands.get_effective_ells()"
   ]
  },
  {
   "cell_type": "code",
   "execution_count": 5,
   "metadata": {},
   "outputs": [],
   "source": [
    "data_path = '/home/jaimerz/PhD/xCell/data/'\n",
    "QSO_NGC1_config = {'data_catalogs':[data_path+'eBOSSQSO/eBOSS_QSO_clustering_data-NGC-vDR16.fits'], \n",
    "          'random_catalogs':[data_path+'eBOSSQSO/eBOSS_QSO_clustering_random-NGC-vDR16.fits'],\n",
    "          'z_edges':[0, 1.5],\n",
    "          'nside':nside, 'nside_mask': nside_mask, 'mask_name': 'mask_QSO_NGC_1'}\n",
    "\n",
    "QSO_NGC2_config = {'data_catalogs':[data_path+'eBOSSQSO/eBOSS_QSO_clustering_data-NGC-vDR16.fits'], \n",
    "          'random_catalogs':[data_path+'eBOSSQSO/eBOSS_QSO_clustering_random-NGC-vDR16.fits'],\n",
    "          'z_edges':[1.5, 3],\n",
    "          'nside':nside, 'nside_mask': nside_mask, 'mask_name': 'mask_QSO_NGC_2'}\n",
    "\n",
    "CMASS_NGC_config = {'data_catalogs':[data_path+'BOSSCMASS/galaxy_DR12v5_CMASS_North.fits'], \n",
    "          'random_catalogs':[data_path+'BOSSCMASS/random1_DR12v5_CMASS_North.fits'],\n",
    "          #'mask_path':[data_path+'BOSSCMASS/mask_DR12v5_CMASS_North.fits'],\n",
    "          #'z_edges': [0, 1], #[0.43, 0.75],\n",
    "          'nside':nside, 'nside_mask': nside_mask, 'mask_name': 'mask_CMASS_NGC'}\n",
    "\n",
    "LOWZ_NGC_config = {'data_catalogs':[data_path+'BOSSLOWZ/galaxy_DR12v5_LOWZ_North.fits'], \n",
    "          'random_catalogs':[data_path+'BOSSLOWZ/random1_DR12v5_LOWZ_North.fits'],\n",
    "          #'mask_path':[data_path+'BOSSLOWZ/mask_DR12v5_LOWZ_North.fits'],\n",
    "          #'z_edges': [0, 1], #[0.15, 0.43],\n",
    "          'nside':nside, 'nside_mask': nside_mask, 'mask_name': 'mask_LOWZ_NGC'}\n",
    "\n",
    "ELG_NGC_config = {'data_catalogs':[data_path+'eBOSSELG/eBOSS_ELG_clustering_data-NGC-vDR16.fits'], \n",
    "          'random_catalogs':[data_path+'eBOSSELG/eBOSS_ELG_clustering_random-NGC-vDR16.fits'],\n",
    "          #'mask_path':[data_path+'BOSSCMASS/mask_DR12v5_CMASS_North.fits'],\n",
    "          #'z_edges': [0, 1], #[0.43, 0.75],\n",
    "          'nside':nside, 'nside_mask': nside_mask, 'mask_name': 'mask_ELG_NGC'}\n",
    "\n",
    "LRG_NGC_config = {'data_catalogs':[data_path+'eBOSSLRG/eBOSS_LRG_clustering_data-NGC-vDR16.fits'], \n",
    "          'random_catalogs':[data_path+'eBOSSLRG/eBOSS_LRG_clustering_random-NGC-vDR16.fits'],\n",
    "          #'mask_path':[data_path+'BOSSLOWZ/mask_DR12v5_LOWZ_North.fits'],\n",
    "          #'z_edges': [0, 1], #[0.15, 0.43],\n",
    "          'nside':nside, 'nside_mask': nside_mask, 'mask_name': 'mask_LOWZ_NGC'}\n",
    "\n",
    "test_config = {'data_catalogs':['/home/jaimerz/PhD/xCell/xcell/tests/data/catalog.fits'], \n",
    "          'random_catalogs':['/home/jaimerz/PhD/xCell/xcell/tests/data/catalog.fits'],\n",
    "          #'mask_path':[data_path+'BOSSLOWZ/mask_DR12v5_LOWZ_North.fits'],\n",
    "          'z_edges': [0, 1.5], #[0.15, 0.43],\n",
    "          'nside':32, 'nside_mask': 32, 'mask_name': 'test'}"
   ]
  },
  {
   "cell_type": "code",
   "execution_count": 6,
   "metadata": {},
   "outputs": [
    {
     "ename": "KeyError",
     "evalue": "'SDSS_name'",
     "output_type": "error",
     "traceback": [
      "\u001b[0;31m---------------------------------------------------------------------------\u001b[0m",
      "\u001b[0;31mKeyError\u001b[0m                                  Traceback (most recent call last)",
      "\u001b[0;32m<ipython-input-6-aa3258ee93e7>\u001b[0m in \u001b[0;36m<module>\u001b[0;34m\u001b[0m\n\u001b[0;32m----> 1\u001b[0;31m \u001b[0mQSO_1\u001b[0m \u001b[0;34m=\u001b[0m \u001b[0mMappereBOSS\u001b[0m\u001b[0;34m(\u001b[0m\u001b[0mQSO_NGC1_config\u001b[0m\u001b[0;34m)\u001b[0m\u001b[0;34m\u001b[0m\u001b[0;34m\u001b[0m\u001b[0m\n\u001b[0m\u001b[1;32m      2\u001b[0m \u001b[0mQSO_2\u001b[0m \u001b[0;34m=\u001b[0m \u001b[0mMappereBOSS\u001b[0m\u001b[0;34m(\u001b[0m\u001b[0mQSO_NGC2_config\u001b[0m\u001b[0;34m)\u001b[0m\u001b[0;34m\u001b[0m\u001b[0;34m\u001b[0m\u001b[0m\n",
      "\u001b[0;32m~/PhD/xCell/xcell/mappers/mapper_eBOSS.py\u001b[0m in \u001b[0;36m__init__\u001b[0;34m(self, config)\u001b[0m\n\u001b[1;32m     14\u001b[0m            'mask_name': 'mask_QSO_NGC_1'}\n\u001b[1;32m     15\u001b[0m         \"\"\"\n\u001b[0;32m---> 16\u001b[0;31m         \u001b[0mself\u001b[0m\u001b[0;34m.\u001b[0m\u001b[0m_get_SDSS_defaults\u001b[0m\u001b[0;34m(\u001b[0m\u001b[0mconfig\u001b[0m\u001b[0;34m)\u001b[0m\u001b[0;34m\u001b[0m\u001b[0;34m\u001b[0m\u001b[0m\n\u001b[0m\u001b[1;32m     17\u001b[0m         \u001b[0mself\u001b[0m\u001b[0;34m.\u001b[0m\u001b[0mz_edges\u001b[0m \u001b[0;34m=\u001b[0m \u001b[0mconfig\u001b[0m\u001b[0;34m.\u001b[0m\u001b[0mget\u001b[0m\u001b[0;34m(\u001b[0m\u001b[0;34m'z_edges'\u001b[0m\u001b[0;34m,\u001b[0m \u001b[0;34m[\u001b[0m\u001b[0;36m0\u001b[0m\u001b[0;34m,\u001b[0m \u001b[0;36m3\u001b[0m\u001b[0;34m]\u001b[0m\u001b[0;34m)\u001b[0m\u001b[0;34m\u001b[0m\u001b[0;34m\u001b[0m\u001b[0m\n\u001b[1;32m     18\u001b[0m \u001b[0;34m\u001b[0m\u001b[0m\n",
      "\u001b[0;32m~/PhD/xCell/xcell/mappers/mapper_SDSS.py\u001b[0m in \u001b[0;36m_get_SDSS_defaults\u001b[0;34m(self, config)\u001b[0m\n\u001b[1;32m     14\u001b[0m     \u001b[0;32mdef\u001b[0m \u001b[0m_get_SDSS_defaults\u001b[0m\u001b[0;34m(\u001b[0m\u001b[0mself\u001b[0m\u001b[0;34m,\u001b[0m \u001b[0mconfig\u001b[0m\u001b[0;34m)\u001b[0m\u001b[0;34m:\u001b[0m\u001b[0;34m\u001b[0m\u001b[0;34m\u001b[0m\u001b[0m\n\u001b[1;32m     15\u001b[0m         \u001b[0mself\u001b[0m\u001b[0;34m.\u001b[0m\u001b[0m_get_defaults\u001b[0m\u001b[0;34m(\u001b[0m\u001b[0mconfig\u001b[0m\u001b[0;34m)\u001b[0m\u001b[0;34m\u001b[0m\u001b[0;34m\u001b[0m\u001b[0m\n\u001b[0;32m---> 16\u001b[0;31m         \u001b[0mself\u001b[0m\u001b[0;34m.\u001b[0m\u001b[0mSDSS_name\u001b[0m \u001b[0;34m=\u001b[0m \u001b[0mconfig\u001b[0m\u001b[0;34m[\u001b[0m\u001b[0;34m'SDSS_name'\u001b[0m\u001b[0;34m]\u001b[0m\u001b[0;34m\u001b[0m\u001b[0;34m\u001b[0m\u001b[0m\n\u001b[0m\u001b[1;32m     17\u001b[0m         \u001b[0mself\u001b[0m\u001b[0;34m.\u001b[0m\u001b[0mpath_lite\u001b[0m \u001b[0;34m=\u001b[0m \u001b[0mconfig\u001b[0m\u001b[0;34m.\u001b[0m\u001b[0mget\u001b[0m\u001b[0;34m(\u001b[0m\u001b[0;34m'path_lite'\u001b[0m\u001b[0;34m,\u001b[0m \u001b[0;32mNone\u001b[0m\u001b[0;34m)\u001b[0m\u001b[0;34m\u001b[0m\u001b[0;34m\u001b[0m\u001b[0m\n\u001b[1;32m     18\u001b[0m         \u001b[0mself\u001b[0m\u001b[0;34m.\u001b[0m\u001b[0mcats\u001b[0m \u001b[0;34m=\u001b[0m \u001b[0;34m{\u001b[0m\u001b[0;34m'data'\u001b[0m\u001b[0;34m:\u001b[0m \u001b[0;32mNone\u001b[0m\u001b[0;34m,\u001b[0m \u001b[0;34m'random'\u001b[0m\u001b[0;34m:\u001b[0m \u001b[0;32mNone\u001b[0m\u001b[0;34m}\u001b[0m\u001b[0;34m\u001b[0m\u001b[0;34m\u001b[0m\u001b[0m\n",
      "\u001b[0;31mKeyError\u001b[0m: 'SDSS_name'"
     ]
    }
   ],
   "source": [
    "QSO_1 = MappereBOSS(QSO_NGC1_config)\n",
    "QSO_2 = MappereBOSS(QSO_NGC2_config)"
   ]
  },
  {
   "cell_type": "code",
   "execution_count": null,
   "metadata": {},
   "outputs": [],
   "source": [
    "CMASS = MapperBOSS(CMASS_NGC_config)\n",
    "LOWZ = MapperBOSS(LOWZ_NGC_config)"
   ]
  },
  {
   "cell_type": "code",
   "execution_count": null,
   "metadata": {},
   "outputs": [],
   "source": [
    "ELG = MappereBOSS(ELG_NGC_config)\n",
    "LRG = MappereBOSS(LRG_NGC_config)"
   ]
  },
  {
   "cell_type": "code",
   "execution_count": null,
   "metadata": {},
   "outputs": [],
   "source": [
    "#hp.read_map(data_path+'BOSSCMASS/mask_DR12v5_CMASS_North.fits')"
   ]
  },
  {
   "cell_type": "code",
   "execution_count": null,
   "metadata": {},
   "outputs": [],
   "source": [
    "ELG_map = ELG.get_signal_map()\n",
    "LRG_map = LRG.get_signal_map()\n",
    "CMASS_map = CMASS.get_signal_map()\n",
    "LOWZ_map = LOWZ.get_signal_map()\n",
    "QSO_1_map = QSO_1.get_signal_map()\n",
    "QSO_2_map =QSO_1.get_signal_map()"
   ]
  },
  {
   "cell_type": "code",
   "execution_count": null,
   "metadata": {},
   "outputs": [],
   "source": [
    "hp.visufunc.mollview(map=np.array(ELG_map)[0])"
   ]
  },
  {
   "cell_type": "code",
   "execution_count": null,
   "metadata": {},
   "outputs": [],
   "source": [
    "hp.visufunc.mollview(map=np.array(LRG_map)[0])"
   ]
  },
  {
   "cell_type": "code",
   "execution_count": null,
   "metadata": {},
   "outputs": [],
   "source": [
    "hp.visufunc.mollview(map=np.array(CMASS_map)[0])"
   ]
  },
  {
   "cell_type": "code",
   "execution_count": null,
   "metadata": {},
   "outputs": [],
   "source": [
    "hp.visufunc.mollview(map=np.array(LOWZ_map)[0])"
   ]
  },
  {
   "cell_type": "code",
   "execution_count": null,
   "metadata": {},
   "outputs": [],
   "source": [
    "hp.visufunc.mollview(map=np.array(QSO_1_map)[0])"
   ]
  },
  {
   "cell_type": "code",
   "execution_count": null,
   "metadata": {},
   "outputs": [],
   "source": [
    "#Mask method has a bug"
   ]
  },
  {
   "cell_type": "code",
   "execution_count": null,
   "metadata": {},
   "outputs": [],
   "source": [
    "cosmo = ccl.Cosmology(Omega_c=0.27, Omega_b=0.049, h=0.67, sigma8=0.81, n_s=0.96)\n",
    "b_ngc = 2.37*np.ones(50) \n",
    "b_sgc = 2.32 *np.ones(50) \n",
    "b_CMASS = 2.00 *np.ones(50) # https://arxiv.org/abs/1202.6057\n",
    "b_LOWZ = 2.00*np.ones(50) #https://arxiv.org/abs/1401.4171\n",
    "b_ELG = 1.7 *np.ones(50) # 1.7 https://arxiv.org/abs/1509.05045\n",
    "#ELG: 𝑏SGC = 1.310 ± 0.020 , 𝑏NGC = 1.330 ± 0.020 https://arxiv.org/pdf/2007.09012.pdf\n",
    "b_LRG = 2.3*np.ones(50) # https://arxiv.org/pdf/1607.05383.pdf"
   ]
  },
  {
   "cell_type": "code",
   "execution_count": null,
   "metadata": {},
   "outputs": [],
   "source": [
    "QSO_1_nz = QSO_1.get_nz()\n",
    "QSO_2_nz = QSO_2.get_nz()\n",
    "CMASS_nz = CMASS.get_nz()\n",
    "LOWZ_nz = LOWZ.get_nz()\n",
    "LRG_nz = LRG.get_nz()\n",
    "ELG_nz = ELG.get_nz()\n",
    "\n",
    "QSO_1_z = QSO_1_nz[0]\n",
    "QSO_1_dNdz = QSO_1_nz[1]\n",
    "QSO_2_z = QSO_2_nz[0]\n",
    "QSO_2_dNdz = QSO_2_nz[1]\n",
    "\n",
    "CMASS_z = CMASS_nz[0]\n",
    "CMASS_dNdz = CMASS_nz[1]\n",
    "LOWZ_z = LOWZ_nz[0]\n",
    "LOWZ_dNdz = LOWZ_nz[1]\n",
    "\n",
    "LRG_z = LRG_nz[0]\n",
    "LRG_dNdz = LRG_nz[1]\n",
    "ELG_z = ELG_nz[0]\n",
    "ELG_dNdz = ELG_nz[1]"
   ]
  },
  {
   "cell_type": "code",
   "execution_count": null,
   "metadata": {},
   "outputs": [],
   "source": [
    "QSOt_1 = ccl.NumberCountsTracer(cosmo, has_rsd=False, dndz=(QSO_1_z, QSO_1_dNdz), bias=(QSO_1_z, b_ngc))\n",
    "QSOt_2 = ccl.NumberCountsTracer(cosmo, has_rsd=False, dndz=(QSO_2_z, QSO_2_dNdz), bias=(QSO_2_z, b_ngc))\n",
    "CMASSt = ccl.NumberCountsTracer(cosmo, has_rsd=False, dndz=(CMASS_z, CMASS_dNdz), bias=(CMASS_z, b_CMASS))\n",
    "LOWZt = ccl.NumberCountsTracer(cosmo, has_rsd=False, dndz=(LOWZ_z, LOWZ_dNdz), bias=(LOWZ_z, b_LOWZ))\n",
    "ELGt = ccl.NumberCountsTracer(cosmo, has_rsd=False, dndz=(ELG_z, ELG_dNdz), bias=(ELG_z, b_ELG))\n",
    "LRGt = ccl.NumberCountsTracer(cosmo, has_rsd=False, dndz=(LRG_z, LRG_dNdz), bias=(LRG_z, b_LRG))"
   ]
  },
  {
   "cell_type": "code",
   "execution_count": null,
   "metadata": {},
   "outputs": [],
   "source": [
    "plt.plot(CMASS_z, CMASS_dNdz, label='CMASS')\n",
    "plt.plot(LOWZ_z, LOWZ_dNdz, label='LOWZ')\n",
    "plt.plot(ELG_z, ELG_dNdz, label='ELG')\n",
    "plt.plot(LRG_z, LRG_dNdz, label='LRG')\n",
    "plt.plot(QSO_1_z, QSO_1_dNdz, label='QSO_1')\n",
    "plt.plot(QSO_2_z, QSO_2_dNdz, label='QSO_2')\n",
    "plt.legend()\n",
    "plt.show()"
   ]
  },
  {
   "cell_type": "code",
   "execution_count": null,
   "metadata": {},
   "outputs": [],
   "source": [
    "print('Sum CMASS:', np.round(np.sum(CMASS_dNdz)))\n",
    "print('Sum LOWZ:', np.round(np.sum(LOWZ_dNdz)))\n",
    "print('Sum ELG:', np.round(np.sum(ELG_dNdz)))\n",
    "print('Sum LRG:', np.round(np.sum(LRG_dNdz)))"
   ]
  },
  {
   "cell_type": "code",
   "execution_count": null,
   "metadata": {},
   "outputs": [],
   "source": [
    "#ell = np.arange(2, 2000)\n",
    "QSOt_cl_11 = ccl.angular_cl(cosmo, QSOt_1, QSOt_1, ell_arr) \n",
    "QSOt_cl_22 = ccl.angular_cl(cosmo, QSOt_2, QSOt_2, ell_arr) \n",
    "CMASSt_cl = ccl.angular_cl(cosmo, CMASSt, CMASSt, ell_arr) \n",
    "LOWZt_cl = ccl.angular_cl(cosmo, LOWZt, LOWZt, ell_arr) \n",
    "ELGt_cl = ccl.angular_cl(cosmo, ELGt, ELGt, ell_arr) \n",
    "LRGt_cl = ccl.angular_cl(cosmo, LRGt, LRGt, ell_arr) "
   ]
  },
  {
   "cell_type": "code",
   "execution_count": null,
   "metadata": {},
   "outputs": [],
   "source": [
    "def compute_cl(f_a, f_b, wsp):\n",
    "    # Compute the power spectrum (a la anafast) of the masked fields\n",
    "    # Note that we only use n_iter=0 here to speed up the computation,\n",
    "    # but the default value of 3 is recommended in general.\n",
    "    cl_coupled = nmt.compute_coupled_cell(f_a, f_b)\n",
    "    # Decouple power spectrum into bandpowers inverting the coupling matrix\n",
    "    #cl_decoupled = wsp.decouple_cell(cl_coupled) #removed bias here\n",
    "\n",
    "    return cl_coupled"
   ]
  },
  {
   "cell_type": "code",
   "execution_count": null,
   "metadata": {},
   "outputs": [],
   "source": [
    "QSO_f_1 =  QSO_1.get_nmt_field()\n",
    "QSO_f_2 =  QSO_2.get_nmt_field()"
   ]
  },
  {
   "cell_type": "code",
   "execution_count": null,
   "metadata": {},
   "outputs": [],
   "source": [
    "CMASS_f =  CMASS.get_nmt_field()\n",
    "LOWZ_f =  LOWZ.get_nmt_field()"
   ]
  },
  {
   "cell_type": "code",
   "execution_count": null,
   "metadata": {},
   "outputs": [],
   "source": [
    "ELG_f =  ELG.get_nmt_field()\n",
    "LRG_f =  LRG.get_nmt_field()"
   ]
  },
  {
   "cell_type": "code",
   "execution_count": null,
   "metadata": {},
   "outputs": [],
   "source": [
    "QSO_w_11 = nmt.NmtWorkspace()\n",
    "QSO_w_11.compute_coupling_matrix(QSO_f_1, QSO_f_1, bands)\n",
    "\n",
    "QSO_w_22 = nmt.NmtWorkspace()\n",
    "QSO_w_22.compute_coupling_matrix(QSO_f_2, QSO_f_2, bands)"
   ]
  },
  {
   "cell_type": "code",
   "execution_count": null,
   "metadata": {},
   "outputs": [],
   "source": [
    "CMASS_w = nmt.NmtWorkspace()\n",
    "CMASS_w.compute_coupling_matrix(CMASS_f, CMASS_f, bands)\n",
    "\n",
    "LOWZ_w = nmt.NmtWorkspace()\n",
    "LOWZ_w.compute_coupling_matrix(LOWZ_f, LOWZ_f, bands)"
   ]
  },
  {
   "cell_type": "code",
   "execution_count": null,
   "metadata": {},
   "outputs": [],
   "source": [
    "ELG_w = nmt.NmtWorkspace()\n",
    "ELG_w.compute_coupling_matrix(ELG_f, ELG_f, bands)\n",
    "\n",
    "LRG_w = nmt.NmtWorkspace()\n",
    "LRG_w.compute_coupling_matrix(LRG_f, LRG_f, bands)"
   ]
  },
  {
   "cell_type": "code",
   "execution_count": null,
   "metadata": {},
   "outputs": [],
   "source": [
    "QSO_cl_c_11 = nmt.compute_coupled_cell(QSO_f_1, QSO_f_1)\n",
    "QSO_cl_c_22 = nmt.compute_coupled_cell(QSO_f_2, QSO_f_2)\n",
    "CMASS_cl_c = nmt.compute_coupled_cell(CMASS_f, CMASS_f)\n",
    "LOWZ_cl_c = nmt.compute_coupled_cell(LOWZ_f, LOWZ_f)\n",
    "ELG_cl_c = nmt.compute_coupled_cell(ELG_f, ELG_f)\n",
    "LRG_cl_c = nmt.compute_coupled_cell(LRG_f, LRG_f)"
   ]
  },
  {
   "cell_type": "code",
   "execution_count": null,
   "metadata": {},
   "outputs": [],
   "source": [
    "QSO_cl_11 = QSO_w_11.decouple_cell(QSO_cl_c_11)\n",
    "QSO_cl_22 = QSO_w_22.decouple_cell(QSO_cl_c_22)\n",
    "CMASS_cl = CMASS_w.decouple_cell(CMASS_cl_c)\n",
    "LOWZ_cl = LOWZ_w.decouple_cell(LOWZ_cl_c)\n",
    "ELG_cl = CMASS_w.decouple_cell(ELG_cl_c)\n",
    "LRG_cl = LOWZ_w.decouple_cell(LRG_cl_c)"
   ]
  },
  {
   "cell_type": "code",
   "execution_count": null,
   "metadata": {},
   "outputs": [],
   "source": [
    "QSO_nl_c_11 = QSO_1.get_nl_coupled() \n",
    "QSO_nl_c_22 = QSO_2.get_nl_coupled() \n",
    "CMASS_nl_c = CMASS.get_nl_coupled() \n",
    "LOWZ_nl_c = LOWZ.get_nl_coupled() \n",
    "ELG_nl_c = ELG.get_nl_coupled() \n",
    "LRG_nl_c = LRG.get_nl_coupled() "
   ]
  },
  {
   "cell_type": "code",
   "execution_count": null,
   "metadata": {},
   "outputs": [],
   "source": [
    "QSO_nl_11 = QSO_w_11.decouple_cell(QSO_nl_c_11)\n",
    "QSO_nl_22 = QSO_w_22.decouple_cell(QSO_nl_c_22)\n",
    "CMASS_nl = CMASS_w.decouple_cell(CMASS_nl_c)\n",
    "LOWZ_nl = LOWZ_w.decouple_cell(LOWZ_nl_c)\n",
    "ELG_nl = CMASS_w.decouple_cell(ELG_nl_c)\n",
    "LRG_nl = LOWZ_w.decouple_cell(LRG_nl_c)"
   ]
  },
  {
   "cell_type": "code",
   "execution_count": null,
   "metadata": {},
   "outputs": [],
   "source": [
    "translate = {\n",
    "    'NGC': 'N',\n",
    "    'SGC': 'S',\n",
    "    '0': 'l',\n",
    "    '1': 'h' }"
   ]
  },
  {
   "cell_type": "code",
   "execution_count": null,
   "metadata": {},
   "outputs": [],
   "source": [
    "def load_david_cl(cup, a):\n",
    "    cup = translate[cup]\n",
    "    a = translate[a]\n",
    "    return np.load('/home/zcapjru/PhD/Data/David_eBOSS/cls_{}{}_ns4096.npz'.format(cup, a))\n",
    "def load_jaime_cl(cup, a):\n",
    "    return np.loadtxt('/home/zcapjru/PhD/Cls/eBOSSQSO/4096/4096_{}_cl_{}{}.txt'.format(cup, a, a))\n",
    "def load_jaime_nl(cup, a):\n",
    "    return np.loadtxt('/home/zcapjru/PhD/Cls/eBOSSQSO/4096/4096_{}_nl_{}{}.txt'.format(cup, a, a))"
   ]
  },
  {
   "cell_type": "code",
   "execution_count": null,
   "metadata": {},
   "outputs": [],
   "source": [
    "plt.plot(QSO_cl_11[0]-QSO_nl_11[0], 'o-', label='data')\n",
    "plt.plot(QSOt_cl_11, 'o-', label='theory')\n",
    "plt.title('Quasars density angular NGC 11')\n",
    "plt.xlabel('$\\\\ell$', fontsize=16)\n",
    "plt.ylabel('$C_\\\\ell$', fontsize=16)\n",
    "plt.legend(loc='lower left', ncol=2, labelspacing=0.1)\n",
    "plt.show()"
   ]
  },
  {
   "cell_type": "code",
   "execution_count": null,
   "metadata": {
    "scrolled": true
   },
   "outputs": [],
   "source": [
    "plt.plot(LOWZ_cl[0]-LOWZ_nl[0], 'o-', label='data')\n",
    "plt.plot(LOWZt_cl, 'o-', label='theory')\n",
    "plt.title('LOWZ density angular')\n",
    "plt.xlabel('$\\\\ell$', fontsize=16)\n",
    "plt.ylabel('$C_\\\\ell$', fontsize=16)\n",
    "plt.legend(loc='lower left', ncol=2, labelspacing=0.1)\n",
    "plt.show()"
   ]
  },
  {
   "cell_type": "code",
   "execution_count": null,
   "metadata": {},
   "outputs": [],
   "source": [
    "plt.plot(CMASS_cl[0]-CMASS_nl[0], 'o-', label='data')\n",
    "plt.plot(CMASSt_cl, 'o-', label='theory')\n",
    "plt.title('CMASS density angular')\n",
    "plt.xlabel('$\\\\ell$', fontsize=16)\n",
    "plt.ylabel('$C_\\\\ell$', fontsize=16)\n",
    "plt.legend(loc='lower left', ncol=2, labelspacing=0.1)\n",
    "plt.show()"
   ]
  },
  {
   "cell_type": "code",
   "execution_count": null,
   "metadata": {},
   "outputs": [],
   "source": [
    "plt.plot(LRG_cl[0]-LRG_nl[0], 'o-', label='data')\n",
    "plt.plot(LRGt_cl, 'o-', label='theory')\n",
    "plt.title('LRG density angular')\n",
    "plt.xlabel('$\\\\ell$', fontsize=16)\n",
    "plt.ylabel('$C_\\\\ell$', fontsize=16)\n",
    "plt.legend(loc='lower left', ncol=2, labelspacing=0.1)\n",
    "plt.yscale('log')\n",
    "plt.show()"
   ]
  },
  {
   "cell_type": "code",
   "execution_count": null,
   "metadata": {},
   "outputs": [],
   "source": [
    "plt.plot(ELG_cl[0]-ELG_nl[0], 'o-', label='data')\n",
    "plt.plot(ELGt_cl, 'o-', label='theory')\n",
    "plt.title('ELG density angular')\n",
    "plt.xlabel('$\\\\ell$', fontsize=16)\n",
    "plt.ylabel('$C_\\\\ell$', fontsize=16)\n",
    "plt.legend(loc='lower left', ncol=2, labelspacing=0.1)\n",
    "plt.yscale('log')\n",
    "plt.show()"
   ]
  },
  {
   "cell_type": "code",
   "execution_count": null,
   "metadata": {},
   "outputs": [],
   "source": [
    "cups = ['NGC', 'SGC']\n",
    "for cup in cups:\n",
    "    for i in range(2):\n",
    "            david_ii = load_david_cl(cup,str(i))['cl'][0] - load_david_cl(cup,str(i))['nl'][0]\n",
    "            jaime_ii = load_jaime_cl(cup,i)\n",
    "            jaime_ii = jaime_ii - load_jaime_nl(cup,i)\n",
    "            diff = abs(david_ii - jaime_ii)\n",
    "            print('for {}_{}{} the max error is {}'.format(cup, i , i, max(diff)))"
   ]
  },
  {
   "cell_type": "code",
   "execution_count": null,
   "metadata": {},
   "outputs": [],
   "source": [
    "load_david_cl('NGC', '1')['nl_coupled'][0]\n",
    "#(ells > 2000) & (ells < 8000)"
   ]
  },
  {
   "cell_type": "code",
   "execution_count": null,
   "metadata": {
    "scrolled": true
   },
   "outputs": [],
   "source": [
    "plt.plot( load_jaime_nl('SGC', 0) , 'bs', label='Jaime nl')\n",
    "plt.plot( load_jaime_cl('SGC', 0) , 'yo', label='Jaime Cl')\n",
    "#plt.semilogx()\n",
    "plt.title('Comp')\n",
    "plt.xlabel('$\\\\ell$', fontsize=16)\n",
    "plt.ylabel('$C_\\\\ell$', fontsize=16)\n",
    "plt.legend(loc='upper right', ncol=2, labelspacing=0.1)\n",
    "plt.ylim([9e-6, 1.05e-5])\n",
    "plt.show()"
   ]
  },
  {
   "cell_type": "code",
   "execution_count": null,
   "metadata": {
    "scrolled": true
   },
   "outputs": [],
   "source": [
    "plt.plot( load_jaime_nl('SGC', 1) , 'bs', label='Jaime nl')\n",
    "plt.plot( load_jaime_cl('SGC', 1) , 'yo', label='Jaime Cl')\n",
    "#plt.semilogx()\n",
    "plt.title('Comp')\n",
    "plt.xlabel('$\\\\ell$', fontsize=16)\n",
    "plt.ylabel('$C_\\\\ell$', fontsize=16)\n",
    "plt.legend(loc='upper right', ncol=2, labelspacing=0.1)\n",
    "plt.ylim([9e-6, 1.05e-5])\n",
    "plt.show()"
   ]
  },
  {
   "cell_type": "code",
   "execution_count": null,
   "metadata": {
    "scrolled": true
   },
   "outputs": [],
   "source": [
    "plt.plot(ell_arr, load_david_cl('NGC', '1')['cl'][0]-  load_david_cl('NGC', '1')['nl'][0], 'bs', label='David Cl')\n",
    "plt.plot(ell_arr, load_jaime_cl('NGC', 1) - load_jaime_nl('NGC',1) , 'yo', label='Jaime Cl')\n",
    "plt.loglog()\n",
    "plt.title('Comp')\n",
    "plt.xlabel('$\\\\ell$', fontsize=16)\n",
    "plt.ylabel('$C_\\\\ell$', fontsize=16)\n",
    "plt.legend(loc='lower left', ncol=2, labelspacing=0.1)\n",
    "plt.show()"
   ]
  },
  {
   "cell_type": "code",
   "execution_count": null,
   "metadata": {
    "scrolled": true
   },
   "outputs": [],
   "source": [
    "plt.plot(ell_arr,   load_david_cl('NGC', '1')['nl'][0], 'bs', label='David nl')\n",
    "plt.plot(ell_arr,  load_jaime_nl('NGC',1) , 'yo', label='Jaime nl')\n",
    "plt.loglog()\n",
    "plt.title('Comp')\n",
    "plt.xlabel('$\\\\ell$', fontsize=16)\n",
    "plt.ylabel('$C_\\\\ell$', fontsize=16)\n",
    "plt.legend(loc='lower left', ncol=2, labelspacing=0.1)\n",
    "plt.show()"
   ]
  },
  {
   "cell_type": "code",
   "execution_count": null,
   "metadata": {},
   "outputs": [],
   "source": [
    "load_david_cl('NGC', '1')['ls']"
   ]
  },
  {
   "cell_type": "code",
   "execution_count": null,
   "metadata": {},
   "outputs": [],
   "source": [
    "ell_arr"
   ]
  },
  {
   "cell_type": "code",
   "execution_count": null,
   "metadata": {},
   "outputs": [],
   "source": []
  },
  {
   "cell_type": "code",
   "execution_count": null,
   "metadata": {},
   "outputs": [],
   "source": []
  }
 ],
 "metadata": {
  "kernelspec": {
   "display_name": "Python 3",
   "language": "python",
   "name": "python3"
  },
  "language_info": {
   "codemirror_mode": {
    "name": "ipython",
    "version": 3
   },
   "file_extension": ".py",
   "mimetype": "text/x-python",
   "name": "python",
   "nbconvert_exporter": "python",
   "pygments_lexer": "ipython3",
   "version": "3.8.5"
  }
 },
 "nbformat": 4,
 "nbformat_minor": 4
}
